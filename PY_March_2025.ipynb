{
  "nbformat": 4,
  "nbformat_minor": 0,
  "metadata": {
    "colab": {
      "provenance": []
    },
    "kernelspec": {
      "name": "python3",
      "display_name": "Python 3"
    },
    "language_info": {
      "name": "python"
    }
  },
  "cells": [
    {
      "cell_type": "code",
      "execution_count": null,
      "metadata": {
        "id": "gdvq2zxRdObz"
      },
      "outputs": [],
      "source": [
        "# Functions\n",
        "'''\n",
        "1. with parameters with return type\n",
        "2. with parameters without return type\n",
        "3. without parameters with return type\n",
        "4. without parameters without return type\n",
        "'''"
      ]
    },
    {
      "cell_type": "code",
      "source": [
        "# function declaration\n",
        "def greeting(name): # formal parameter\n",
        "  print(f\"Welcome to Python class - {name}!\")"
      ],
      "metadata": {
        "id": "CRhFw3jQdXzP"
      },
      "execution_count": null,
      "outputs": []
    },
    {
      "cell_type": "code",
      "source": [
        "greeting() # function call"
      ],
      "metadata": {
        "colab": {
          "base_uri": "https://localhost:8080/"
        },
        "id": "MyTaG7YidX2P",
        "outputId": "fb23b840-d295-4b93-eddd-725e3fbac72b"
      },
      "execution_count": null,
      "outputs": [
        {
          "output_type": "stream",
          "name": "stdout",
          "text": [
            "Welcome to Python class!\n"
          ]
        }
      ]
    },
    {
      "cell_type": "code",
      "source": [
        "import time\n",
        "names = [\"ABC\", \"XYZ\", \"ASD\", \"QWE\", \"MNB\"]\n",
        "for i in names:\n",
        "  greeting(i) # actual parameter\n",
        "  time.sleep(2)"
      ],
      "metadata": {
        "colab": {
          "base_uri": "https://localhost:8080/"
        },
        "id": "0SqZJL0GdX4-",
        "outputId": "3b0c2e98-d3c8-4f5d-ec16-786a7515b49b"
      },
      "execution_count": null,
      "outputs": [
        {
          "output_type": "stream",
          "name": "stdout",
          "text": [
            "Welcome to Python class - ABC!\n",
            "Welcome to Python class - XYZ!\n",
            "Welcome to Python class - ASD!\n",
            "Welcome to Python class - QWE!\n",
            "Welcome to Python class - MNB!\n"
          ]
        }
      ]
    },
    {
      "cell_type": "code",
      "source": [
        "# with param with return\n",
        "def add1(a,b):\n",
        "  return a+b"
      ],
      "metadata": {
        "id": "mpsFGBtkdX7-"
      },
      "execution_count": null,
      "outputs": []
    },
    {
      "cell_type": "code",
      "source": [
        "# commonly made mistakes\n",
        "add1(1,2) #3 --> gone missing\n",
        "add1(int(input()), int(input())) #30"
      ],
      "metadata": {
        "colab": {
          "base_uri": "https://localhost:8080/"
        },
        "id": "1yLwFrhTdX-O",
        "outputId": "49a9f64c-bb0b-494d-c2d0-f3e99fc1ed05"
      },
      "execution_count": null,
      "outputs": [
        {
          "name": "stdout",
          "output_type": "stream",
          "text": [
            "10\n",
            "20\n"
          ]
        },
        {
          "output_type": "execute_result",
          "data": {
            "text/plain": [
              "30"
            ]
          },
          "metadata": {},
          "execution_count": 9
        }
      ]
    },
    {
      "cell_type": "code",
      "source": [
        "# 1. use print\n",
        "print(add1(1,2)) # you are there to receive the choc\n",
        "# 2. assigning to a variable\n",
        "f1 = add1(5,6) # assigning a friend to get your choc\n",
        "print(f1) # getting back the chocolate from your friend"
      ],
      "metadata": {
        "colab": {
          "base_uri": "https://localhost:8080/"
        },
        "id": "5ElUzbWEdYBg",
        "outputId": "864c95b4-c25f-4745-ccd3-23d9788a5a67"
      },
      "execution_count": null,
      "outputs": [
        {
          "output_type": "stream",
          "name": "stdout",
          "text": [
            "3\n",
            "11\n"
          ]
        }
      ]
    },
    {
      "cell_type": "code",
      "source": [
        "# with param without return\n",
        "def add2(a,b):\n",
        "  print(a+b)"
      ],
      "metadata": {
        "id": "1xoxeawrdYD9"
      },
      "execution_count": null,
      "outputs": []
    },
    {
      "cell_type": "code",
      "source": [
        "# commonly made mistake\n",
        "# usage of print/var\n",
        "print(add2(1,2))\n",
        "f2 = add2(10,20)\n",
        "print(f2)"
      ],
      "metadata": {
        "colab": {
          "base_uri": "https://localhost:8080/"
        },
        "id": "IRU27FozdYG2",
        "outputId": "c2b78f41-6579-4a8b-add2-9f53ab3a4f95"
      },
      "execution_count": null,
      "outputs": [
        {
          "output_type": "stream",
          "name": "stdout",
          "text": [
            "3\n",
            "None\n",
            "30\n",
            "None\n"
          ]
        }
      ]
    },
    {
      "cell_type": "code",
      "source": [
        "add2(1,2)\n",
        "add2(3,4)"
      ],
      "metadata": {
        "colab": {
          "base_uri": "https://localhost:8080/"
        },
        "id": "7-Mtv24idTEZ",
        "outputId": "d68e824d-0cdf-4b99-ed72-e0466dda7a0e"
      },
      "execution_count": null,
      "outputs": [
        {
          "output_type": "stream",
          "name": "stdout",
          "text": [
            "3\n",
            "7\n"
          ]
        }
      ]
    },
    {
      "cell_type": "code",
      "source": [
        "# without param with return\n",
        "def add3():\n",
        "  a,b = int(input()), int(input())\n",
        "  return a+b"
      ],
      "metadata": {
        "id": "BEup07cSdTG4"
      },
      "execution_count": null,
      "outputs": []
    },
    {
      "cell_type": "code",
      "source": [
        "print(add3())"
      ],
      "metadata": {
        "colab": {
          "base_uri": "https://localhost:8080/"
        },
        "id": "rv5g2Q9jdTJW",
        "outputId": "f52abdf4-579a-4501-9b0a-a9ae1bd7eb9a"
      },
      "execution_count": null,
      "outputs": [
        {
          "output_type": "stream",
          "name": "stdout",
          "text": [
            "10\n",
            "30\n",
            "40\n"
          ]
        }
      ]
    },
    {
      "cell_type": "code",
      "source": [
        "f3 = add3()\n",
        "print(f3)"
      ],
      "metadata": {
        "colab": {
          "base_uri": "https://localhost:8080/"
        },
        "id": "SP6P7f4agchd",
        "outputId": "596f2163-fd0f-4223-b2e1-2dc1ad1d9fa2"
      },
      "execution_count": null,
      "outputs": [
        {
          "output_type": "stream",
          "name": "stdout",
          "text": [
            "9\n",
            "8\n",
            "17\n"
          ]
        }
      ]
    },
    {
      "cell_type": "code",
      "source": [
        "# without param without return\n",
        "def add4():\n",
        "  a,b = map(int, input().split())\n",
        "  print(a+b)\n",
        "\n",
        "add4()"
      ],
      "metadata": {
        "colab": {
          "base_uri": "https://localhost:8080/"
        },
        "id": "kpjyAZVjgfn-",
        "outputId": "7c05e6da-ba12-4b2d-d4a0-ef3eb97096b7"
      },
      "execution_count": null,
      "outputs": [
        {
          "output_type": "stream",
          "name": "stdout",
          "text": [
            "55 66\n",
            "121\n"
          ]
        }
      ]
    },
    {
      "cell_type": "code",
      "source": [
        "arr = list(map(int, input().split())) # for codekata\n",
        "print(arr)"
      ],
      "metadata": {
        "colab": {
          "base_uri": "https://localhost:8080/"
        },
        "id": "dMSIQQJ9gqbk",
        "outputId": "42158512-b53b-4ce4-cedc-596f85f77a54"
      },
      "execution_count": null,
      "outputs": [
        {
          "output_type": "stream",
          "name": "stdout",
          "text": [
            "1 2 3 4 5\n",
            "[1, 2, 3, 4, 5]\n"
          ]
        }
      ]
    },
    {
      "cell_type": "code",
      "source": [
        "arr = input().split() # string list\n",
        "print(arr)"
      ],
      "metadata": {
        "colab": {
          "base_uri": "https://localhost:8080/"
        },
        "id": "8dfKQeSRg2Qz",
        "outputId": "7bd1bf47-b989-4123-a022-754e45ff8ad8"
      },
      "execution_count": null,
      "outputs": [
        {
          "output_type": "stream",
          "name": "stdout",
          "text": [
            "1 2 3 \n",
            "['1', '2', '3']\n"
          ]
        }
      ]
    },
    {
      "cell_type": "code",
      "source": [
        "arr = list(map(int, input().split()))\n",
        "print(sum(arr))"
      ],
      "metadata": {
        "colab": {
          "base_uri": "https://localhost:8080/"
        },
        "id": "iaPfUtH2hMhW",
        "outputId": "f1833573-2b01-455e-da6f-ba7dc8d7b302"
      },
      "execution_count": null,
      "outputs": [
        {
          "output_type": "stream",
          "name": "stdout",
          "text": [
            "100 200 300 400\n",
            "1000\n"
          ]
        }
      ]
    },
    {
      "cell_type": "code",
      "source": [
        "arr = []\n",
        "n = 5\n",
        "for i in range(5):\n",
        "  arr.append(int(input()))\n",
        "\n",
        "total = 0\n",
        "for i in arr:\n",
        "  total+=i\n",
        "\n",
        "print(total)"
      ],
      "metadata": {
        "colab": {
          "base_uri": "https://localhost:8080/"
        },
        "id": "nFy_lLmLhMnr",
        "outputId": "7fa16e3e-10dc-42d5-f04c-0373c755597e"
      },
      "execution_count": null,
      "outputs": [
        {
          "output_type": "stream",
          "name": "stdout",
          "text": [
            "1\n",
            "2\n",
            "3\n",
            "4\n",
            "5\n",
            "15\n"
          ]
        }
      ]
    },
    {
      "cell_type": "code",
      "source": [
        "n, k = map(int, input().split())\n",
        "v = list(map(int, input().split()))\n",
        "print(n, k)\n",
        "print(\" \".join(map(str, v)))"
      ],
      "metadata": {
        "colab": {
          "base_uri": "https://localhost:8080/"
        },
        "id": "C94jDnzRhMrc",
        "outputId": "198116dc-0178-447c-8395-7ed1f1bbd090"
      },
      "execution_count": null,
      "outputs": [
        {
          "output_type": "stream",
          "name": "stdout",
          "text": [
            "1 2\n",
            "1 2 3 4 5 \n",
            "1 2\n",
            "1 2 3 4 5\n"
          ]
        }
      ]
    },
    {
      "cell_type": "code",
      "source": [
        "# palindrome\n",
        "'''\n",
        "Malayalam\n",
        "Racecar\n",
        "12321\n",
        "'''\n",
        "def palindrome1(s):\n",
        "  #slicing\n",
        "  s1 = s.lower() # to keep the original string s untouched\n",
        "  rev = s1[::-1]\n",
        "\n",
        "  if s1 == rev:\n",
        "    print(f\"{s} is a Palindrome\")\n",
        "  else:\n",
        "    print(f\"{s} - :(\")\n",
        "  print()\n",
        "\n",
        "palindrome1(\"Malayalam\")\n",
        "palindrome1(\"RaCeCar\")\n",
        "palindrome1(\"12321\")\n",
        "palindrome1(\":)(:\")\n",
        "palindrome1(\":)):\")"
      ],
      "metadata": {
        "colab": {
          "base_uri": "https://localhost:8080/"
        },
        "id": "XQ-yuybYhMul",
        "outputId": "a1646540-8e27-4f5a-90e7-646b79e21a89"
      },
      "execution_count": null,
      "outputs": [
        {
          "output_type": "stream",
          "name": "stdout",
          "text": [
            "Malayalam is a Palindrome\n",
            "\n",
            "RaCeCar is a Palindrome\n",
            "\n",
            "12321 is a Palindrome\n",
            "\n",
            ":)(: - :(\n",
            "\n",
            ":)): is a Palindrome\n",
            "\n"
          ]
        }
      ]
    },
    {
      "cell_type": "code",
      "source": [
        "s = \"Racecar\"\n",
        "rev = s[::-1] # reversing a string\n",
        "print(s,rev)\n",
        "print(s==rev)"
      ],
      "metadata": {
        "colab": {
          "base_uri": "https://localhost:8080/"
        },
        "id": "D2h0NWlri2wv",
        "outputId": "510c3d8a-ce7f-485a-a311-103ac17e9511"
      },
      "execution_count": null,
      "outputs": [
        {
          "output_type": "stream",
          "name": "stdout",
          "text": [
            "Racecar racecaR\n",
            "False\n"
          ]
        }
      ]
    },
    {
      "cell_type": "code",
      "source": [
        "def palindrome2(s):\n",
        "  # reversed built in method\n",
        "  s1 = s.lower() # to keep the original string s untouched\n",
        "  rev = \"\".join(reversed(s1))\n",
        "  #print(s1, rev)\n",
        "\n",
        "  if s1 == rev:\n",
        "    print(f\"{s} is a Palindrome\")\n",
        "  else:\n",
        "    print(f\"{s} - :(\")\n",
        "  print()\n",
        "\n",
        "palindrome2(\"Malayalam\")\n",
        "palindrome2(\"RaCeCar\")\n",
        "palindrome2(\"12321\")\n",
        "palindrome2(\":)(:\")\n",
        "palindrome2(\":)):\")"
      ],
      "metadata": {
        "colab": {
          "base_uri": "https://localhost:8080/"
        },
        "id": "y9uVNgvJi2zn",
        "outputId": "3daf4d87-1a77-4780-8318-8f9dcb7b27f1"
      },
      "execution_count": null,
      "outputs": [
        {
          "output_type": "stream",
          "name": "stdout",
          "text": [
            "Malayalam is a Palindrome\n",
            "\n",
            "RaCeCar is a Palindrome\n",
            "\n",
            "12321 is a Palindrome\n",
            "\n",
            ":)(: - :(\n",
            "\n",
            ":)): is a Palindrome\n",
            "\n"
          ]
        }
      ]
    },
    {
      "cell_type": "code",
      "source": [
        "s = \"abc\"\n",
        "print(reversed(s)) # reversed object\n",
        "print(\"\".join(reversed(s)))"
      ],
      "metadata": {
        "colab": {
          "base_uri": "https://localhost:8080/"
        },
        "id": "BOoxdv8Wigj8",
        "outputId": "155ccf6b-56eb-4e0b-ac42-787e73b242f2"
      },
      "execution_count": null,
      "outputs": [
        {
          "output_type": "stream",
          "name": "stdout",
          "text": [
            "<reversed object at 0x7f8fcb077d60>\n",
            "cba\n"
          ]
        }
      ]
    },
    {
      "cell_type": "code",
      "source": [
        "s = \"hello\"\n",
        "s = list(s)\n",
        "print(s)\n",
        "s = \" # \".join(s)\n",
        "print(s)"
      ],
      "metadata": {
        "colab": {
          "base_uri": "https://localhost:8080/"
        },
        "id": "iC71C4EhlC0A",
        "outputId": "b0bf91d4-4afc-4c61-f75b-26cbc8609106"
      },
      "execution_count": null,
      "outputs": [
        {
          "output_type": "stream",
          "name": "stdout",
          "text": [
            "['h', 'e', 'l', 'l', 'o']\n",
            "h # e # l # l # o\n"
          ]
        }
      ]
    },
    {
      "cell_type": "code",
      "source": [
        "# anagram\n",
        "'''\n",
        "silent listen\n",
        "astronomer moonstarer\n",
        "abc cba\n",
        "123 231\n",
        "'''\n",
        "def anagram(s1, s2):\n",
        "  s3 = s1.replace(\" \", \"\").upper()\n",
        "  s4 = s2.replace(\" \", \"\").upper()\n",
        "\n",
        "  #print(s3,s4)\n",
        "  #print(sorted(s3), sorted(s4))\n",
        "\n",
        "  if sorted(s3) == sorted(s4):\n",
        "    print(f\"{s3} and {s4} are Anagrams\")\n",
        "  else:\n",
        "    print(f\"{s1} and {s2} - :(\")\n",
        "  print()\n",
        "\n",
        "anagram(\"silent\", \"listen\")\n",
        "anagram(\"Astronomer\", \"moon starer\")\n",
        "anagram(\"abc\", \"cBa\")\n",
        "anagram(\"123\", \"231\")\n",
        "anagram(\"abc\", \"xyz\")"
      ],
      "metadata": {
        "colab": {
          "base_uri": "https://localhost:8080/"
        },
        "id": "3ozl4ILSignJ",
        "outputId": "0fa21d9b-1069-400b-aab5-970df15cfb7f"
      },
      "execution_count": null,
      "outputs": [
        {
          "output_type": "stream",
          "name": "stdout",
          "text": [
            "SILENT and LISTEN are Anagrams\n",
            "\n",
            "ASTRONOMER and MOONSTARER are Anagrams\n",
            "\n",
            "ABC and CBA are Anagrams\n",
            "\n",
            "123 and 231 are Anagrams\n",
            "\n",
            "abc and xyz - :(\n",
            "\n"
          ]
        }
      ]
    },
    {
      "cell_type": "code",
      "source": [
        "def anagram2(s1, s2):\n",
        "  s1 = s1.replace(\" \", \"\").lower()\n",
        "  s2 = s2.replace(\" \", \"\").lower()\n",
        "  s1, s2 = list(s1), list(s2)\n",
        "  s1.sort() # inplace sorting\n",
        "  s2.sort()\n",
        "  print(s1, s2)\n",
        "\n",
        "  return s1 == s2\n",
        "\n",
        "if anagram2(\"silent\", \"li s ten\"):\n",
        "  print(\"Anagrams\")\n",
        "else:\n",
        "  print(\"Not Anagrams\")"
      ],
      "metadata": {
        "colab": {
          "base_uri": "https://localhost:8080/"
        },
        "id": "SkqXAcHFnhqF",
        "outputId": "cfdcadfe-79c2-4946-b1ad-ddcd00363a1f"
      },
      "execution_count": null,
      "outputs": [
        {
          "output_type": "stream",
          "name": "stdout",
          "text": [
            "['e', 'i', 'l', 'n', 's', 't'] ['e', 'i', 'l', 'n', 's', 't']\n",
            "Anagrams\n"
          ]
        }
      ]
    },
    {
      "cell_type": "code",
      "source": [
        "# sort and sorted\n",
        "l1 = [100, -100, 7, 2025, 0]\n",
        "print(l1)\n",
        "l1.sort() # in place sorting\n",
        "print(l1) # we lost the original list"
      ],
      "metadata": {
        "colab": {
          "base_uri": "https://localhost:8080/"
        },
        "id": "bzB3ZiBUigqI",
        "outputId": "7b3ccd21-6442-4595-b072-fce90601a633"
      },
      "execution_count": null,
      "outputs": [
        {
          "output_type": "stream",
          "name": "stdout",
          "text": [
            "[100, -100, 7, 2025, 0]\n",
            "[-100, 0, 7, 100, 2025]\n"
          ]
        }
      ]
    },
    {
      "cell_type": "code",
      "source": [
        "l1 = [100, -100, 7, 2025, 0]\n",
        "print(l1)\n",
        "l2 = sorted(l1) # we are having both original list and sorted list\n",
        "print(l1, l2)"
      ],
      "metadata": {
        "colab": {
          "base_uri": "https://localhost:8080/"
        },
        "id": "Rh7RGuwvl-ie",
        "outputId": "26016d8d-d083-4314-cbfa-b09fcf38f507"
      },
      "execution_count": null,
      "outputs": [
        {
          "output_type": "stream",
          "name": "stdout",
          "text": [
            "[100, -100, 7, 2025, 0]\n",
            "[100, -100, 7, 2025, 0] [-100, 0, 7, 100, 2025]\n"
          ]
        }
      ]
    },
    {
      "cell_type": "code",
      "source": [
        "# pangram\n",
        "'''\n",
        "26 alphabets\n",
        "\n",
        "The quick brown fox jumps over the lazy dog\n",
        "abcdefghijklmnopqrstuvwxyz\n",
        "'''"
      ],
      "metadata": {
        "id": "tIQtnDgMigtR"
      },
      "execution_count": null,
      "outputs": []
    },
    {
      "cell_type": "code",
      "source": [
        "# using list, builtin method\n",
        "def pangram1(s):\n",
        "  s1 = s.replace(\" \",\"\").lower()\n",
        "  l1 = []\n",
        "  for i in s1:\n",
        "    if i.isalpha():\n",
        "      if i not in l1:\n",
        "        l1.append(i)\n",
        "\n",
        "  print(sorted(l1))\n",
        "\n",
        "  if len(l1) == 26: print(f\"'{s}' is a Pangram\")\n",
        "  else: print(\":(\")\n",
        "\n",
        "  print()\n",
        "\n",
        "pangram1(\"The quick brown fox jumps over the lazy dog\")\n",
        "pangram1(\"abcdefghijklmnopqrstuvwxyz\")"
      ],
      "metadata": {
        "colab": {
          "base_uri": "https://localhost:8080/"
        },
        "id": "zHE5rhKPigwh",
        "outputId": "79b391bf-17d6-43c2-dcf6-ca36377ca92a"
      },
      "execution_count": null,
      "outputs": [
        {
          "output_type": "stream",
          "name": "stdout",
          "text": [
            "['a', 'b', 'c', 'd', 'e', 'f', 'g', 'h', 'i', 'j', 'k', 'l', 'm', 'n', 'o', 'p', 'q', 'r', 's', 't', 'u', 'v', 'w', 'x', 'y', 'z']\n",
            "'The quick brown fox jumps over the lazy dog' is a Pangram\n",
            "\n",
            "['a', 'b', 'c', 'd', 'e', 'f', 'g', 'h', 'i', 'j', 'k', 'l', 'm', 'n', 'o', 'p', 'q', 'r', 's', 't', 'u', 'v', 'w', 'x', 'y', 'z']\n",
            "'abcdefghijklmnopqrstuvwxyz' is a Pangram\n",
            "\n"
          ]
        }
      ]
    },
    {
      "cell_type": "code",
      "source": [
        "# using set and ascii_lower\n",
        "from string import ascii_lowercase\n",
        "def pangram2(s):\n",
        "  s1 = s.replace(\" \",\"\").lower()\n",
        "  letters = ascii_lowercase\n",
        "  set1 = set() # set\n",
        "  for i in s1:\n",
        "    if i in letters:\n",
        "        set1.add(i)\n",
        "\n",
        "  print(sorted(set1))\n",
        "\n",
        "  if len(set1) == 26: print(f\"'{s}' is a Pangram\")\n",
        "  else: print(\":(\")\n",
        "\n",
        "  print()\n",
        "\n",
        "pangram2(\"The quick brown fox jumps over the lazy dog\")\n",
        "pangram2(\"abcdefghijklmnopqrstuvwxyz\")\n",
        "pangram2(\"abcdfghijklmnoqrstuvwyz\")"
      ],
      "metadata": {
        "colab": {
          "base_uri": "https://localhost:8080/"
        },
        "id": "3h69N54ApHdq",
        "outputId": "5e19ca57-bf89-47c5-984b-573a830961cc"
      },
      "execution_count": null,
      "outputs": [
        {
          "output_type": "stream",
          "name": "stdout",
          "text": [
            "['a', 'b', 'c', 'd', 'e', 'f', 'g', 'h', 'i', 'j', 'k', 'l', 'm', 'n', 'o', 'p', 'q', 'r', 's', 't', 'u', 'v', 'w', 'x', 'y', 'z']\n",
            "'The quick brown fox jumps over the lazy dog' is a Pangram\n",
            "\n",
            "['a', 'b', 'c', 'd', 'e', 'f', 'g', 'h', 'i', 'j', 'k', 'l', 'm', 'n', 'o', 'p', 'q', 'r', 's', 't', 'u', 'v', 'w', 'x', 'y', 'z']\n",
            "'abcdefghijklmnopqrstuvwxyz' is a Pangram\n",
            "\n",
            "['a', 'b', 'c', 'd', 'f', 'g', 'h', 'i', 'j', 'k', 'l', 'm', 'n', 'o', 'q', 'r', 's', 't', 'u', 'v', 'w', 'y', 'z']\n",
            ":(\n",
            "\n"
          ]
        }
      ]
    },
    {
      "cell_type": "code",
      "source": [
        "# comprehension\n",
        "l1 = [i for i in range(2,101,2)]\n",
        "print(l1)"
      ],
      "metadata": {
        "colab": {
          "base_uri": "https://localhost:8080/"
        },
        "id": "dFKRqw4-o5Vs",
        "outputId": "8a568f80-d785-4306-c0c7-b2be70e0be99"
      },
      "execution_count": null,
      "outputs": [
        {
          "output_type": "stream",
          "name": "stdout",
          "text": [
            "[2, 4, 6, 8, 10, 12, 14, 16, 18, 20, 22, 24, 26, 28, 30, 32, 34, 36, 38, 40, 42, 44, 46, 48, 50, 52, 54, 56, 58, 60, 62, 64, 66, 68, 70, 72, 74, 76, 78, 80, 82, 84, 86, 88, 90, 92, 94, 96, 98, 100]\n"
          ]
        }
      ]
    },
    {
      "cell_type": "code",
      "source": [
        "l2 = [i for i in range(1,101) if i%2 != 0]\n",
        "print(l2)"
      ],
      "metadata": {
        "colab": {
          "base_uri": "https://localhost:8080/"
        },
        "id": "9FbOxExYpw-M",
        "outputId": "639876f4-d7f0-45ca-f312-abef0a3081fb"
      },
      "execution_count": null,
      "outputs": [
        {
          "output_type": "stream",
          "name": "stdout",
          "text": [
            "[1, 3, 5, 7, 9, 11, 13, 15, 17, 19, 21, 23, 25, 27, 29, 31, 33, 35, 37, 39, 41, 43, 45, 47, 49, 51, 53, 55, 57, 59, 61, 63, 65, 67, 69, 71, 73, 75, 77, 79, 81, 83, 85, 87, 89, 91, 93, 95, 97, 99]\n"
          ]
        }
      ]
    },
    {
      "cell_type": "code",
      "source": [
        "s = \"The quick brown fox jumps over the lazy dog\"\n",
        "s = s.replace(\" \",\"\").lower()\n",
        "pangram_check = {i for i in s if i.isalpha()} # set comprehension\n",
        "if len(pangram_check) == 26: print(\"Pangram\")\n",
        "else: print(\":(\")"
      ],
      "metadata": {
        "colab": {
          "base_uri": "https://localhost:8080/"
        },
        "id": "-cnHpIs5pxAu",
        "outputId": "fec7ceb0-aed2-49e5-e563-574eb57cb071"
      },
      "execution_count": null,
      "outputs": [
        {
          "output_type": "stream",
          "name": "stdout",
          "text": [
            ":(\n"
          ]
        }
      ]
    },
    {
      "cell_type": "code",
      "source": [
        "d1 = {i:i**2 for i in range(1,11)} # dictionary comprehension\n",
        "print(d1)"
      ],
      "metadata": {
        "colab": {
          "base_uri": "https://localhost:8080/"
        },
        "id": "S8Sn5wY7pxD9",
        "outputId": "b4a221f8-b5a5-4871-915b-0c9ced5044f4"
      },
      "execution_count": null,
      "outputs": [
        {
          "output_type": "stream",
          "name": "stdout",
          "text": [
            "{1: 1, 2: 4, 3: 9, 4: 16, 5: 25, 6: 36, 7: 49, 8: 64, 9: 81, 10: 100}\n"
          ]
        }
      ]
    },
    {
      "cell_type": "code",
      "source": [
        "l4 = [(i, i**3) for i in range(1,11)] #list of tuples\n",
        "print(l4)"
      ],
      "metadata": {
        "colab": {
          "base_uri": "https://localhost:8080/"
        },
        "id": "X6NPTGhNqP-8",
        "outputId": "34f49cf8-f60f-4962-b700-a530c244c759"
      },
      "execution_count": null,
      "outputs": [
        {
          "output_type": "stream",
          "name": "stdout",
          "text": [
            "[(1, 1), (2, 8), (3, 27), (4, 64), (5, 125), (6, 216), (7, 343), (8, 512), (9, 729), (10, 1000)]\n"
          ]
        }
      ]
    },
    {
      "cell_type": "code",
      "source": [
        "# password generator\n",
        "import random\n",
        "from string import ascii_lowercase, ascii_uppercase, digits, punctuation\n",
        "'''\n",
        "16 char pwd\n",
        "upper, lower, number, symbol -- x4\n",
        "shuffle\n",
        "'''\n",
        "def pwd_generator(r):\n",
        "  s1 = \"\"\n",
        "  for i in range(r):\n",
        "    uc = random.choice(ascii_uppercase)\n",
        "    lc = random.choice(ascii_lowercase)\n",
        "    d = random.choice(digits)\n",
        "    p = random.choice(punctuation)\n",
        "\n",
        "    s1 += uc + lc + d + p\n",
        "\n",
        "  s1 = list(s1)\n",
        "  random.shuffle(s1)\n",
        "  print(\"\".join(s1))\n",
        "\n",
        "for i in range(7):\n",
        "  pwd_generator(random.randint(3,5))"
      ],
      "metadata": {
        "colab": {
          "base_uri": "https://localhost:8080/"
        },
        "id": "I6UTUTgEig0H",
        "outputId": "a4e343d9-ffa5-4a95-e2f4-9292b24cfa41"
      },
      "execution_count": null,
      "outputs": [
        {
          "output_type": "stream",
          "name": "stdout",
          "text": [
            "<$STqpC@P3Uz'0b535,d\n",
            "vIxC>O0?a31&\n",
            "R<Vvy[4.5Mo6\n",
            "2\\5$iB/buM2I\n",
            "Fh6kS&;?O0l7rX)4-1bP\n",
            "hYE35h5\\Zg~:\n",
            "ZaXg@+QfF?{p6473\n"
          ]
        }
      ]
    },
    {
      "cell_type": "code",
      "source": [
        "'''\n",
        "!\"#$%&'()*+,-./:;<=>?@[\\]^_`{|}~\n",
        "!@#$%^&*()-_+={[]}|\\:;\"'<,>.?/~`\n",
        "'''"
      ],
      "metadata": {
        "id": "BbRWjKQzig5d"
      },
      "execution_count": null,
      "outputs": []
    },
    {
      "cell_type": "code",
      "source": [
        "a1 = \"!@#$%^&*()-_+={[]}|\\\\:;\\\"'<,>.?/~`\"\n",
        "a2 = \"!\\\"#$%&'()*+,-./:;<=>?@[\\\\]^_`{|}~ \"\n",
        "print(type(ascii_lowercase))"
      ],
      "metadata": {
        "colab": {
          "base_uri": "https://localhost:8080/"
        },
        "id": "ZqvlIDW4rc7m",
        "outputId": "38ce2750-bde1-4a71-9a02-dd5cba0dc0b7"
      },
      "execution_count": null,
      "outputs": [
        {
          "output_type": "stream",
          "name": "stdout",
          "text": [
            "<class 'str'>\n"
          ]
        }
      ]
    },
    {
      "cell_type": "code",
      "source": [
        "ltrs = \"ABCDEFGHIJKLMNOPQRSTUVWXYZ\"\n",
        "sym = \"!@#$%^&*()-_+={[]}|\\\\:;\\\"'<,>.?/~`\"\n",
        "def pwd_generator(r):\n",
        "  s1 = \"\"\n",
        "  for i in range(r):\n",
        "    uc = random.choice(ltrs)\n",
        "    lc = random.choice(ltrs.lower())\n",
        "    d = str(random.randint(0,9)) # random.choice(\"0123456789\")\n",
        "    p = random.choice(sym)\n",
        "\n",
        "    s1 += uc + lc + d + p\n",
        "\n",
        "  s1 = list(s1)\n",
        "  random.shuffle(s1)\n",
        "  print(\"\".join(s1))\n",
        "\n",
        "for i in range(7):\n",
        "  pwd_generator(random.randint(3,5))"
      ],
      "metadata": {
        "colab": {
          "base_uri": "https://localhost:8080/"
        },
        "id": "582DX1dfsc5c",
        "outputId": "f6d58116-dc3a-4eb3-d536-25ed9c059431"
      },
      "execution_count": null,
      "outputs": [
        {
          "output_type": "stream",
          "name": "stdout",
          "text": [
            "B|!G.0l3Uoz3\n",
            "T6t+0Xu:yE3(\n",
            "u`3s3k^CA6C4Hs%/\n",
            "12xg@t]N\"w5J0TG\"\n",
            "#7-rBh97J@AiT<?Y36rf\n",
            "9sQCH'lcB6\"7}#f2\n",
            "sXqlE*o'790UD$~7\n"
          ]
        }
      ]
    },
    {
      "cell_type": "code",
      "source": [
        "# password validation\n",
        "'''\n",
        "atleast 1 uc, 1 lc, 1 num, 1 sym, no space, min length 8\n",
        "'''"
      ],
      "metadata": {
        "id": "4eQlL8Uih965"
      },
      "execution_count": null,
      "outputs": []
    },
    {
      "cell_type": "code",
      "source": [
        "sym = \"!@#$%^&*()-_+={[]}|\\\\:;\\\"'<,>.?/~`\"\n",
        "def validate_pwd(pwd):\n",
        "  # boolean variables\n",
        "  flag_uc = flag_lc = flag_num = flag_sym = flag_sp = flag_len = False\n",
        "\n",
        "  # validation\n",
        "  for i in pwd:\n",
        "    if i.isupper(): flag_uc = True\n",
        "    elif i.islower(): flag_lc = True\n",
        "    elif i.isdigit(): flag_num = True\n",
        "    elif i in sym: flag_sym = True\n",
        "\n",
        "  if \" \" not in pwd: flag_sp = True\n",
        "  if len(pwd) >= 8: flag_len = True\n",
        "\n",
        "  # error messages\n",
        "  if not flag_uc: print(\"Your password doesn't have an Uppercase letter\")\n",
        "  if not flag_lc: print(\"Your password doesn't have a Lowercase letter\")\n",
        "  if not flag_num: print(\"Your password doesn't have a Number\")\n",
        "  if not flag_sym: print(\"Your password doesn't have a Symbol\")\n",
        "  if not flag_sp: print(\"Your password has a Space\")\n",
        "  if not flag_len: print(\"Your password is too short; min length is 8\")\n",
        "\n",
        "  # acceptance\n",
        "  if flag_uc and flag_lc and flag_num and flag_sym and flag_sp and flag_len:\n",
        "    print(\"Password Accepted!\")"
      ],
      "metadata": {
        "id": "XALzEj22h99R"
      },
      "execution_count": null,
      "outputs": []
    },
    {
      "cell_type": "code",
      "source": [
        "validate_pwd(\"abc\")"
      ],
      "metadata": {
        "colab": {
          "base_uri": "https://localhost:8080/"
        },
        "id": "MWgwVr5Dh-AC",
        "outputId": "2e1fcad9-bed8-4160-d927-2293138daecb"
      },
      "execution_count": null,
      "outputs": [
        {
          "output_type": "stream",
          "name": "stdout",
          "text": [
            "Your password doesn't have an Uppercase letter\n",
            "Your password doesn't have a Number\n",
            "Your password doesn't have a Symbol\n",
            "Your password is too short; min length is 8\n"
          ]
        }
      ]
    },
    {
      "cell_type": "code",
      "source": [
        "validate_pwd(\"A bc\")"
      ],
      "metadata": {
        "colab": {
          "base_uri": "https://localhost:8080/"
        },
        "id": "YH2X089lh-Cx",
        "outputId": "236a3f38-e0f0-4afc-9b3a-11652e417e4b"
      },
      "execution_count": null,
      "outputs": [
        {
          "output_type": "stream",
          "name": "stdout",
          "text": [
            "Your password doesn't have a Number\n",
            "Your password doesn't have a Symbol\n",
            "Your password has a Space\n",
            "Your password is too short; min length is 8\n"
          ]
        }
      ]
    },
    {
      "cell_type": "code",
      "source": [
        "validate_pwd(\"A_bc\")"
      ],
      "metadata": {
        "colab": {
          "base_uri": "https://localhost:8080/"
        },
        "id": "RkAxXp-RuyEH",
        "outputId": "710244ef-65a9-45dc-ffc3-03b5abdcce33"
      },
      "execution_count": null,
      "outputs": [
        {
          "output_type": "stream",
          "name": "stdout",
          "text": [
            "Your password doesn't have a Number\n",
            "Your password is too short; min length is 8\n"
          ]
        }
      ]
    },
    {
      "cell_type": "code",
      "source": [
        "validate_pwd(\"A_bc123\")"
      ],
      "metadata": {
        "colab": {
          "base_uri": "https://localhost:8080/"
        },
        "id": "jMmka7j5uyGf",
        "outputId": "73d1203d-8516-4d54-a9e2-14376c53e012"
      },
      "execution_count": null,
      "outputs": [
        {
          "output_type": "stream",
          "name": "stdout",
          "text": [
            "Your password is too short; min length is 8\n"
          ]
        }
      ]
    },
    {
      "cell_type": "code",
      "source": [
        "validate_pwd(\"A_bc123$\")"
      ],
      "metadata": {
        "colab": {
          "base_uri": "https://localhost:8080/"
        },
        "id": "tHYvAXgauyLc",
        "outputId": "a57cb908-3d22-4419-b63e-aea21d3d10ea"
      },
      "execution_count": null,
      "outputs": [
        {
          "output_type": "stream",
          "name": "stdout",
          "text": [
            "Password Accepted!\n"
          ]
        }
      ]
    },
    {
      "cell_type": "code",
      "source": [
        "validate_pwd(\"T6t+0Xu:yE3(\")"
      ],
      "metadata": {
        "colab": {
          "base_uri": "https://localhost:8080/"
        },
        "id": "dP975stSh-FS",
        "outputId": "42078907-93e7-475c-92d8-c0ce39a856b3"
      },
      "execution_count": null,
      "outputs": [
        {
          "output_type": "stream",
          "name": "stdout",
          "text": [
            "Password Accepted!\n"
          ]
        }
      ]
    },
    {
      "cell_type": "code",
      "source": [
        "# frequency of word and sentence using dict\n",
        "# character freq\n",
        "# method 1 - if else\n",
        "def char_freq1(s): # case sensitive char freq\n",
        "  d = {}\n",
        "  for i in s:\n",
        "    if i in d:\n",
        "      d[i] += 1\n",
        "    else:\n",
        "      d[i] = 1\n",
        "    print(d)\n",
        "\n",
        "char_freq1(\"apple\")\n",
        "print()\n",
        "char_freq1(\"aPple\")\n",
        "print()\n",
        "char_freq1(\"Python\")\n",
        "print()\n"
      ],
      "metadata": {
        "colab": {
          "base_uri": "https://localhost:8080/"
        },
        "id": "ckoKNQPFvRxb",
        "outputId": "edcb9e7a-3f30-48fd-d579-1d039f43fb47"
      },
      "execution_count": null,
      "outputs": [
        {
          "output_type": "stream",
          "name": "stdout",
          "text": [
            "{'a': 1}\n",
            "{'a': 1, 'p': 1}\n",
            "{'a': 1, 'p': 2}\n",
            "{'a': 1, 'p': 2, 'l': 1}\n",
            "{'a': 1, 'p': 2, 'l': 1, 'e': 1}\n",
            "\n",
            "{'a': 1}\n",
            "{'a': 1, 'P': 1}\n",
            "{'a': 1, 'P': 1, 'p': 1}\n",
            "{'a': 1, 'P': 1, 'p': 1, 'l': 1}\n",
            "{'a': 1, 'P': 1, 'p': 1, 'l': 1, 'e': 1}\n",
            "\n",
            "{'P': 1}\n",
            "{'P': 1, 'y': 1}\n",
            "{'P': 1, 'y': 1, 't': 1}\n",
            "{'P': 1, 'y': 1, 't': 1, 'h': 1}\n",
            "{'P': 1, 'y': 1, 't': 1, 'h': 1, 'o': 1}\n",
            "{'P': 1, 'y': 1, 't': 1, 'h': 1, 'o': 1, 'n': 1}\n",
            "\n"
          ]
        }
      ]
    },
    {
      "cell_type": "code",
      "source": [
        "# method 2 - get() builtin method\n",
        "def char_freq2(s): # case insensitive char freq\n",
        "  d = {}\n",
        "  for i in s.upper():\n",
        "    d[i] = d.get(i,0)+1 # very important in DSA\n",
        "    print(d)\n",
        "\n",
        "char_freq2(\"apple\")\n",
        "print()\n",
        "char_freq2(\"aPple\")\n",
        "print()\n",
        "char_freq2(\"Python\")\n",
        "print()"
      ],
      "metadata": {
        "colab": {
          "base_uri": "https://localhost:8080/"
        },
        "id": "BUs_cRufvR1X",
        "outputId": "c4fe45d6-95a9-4311-9304-fca756ae5c52"
      },
      "execution_count": null,
      "outputs": [
        {
          "output_type": "stream",
          "name": "stdout",
          "text": [
            "{'A': 1}\n",
            "{'A': 1, 'P': 1}\n",
            "{'A': 1, 'P': 2}\n",
            "{'A': 1, 'P': 2, 'L': 1}\n",
            "{'A': 1, 'P': 2, 'L': 1, 'E': 1}\n",
            "\n",
            "{'A': 1}\n",
            "{'A': 1, 'P': 1}\n",
            "{'A': 1, 'P': 2}\n",
            "{'A': 1, 'P': 2, 'L': 1}\n",
            "{'A': 1, 'P': 2, 'L': 1, 'E': 1}\n",
            "\n",
            "{'P': 1}\n",
            "{'P': 1, 'Y': 1}\n",
            "{'P': 1, 'Y': 1, 'T': 1}\n",
            "{'P': 1, 'Y': 1, 'T': 1, 'H': 1}\n",
            "{'P': 1, 'Y': 1, 'T': 1, 'H': 1, 'O': 1}\n",
            "{'P': 1, 'Y': 1, 'T': 1, 'H': 1, 'O': 1, 'N': 1}\n",
            "\n"
          ]
        }
      ]
    },
    {
      "cell_type": "code",
      "source": [
        "# method 3 - Counter object\n",
        "from collections import Counter\n",
        "def char_freq3(s): # case insensitive char freq\n",
        "  d = Counter(s.lower()) # print the result in the desc order of the value\n",
        "  print(d)\n",
        "\n",
        "char_freq3(\"apple\")\n",
        "print()\n",
        "char_freq3(\"aPple\")\n",
        "print()\n",
        "char_freq3(\"Python\")\n",
        "print()\n",
        "\n",
        "char_freq3(\"Python Programming\")\n",
        "print()"
      ],
      "metadata": {
        "colab": {
          "base_uri": "https://localhost:8080/"
        },
        "id": "W58kIk_OvR3_",
        "outputId": "4c5a16ba-aacc-4589-8b80-189cec938ec2"
      },
      "execution_count": null,
      "outputs": [
        {
          "output_type": "stream",
          "name": "stdout",
          "text": [
            "Counter({'p': 2, 'a': 1, 'l': 1, 'e': 1})\n",
            "\n",
            "Counter({'p': 2, 'a': 1, 'l': 1, 'e': 1})\n",
            "\n",
            "Counter({'p': 1, 'y': 1, 't': 1, 'h': 1, 'o': 1, 'n': 1})\n",
            "\n",
            "Counter({'p': 2, 'o': 2, 'n': 2, 'r': 2, 'g': 2, 'm': 2, 'y': 1, 't': 1, 'h': 1, ' ': 1, 'a': 1, 'i': 1})\n",
            "\n"
          ]
        }
      ]
    },
    {
      "cell_type": "code",
      "source": [
        "# word freq 1\n",
        "def word_freq1(s): # case sensitive char freq\n",
        "  d = {}\n",
        "  for i in s.split(): # punc\n",
        "    if i in d:\n",
        "      d[i] += 1\n",
        "    else:\n",
        "      d[i] = 1\n",
        "    print(d)\n",
        "\n",
        "word_freq1(\"apple is nice apple.\")\n",
        "print()\n",
        "word_freq1(\"aPple APPLE apple apple\")\n",
        "print()\n",
        "word_freq1(\"Python python\")\n",
        "print()"
      ],
      "metadata": {
        "colab": {
          "base_uri": "https://localhost:8080/"
        },
        "id": "JAxpKBCkvR7K",
        "outputId": "a31d1be8-1847-4f36-dd41-bc117baa45f0"
      },
      "execution_count": null,
      "outputs": [
        {
          "output_type": "stream",
          "name": "stdout",
          "text": [
            "{'apple': 1}\n",
            "{'apple': 1, 'is': 1}\n",
            "{'apple': 1, 'is': 1, 'nice': 1}\n",
            "{'apple': 1, 'is': 1, 'nice': 1, 'apple.': 1}\n",
            "\n",
            "{'aPple': 1}\n",
            "{'aPple': 1, 'APPLE': 1}\n",
            "{'aPple': 1, 'APPLE': 1, 'apple': 1}\n",
            "{'aPple': 1, 'APPLE': 1, 'apple': 2}\n",
            "\n",
            "{'Python': 1}\n",
            "{'Python': 1, 'python': 1}\n",
            "\n"
          ]
        }
      ]
    },
    {
      "cell_type": "code",
      "source": [
        "# word freq 2\n",
        "def word_freq2(s): # case insensitive char freq\n",
        "  d = {}\n",
        "  s = s.replace(\".\",\"\")\n",
        "  for i in s.upper().split():\n",
        "    d[i] = d.get(i, 0) + 1\n",
        "    print(d)\n",
        "\n",
        "word_freq2(\"apple is nice apple.\")\n",
        "print()\n",
        "word_freq2(\"aPple APPLE apple apple\")\n",
        "print()\n",
        "word_freq2(\"Python python\")\n",
        "print()"
      ],
      "metadata": {
        "colab": {
          "base_uri": "https://localhost:8080/"
        },
        "id": "Bf2c-nLkvR_O",
        "outputId": "3e7a167b-6fd6-4237-b248-cfc60cfac498"
      },
      "execution_count": null,
      "outputs": [
        {
          "output_type": "stream",
          "name": "stdout",
          "text": [
            "{'APPLE': 1}\n",
            "{'APPLE': 1, 'IS': 1}\n",
            "{'APPLE': 1, 'IS': 1, 'NICE': 1}\n",
            "{'APPLE': 2, 'IS': 1, 'NICE': 1}\n",
            "\n",
            "{'APPLE': 1}\n",
            "{'APPLE': 2}\n",
            "{'APPLE': 3}\n",
            "{'APPLE': 4}\n",
            "\n",
            "{'PYTHON': 1}\n",
            "{'PYTHON': 2}\n",
            "\n"
          ]
        }
      ]
    },
    {
      "cell_type": "code",
      "source": [
        "# word freq 3\n",
        "def word_freq3(s): # case insensitive char freq\n",
        "  s = s.replace(\".\",\"\")\n",
        "  d = Counter(s.lower().split())\n",
        "  print(d)\n",
        "\n",
        "word_freq3(\"apple is nice apple.\")\n",
        "print()\n",
        "word_freq3(\"aPple APPLE apple apple\")\n",
        "print()\n",
        "word_freq3(\"Python python\")\n",
        "print()"
      ],
      "metadata": {
        "colab": {
          "base_uri": "https://localhost:8080/"
        },
        "id": "5fnsE6qQvSCW",
        "outputId": "3c55a310-7af2-47b0-a0c4-09c2c5b7cc9b"
      },
      "execution_count": null,
      "outputs": [
        {
          "output_type": "stream",
          "name": "stdout",
          "text": [
            "Counter({'apple': 2, 'is': 1, 'nice': 1})\n",
            "\n",
            "Counter({'apple': 4})\n",
            "\n",
            "Counter({'python': 2})\n",
            "\n"
          ]
        }
      ]
    },
    {
      "cell_type": "code",
      "source": [
        "s1 = \"abc \"\n",
        "s2 = \"xyz\"\n",
        "print(s1 + s2) # concatenation str + str\n",
        "print(s1 * 7) # repetition # int * str / str * int"
      ],
      "metadata": {
        "colab": {
          "base_uri": "https://localhost:8080/"
        },
        "id": "Xd_3iqibzTdH",
        "outputId": "aff29d3f-0e61-42b4-9773-3aa45a76ae48"
      },
      "execution_count": null,
      "outputs": [
        {
          "output_type": "stream",
          "name": "stdout",
          "text": [
            "abc xyz\n",
            "abc abc abc abc abc abc abc \n"
          ]
        }
      ]
    },
    {
      "cell_type": "code",
      "source": [
        "print(\"abc\" + 123)"
      ],
      "metadata": {
        "colab": {
          "base_uri": "https://localhost:8080/",
          "height": 141
        },
        "id": "vE9pkZWCzfg1",
        "outputId": "c761005c-59d8-4f64-e9bb-a34824ec0e2e"
      },
      "execution_count": null,
      "outputs": [
        {
          "output_type": "error",
          "ename": "TypeError",
          "evalue": "can only concatenate str (not \"int\") to str",
          "traceback": [
            "\u001b[0;31m---------------------------------------------------------------------------\u001b[0m",
            "\u001b[0;31mTypeError\u001b[0m                                 Traceback (most recent call last)",
            "\u001b[0;32m<ipython-input-153-44703628bfed>\u001b[0m in \u001b[0;36m<cell line: 0>\u001b[0;34m()\u001b[0m\n\u001b[0;32m----> 1\u001b[0;31m \u001b[0mprint\u001b[0m\u001b[0;34m(\u001b[0m\u001b[0;34m\"abc\"\u001b[0m \u001b[0;34m+\u001b[0m \u001b[0;36m123\u001b[0m\u001b[0;34m)\u001b[0m\u001b[0;34m\u001b[0m\u001b[0;34m\u001b[0m\u001b[0m\n\u001b[0m",
            "\u001b[0;31mTypeError\u001b[0m: can only concatenate str (not \"int\") to str"
          ]
        }
      ]
    },
    {
      "cell_type": "code",
      "source": [
        "print(s1 * s1)"
      ],
      "metadata": {
        "colab": {
          "base_uri": "https://localhost:8080/",
          "height": 141
        },
        "id": "OmnGwWBpzj0e",
        "outputId": "a4351fc8-905c-4cd8-99e0-e55dc97dff72"
      },
      "execution_count": null,
      "outputs": [
        {
          "output_type": "error",
          "ename": "TypeError",
          "evalue": "can't multiply sequence by non-int of type 'str'",
          "traceback": [
            "\u001b[0;31m---------------------------------------------------------------------------\u001b[0m",
            "\u001b[0;31mTypeError\u001b[0m                                 Traceback (most recent call last)",
            "\u001b[0;32m<ipython-input-154-3ee81b02a862>\u001b[0m in \u001b[0;36m<cell line: 0>\u001b[0;34m()\u001b[0m\n\u001b[0;32m----> 1\u001b[0;31m \u001b[0mprint\u001b[0m\u001b[0;34m(\u001b[0m\u001b[0ms1\u001b[0m \u001b[0;34m*\u001b[0m \u001b[0ms1\u001b[0m\u001b[0;34m)\u001b[0m\u001b[0;34m\u001b[0m\u001b[0;34m\u001b[0m\u001b[0m\n\u001b[0m",
            "\u001b[0;31mTypeError\u001b[0m: can't multiply sequence by non-int of type 'str'"
          ]
        }
      ]
    },
    {
      "cell_type": "code",
      "source": [
        "n = int(input())\n",
        "if n > 0: print(\"Positive\")\n",
        "elif n < 0: print(\"Negative\")\n",
        "else: print(\"Zero\")"
      ],
      "metadata": {
        "colab": {
          "base_uri": "https://localhost:8080/"
        },
        "id": "eIkNVLN20WpQ",
        "outputId": "c7289454-524f-4e3c-e8f4-db3b2602bc9d"
      },
      "execution_count": null,
      "outputs": [
        {
          "output_type": "stream",
          "name": "stdout",
          "text": [
            "0\n",
            "Zero\n"
          ]
        }
      ]
    },
    {
      "cell_type": "code",
      "source": [
        "n = int(input())\n",
        "print(\"Positive\") if n > 0 else print(\"Negative\") if n < 0 else print(\"Zero\") # one line if"
      ],
      "metadata": {
        "colab": {
          "base_uri": "https://localhost:8080/"
        },
        "id": "p8frLeVX0WtL",
        "outputId": "f3c7d86f-3b8b-436f-d84c-7c2be24d7243"
      },
      "execution_count": null,
      "outputs": [
        {
          "output_type": "stream",
          "name": "stdout",
          "text": [
            "2025\n",
            "Positive\n"
          ]
        }
      ]
    }
  ]
}