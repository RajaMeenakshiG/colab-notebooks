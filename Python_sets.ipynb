{
  "nbformat": 4,
  "nbformat_minor": 0,
  "metadata": {
    "colab": {
      "provenance": []
    },
    "kernelspec": {
      "name": "python3",
      "display_name": "Python 3"
    },
    "language_info": {
      "name": "python"
    }
  },
  "cells": [
    {
      "cell_type": "code",
      "source": [
        "'''\n",
        "A set is an unordered collection of unique elements.\n",
        "It is one of the built-in data types used to store multiple items in a single variable.\n",
        "Sets are mutable, but the elements inside must be immutable (like numbers, strings, or tuples).\n",
        "\n",
        "Key Features\n",
        "No duplicates allowed\n",
        "Unordered and unindexed\n",
        "Mutable (can add/remove items)\n",
        "Can perform mathematical set operations\n",
        "'''"
      ],
      "metadata": {
        "id": "T-uif-CyYYHy"
      },
      "execution_count": null,
      "outputs": []
    },
    {
      "cell_type": "code",
      "source": [
        "# Creating a Set\n",
        "# Using curly braces\n",
        "s1 = {1, 2, 3, 4, 5}\n",
        "\n",
        "# Using the set() constructor\n",
        "s2 = set([1, 2, 2, 3, 4])\n",
        "print(s1, s2)"
      ],
      "metadata": {
        "colab": {
          "base_uri": "https://localhost:8080/"
        },
        "id": "9g5tZ3ktYYKb",
        "outputId": "7ff3b2e7-7c49-4bc6-8d55-bc7be23b7912"
      },
      "execution_count": 1,
      "outputs": [
        {
          "output_type": "stream",
          "name": "stdout",
          "text": [
            "{1, 2, 3, 4, 5} {1, 2, 3, 4}\n"
          ]
        }
      ]
    },
    {
      "cell_type": "code",
      "source": [
        "# Set Methods"
      ],
      "metadata": {
        "id": "Dn32EGp-YYQb"
      },
      "execution_count": null,
      "outputs": []
    },
    {
      "cell_type": "code",
      "source": [
        "# add(elem) - Adds a single element to the set.\n",
        "s = {1, 2, 3}\n",
        "s.add(4)\n",
        "print(s)"
      ],
      "metadata": {
        "colab": {
          "base_uri": "https://localhost:8080/"
        },
        "id": "etC7zSnoYYTH",
        "outputId": "a5f29136-e599-4b40-dd60-0b8109779173"
      },
      "execution_count": 2,
      "outputs": [
        {
          "output_type": "stream",
          "name": "stdout",
          "text": [
            "{1, 2, 3, 4}\n"
          ]
        }
      ]
    },
    {
      "cell_type": "code",
      "source": [
        "# clear() - Removes all elements from the set.\n",
        "s = {1, 2, 3}\n",
        "s.clear()\n",
        "print(s)"
      ],
      "metadata": {
        "colab": {
          "base_uri": "https://localhost:8080/"
        },
        "id": "8Gma79kyYYVb",
        "outputId": "acdc7a04-90ac-4846-8ca8-477d6b55908e"
      },
      "execution_count": 3,
      "outputs": [
        {
          "output_type": "stream",
          "name": "stdout",
          "text": [
            "set()\n"
          ]
        }
      ]
    },
    {
      "cell_type": "code",
      "source": [
        "# copy() - Returns a shallow copy of the set.\n",
        "s1 = {1, 2, 3}\n",
        "s2 = s1.copy()\n",
        "print(s2)"
      ],
      "metadata": {
        "colab": {
          "base_uri": "https://localhost:8080/"
        },
        "id": "UaumG5_-YYYE",
        "outputId": "5be8798f-131b-4d01-b844-d2f4afd5ce28"
      },
      "execution_count": 4,
      "outputs": [
        {
          "output_type": "stream",
          "name": "stdout",
          "text": [
            "{1, 2, 3}\n"
          ]
        }
      ]
    },
    {
      "cell_type": "code",
      "source": [
        "# update(other_set) - Adds elements from another set.\n",
        "a = {1, 2}\n",
        "b = {3, 4}\n",
        "a.update(b)\n",
        "print(a)"
      ],
      "metadata": {
        "colab": {
          "base_uri": "https://localhost:8080/"
        },
        "id": "qGGnESUAbWIz",
        "outputId": "00964f76-95c6-41ba-9f1b-453e85547c35"
      },
      "execution_count": 5,
      "outputs": [
        {
          "output_type": "stream",
          "name": "stdout",
          "text": [
            "{1, 2, 3, 4}\n"
          ]
        }
      ]
    },
    {
      "cell_type": "code",
      "source": [
        "# discard(elem) - Removes an element if present (no error if missing).\n",
        "s = {1, 2, 3}\n",
        "s.discard(2)\n",
        "s.discard(10)  # No error\n",
        "print(s)  # {1, 3}"
      ],
      "metadata": {
        "colab": {
          "base_uri": "https://localhost:8080/"
        },
        "id": "2JI-NMXgYYai",
        "outputId": "953d3c08-da0c-4a7d-95b3-6b8603e8bb5a"
      },
      "execution_count": 6,
      "outputs": [
        {
          "output_type": "stream",
          "name": "stdout",
          "text": [
            "{1, 3}\n"
          ]
        }
      ]
    },
    {
      "cell_type": "code",
      "source": [
        "# remove(elem) - Removes a specific element (raises error if not found).\n",
        "s = {1, 2, 3}\n",
        "s.remove(2)\n",
        "# s.remove(10)  # Error: KeyError\n",
        "print(s)"
      ],
      "metadata": {
        "colab": {
          "base_uri": "https://localhost:8080/"
        },
        "id": "g-D2e_z1YYdK",
        "outputId": "ae7d6eb8-2d05-417a-9f4d-b6867cb427c7"
      },
      "execution_count": 7,
      "outputs": [
        {
          "output_type": "stream",
          "name": "stdout",
          "text": [
            "{1, 3}\n"
          ]
        }
      ]
    },
    {
      "cell_type": "code",
      "source": [
        "# pop() - Removes and returns a random element.\n",
        "s = {10, 20, 30}\n",
        "x = s.pop()\n",
        "print(x)      # Could be any element\n",
        "print(s)      # Remaining elements"
      ],
      "metadata": {
        "colab": {
          "base_uri": "https://localhost:8080/"
        },
        "id": "INpo8MrUYYfq",
        "outputId": "c90bb878-c3f5-406c-c942-227ebc07d22a"
      },
      "execution_count": 8,
      "outputs": [
        {
          "output_type": "stream",
          "name": "stdout",
          "text": [
            "10\n",
            "{20, 30}\n"
          ]
        }
      ]
    },
    {
      "cell_type": "code",
      "source": [
        "# union(other_set) - Returns a new set with elements from both sets.\n",
        "a = {1, 2}\n",
        "b = {2, 3, 4}\n",
        "print(a.union(b))  # {1, 2, 3, 4}\n",
        "print(a | b)"
      ],
      "metadata": {
        "colab": {
          "base_uri": "https://localhost:8080/"
        },
        "id": "IQ5Dn5C2bTzi",
        "outputId": "1d841bbe-a147-4197-bb54-38c0210774fc"
      },
      "execution_count": 9,
      "outputs": [
        {
          "output_type": "stream",
          "name": "stdout",
          "text": [
            "{1, 2, 3, 4}\n",
            "{1, 2, 3, 4}\n"
          ]
        }
      ]
    },
    {
      "cell_type": "code",
      "source": [
        "# intersection(other_set) - Returns elements common to both sets.\n",
        "a = {1, 2, 3}\n",
        "b = {2, 3, 4}\n",
        "print(a.intersection(b))\n",
        "print(a & b)"
      ],
      "metadata": {
        "colab": {
          "base_uri": "https://localhost:8080/"
        },
        "id": "9VAEUx5wYYiB",
        "outputId": "a9c99dac-71a6-4b13-a190-87fa4e71412a"
      },
      "execution_count": 10,
      "outputs": [
        {
          "output_type": "stream",
          "name": "stdout",
          "text": [
            "{2, 3}\n",
            "{2, 3}\n"
          ]
        }
      ]
    },
    {
      "cell_type": "code",
      "source": [
        "# intersection_update(other_set) - Updates the set to keep only elements found in both.\n",
        "a = {1, 2, 3}\n",
        "b = {2, 3, 4}\n",
        "a.intersection_update(b)\n",
        "print(a)"
      ],
      "metadata": {
        "colab": {
          "base_uri": "https://localhost:8080/"
        },
        "id": "N8ehSb5ibAX6",
        "outputId": "1306c4fd-4ef3-473d-b198-a2911af9388c"
      },
      "execution_count": 11,
      "outputs": [
        {
          "output_type": "stream",
          "name": "stdout",
          "text": [
            "{2, 3}\n"
          ]
        }
      ]
    },
    {
      "cell_type": "code",
      "source": [
        "# symmetric_difference(other_set) - Returns elements that are in either set, but not both.\n",
        "a = {1, 2, 3}\n",
        "b = {3, 4, 5}\n",
        "print(a.symmetric_difference(b))  # {1, 2, 4, 5}\n",
        "print(a ^ b)\n",
        "# union of differences\n",
        "print((a-b) | (b-a))"
      ],
      "metadata": {
        "colab": {
          "base_uri": "https://localhost:8080/"
        },
        "id": "xO7-4qL2bQ5c",
        "outputId": "2b864cb0-d525-4659-d7af-ff434efe07d7"
      },
      "execution_count": 12,
      "outputs": [
        {
          "output_type": "stream",
          "name": "stdout",
          "text": [
            "{1, 2, 4, 5}\n",
            "{1, 2, 4, 5}\n",
            "{1, 2, 4, 5}\n"
          ]
        }
      ]
    },
    {
      "cell_type": "code",
      "source": [
        "# symmetric_difference_update(other_set) - Updates set to contain elements only in one of the sets.\n",
        "a = {1, 2, 3}\n",
        "b = {2, 3, 4}\n",
        "a.symmetric_difference_update(b)\n",
        "print(a)  # {1, 4}"
      ],
      "metadata": {
        "colab": {
          "base_uri": "https://localhost:8080/"
        },
        "id": "tIjpZy5SbSKS",
        "outputId": "0533974d-348f-40eb-9d67-08bd63c08885"
      },
      "execution_count": 13,
      "outputs": [
        {
          "output_type": "stream",
          "name": "stdout",
          "text": [
            "{1, 4}\n"
          ]
        }
      ]
    },
    {
      "cell_type": "code",
      "source": [
        "# difference(other_set) - Returns elements present in the first set but not in the second.\n",
        "a = {1, 2, 3, 4}\n",
        "b = {3, 4, 5}\n",
        "print(a.difference(b))\n",
        "print(a - b)"
      ],
      "metadata": {
        "colab": {
          "base_uri": "https://localhost:8080/"
        },
        "id": "Go1DEABnYYk1",
        "outputId": "3b7ec612-44d8-42bc-b09f-45c1b0539605"
      },
      "execution_count": 14,
      "outputs": [
        {
          "output_type": "stream",
          "name": "stdout",
          "text": [
            "{1, 2}\n",
            "{1, 2}\n"
          ]
        }
      ]
    },
    {
      "cell_type": "code",
      "source": [
        "# difference_update(other_set) - Removes elements found in another set.\n",
        "a = {1, 2, 3, 4}\n",
        "b = {2, 4}\n",
        "a.difference_update(b)\n",
        "print(a)"
      ],
      "metadata": {
        "colab": {
          "base_uri": "https://localhost:8080/"
        },
        "id": "AUT8mtuZYYnd",
        "outputId": "91fd410e-62e9-48a9-c4f0-366b12a1308e"
      },
      "execution_count": 15,
      "outputs": [
        {
          "output_type": "stream",
          "name": "stdout",
          "text": [
            "{1, 3}\n"
          ]
        }
      ]
    },
    {
      "cell_type": "code",
      "source": [
        "# isdisjoint(other_set) - Returns True if no items in common.\n",
        "a = {1, 2}\n",
        "b = {3, 4}\n",
        "print(a.isdisjoint(b))  # True"
      ],
      "metadata": {
        "colab": {
          "base_uri": "https://localhost:8080/"
        },
        "id": "PJnE8okUYYp1",
        "outputId": "c51c938e-ee0b-4dd1-f384-c484c1650c33"
      },
      "execution_count": 16,
      "outputs": [
        {
          "output_type": "stream",
          "name": "stdout",
          "text": [
            "True\n"
          ]
        }
      ]
    },
    {
      "cell_type": "code",
      "source": [
        "# issubset(other_set) - Returns True if all items of the set are in another set.\n",
        "a = {1, 2}\n",
        "b = {1, 2, 3, 4}\n",
        "print(a.issubset(b))  # True"
      ],
      "metadata": {
        "colab": {
          "base_uri": "https://localhost:8080/"
        },
        "id": "opflSWfEYYsK",
        "outputId": "258f5fc1-8d08-4b02-9df9-305c94085e99"
      },
      "execution_count": 17,
      "outputs": [
        {
          "output_type": "stream",
          "name": "stdout",
          "text": [
            "True\n"
          ]
        }
      ]
    },
    {
      "cell_type": "code",
      "source": [
        "# issuperset(other_set) - Returns True if all items of the other set are in this set.\n",
        "a = {1, 2, 3, 4}\n",
        "b = {2, 3}\n",
        "print(a.issuperset(b))  # True"
      ],
      "metadata": {
        "id": "-VL3kGeUbKfs",
        "colab": {
          "base_uri": "https://localhost:8080/"
        },
        "outputId": "cfedb6ac-22f4-4f3e-df43-8a69b2241d45"
      },
      "execution_count": 18,
      "outputs": [
        {
          "output_type": "stream",
          "name": "stdout",
          "text": [
            "True\n"
          ]
        }
      ]
    },
    {
      "cell_type": "code",
      "source": [
        "# Simple Programs\n",
        "# Remove Duplicates from a List Using Set\n",
        "nums = [1, 2, 2, 3, 4, 4, 5]\n",
        "unique_nums = list(set(nums))\n",
        "print(\"Unique numbers:\", unique_nums)"
      ],
      "metadata": {
        "colab": {
          "base_uri": "https://localhost:8080/"
        },
        "id": "yxXQDQRtbL3T",
        "outputId": "bd817dfb-f873-47d5-92d8-cac0bfc511cc"
      },
      "execution_count": 19,
      "outputs": [
        {
          "output_type": "stream",
          "name": "stdout",
          "text": [
            "Unique numbers: [1, 2, 3, 4, 5]\n"
          ]
        }
      ]
    },
    {
      "cell_type": "code",
      "source": [
        "# Find Common Elements Between Two Lists\n",
        "list1 = ['apple', 'banana', 'mango']\n",
        "list2 = ['banana', 'grape', 'mango']\n",
        "common = set(list1) & set(list2)\n",
        "print(\"Common fruits:\", common)"
      ],
      "metadata": {
        "colab": {
          "base_uri": "https://localhost:8080/"
        },
        "id": "jzES1kpDcdIj",
        "outputId": "99c65a1d-cbd1-4bc6-d053-cb7b547ec85b"
      },
      "execution_count": 20,
      "outputs": [
        {
          "output_type": "stream",
          "name": "stdout",
          "text": [
            "Common fruits: {'mango', 'banana'}\n"
          ]
        }
      ]
    },
    {
      "cell_type": "code",
      "source": [
        "# Find Unique Words in a Sentence\n",
        "sentence = \"python is easy and python is powerful\"\n",
        "words = sentence.split()\n",
        "unique_words = set(words)\n",
        "print(\"Unique words:\", unique_words)"
      ],
      "metadata": {
        "colab": {
          "base_uri": "https://localhost:8080/"
        },
        "id": "zR2ZxoY1cdLC",
        "outputId": "691d3c82-6cd1-4bf3-d4b0-d64624f32592"
      },
      "execution_count": 21,
      "outputs": [
        {
          "output_type": "stream",
          "name": "stdout",
          "text": [
            "Unique words: {'powerful', 'and', 'is', 'python', 'easy'}\n"
          ]
        }
      ]
    },
    {
      "cell_type": "code",
      "source": [
        "# Students Who Play Either Cricket or Football but Not Both\n",
        "cricket = {'Ram', 'Sam', 'John'}\n",
        "football = {'Sam', 'David', 'Ram'}\n",
        "only_one_game = cricket ^ football\n",
        "print(\"Students playing only one game:\", only_one_game)"
      ],
      "metadata": {
        "colab": {
          "base_uri": "https://localhost:8080/"
        },
        "id": "JNNArkD8cdNq",
        "outputId": "fc69070e-d0eb-44c5-c1b6-f1c26d08716c"
      },
      "execution_count": 22,
      "outputs": [
        {
          "output_type": "stream",
          "name": "stdout",
          "text": [
            "Students playing only one game: {'David', 'John'}\n"
          ]
        }
      ]
    },
    {
      "cell_type": "code",
      "source": [
        "# Find All Vowels in a String\n",
        "text = \"Hello World\"\n",
        "vowels = set(\"aeiouAEIOU\")\n",
        "found = vowels.intersection(set(text))\n",
        "print(\"Vowels in text:\", found)"
      ],
      "metadata": {
        "colab": {
          "base_uri": "https://localhost:8080/"
        },
        "id": "5d7_6GxAc2UE",
        "outputId": "0cb6cbe6-a093-496c-8cea-e75f0efe7270"
      },
      "execution_count": 23,
      "outputs": [
        {
          "output_type": "stream",
          "name": "stdout",
          "text": [
            "Vowels in text: {'e', 'o'}\n"
          ]
        }
      ]
    },
    {
      "cell_type": "code",
      "source": [
        "'''\n",
        "Scenario: CSK Player Performance Analyzer using Sets\n",
        "You're a data analyst working for Chennai Super Kings.\n",
        "Your job is to analyze player contributions across different matches using Python sets.\n",
        "Each match records the players who either scored runs, took wickets, or took catches.\n",
        "\n",
        "Using this data, you will answer questions that will help MS Dhoni plan better for upcoming matches.\n",
        "'''"
      ],
      "metadata": {
        "id": "hoI46haBc5h6"
      },
      "execution_count": null,
      "outputs": []
    },
    {
      "cell_type": "code",
      "source": [
        "run_scorers = {\"Ruturaj\", \"Conway\", \"Dhoni\", \"Jadeja\", \"Moeen\", \"Shivam\"}\n",
        "wicket_takers = {\"Jadeja\", \"Pathirana\", \"Moeen\", \"Deepak\", \"Santner\"}\n",
        "catch_takers = {\"Ruturaj\", \"Jadeja\", \"Conway\", \"Moeen\", \"Rayudu\"}"
      ],
      "metadata": {
        "id": "IX-WMd8rc5lt"
      },
      "execution_count": 24,
      "outputs": []
    },
    {
      "cell_type": "code",
      "source": [
        "# Find the all-rounders – players who scored runs, took wickets, and catches.\n",
        "all_rounders = run_scorers & wicket_takers & catch_takers\n",
        "print(\"All-rounders:\", all_rounders)"
      ],
      "metadata": {
        "colab": {
          "base_uri": "https://localhost:8080/"
        },
        "id": "4Mx15Bk2QK2U",
        "outputId": "009732d6-7b9a-41b8-c5d6-dd3c63de1700"
      },
      "execution_count": 25,
      "outputs": [
        {
          "output_type": "stream",
          "name": "stdout",
          "text": [
            "All-rounders: {'Jadeja', 'Moeen'}\n"
          ]
        }
      ]
    },
    {
      "cell_type": "code",
      "source": [
        "# Find players who contributed only by scoring runs.\n",
        "only_batsmen = run_scorers - (wicket_takers | catch_takers)\n",
        "print(\"Only Batsmen:\", only_batsmen)"
      ],
      "metadata": {
        "colab": {
          "base_uri": "https://localhost:8080/"
        },
        "id": "La9pljeKQK5L",
        "outputId": "3bb58d64-f966-4433-bb8e-d784c83738dc"
      },
      "execution_count": 26,
      "outputs": [
        {
          "output_type": "stream",
          "name": "stdout",
          "text": [
            "Only Batsmen: {'Shivam', 'Dhoni'}\n"
          ]
        }
      ]
    },
    {
      "cell_type": "code",
      "source": [
        "# Find players who either took wickets or catches but didn’t score any runs.\n",
        "only_bowling_fielding = (wicket_takers | catch_takers) - run_scorers\n",
        "print(\"Only bowling/fielding contributors:\", only_bowling_fielding)"
      ],
      "metadata": {
        "colab": {
          "base_uri": "https://localhost:8080/"
        },
        "id": "622AhmbrQK7k",
        "outputId": "28b8dbc9-d567-4b6f-953a-a6a1ffb9a177"
      },
      "execution_count": 27,
      "outputs": [
        {
          "output_type": "stream",
          "name": "stdout",
          "text": [
            "Only bowling/fielding contributors: {'Rayudu', 'Deepak', 'Pathirana', 'Santner'}\n"
          ]
        }
      ]
    },
    {
      "cell_type": "code",
      "source": [
        "# Find players who contributed in at least two categories.\n",
        "at_least_two = (\n",
        "    (run_scorers & wicket_takers) |\n",
        "    (run_scorers & catch_takers) |\n",
        "    (wicket_takers & catch_takers)\n",
        ")\n",
        "print(\"Players who contributed in at least 2 categories:\", at_least_two)"
      ],
      "metadata": {
        "colab": {
          "base_uri": "https://localhost:8080/"
        },
        "id": "9L08zvTVQK-w",
        "outputId": "d87a9570-038a-4f94-86da-3a8de8a10911"
      },
      "execution_count": 28,
      "outputs": [
        {
          "output_type": "stream",
          "name": "stdout",
          "text": [
            "Players who contributed in at least 2 categories: {'Jadeja', 'Moeen', 'Ruturaj', 'Conway'}\n"
          ]
        }
      ]
    },
    {
      "cell_type": "code",
      "source": [
        "# Add new player 'Sameer Rizvi' to run_scorers and update stats.\n",
        "run_scorers.add(\"Sameer Rizvi\")\n",
        "print(\"Updated Run Scorers:\", run_scorers)"
      ],
      "metadata": {
        "colab": {
          "base_uri": "https://localhost:8080/"
        },
        "id": "mwLCQyltQLBY",
        "outputId": "74048495-1f15-44e8-b27d-7645227c0ecd"
      },
      "execution_count": 29,
      "outputs": [
        {
          "output_type": "stream",
          "name": "stdout",
          "text": [
            "Updated Run Scorers: {'Jadeja', 'Shivam', 'Moeen', 'Ruturaj', 'Conway', 'Sameer Rizvi', 'Dhoni'}\n"
          ]
        }
      ]
    },
    {
      "cell_type": "code",
      "source": [
        "# Total unique contributors across all roles\n",
        "unique_contributors = run_scorers | wicket_takers | catch_takers\n",
        "print(\"Total unique players who contributed:\", unique_contributors)\n",
        "print(\"Total count:\", len(unique_contributors))"
      ],
      "metadata": {
        "colab": {
          "base_uri": "https://localhost:8080/"
        },
        "id": "bQfhKvdPQ2r-",
        "outputId": "a59a73e7-14c1-4af5-e484-c53c6a34bb90"
      },
      "execution_count": 30,
      "outputs": [
        {
          "output_type": "stream",
          "name": "stdout",
          "text": [
            "Total unique players who contributed: {'Jadeja', 'Shivam', 'Moeen', 'Ruturaj', 'Sameer Rizvi', 'Deepak', 'Santner', 'Pathirana', 'Dhoni', 'Rayudu', 'Conway'}\n",
            "Total count: 11\n"
          ]
        }
      ]
    },
    {
      "cell_type": "code",
      "source": [
        "'''\n",
        "\"Build Your CSK Dream Team\"\n",
        "Scenario:\n",
        "You’re the chief selector for CSK's next big match. You have:\n",
        "Players who are available\n",
        "Players who are injured\n",
        "Players who are under BCCI contract (mandatory selection if available)\n",
        "\n",
        "Write a function that:\n",
        "Builds your final match squad based on availability and contracts\n",
        "Excludes injured players\n",
        "Prioritizes contracted players\n",
        "Ensures no duplicates and clear set logic\n",
        "'''"
      ],
      "metadata": {
        "id": "YUBUE4VoRMjM"
      },
      "execution_count": null,
      "outputs": []
    },
    {
      "cell_type": "code",
      "source": [
        "def build_csk_dream_team(available, injured, contracted):\n",
        "    \"\"\"\n",
        "    Constructs the final CSK team:\n",
        "    - Includes only available players\n",
        "    - Removes injured ones\n",
        "    - Prioritizes contracted players first\n",
        "    \"\"\"\n",
        "    # Step 1: Remove injured players from available pool\n",
        "    fit_players = available - injured\n",
        "\n",
        "    # Step 2: Pick all contracted players if they are fit\n",
        "    must_include = contracted & fit_players\n",
        "\n",
        "    # Step 3: Fill remaining from other fit players\n",
        "    others = fit_players - must_include\n",
        "\n",
        "    # Step 4: Final squad: contracted first, then fit others\n",
        "    final_squad = must_include | others\n",
        "\n",
        "    print(\"🔥 Final CSK Dream Team:\")\n",
        "    print(final_squad)\n",
        "    print(\"✅ Total Players:\", len(final_squad))\n",
        "    print(\"👑 Contracted Players Included:\", must_include)\n",
        "    print(\"🚑 Injured Players Skipped:\", injured & available)"
      ],
      "metadata": {
        "id": "rSlDVKFrRQIz"
      },
      "execution_count": 31,
      "outputs": []
    },
    {
      "cell_type": "code",
      "source": [
        "available = {\"Dhoni\", \"Ruturaj\", \"Jadeja\", \"Moeen\", \"Deepak\", \"Sameer\", \"Pathirana\", \"Chahar\", \"Rayudu\"}\n",
        "injured = {\"Chahar\", \"Rayudu\"}\n",
        "contracted = {\"Dhoni\", \"Jadeja\", \"Deepak\", \"Ruturaj\"}\n",
        "build_csk_dream_team(available, injured, contracted)"
      ],
      "metadata": {
        "colab": {
          "base_uri": "https://localhost:8080/"
        },
        "id": "PYdXPTadRSyz",
        "outputId": "6ea41dea-0bdc-482b-9d17-09a9d25cd4e6"
      },
      "execution_count": 32,
      "outputs": [
        {
          "output_type": "stream",
          "name": "stdout",
          "text": [
            "🔥 Final CSK Dream Team:\n",
            "{'Jadeja', 'Moeen', 'Ruturaj', 'Deepak', 'Sameer', 'Pathirana', 'Dhoni'}\n",
            "✅ Total Players: 7\n",
            "👑 Contracted Players Included: {'Jadeja', 'Ruturaj', 'Deepak', 'Dhoni'}\n",
            "🚑 Injured Players Skipped: {'Rayudu', 'Chahar'}\n"
          ]
        }
      ]
    }
  ]
}