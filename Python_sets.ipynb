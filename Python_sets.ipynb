{
  "nbformat": 4,
  "nbformat_minor": 0,
  "metadata": {
    "colab": {
      "provenance": []
    },
    "kernelspec": {
      "name": "python3",
      "display_name": "Python 3"
    },
    "language_info": {
      "name": "python"
    }
  },
  "cells": [
    {
      "cell_type": "code",
      "source": [
        "'''\n",
        "A set is an unordered collection of unique elements.\n",
        "It is one of the built-in data types used to store multiple items in a single variable.\n",
        "Sets are mutable, but the elements inside must be immutable (like numbers, strings, or tuples).\n",
        "\n",
        "Key Features\n",
        "No duplicates allowed\n",
        "Unordered and unindexed\n",
        "Mutable (can add/remove items)\n",
        "Can perform mathematical set operations\n",
        "'''"
      ],
      "metadata": {
        "id": "T-uif-CyYYHy"
      },
      "execution_count": null,
      "outputs": []
    },
    {
      "cell_type": "code",
      "source": [
        "# Creating a Set\n",
        "# Using curly braces\n",
        "s1 = {1, 2, 3, 4, 5}\n",
        "\n",
        "# Using the set() constructor\n",
        "s2 = set([1, 2, 2, 3, 4])\n",
        "print(s1, s2)"
      ],
      "metadata": {
        "colab": {
          "base_uri": "https://localhost:8080/"
        },
        "id": "9g5tZ3ktYYKb",
        "outputId": "5c003c27-75e6-4df4-edb8-07020ff3e85f"
      },
      "execution_count": 1,
      "outputs": [
        {
          "output_type": "stream",
          "name": "stdout",
          "text": [
            "{1, 2, 3, 4, 5} {1, 2, 3, 4}\n"
          ]
        }
      ]
    },
    {
      "cell_type": "code",
      "source": [
        "# Set Methods"
      ],
      "metadata": {
        "id": "Dn32EGp-YYQb"
      },
      "execution_count": null,
      "outputs": []
    },
    {
      "cell_type": "code",
      "source": [
        "# add(elem) - Adds a single element to the set.\n",
        "s = {1, 2, 3}\n",
        "s.add(4)\n",
        "print(s)"
      ],
      "metadata": {
        "colab": {
          "base_uri": "https://localhost:8080/"
        },
        "id": "etC7zSnoYYTH",
        "outputId": "43261306-5397-4298-e2b6-e412971e0957"
      },
      "execution_count": 2,
      "outputs": [
        {
          "output_type": "stream",
          "name": "stdout",
          "text": [
            "{1, 2, 3, 4}\n"
          ]
        }
      ]
    },
    {
      "cell_type": "code",
      "source": [
        "# clear() - Removes all elements from the set.\n",
        "s = {1, 2, 3}\n",
        "s.clear()\n",
        "print(s)"
      ],
      "metadata": {
        "colab": {
          "base_uri": "https://localhost:8080/"
        },
        "id": "8Gma79kyYYVb",
        "outputId": "ab2f630e-77a1-4e33-c439-81ed6c15157f"
      },
      "execution_count": 3,
      "outputs": [
        {
          "output_type": "stream",
          "name": "stdout",
          "text": [
            "set()\n"
          ]
        }
      ]
    },
    {
      "cell_type": "code",
      "source": [
        "# copy() - Returns a shallow copy of the set.\n",
        "s1 = {1, 2, 3}\n",
        "s2 = s1.copy()\n",
        "print(s2)"
      ],
      "metadata": {
        "colab": {
          "base_uri": "https://localhost:8080/"
        },
        "id": "UaumG5_-YYYE",
        "outputId": "21da28db-e6c8-44b5-e470-0b714fec3079"
      },
      "execution_count": 4,
      "outputs": [
        {
          "output_type": "stream",
          "name": "stdout",
          "text": [
            "{1, 2, 3}\n"
          ]
        }
      ]
    },
    {
      "cell_type": "code",
      "source": [
        "# update(other_set) - Adds elements from another set.\n",
        "a = {1, 2}\n",
        "b = {3, 4}\n",
        "a.update(b)\n",
        "print(a)"
      ],
      "metadata": {
        "colab": {
          "base_uri": "https://localhost:8080/"
        },
        "id": "qGGnESUAbWIz",
        "outputId": "c7e69080-61e5-447c-ac62-2ef9895e5f46"
      },
      "execution_count": 5,
      "outputs": [
        {
          "output_type": "stream",
          "name": "stdout",
          "text": [
            "{1, 2, 3, 4}\n"
          ]
        }
      ]
    },
    {
      "cell_type": "code",
      "source": [
        "# discard(elem) - Removes an element if present (no error if missing).\n",
        "s = {1, 2, 3}\n",
        "s.discard(2)\n",
        "s.discard(10)  # No error\n",
        "print(s)  # {1, 3}"
      ],
      "metadata": {
        "colab": {
          "base_uri": "https://localhost:8080/"
        },
        "id": "2JI-NMXgYYai",
        "outputId": "b30d90ee-659b-4d4b-d675-a5f197b82b98"
      },
      "execution_count": 6,
      "outputs": [
        {
          "output_type": "stream",
          "name": "stdout",
          "text": [
            "{1, 3}\n"
          ]
        }
      ]
    },
    {
      "cell_type": "code",
      "source": [
        "# remove(elem) - Removes a specific element (raises error if not found).\n",
        "s = {1, 2, 3}\n",
        "s.remove(2)\n",
        "# s.remove(10)  # Error: KeyError\n",
        "print(s)"
      ],
      "metadata": {
        "colab": {
          "base_uri": "https://localhost:8080/"
        },
        "id": "g-D2e_z1YYdK",
        "outputId": "6739a098-c228-4a71-9066-3ffc59ba5933"
      },
      "execution_count": 7,
      "outputs": [
        {
          "output_type": "stream",
          "name": "stdout",
          "text": [
            "{1, 3}\n"
          ]
        }
      ]
    },
    {
      "cell_type": "code",
      "source": [
        "# pop() - Removes and returns a random element.\n",
        "s = {10, 20, 30}\n",
        "x = s.pop()\n",
        "print(x)      # Could be any element\n",
        "print(s)      # Remaining elements"
      ],
      "metadata": {
        "colab": {
          "base_uri": "https://localhost:8080/"
        },
        "id": "INpo8MrUYYfq",
        "outputId": "632e48c9-b3f6-4bb5-c556-72d826ac8c57"
      },
      "execution_count": 8,
      "outputs": [
        {
          "output_type": "stream",
          "name": "stdout",
          "text": [
            "10\n",
            "{20, 30}\n"
          ]
        }
      ]
    },
    {
      "cell_type": "code",
      "source": [
        "# union(other_set) - Returns a new set with elements from both sets.\n",
        "a = {1, 2}\n",
        "b = {2, 3, 4}\n",
        "print(a.union(b))  # {1, 2, 3, 4}\n",
        "print(a | b)"
      ],
      "metadata": {
        "colab": {
          "base_uri": "https://localhost:8080/"
        },
        "id": "IQ5Dn5C2bTzi",
        "outputId": "bba81ad5-5d57-4a90-cffe-68dbb96f1d58"
      },
      "execution_count": 9,
      "outputs": [
        {
          "output_type": "stream",
          "name": "stdout",
          "text": [
            "{1, 2, 3, 4}\n",
            "{1, 2, 3, 4}\n"
          ]
        }
      ]
    },
    {
      "cell_type": "code",
      "source": [
        "# intersection(other_set) - Returns elements common to both sets.\n",
        "a = {1, 2, 3}\n",
        "b = {2, 3, 4}\n",
        "print(a.intersection(b))\n",
        "print(a & b)"
      ],
      "metadata": {
        "colab": {
          "base_uri": "https://localhost:8080/"
        },
        "id": "9VAEUx5wYYiB",
        "outputId": "59fe0b3e-9ce7-4128-fef6-fdc9cc4b06d9"
      },
      "execution_count": 10,
      "outputs": [
        {
          "output_type": "stream",
          "name": "stdout",
          "text": [
            "{2, 3}\n",
            "{2, 3}\n"
          ]
        }
      ]
    },
    {
      "cell_type": "code",
      "source": [
        "# intersection_update(other_set) - Updates the set to keep only elements found in both.\n",
        "a = {1, 2, 3}\n",
        "b = {2, 3, 4}\n",
        "a.intersection_update(b)\n",
        "print(a)"
      ],
      "metadata": {
        "colab": {
          "base_uri": "https://localhost:8080/"
        },
        "id": "N8ehSb5ibAX6",
        "outputId": "48284aa3-a4f4-492a-f8e1-cc517de72e06"
      },
      "execution_count": 11,
      "outputs": [
        {
          "output_type": "stream",
          "name": "stdout",
          "text": [
            "{2, 3}\n"
          ]
        }
      ]
    },
    {
      "cell_type": "code",
      "source": [
        "# symmetric_difference(other_set) - Returns elements that are in either set, but not both.\n",
        "a = {1, 2, 3}\n",
        "b = {3, 4, 5}\n",
        "print(a.symmetric_difference(b))  # {1, 2, 4, 5}\n",
        "print(a ^ b)\n",
        "# union of differences\n",
        "print((a-b) | (b-a))"
      ],
      "metadata": {
        "colab": {
          "base_uri": "https://localhost:8080/"
        },
        "id": "xO7-4qL2bQ5c",
        "outputId": "38bf68a9-fab3-4831-ee42-b0dbfec3ffdb"
      },
      "execution_count": 12,
      "outputs": [
        {
          "output_type": "stream",
          "name": "stdout",
          "text": [
            "{1, 2, 4, 5}\n",
            "{1, 2, 4, 5}\n",
            "{1, 2, 4, 5}\n"
          ]
        }
      ]
    },
    {
      "cell_type": "code",
      "source": [
        "# symmetric_difference_update(other_set) - Updates set to contain elements only in one of the sets.\n",
        "a = {1, 2, 3}\n",
        "b = {2, 3, 4}\n",
        "a.symmetric_difference_update(b)\n",
        "print(a)  # {1, 4}"
      ],
      "metadata": {
        "colab": {
          "base_uri": "https://localhost:8080/"
        },
        "id": "tIjpZy5SbSKS",
        "outputId": "b04aef0a-bc83-4c88-82dd-4175a0bff722"
      },
      "execution_count": 13,
      "outputs": [
        {
          "output_type": "stream",
          "name": "stdout",
          "text": [
            "{1, 4}\n"
          ]
        }
      ]
    },
    {
      "cell_type": "code",
      "source": [
        "# difference(other_set) - Returns elements present in the first set but not in the second.\n",
        "a = {1, 2, 3, 4}\n",
        "b = {3, 4, 5}\n",
        "print(a.difference(b))\n",
        "print(a - b)"
      ],
      "metadata": {
        "colab": {
          "base_uri": "https://localhost:8080/"
        },
        "id": "Go1DEABnYYk1",
        "outputId": "33721b86-17df-43b1-9ae9-900c0485884e"
      },
      "execution_count": 14,
      "outputs": [
        {
          "output_type": "stream",
          "name": "stdout",
          "text": [
            "{1, 2}\n",
            "{1, 2}\n"
          ]
        }
      ]
    },
    {
      "cell_type": "code",
      "source": [
        "# difference_update(other_set) - Removes elements found in another set.\n",
        "a = {1, 2, 3, 4}\n",
        "b = {2, 4}\n",
        "a.difference_update(b)\n",
        "print(a)"
      ],
      "metadata": {
        "colab": {
          "base_uri": "https://localhost:8080/"
        },
        "id": "AUT8mtuZYYnd",
        "outputId": "7d3d2b0a-1bca-438b-e77b-9ed108089bda"
      },
      "execution_count": 15,
      "outputs": [
        {
          "output_type": "stream",
          "name": "stdout",
          "text": [
            "{1, 3}\n"
          ]
        }
      ]
    },
    {
      "cell_type": "code",
      "source": [
        "# isdisjoint(other_set) - Returns True if no items in common.\n",
        "a = {1, 2}\n",
        "b = {3, 4}\n",
        "print(a.isdisjoint(b))  # True"
      ],
      "metadata": {
        "colab": {
          "base_uri": "https://localhost:8080/"
        },
        "id": "PJnE8okUYYp1",
        "outputId": "3e61a44f-aba3-4e3f-ec15-cbb0964a648c"
      },
      "execution_count": 16,
      "outputs": [
        {
          "output_type": "stream",
          "name": "stdout",
          "text": [
            "True\n"
          ]
        }
      ]
    },
    {
      "cell_type": "code",
      "source": [
        "# issubset(other_set) - Returns True if all items of the set are in another set.\n",
        "a = {1, 2}\n",
        "b = {1, 2, 3, 4}\n",
        "print(a.issubset(b))  # True"
      ],
      "metadata": {
        "colab": {
          "base_uri": "https://localhost:8080/"
        },
        "id": "opflSWfEYYsK",
        "outputId": "fc06b90d-5577-4efc-99c5-ca9bff32f135"
      },
      "execution_count": 17,
      "outputs": [
        {
          "output_type": "stream",
          "name": "stdout",
          "text": [
            "True\n"
          ]
        }
      ]
    },
    {
      "cell_type": "code",
      "source": [
        "# issuperset(other_set) - Returns True if all items of the other set are in this set.\n",
        "a = {1, 2, 3, 4}\n",
        "b = {2, 3}\n",
        "print(a.issuperset(b))  # True"
      ],
      "metadata": {
        "id": "-VL3kGeUbKfs",
        "colab": {
          "base_uri": "https://localhost:8080/"
        },
        "outputId": "ba30cd3c-1a28-47d2-93b8-766431030905"
      },
      "execution_count": 18,
      "outputs": [
        {
          "output_type": "stream",
          "name": "stdout",
          "text": [
            "True\n"
          ]
        }
      ]
    },
    {
      "cell_type": "code",
      "source": [
        "# Frozen Sets\n",
        "'''\n",
        "A frozenset is Python’s immutable version of a set.\n",
        "Unordered & unique elements like a normal set.\n",
        "Read‑only: cannot add, remove, or update items once it’s created.\n",
        "Because it can’t change, a frozenset is hashable, so it can be:\n",
        "a key in a dictionary, or\n",
        "an element inside another (mutable) set.\n",
        "'''"
      ],
      "metadata": {
        "id": "mwJTqvnXZbEf"
      },
      "execution_count": null,
      "outputs": []
    },
    {
      "cell_type": "code",
      "source": [
        "empty_fs   = frozenset()\n",
        "nums_fs    = frozenset([1, 2, 3, 3])\n",
        "letters_fs = frozenset(\"yellow\")"
      ],
      "metadata": {
        "id": "l7qzUOPhZsWg"
      },
      "execution_count": 19,
      "outputs": []
    },
    {
      "cell_type": "code",
      "source": [
        "normal_set   = {1, 2, 3}\n",
        "frozen_set   = frozenset({1, 2, 3})\n",
        "\n",
        "# Works on both\n",
        "print(normal_set | {4})        # {1, 2, 3, 4}\n",
        "print(frozen_set.union({4}))   # frozenset({1, 2, 3, 4})\n",
        "\n",
        "# Mutating methods only on normal sets\n",
        "normal_set.add(4)              # OK\n",
        "# frozen_set.add(4)            # AttributeError"
      ],
      "metadata": {
        "colab": {
          "base_uri": "https://localhost:8080/"
        },
        "id": "rv7nfZPgZuYY",
        "outputId": "b1c15e45-5016-483e-859f-6ddfb15b58dc"
      },
      "execution_count": 20,
      "outputs": [
        {
          "output_type": "stream",
          "name": "stdout",
          "text": [
            "{1, 2, 3, 4}\n",
            "frozenset({1, 2, 3, 4})\n"
          ]
        }
      ]
    },
    {
      "cell_type": "code",
      "source": [
        "# Using a frozenset as a dictionary key\n",
        "triangle1 = frozenset({\"A\", \"B\", \"C\"})\n",
        "triangle2 = frozenset({\"B\", \"C\", \"A\"})   # same set, same hash!\n",
        "\n",
        "areas = {triangle1: 15.5}\n",
        "print(areas[triangle2])   # 15.5"
      ],
      "metadata": {
        "colab": {
          "base_uri": "https://localhost:8080/"
        },
        "id": "rWAwZGdJZ1wY",
        "outputId": "0f58d2c8-293f-404d-b42a-542d59aa1306"
      },
      "execution_count": 21,
      "outputs": [
        {
          "output_type": "stream",
          "name": "stdout",
          "text": [
            "15.5\n"
          ]
        }
      ]
    },
    {
      "cell_type": "code",
      "source": [
        "#  Storing sets inside a set\n",
        "group1 = frozenset({\"Dhoni\", \"Jadeja\"})\n",
        "group2 = frozenset({\"Ruturaj\", \"Moeen\"})\n",
        "\n",
        "all_groups = {group1, group2}\n",
        "print(all_groups)"
      ],
      "metadata": {
        "colab": {
          "base_uri": "https://localhost:8080/"
        },
        "id": "MXjRw3JYZ3Yo",
        "outputId": "b54f71fb-aa71-4a56-f53c-117c68067622"
      },
      "execution_count": 22,
      "outputs": [
        {
          "output_type": "stream",
          "name": "stdout",
          "text": [
            "{frozenset({'Dhoni', 'Jadeja'}), frozenset({'Moeen', 'Ruturaj'})}\n"
          ]
        }
      ]
    },
    {
      "cell_type": "code",
      "source": [
        "# Quick membership lookup with immutable tags\n",
        "CSK_roles = {\n",
        "    frozenset({\"batsman\", \"captain\"}): \"Dhoni\",\n",
        "    frozenset({\"all‑rounder\"}):        \"Jadeja\",\n",
        "}\n",
        "print(CSK_roles[frozenset({\"captain\", \"batsman\"})])"
      ],
      "metadata": {
        "colab": {
          "base_uri": "https://localhost:8080/"
        },
        "id": "FDDc7gz6Z-Ga",
        "outputId": "4c852987-ef14-40b4-d35b-827afd6778f7"
      },
      "execution_count": 23,
      "outputs": [
        {
          "output_type": "stream",
          "name": "stdout",
          "text": [
            "Dhoni\n"
          ]
        }
      ]
    },
    {
      "cell_type": "code",
      "source": [
        "'''When to choose frozenset?\n",
        "\n",
        "You’ll modify the collection --> set\n",
        "You need to use it as a key / element of another set --> frozenset\n",
        "Thread‑safety / defensive programming (no accidental mutation) --> frozenset\n",
        "'''"
      ],
      "metadata": {
        "id": "9p4tQfpwaF4o"
      },
      "execution_count": null,
      "outputs": []
    },
    {
      "cell_type": "code",
      "source": [
        "# Simple Programs\n",
        "# Remove Duplicates from a List Using Set\n",
        "nums = [1, 2, 2, 3, 4, 4, 5]\n",
        "unique_nums = list(set(nums))\n",
        "print(\"Unique numbers:\", unique_nums)"
      ],
      "metadata": {
        "colab": {
          "base_uri": "https://localhost:8080/"
        },
        "id": "yxXQDQRtbL3T",
        "outputId": "bde6604d-5bc5-44c2-8f6d-b9bb1924d9e2"
      },
      "execution_count": 24,
      "outputs": [
        {
          "output_type": "stream",
          "name": "stdout",
          "text": [
            "Unique numbers: [1, 2, 3, 4, 5]\n"
          ]
        }
      ]
    },
    {
      "cell_type": "code",
      "source": [
        "# Find Common Elements Between Two Lists\n",
        "list1 = ['apple', 'banana', 'mango']\n",
        "list2 = ['banana', 'grape', 'mango']\n",
        "common = set(list1) & set(list2)\n",
        "print(\"Common fruits:\", common)"
      ],
      "metadata": {
        "colab": {
          "base_uri": "https://localhost:8080/"
        },
        "id": "jzES1kpDcdIj",
        "outputId": "4907c939-3d06-4475-879b-e11f5ee31efa"
      },
      "execution_count": 25,
      "outputs": [
        {
          "output_type": "stream",
          "name": "stdout",
          "text": [
            "Common fruits: {'mango', 'banana'}\n"
          ]
        }
      ]
    },
    {
      "cell_type": "code",
      "source": [
        "# Find Unique Words in a Sentence\n",
        "sentence = \"python is easy and python is powerful\"\n",
        "words = sentence.split()\n",
        "unique_words = set(words)\n",
        "print(\"Unique words:\", unique_words)"
      ],
      "metadata": {
        "colab": {
          "base_uri": "https://localhost:8080/"
        },
        "id": "zR2ZxoY1cdLC",
        "outputId": "81552e0a-dc4e-4963-cf54-f9bafbd3ad93"
      },
      "execution_count": 26,
      "outputs": [
        {
          "output_type": "stream",
          "name": "stdout",
          "text": [
            "Unique words: {'is', 'powerful', 'and', 'python', 'easy'}\n"
          ]
        }
      ]
    },
    {
      "cell_type": "code",
      "source": [
        "# Students Who Play Either Cricket or Football but Not Both\n",
        "cricket = {'Ram', 'Sam', 'John'}\n",
        "football = {'Sam', 'David', 'Ram'}\n",
        "only_one_game = cricket ^ football\n",
        "print(\"Students playing only one game:\", only_one_game)"
      ],
      "metadata": {
        "colab": {
          "base_uri": "https://localhost:8080/"
        },
        "id": "JNNArkD8cdNq",
        "outputId": "dd191777-ff04-4af3-9569-ab9cf9d7bc86"
      },
      "execution_count": 27,
      "outputs": [
        {
          "output_type": "stream",
          "name": "stdout",
          "text": [
            "Students playing only one game: {'David', 'John'}\n"
          ]
        }
      ]
    },
    {
      "cell_type": "code",
      "source": [
        "# Find All Vowels in a String\n",
        "text = \"Hello World\"\n",
        "vowels = set(\"aeiouAEIOU\")\n",
        "found = vowels.intersection(set(text))\n",
        "print(\"Vowels in text:\", found)"
      ],
      "metadata": {
        "colab": {
          "base_uri": "https://localhost:8080/"
        },
        "id": "5d7_6GxAc2UE",
        "outputId": "287aa253-2ac1-43af-d49e-54539d0d4d3d"
      },
      "execution_count": 28,
      "outputs": [
        {
          "output_type": "stream",
          "name": "stdout",
          "text": [
            "Vowels in text: {'o', 'e'}\n"
          ]
        }
      ]
    },
    {
      "cell_type": "code",
      "source": [
        "'''\n",
        "Scenario: CSK Player Performance Analyzer using Sets\n",
        "You're a data analyst working for Chennai Super Kings.\n",
        "Your job is to analyze player contributions across different matches using Python sets.\n",
        "Each match records the players who either scored runs, took wickets, or took catches.\n",
        "\n",
        "Using this data, you will answer questions that will help MS Dhoni plan better for upcoming matches.\n",
        "'''"
      ],
      "metadata": {
        "id": "hoI46haBc5h6"
      },
      "execution_count": null,
      "outputs": []
    },
    {
      "cell_type": "code",
      "source": [
        "run_scorers = {\"Ruturaj\", \"Conway\", \"Dhoni\", \"Jadeja\", \"Moeen\", \"Shivam\"}\n",
        "wicket_takers = {\"Jadeja\", \"Pathirana\", \"Moeen\", \"Deepak\", \"Santner\"}\n",
        "catch_takers = {\"Ruturaj\", \"Jadeja\", \"Conway\", \"Moeen\", \"Rayudu\"}"
      ],
      "metadata": {
        "id": "IX-WMd8rc5lt"
      },
      "execution_count": 29,
      "outputs": []
    },
    {
      "cell_type": "code",
      "source": [
        "# Find the all-rounders – players who scored runs, took wickets, and catches.\n",
        "all_rounders = run_scorers & wicket_takers & catch_takers\n",
        "print(\"All-rounders:\", all_rounders)"
      ],
      "metadata": {
        "colab": {
          "base_uri": "https://localhost:8080/"
        },
        "id": "4Mx15Bk2QK2U",
        "outputId": "88aa2930-aa07-46ef-fcd6-6f4e2abe43b0"
      },
      "execution_count": 30,
      "outputs": [
        {
          "output_type": "stream",
          "name": "stdout",
          "text": [
            "All-rounders: {'Moeen', 'Jadeja'}\n"
          ]
        }
      ]
    },
    {
      "cell_type": "code",
      "source": [
        "# Find players who contributed only by scoring runs.\n",
        "only_batsmen = run_scorers - (wicket_takers | catch_takers)\n",
        "print(\"Only Batsmen:\", only_batsmen)"
      ],
      "metadata": {
        "colab": {
          "base_uri": "https://localhost:8080/"
        },
        "id": "La9pljeKQK5L",
        "outputId": "1b579a16-76ef-4a09-c432-5313d32784c8"
      },
      "execution_count": 31,
      "outputs": [
        {
          "output_type": "stream",
          "name": "stdout",
          "text": [
            "Only Batsmen: {'Shivam', 'Dhoni'}\n"
          ]
        }
      ]
    },
    {
      "cell_type": "code",
      "source": [
        "# Find players who either took wickets or catches but didn’t score any runs.\n",
        "only_bowling_fielding = (wicket_takers | catch_takers) - run_scorers\n",
        "print(\"Only bowling/fielding contributors:\", only_bowling_fielding)"
      ],
      "metadata": {
        "colab": {
          "base_uri": "https://localhost:8080/"
        },
        "id": "622AhmbrQK7k",
        "outputId": "372c73ec-b612-464a-9ea7-31a609b101d0"
      },
      "execution_count": 32,
      "outputs": [
        {
          "output_type": "stream",
          "name": "stdout",
          "text": [
            "Only bowling/fielding contributors: {'Pathirana', 'Rayudu', 'Deepak', 'Santner'}\n"
          ]
        }
      ]
    },
    {
      "cell_type": "code",
      "source": [
        "# Find players who contributed in at least two categories.\n",
        "at_least_two = (\n",
        "    (run_scorers & wicket_takers) |\n",
        "    (run_scorers & catch_takers) |\n",
        "    (wicket_takers & catch_takers)\n",
        ")\n",
        "print(\"Players who contributed in at least 2 categories:\", at_least_two)"
      ],
      "metadata": {
        "colab": {
          "base_uri": "https://localhost:8080/"
        },
        "id": "9L08zvTVQK-w",
        "outputId": "17ac10d9-6529-4ad5-c2fd-ee9872137f28"
      },
      "execution_count": 33,
      "outputs": [
        {
          "output_type": "stream",
          "name": "stdout",
          "text": [
            "Players who contributed in at least 2 categories: {'Jadeja', 'Moeen', 'Ruturaj', 'Conway'}\n"
          ]
        }
      ]
    },
    {
      "cell_type": "code",
      "source": [
        "# Add new player 'Sameer Rizvi' to run_scorers and update stats.\n",
        "run_scorers.add(\"Sameer Rizvi\")\n",
        "print(\"Updated Run Scorers:\", run_scorers)"
      ],
      "metadata": {
        "colab": {
          "base_uri": "https://localhost:8080/"
        },
        "id": "mwLCQyltQLBY",
        "outputId": "c89ca45c-c352-4cbf-cc3a-b3bfe700e97c"
      },
      "execution_count": 34,
      "outputs": [
        {
          "output_type": "stream",
          "name": "stdout",
          "text": [
            "Updated Run Scorers: {'Shivam', 'Dhoni', 'Sameer Rizvi', 'Jadeja', 'Ruturaj', 'Moeen', 'Conway'}\n"
          ]
        }
      ]
    },
    {
      "cell_type": "code",
      "source": [
        "# Total unique contributors across all roles\n",
        "unique_contributors = run_scorers | wicket_takers | catch_takers\n",
        "print(\"Total unique players who contributed:\", unique_contributors)\n",
        "print(\"Total count:\", len(unique_contributors))"
      ],
      "metadata": {
        "colab": {
          "base_uri": "https://localhost:8080/"
        },
        "id": "bQfhKvdPQ2r-",
        "outputId": "89ece77f-33cb-4e8d-e595-3f1861941014"
      },
      "execution_count": 35,
      "outputs": [
        {
          "output_type": "stream",
          "name": "stdout",
          "text": [
            "Total unique players who contributed: {'Pathirana', 'Shivam', 'Rayudu', 'Santner', 'Moeen', 'Conway', 'Dhoni', 'Sameer Rizvi', 'Jadeja', 'Deepak', 'Ruturaj'}\n",
            "Total count: 11\n"
          ]
        }
      ]
    },
    {
      "cell_type": "code",
      "source": [
        "'''\n",
        "\"Build Your CSK Dream Team\"\n",
        "Scenario:\n",
        "You’re the chief selector for CSK's next big match. You have:\n",
        "Players who are available\n",
        "Players who are injured\n",
        "Players who are under BCCI contract (mandatory selection if available)\n",
        "\n",
        "Write a function that:\n",
        "Builds your final match squad based on availability and contracts\n",
        "Excludes injured players\n",
        "Prioritizes contracted players\n",
        "Ensures no duplicates and clear set logic\n",
        "'''"
      ],
      "metadata": {
        "id": "YUBUE4VoRMjM"
      },
      "execution_count": null,
      "outputs": []
    },
    {
      "cell_type": "code",
      "source": [
        "def build_csk_dream_team(available, injured, contracted):\n",
        "    \"\"\"\n",
        "    Constructs the final CSK team:\n",
        "    - Includes only available players\n",
        "    - Removes injured ones\n",
        "    - Prioritizes contracted players first\n",
        "    \"\"\"\n",
        "    # Step 1: Remove injured players from available pool\n",
        "    fit_players = available - injured\n",
        "\n",
        "    # Step 2: Pick all contracted players if they are fit\n",
        "    must_include = contracted & fit_players\n",
        "\n",
        "    # Step 3: Fill remaining from other fit players\n",
        "    others = fit_players - must_include\n",
        "\n",
        "    # Step 4: Final squad: contracted first, then fit others\n",
        "    final_squad = must_include | others\n",
        "\n",
        "    print(\"🔥 Final CSK Dream Team:\")\n",
        "    print(final_squad)\n",
        "    print(\"✅ Total Players:\", len(final_squad))\n",
        "    print(\"👑 Contracted Players Included:\", must_include)\n",
        "    print(\"🚑 Injured Players Skipped:\", injured & available)"
      ],
      "metadata": {
        "id": "rSlDVKFrRQIz"
      },
      "execution_count": 36,
      "outputs": []
    },
    {
      "cell_type": "code",
      "source": [
        "available = {\"Dhoni\", \"Ruturaj\", \"Jadeja\", \"Moeen\", \"Deepak\", \"Sameer\", \"Pathirana\", \"Chahar\", \"Rayudu\"}\n",
        "injured = {\"Chahar\", \"Rayudu\"}\n",
        "contracted = {\"Dhoni\", \"Jadeja\", \"Deepak\", \"Ruturaj\"}\n",
        "build_csk_dream_team(available, injured, contracted)"
      ],
      "metadata": {
        "colab": {
          "base_uri": "https://localhost:8080/"
        },
        "id": "PYdXPTadRSyz",
        "outputId": "6664f1c1-45b5-40b7-dd8c-de0f2415ced4"
      },
      "execution_count": 37,
      "outputs": [
        {
          "output_type": "stream",
          "name": "stdout",
          "text": [
            "🔥 Final CSK Dream Team:\n",
            "{'Pathirana', 'Dhoni', 'Deepak', 'Jadeja', 'Sameer', 'Moeen', 'Ruturaj'}\n",
            "✅ Total Players: 7\n",
            "👑 Contracted Players Included: {'Dhoni', 'Deepak', 'Ruturaj', 'Jadeja'}\n",
            "🚑 Injured Players Skipped: {'Chahar', 'Rayudu'}\n"
          ]
        }
      ]
    }
  ]
}