{
  "nbformat": 4,
  "nbformat_minor": 0,
  "metadata": {
    "colab": {
      "provenance": []
    },
    "kernelspec": {
      "name": "python3",
      "display_name": "Python 3"
    },
    "language_info": {
      "name": "python"
    }
  },
  "cells": [
    {
      "cell_type": "code",
      "source": [
        "#input\n",
        "a = input() # 7\n",
        "b = input() # 2\n",
        "c = a+b\n",
        "\n",
        "print(c, type(c)) #a) 9 b) something else\n",
        "\n",
        "# if you have chosen option b... what is that something else??"
      ],
      "metadata": {
        "colab": {
          "base_uri": "https://localhost:8080/"
        },
        "id": "gIS2zYZUYaoC",
        "outputId": "5ebdb7b6-8422-4247-f24e-ba316fa5976f"
      },
      "execution_count": 1,
      "outputs": [
        {
          "output_type": "stream",
          "name": "stdout",
          "text": [
            "7\n",
            "2\n",
            "72 <class 'str'>\n"
          ]
        }
      ]
    },
    {
      "cell_type": "code",
      "source": [
        "# input --> by default the datatype is string, so \"concatenation\"\n",
        "# Then for addition? Here it is!\n",
        "\n",
        "a = int(input()) # 7\n",
        "b = int(input())  # 2\n",
        "c = a+b #addition\n",
        "print(c, type(c))\n",
        "\n",
        "# We got it! BTW, type() helps us to find the datatype of the variable!"
      ],
      "metadata": {
        "colab": {
          "base_uri": "https://localhost:8080/"
        },
        "id": "gpR69ZThYaqg",
        "outputId": "a17376ca-6610-4ddd-aa33-de71578344ea"
      },
      "execution_count": 2,
      "outputs": [
        {
          "output_type": "stream",
          "name": "stdout",
          "text": [
            "7\n",
            "2\n",
            "9 <class 'int'>\n"
          ]
        }
      ]
    },
    {
      "cell_type": "code",
      "source": [
        "print(7 + 2) # addition\n",
        "print(\"7\" + \"2\") # str + str --> concatenation"
      ],
      "metadata": {
        "colab": {
          "base_uri": "https://localhost:8080/"
        },
        "id": "IipA4cOHYauA",
        "outputId": "e760de71-3c8e-4922-bda5-04f4083d56ae"
      },
      "execution_count": 3,
      "outputs": [
        {
          "output_type": "stream",
          "name": "stdout",
          "text": [
            "9\n",
            "72\n"
          ]
        }
      ]
    },
    {
      "cell_type": "code",
      "source": [
        "#ERROR\n",
        "print(\"7\" + 2)  #str + int"
      ],
      "metadata": {
        "colab": {
          "base_uri": "https://localhost:8080/",
          "height": 158
        },
        "id": "J36DXrnYYaxo",
        "outputId": "1e8781f3-c2b4-4edd-e836-e13d731aaae4"
      },
      "execution_count": 4,
      "outputs": [
        {
          "output_type": "error",
          "ename": "TypeError",
          "evalue": "can only concatenate str (not \"int\") to str",
          "traceback": [
            "\u001b[0;31m---------------------------------------------------------------------------\u001b[0m",
            "\u001b[0;31mTypeError\u001b[0m                                 Traceback (most recent call last)",
            "\u001b[0;32m<ipython-input-4-306846774290>\u001b[0m in \u001b[0;36m<cell line: 0>\u001b[0;34m()\u001b[0m\n\u001b[1;32m      1\u001b[0m \u001b[0;31m#ERROR\u001b[0m\u001b[0;34m\u001b[0m\u001b[0;34m\u001b[0m\u001b[0m\n\u001b[0;32m----> 2\u001b[0;31m \u001b[0mprint\u001b[0m\u001b[0;34m(\u001b[0m\u001b[0;34m\"7\"\u001b[0m \u001b[0;34m+\u001b[0m \u001b[0;36m2\u001b[0m\u001b[0;34m)\u001b[0m  \u001b[0;31m#str + int\u001b[0m\u001b[0;34m\u001b[0m\u001b[0;34m\u001b[0m\u001b[0m\n\u001b[0m",
            "\u001b[0;31mTypeError\u001b[0m: can only concatenate str (not \"int\") to str"
          ]
        }
      ]
    },
    {
      "cell_type": "code",
      "source": [
        "print(7 + \"2\")  #int + str"
      ],
      "metadata": {
        "colab": {
          "base_uri": "https://localhost:8080/",
          "height": 141
        },
        "id": "oRHgtaACYa0p",
        "outputId": "d826e180-43b9-49fe-dce2-9c9535bf8f0c"
      },
      "execution_count": 5,
      "outputs": [
        {
          "output_type": "error",
          "ename": "TypeError",
          "evalue": "unsupported operand type(s) for +: 'int' and 'str'",
          "traceback": [
            "\u001b[0;31m---------------------------------------------------------------------------\u001b[0m",
            "\u001b[0;31mTypeError\u001b[0m                                 Traceback (most recent call last)",
            "\u001b[0;32m<ipython-input-5-4f650052452a>\u001b[0m in \u001b[0;36m<cell line: 0>\u001b[0;34m()\u001b[0m\n\u001b[0;32m----> 1\u001b[0;31m \u001b[0mprint\u001b[0m\u001b[0;34m(\u001b[0m\u001b[0;36m7\u001b[0m \u001b[0;34m+\u001b[0m \u001b[0;34m\"2\"\u001b[0m\u001b[0;34m)\u001b[0m  \u001b[0;31m#int + str\u001b[0m\u001b[0;34m\u001b[0m\u001b[0;34m\u001b[0m\u001b[0m\n\u001b[0m",
            "\u001b[0;31mTypeError\u001b[0m: unsupported operand type(s) for +: 'int' and 'str'"
          ]
        }
      ]
    },
    {
      "cell_type": "code",
      "source": [
        "# An example with prompts in the input statement\n",
        "\n",
        "# Getting product details from the user\n",
        "name = input(\"Enter the product name: \")\n",
        "quantity = int(input(\"Enter quantity: \"))\n",
        "price = float(input(\"Enter price per item: \"))\n",
        "\n",
        "# Calculate total cost\n",
        "total = quantity * price\n",
        "\n",
        "# Display formatted receipt\n",
        "print(\"\\n--- Purchase Summary ---\")\n",
        "print(f\"Product        : {name}\")\n",
        "print(f\"Quantity       : {quantity}\")\n",
        "print(f\"Price per item : ₹{price:.2f}\") # for two decimal places..\n",
        "print(f\"Total Cost     : ₹{total:.2f}\")\n"
      ],
      "metadata": {
        "colab": {
          "base_uri": "https://localhost:8080/"
        },
        "id": "KQN4VygPYa3S",
        "outputId": "11594945-d35b-4e9e-dd59-1affe84f9235"
      },
      "execution_count": 6,
      "outputs": [
        {
          "output_type": "stream",
          "name": "stdout",
          "text": [
            "Enter the product name: Chocolate\n",
            "Enter quantity: 7\n",
            "Enter price per item: 25\n",
            "\n",
            "--- Purchase Summary ---\n",
            "Product        : Chocolate\n",
            "Quantity       : 7\n",
            "Price per item : ₹25.00\n",
            "Total Cost     : ₹175.00\n"
          ]
        }
      ]
    },
    {
      "cell_type": "code",
      "source": [
        "# multiple inputs\n",
        "nums = input(\"Enter two numbers separated by a space: \")\n",
        "a, b = nums.split()\n",
        "print(\"First number:\", a)\n",
        "print(\"Second number:\", b)\n",
        "# what do you think as the datatypes of a and b?"
      ],
      "metadata": {
        "colab": {
          "base_uri": "https://localhost:8080/"
        },
        "id": "vY62PE2KYa55",
        "outputId": "84c815b4-5d08-4ce5-8bfc-e7f6691035e1"
      },
      "execution_count": 7,
      "outputs": [
        {
          "output_type": "stream",
          "name": "stdout",
          "text": [
            "Enter two numbers separated by a space: 2025 -1\n",
            "First number: 2025\n",
            "Second number: -1\n"
          ]
        }
      ]
    },
    {
      "cell_type": "code",
      "source": [
        "print(type(a), type(b))\n",
        "#OMG! Strings... 🤔\n",
        "# ho to make them integers??"
      ],
      "metadata": {
        "colab": {
          "base_uri": "https://localhost:8080/"
        },
        "id": "dgiPOkeiYa8o",
        "outputId": "fa023d0c-0f65-49ce-918e-0672a7ae40ba"
      },
      "execution_count": 8,
      "outputs": [
        {
          "output_type": "stream",
          "name": "stdout",
          "text": [
            "<class 'str'> <class 'str'>\n"
          ]
        }
      ]
    },
    {
      "cell_type": "code",
      "source": [
        "# a higher order function - map()\n",
        "# We'll discuss in detail soon! But this will be useful for competitive programs...\n",
        "\n",
        "a, b = map(int, nums.split()) # converting each element to integer using map\n",
        "print(a,b)\n",
        "print(type(a), type(b))\n",
        "#Yes... it is working!"
      ],
      "metadata": {
        "colab": {
          "base_uri": "https://localhost:8080/"
        },
        "id": "yC0yROWMYa_Z",
        "outputId": "47926b95-4818-46ac-ccaa-075cadae498e"
      },
      "execution_count": 9,
      "outputs": [
        {
          "output_type": "stream",
          "name": "stdout",
          "text": [
            "2025 -1\n",
            "<class 'int'> <class 'int'>\n"
          ]
        }
      ]
    },
    {
      "cell_type": "code",
      "source": [
        "# to evaluate an expression in input\n",
        "exp = float(eval(input(\"Enter an expression: \")))\n",
        "print(exp)"
      ],
      "metadata": {
        "colab": {
          "base_uri": "https://localhost:8080/"
        },
        "id": "g4s60gXlYbCA",
        "outputId": "070f7725-5b5f-4a6e-8f55-47f8f1fb16d1"
      },
      "execution_count": 10,
      "outputs": [
        {
          "output_type": "stream",
          "name": "stdout",
          "text": [
            "Enter an expression: 100 + (2*3) / 5\n",
            "101.2\n"
          ]
        }
      ]
    },
    {
      "cell_type": "code",
      "source": [
        "# What happens if you do int(\"101.2\")?\n",
        "print(int(101.2)) # truncated!!"
      ],
      "metadata": {
        "colab": {
          "base_uri": "https://localhost:8080/"
        },
        "id": "8azue6y8YbEo",
        "outputId": "7662c53b-d86f-4bd2-bd29-2ff9284f4158"
      },
      "execution_count": 11,
      "outputs": [
        {
          "output_type": "stream",
          "name": "stdout",
          "text": [
            "101\n"
          ]
        }
      ]
    },
    {
      "cell_type": "code",
      "source": [
        "# Convert string to boolean: \"True\" → True\n",
        "print(bool(\"True\"))\n",
        "print(type(\"True\"), type(True))"
      ],
      "metadata": {
        "colab": {
          "base_uri": "https://localhost:8080/"
        },
        "id": "gFrBM5sBYbIg",
        "outputId": "356e69d1-81b1-4b71-fb0f-9e7e61a7daf0"
      },
      "execution_count": 12,
      "outputs": [
        {
          "output_type": "stream",
          "name": "stdout",
          "text": [
            "True\n",
            "<class 'str'> <class 'bool'>\n"
          ]
        }
      ]
    },
    {
      "cell_type": "code",
      "source": [
        "# one last topic, with repetition\n",
        "# What is the output of 3 * '7'?\n",
        "print(7 * 3) # multiplication\n",
        "\n",
        "print(\"7\" * 3) # repetition; 7 is repeated 3 times\n",
        "print(7 * \"3\") # repetition ; 3 is repeated 7 times"
      ],
      "metadata": {
        "colab": {
          "base_uri": "https://localhost:8080/"
        },
        "id": "w_HC0pSNYbLo",
        "outputId": "7a28902f-270e-4303-d58e-0151f6a2f7db"
      },
      "execution_count": 13,
      "outputs": [
        {
          "output_type": "stream",
          "name": "stdout",
          "text": [
            "21\n",
            "777\n",
            "3333333\n"
          ]
        }
      ]
    },
    {
      "cell_type": "code",
      "source": [
        "# what error in repetition then ? str * str\n",
        "print(\"7\" * \"3\")"
      ],
      "metadata": {
        "colab": {
          "base_uri": "https://localhost:8080/",
          "height": 158
        },
        "id": "DaKnuBXthDhZ",
        "outputId": "e615f3d0-034d-4da5-aa78-ad57e89fa588"
      },
      "execution_count": 14,
      "outputs": [
        {
          "output_type": "error",
          "ename": "TypeError",
          "evalue": "can't multiply sequence by non-int of type 'str'",
          "traceback": [
            "\u001b[0;31m---------------------------------------------------------------------------\u001b[0m",
            "\u001b[0;31mTypeError\u001b[0m                                 Traceback (most recent call last)",
            "\u001b[0;32m<ipython-input-14-8c44a0235ae4>\u001b[0m in \u001b[0;36m<cell line: 0>\u001b[0;34m()\u001b[0m\n\u001b[1;32m      1\u001b[0m \u001b[0;31m# what error in repetition then ? str * str\u001b[0m\u001b[0;34m\u001b[0m\u001b[0;34m\u001b[0m\u001b[0m\n\u001b[0;32m----> 2\u001b[0;31m \u001b[0mprint\u001b[0m\u001b[0;34m(\u001b[0m\u001b[0;34m\"7\"\u001b[0m \u001b[0;34m*\u001b[0m \u001b[0;34m\"3\"\u001b[0m\u001b[0;34m)\u001b[0m\u001b[0;34m\u001b[0m\u001b[0;34m\u001b[0m\u001b[0m\n\u001b[0m",
            "\u001b[0;31mTypeError\u001b[0m: can't multiply sequence by non-int of type 'str'"
          ]
        }
      ]
    },
    {
      "cell_type": "code",
      "source": [
        "# Invitation to enjoy Python! :)\n",
        "# usage of input and f-strings!\n",
        "\n",
        "name = input(\"Enter your name: \")\n",
        "friend = input(\"Enter your friend's name: \")\n",
        "blog = input(\"Enter the blog name: \")\n",
        "start_date = input(\"Enter the learning start date: \")\n",
        "\n",
        "print(f\"\"\"\n",
        "Hi {friend}! 👋\n",
        "\n",
        "You're invited to start an exciting journey of learning Python 📚💻 with {name}!\n",
        "\n",
        "📖 Blog: {blog}\n",
        "🚀 Start Date: {start_date}\n",
        "\n",
        "From basic inputs to cool applications — let's grow together and have fun coding!\n",
        "\n",
        "See you there,\n",
        "{name}\n",
        "\"\"\")\n"
      ],
      "metadata": {
        "colab": {
          "base_uri": "https://localhost:8080/"
        },
        "id": "Ru-Fh6YNhDsC",
        "outputId": "3a074f9c-0309-4889-f0fe-cd29e5d67df4"
      },
      "execution_count": 18,
      "outputs": [
        {
          "output_type": "stream",
          "name": "stdout",
          "text": [
            "Enter your name: ABC\n",
            "Enter your friend's name: XYZ\n",
            "Enter the blog name: https://mastercodingfromscratch.blogspot.com/\n",
            "Enter the learning start date: Today!\n",
            "\n",
            "Hi XYZ! 👋\n",
            "\n",
            "You're invited to start an exciting journey of learning Python 📚💻 with ABC!\n",
            "\n",
            "📖 Blog: https://mastercodingfromscratch.blogspot.com/\n",
            "🚀 Start Date: Today!\n",
            "\n",
            "From basic inputs to cool applications — let's grow together and have fun coding!\n",
            "\n",
            "See you there,\n",
            "ABC\n",
            "\n"
          ]
        }
      ]
    }
  ]
}