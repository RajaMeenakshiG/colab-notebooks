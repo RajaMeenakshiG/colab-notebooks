{
  "nbformat": 4,
  "nbformat_minor": 0,
  "metadata": {
    "colab": {
      "provenance": []
    },
    "kernelspec": {
      "name": "python3",
      "display_name": "Python 3"
    },
    "language_info": {
      "name": "python"
    }
  },
  "cells": [
    {
      "cell_type": "code",
      "source": [
        "'''\n",
        "What is Recursion?\n",
        "Recursion happens when a function calls itself to solve smaller parts of a problem.\n",
        "\n",
        "It's like breaking down a big task into tiny, repeatable tasks.\n",
        "Think about a Russian Doll 🪆 — open the big doll, there's a smaller one inside, and you repeat until you reach the tiniest one.\n",
        "\n",
        "Key Parts of Recursion:\n",
        "Base Case:\n",
        "It stops the recursion.\n",
        "Without it, the function would call itself forever! (leading to an error)\n",
        "\n",
        "Recursive Case:\n",
        "The part where the function calls itself to move toward the base case.\n",
        "\n",
        "Recursion can sometimes be less efficient (uses more memory) compared to loops.\n",
        "Python limits recursion depth to prevent infinite loops (RecursionError).\n",
        "'''"
      ],
      "metadata": {
        "id": "_fp6SbbSl6Rz"
      },
      "execution_count": null,
      "outputs": []
    },
    {
      "cell_type": "code",
      "source": [
        "import sys\n",
        "print(sys.getrecursionlimit())"
      ],
      "metadata": {
        "colab": {
          "base_uri": "https://localhost:8080/"
        },
        "id": "LnPHUeWPnjYh",
        "outputId": "61b9df1a-c08d-4b4c-99cc-9c74a529ac49"
      },
      "execution_count": 1,
      "outputs": [
        {
          "output_type": "stream",
          "name": "stdout",
          "text": [
            "1000\n"
          ]
        }
      ]
    },
    {
      "cell_type": "code",
      "source": [
        "# Program 1 - Factorial\n",
        "def factorial(n):\n",
        "    if n == 1:            # Base case\n",
        "        return 1\n",
        "    else:\n",
        "        return n * factorial(n - 1)   # Recursive case\n",
        "\n",
        "print(factorial(5))"
      ],
      "metadata": {
        "colab": {
          "base_uri": "https://localhost:8080/"
        },
        "id": "MLLk-4dHl6UL",
        "outputId": "3df6fb57-d418-44db-e088-46b165ad6153"
      },
      "execution_count": 2,
      "outputs": [
        {
          "output_type": "stream",
          "name": "stdout",
          "text": [
            "120\n"
          ]
        }
      ]
    },
    {
      "cell_type": "code",
      "source": [
        "'''\n",
        "5 --> 5 == 1? (False) --> 5 * factorial(5 - 1)\n",
        "                      --> 5 * factorial(4)\n",
        "\n",
        "        4 --> 4 == 1? (False) --> 4 * factorial(4 - 1)\n",
        "                              --> 4 * factorial(3)\n",
        "\n",
        "            3 --> 3 == 1? (False) --> 3 * factorial(3 - 1)\n",
        "                                  --> 3 * factorial(2)\n",
        "\n",
        "                2 --> 2 == 1? (False) --> 2 * factorial(2 - 1)\n",
        "                                      --> 2 * factorial(1)\n",
        "\n",
        "                    1 --> 1 == 1? (True) --> [1]\n",
        "\n",
        "                2 --> 2 * 1 = [2]\n",
        "\n",
        "            3 --> 3 * 2 = [6]\n",
        "\n",
        "        4 --> 4 * 6 = [24]\n",
        "\n",
        "5 --> 5 * 24 = [120]\n",
        "'''"
      ],
      "metadata": {
        "id": "7d_PVME8l6W1"
      },
      "execution_count": null,
      "outputs": []
    },
    {
      "cell_type": "code",
      "source": [
        "# Program 2 - Fibonacci\n",
        "def fibonacci(n):\n",
        "    if n == 0:   # Base case 1\n",
        "        return 0\n",
        "    elif n == 1:  # Base case 2\n",
        "        return 1\n",
        "    else:\n",
        "        return fibonacci(n-1) + fibonacci(n-2)   # Recursive call\n",
        "\n",
        "print(fibonacci(9))"
      ],
      "metadata": {
        "colab": {
          "base_uri": "https://localhost:8080/"
        },
        "id": "EdL89kwVl6br",
        "outputId": "eac185d9-670a-4c03-ce63-3dc92772797a"
      },
      "execution_count": 3,
      "outputs": [
        {
          "output_type": "stream",
          "name": "stdout",
          "text": [
            "34\n"
          ]
        }
      ]
    },
    {
      "cell_type": "code",
      "source": [
        "'''\n",
        "9 --> 9 == 0/1? (False) --> fibonacci(8) + fibonacci(7)\n",
        "\n",
        "    8 --> 8 == 0/1? (False) --> fibonacci(7) + fibonacci(6)\n",
        "\n",
        "        7 --> 7 == 0/1? (False) --> fibonacci(6) + fibonacci(5)\n",
        "\n",
        "            6 --> 6 == 0/1? (False) --> fibonacci(5) + fibonacci(4)\n",
        "\n",
        "                5 --> 5 == 0/1? (False) --> fibonacci(4) + fibonacci(3)\n",
        "\n",
        "                    4 --> 4 == 0/1? (False) --> fibonacci(3) + fibonacci(2)\n",
        "\n",
        "                        3 --> 3 == 0/1? (False) --> fibonacci(2) + fibonacci(1)\n",
        "\n",
        "                            2 --> 2 == 0/1? (False) --> fibonacci(1) + fibonacci(0)\n",
        "\n",
        "                                1 --> (True) --> [1]\n",
        "                                0 --> (True) --> [0]\n",
        "\n",
        "                            2 --> 1 + 0 = [1]\n",
        "\n",
        "                        1 --> (True) --> [1]\n",
        "\n",
        "                    3 --> 1 + 1 = [2]\n",
        "\n",
        "                    2 --> 2 == 0/1? (False) --> fibonacci(1) + fibonacci(0)\n",
        "\n",
        "                        1 --> (True) --> [1]\n",
        "                        0 --> (True) --> [0]\n",
        "\n",
        "                    2 --> 1 + 0 = [1]\n",
        "\n",
        "                4 --> 2 + 1 = [3]\n",
        "\n",
        "                3 --> 3 == 0/1? (False) --> fibonacci(2) + fibonacci(1)\n",
        "\n",
        "                    2 --> fibonacci(1) + fibonacci(0)\n",
        "                        1 --> (True) --> [1]\n",
        "                        0 --> (True) --> [0]\n",
        "                    2 --> 1 + 0 = [1]\n",
        "\n",
        "                    1 --> (True) --> [1]\n",
        "\n",
        "                3 --> 1 + 1 = [2]\n",
        "\n",
        "            5 --> 3 + 2 = [5]\n",
        "\n",
        "            4 --> already done above → [3]\n",
        "\n",
        "        6 --> 5 + 3 = [8]\n",
        "\n",
        "        5 --> already done above → [5]\n",
        "\n",
        "    7 --> 8 + 5 = [13]\n",
        "\n",
        "    6 --> already done above → [8]\n",
        "\n",
        "8 --> 13 + 8 = [21]\n",
        "\n",
        "    7 --> already done above → [13]\n",
        "\n",
        "9 --> 21 + 13 = [34]\n",
        "\n",
        "'''"
      ],
      "metadata": {
        "id": "c_SuU4gnl6d6"
      },
      "execution_count": null,
      "outputs": []
    },
    {
      "cell_type": "code",
      "source": [
        "# Program 3 - Sum of the Digits\n",
        "def sum_of_digits(n):\n",
        "    if n == 0:\n",
        "        return 0\n",
        "    else:\n",
        "        return n % 10 + sum_of_digits(n // 10)\n",
        "\n",
        "print(sum_of_digits(1234))"
      ],
      "metadata": {
        "colab": {
          "base_uri": "https://localhost:8080/"
        },
        "id": "bqL7MM7yl6gL",
        "outputId": "a41c5e28-6e22-4c45-dcdb-075dee6ede23"
      },
      "execution_count": 4,
      "outputs": [
        {
          "output_type": "stream",
          "name": "stdout",
          "text": [
            "10\n"
          ]
        }
      ]
    },
    {
      "cell_type": "code",
      "source": [
        "'''\n",
        "1234 --> 1234 == 0? (False) --> 1234 % 10 + sum_of_digits(1234 // 10)\n",
        "                --> 4 + sum_of_digits(123)\n",
        "\n",
        "        123 --> 123 == 0? (False) --> 123 % 10 + sum_of_digits(123 // 10)\n",
        "                        --> 3 + sum_of_digits(12)\n",
        "\n",
        "            12 --> 12 == 0? (False) --> 12 % 10 + sum_of_digits(12 // 10)\n",
        "                            --> 2 + sum_of_digits(1)\n",
        "\n",
        "                1 --> 1 == 0? (False) --> 1 % 10 + sum_of_digits(1 // 10)\n",
        "                                --> 1 + sum_of_digits(0)\n",
        "\n",
        "                    0 --> 0 == 0? (True) --> [0]\n",
        "\n",
        "                1 --> 1 + 0 = [1]\n",
        "\n",
        "            12 --> 2 + 1 = [3]\n",
        "\n",
        "        123 --> 3 + 3 = [6]\n",
        "\n",
        "1234 --> 4 + 6 = [10]\n",
        "'''"
      ],
      "metadata": {
        "id": "7Hvk28I_l6iq"
      },
      "execution_count": null,
      "outputs": []
    },
    {
      "cell_type": "code",
      "source": [
        "# Program 4 - Reverse a String\n",
        "def reverse_string(s):\n",
        "    if s == \"\":\n",
        "        return \"\"\n",
        "    else:\n",
        "        return reverse_string(s[1:]) + s[0]\n",
        "\n",
        "print(reverse_string(\"Python\"))"
      ],
      "metadata": {
        "colab": {
          "base_uri": "https://localhost:8080/"
        },
        "id": "tYMItCwHl6lE",
        "outputId": "5ec462d7-6820-43d5-c157-fcd0aaf3f2fc"
      },
      "execution_count": 5,
      "outputs": [
        {
          "output_type": "stream",
          "name": "stdout",
          "text": [
            "nohtyP\n"
          ]
        }
      ]
    },
    {
      "cell_type": "code",
      "source": [
        "# Program 5 - Generate All Subsets (Power Set)\n",
        "def power_set(nums, index=0, current=[]):\n",
        "    if index == len(nums):\n",
        "        print(current)\n",
        "        return\n",
        "    # Include current element\n",
        "    power_set(nums, index+1, current + [nums[index]])\n",
        "    # Exclude current element\n",
        "    power_set(nums, index+1, current)\n",
        "\n",
        "nums = [1, 2, 3] # We'll discuss Lists soon ...\n",
        "power_set(nums)\n"
      ],
      "metadata": {
        "colab": {
          "base_uri": "https://localhost:8080/"
        },
        "id": "ksSu7rJkqye9",
        "outputId": "97575e55-8d29-4a0a-84df-29f6edd409ba"
      },
      "execution_count": 6,
      "outputs": [
        {
          "output_type": "stream",
          "name": "stdout",
          "text": [
            "[1, 2, 3]\n",
            "[1, 2]\n",
            "[1, 3]\n",
            "[1]\n",
            "[2, 3]\n",
            "[2]\n",
            "[3]\n",
            "[]\n"
          ]
        }
      ]
    },
    {
      "cell_type": "code",
      "source": [
        "# Program 6 - Permutations of a String\n",
        "def permute(s, l, r):\n",
        "    if l == r:\n",
        "        print(\"\".join(s))\n",
        "    else:\n",
        "        for i in range(l, r+1):\n",
        "            s[l], s[i] = s[i], s[l]\n",
        "            permute(s, l+1, r)\n",
        "            s[l], s[i] = s[i], s[l]  # backtrack\n",
        "\n",
        "string = \"ABC\"\n",
        "permute(list(string), 0, len(string)-1)\n"
      ],
      "metadata": {
        "colab": {
          "base_uri": "https://localhost:8080/"
        },
        "id": "prCauP0YqycV",
        "outputId": "a665c20a-1ad3-473c-b1ee-ee4993e28671"
      },
      "execution_count": 7,
      "outputs": [
        {
          "output_type": "stream",
          "name": "stdout",
          "text": [
            "ABC\n",
            "ACB\n",
            "BAC\n",
            "BCA\n",
            "CBA\n",
            "CAB\n"
          ]
        }
      ]
    },
    {
      "cell_type": "code",
      "source": [
        "# Program 7 - Find All Combinations of a Sum\n",
        "def find_combinations(arr, target, start=0, current=[]):\n",
        "    if target == 0:\n",
        "        print(current)\n",
        "        return\n",
        "    for i in range(start, len(arr)):\n",
        "        if arr[i] <= target:\n",
        "            find_combinations(arr, target - arr[i], i, current + [arr[i]])\n",
        "\n",
        "arr = [1, 2, 3, 4, 5, 6, 7]\n",
        "target = 7\n",
        "find_combinations(arr, target)"
      ],
      "metadata": {
        "colab": {
          "base_uri": "https://localhost:8080/"
        },
        "id": "YtI33-p4qyhl",
        "outputId": "bfbd222e-a085-4a87-d4ca-e6ceaab7d9b9"
      },
      "execution_count": 8,
      "outputs": [
        {
          "output_type": "stream",
          "name": "stdout",
          "text": [
            "[1, 1, 1, 1, 1, 1, 1]\n",
            "[1, 1, 1, 1, 1, 2]\n",
            "[1, 1, 1, 1, 3]\n",
            "[1, 1, 1, 2, 2]\n",
            "[1, 1, 1, 4]\n",
            "[1, 1, 2, 3]\n",
            "[1, 1, 5]\n",
            "[1, 2, 2, 2]\n",
            "[1, 2, 4]\n",
            "[1, 3, 3]\n",
            "[1, 6]\n",
            "[2, 2, 3]\n",
            "[2, 5]\n",
            "[3, 4]\n",
            "[7]\n"
          ]
        }
      ]
    },
    {
      "cell_type": "code",
      "source": [
        "# APPLICATION - Tower of Hanoi\n",
        "'''\n",
        "The Tower of Hanoi problem works recursively by reducing the size of the problem (moving smaller disks)\n",
        "until you reach the base case (moving the smallest disk). Once the smallest disk is placed correctly,\n",
        "the larger disks are placed by moving them step-by-step.\n",
        "'''\n",
        "def tower_of_hanoi(n, source, destination, auxiliary):\n",
        "    if n == 1:\n",
        "        print(f\"Move disk 1 from {source} to {destination}\")\n",
        "        return\n",
        "    tower_of_hanoi(n-1, source, auxiliary, destination)\n",
        "    print(f\"Move disk {n} from {source} to {destination}\")\n",
        "    tower_of_hanoi(n-1, auxiliary, destination, source)\n",
        "\n",
        "tower_of_hanoi(3, 'A', 'C', 'B')"
      ],
      "metadata": {
        "colab": {
          "base_uri": "https://localhost:8080/"
        },
        "id": "lZnVobk9l6nM",
        "outputId": "21f7a7ad-58dd-4be6-e8a2-2fdeb3e2d6a4"
      },
      "execution_count": 9,
      "outputs": [
        {
          "output_type": "stream",
          "name": "stdout",
          "text": [
            "Move disk 1 from A to C\n",
            "Move disk 2 from A to B\n",
            "Move disk 1 from C to B\n",
            "Move disk 3 from A to C\n",
            "Move disk 1 from B to A\n",
            "Move disk 2 from B to C\n",
            "Move disk 1 from A to C\n"
          ]
        }
      ]
    },
    {
      "cell_type": "code",
      "source": [
        "'''\n",
        "First Call: tower_of_hanoi(3, 'A', 'C', 'B')\n",
        "This call doesn't meet the base case (n != 1), so it calls the recursive step.\n",
        "It first calls tower_of_hanoi(2, 'A', 'B', 'C') to move the first two disks from A to B using C as auxiliary.\n",
        "\n",
        "Second Call: tower_of_hanoi(2, 'A', 'B', 'C')\n",
        "It calls tower_of_hanoi(1, 'A', 'C', 'B') to move disk 1 from A to C using B as auxiliary.\n",
        "\n",
        "Third Call: tower_of_hanoi(1, 'A', 'C', 'B')\n",
        "Base case: Move disk 1 from A to C.\n",
        "Action: Move disk 1 from A to C.\n",
        "\n",
        "Back to Second Call (tower_of_hanoi(2, 'A', 'B', 'C')):\n",
        "Now that the top disk is moved, it moves the second disk (disk 2) from A to B.\n",
        "Action: Move disk 2 from A to B.\n",
        "\n",
        "Back to Second Call (tower_of_hanoi(2, 'A', 'B', 'C')):\n",
        "It now calls tower_of_hanoi(1, 'C', 'B', 'A') to move disk 1 from C to B using A as auxiliary.\n",
        "\n",
        "Fourth Call: tower_of_hanoi(1, 'C', 'B', 'A')\n",
        "Base case: Move disk 1 from C to B.\n",
        "Action: Move disk 1 from C to B.\n",
        "\n",
        "Back to First Call (tower_of_hanoi(3, 'A', 'C', 'B')):\n",
        "Now that the top two disks are moved to B, it moves the third disk (disk 3) from A to C.\n",
        "Action: Move disk 3 from A to C.\n",
        "\n",
        "Back to First Call (tower_of_hanoi(3, 'A', 'C', 'B')):\n",
        "Now it calls tower_of_hanoi(2, 'B', 'C', 'A') to move the two disks from B to C using A as auxiliary.\n",
        "\n",
        "Fifth Call: tower_of_hanoi(2, 'B', 'C', 'A')\n",
        "It calls tower_of_hanoi(1, 'B', 'A', 'C') to move disk 1 from B to A using C as auxiliary.\n",
        "\n",
        "Sixth Call: tower_of_hanoi(1, 'B', 'A', 'C')\n",
        "Base case: Move disk 1 from B to A.\n",
        "Action: Move disk 1 from B to A.\n",
        "\n",
        "Back to Fifth Call (tower_of_hanoi(2, 'B', 'C', 'A')):\n",
        "Now that the top disk is moved, it moves the second disk (disk 2) from B to C.\n",
        "Action: Move disk 2 from B to C.\n",
        "\n",
        "Back to Fifth Call (tower_of_hanoi(2, 'B', 'C', 'A')):\n",
        "Now it calls tower_of_hanoi(1, 'A', 'C', 'B') to move disk 1 from A to C using B as auxiliary.\n",
        "\n",
        "Seventh Call: tower_of_hanoi(1, 'A', 'C', 'B')\n",
        "Base case: Move disk 1 from A to C.\n",
        "Action: Move disk 1 from A to C.\n",
        "\n",
        "Final Output:\n",
        "The disk moves performed will be as follows:\n",
        "Move disk 1 from A to C\n",
        "Move disk 2 from A to B\n",
        "Move disk 1 from C to B\n",
        "Move disk 3 from A to C\n",
        "Move disk 1 from B to A\n",
        "Move disk 2 from B to C\n",
        "Move disk 1 from A to C\n",
        "'''"
      ],
      "metadata": {
        "id": "QdR1aRjAt2hz"
      },
      "execution_count": null,
      "outputs": []
    }
  ]
}