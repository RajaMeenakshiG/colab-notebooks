{
  "nbformat": 4,
  "nbformat_minor": 0,
  "metadata": {
    "colab": {
      "provenance": []
    },
    "kernelspec": {
      "name": "python3",
      "display_name": "Python 3"
    },
    "language_info": {
      "name": "python"
    }
  },
  "cells": [
    {
      "cell_type": "code",
      "source": [
        "'''\n",
        "What is \"Scope\"?\n",
        "Scope means where a variable is accessible inside your program.\n",
        "\n",
        "There are mainly two types inside functions:\n",
        "Local Scope — variables created inside a function.\n",
        "Global Scope — variables created outside any function.\n",
        "'''"
      ],
      "metadata": {
        "id": "b1qhoR46NN5K"
      },
      "execution_count": null,
      "outputs": []
    },
    {
      "cell_type": "code",
      "source": [
        "'''\n",
        "1. Local Variables (inside function)\n",
        "If you create a variable inside a function, it belongs only to that function.\n",
        "It cannot be accessed outside.\n",
        "\n",
        "2. Global Variables (outside any function)\n",
        "Variables defined outside all functions are global — they can be used anywhere (inside or outside functions).\n",
        "'''"
      ],
      "metadata": {
        "id": "8mIpa_8ZNN2O"
      },
      "execution_count": null,
      "outputs": []
    },
    {
      "cell_type": "code",
      "source": [
        "# Local Variable\n",
        "def greet():\n",
        "    name = \"Ziva\"\n",
        "    print(\"Hello\", name)\n",
        "\n",
        "greet()"
      ],
      "metadata": {
        "colab": {
          "base_uri": "https://localhost:8080/"
        },
        "id": "hHOykLRzNN7w",
        "outputId": "c1a2209b-538f-4ccf-8e1e-511f700c24dd"
      },
      "execution_count": 1,
      "outputs": [
        {
          "output_type": "stream",
          "name": "stdout",
          "text": [
            "Hello Ziva\n"
          ]
        }
      ]
    },
    {
      "cell_type": "code",
      "source": [
        "print(name)  # This would give an error: 'name' is not defined"
      ],
      "metadata": {
        "colab": {
          "base_uri": "https://localhost:8080/",
          "height": 141
        },
        "id": "-DxdD6rtOBLe",
        "outputId": "d0781e3e-d9d6-4787-e9e0-a90968c01fd9"
      },
      "execution_count": 2,
      "outputs": [
        {
          "output_type": "error",
          "ename": "NameError",
          "evalue": "name 'name' is not defined",
          "traceback": [
            "\u001b[0;31m---------------------------------------------------------------------------\u001b[0m",
            "\u001b[0;31mNameError\u001b[0m                                 Traceback (most recent call last)",
            "\u001b[0;32m<ipython-input-2-6dc85199c43e>\u001b[0m in \u001b[0;36m<cell line: 0>\u001b[0;34m()\u001b[0m\n\u001b[0;32m----> 1\u001b[0;31m \u001b[0mprint\u001b[0m\u001b[0;34m(\u001b[0m\u001b[0mname\u001b[0m\u001b[0;34m)\u001b[0m  \u001b[0;31m# This would give an error: 'name' is not defined\u001b[0m\u001b[0;34m\u001b[0m\u001b[0;34m\u001b[0m\u001b[0m\n\u001b[0m",
            "\u001b[0;31mNameError\u001b[0m: name 'name' is not defined"
          ]
        }
      ]
    },
    {
      "cell_type": "code",
      "source": [
        "# Global Variable\n",
        "message = \"Be Cool!\"\n",
        "\n",
        "def wish():\n",
        "    print(message)  # Accessing global variable inside function\n",
        "\n",
        "wish()\n",
        "print(message)  # Accessing global variable outside function"
      ],
      "metadata": {
        "colab": {
          "base_uri": "https://localhost:8080/"
        },
        "id": "0W8NFSfdOERP",
        "outputId": "546d0578-abf4-4f72-8c3b-f74ac10d3fa3"
      },
      "execution_count": 3,
      "outputs": [
        {
          "output_type": "stream",
          "name": "stdout",
          "text": [
            "Be Cool!\n",
            "Be Cool!\n"
          ]
        }
      ]
    },
    {
      "cell_type": "code",
      "source": [
        "'''\n",
        "Modifying Global Variables inside Function\n",
        "If you want to change a global variable inside a function, you must use the global keyword.\n",
        "'''"
      ],
      "metadata": {
        "id": "RSW4o1-KNN-c"
      },
      "execution_count": null,
      "outputs": []
    },
    {
      "cell_type": "code",
      "source": [
        "count = 0\n",
        "\n",
        "def increment():\n",
        "    global count\n",
        "    count += 1\n",
        "    print(\"The value of count is\",count)\n",
        "\n",
        "for i in range(7):\n",
        "  increment()\n",
        "print(\"\\nFinal Value:\",count)"
      ],
      "metadata": {
        "colab": {
          "base_uri": "https://localhost:8080/"
        },
        "id": "7sWTE539NOBQ",
        "outputId": "1587ed1f-9044-422e-c0ef-3fb4bc63e073"
      },
      "execution_count": 4,
      "outputs": [
        {
          "output_type": "stream",
          "name": "stdout",
          "text": [
            "The value of count is 1\n",
            "The value of count is 2\n",
            "The value of count is 3\n",
            "The value of count is 4\n",
            "The value of count is 5\n",
            "The value of count is 6\n",
            "The value of count is 7\n",
            "\n",
            "Final Value: 7\n"
          ]
        }
      ]
    },
    {
      "cell_type": "code",
      "source": [
        "'''\n",
        "Enclosing (Nonlocal) Variables\n",
        "If you have nested functions (function inside a function), you can use nonlocal to modify a variable from the outer function.\n",
        "'''"
      ],
      "metadata": {
        "id": "CYwVhAQjNOFC"
      },
      "execution_count": null,
      "outputs": []
    },
    {
      "cell_type": "code",
      "source": [
        "def outer():\n",
        "    x = \"outer value\"\n",
        "\n",
        "    def inner():\n",
        "        nonlocal x\n",
        "        x = \"changed by inner\"\n",
        "\n",
        "    inner()\n",
        "    print(x)\n",
        "\n",
        "outer()"
      ],
      "metadata": {
        "id": "sgZDsAMMNOHQ",
        "colab": {
          "base_uri": "https://localhost:8080/"
        },
        "outputId": "421249fb-55b9-4e1c-f75f-fb6d1982e6a3"
      },
      "execution_count": 5,
      "outputs": [
        {
          "output_type": "stream",
          "name": "stdout",
          "text": [
            "changed by inner\n"
          ]
        }
      ]
    },
    {
      "cell_type": "code",
      "source": [
        "'''\n",
        "Type of Variable    |    Where defined        |    Accessed where         |    Keyword to modify\n",
        "-------------------------------------------------------------------------------------------------\n",
        "Local               | Inside function         | Only inside that function | No keyword needed\n",
        "Global              | Outside functions       | Everywhere                | global\n",
        "Nonlocal            | Inside nested functions | In the enclosing function | nonlocal\n",
        "\n",
        "\n",
        "In Short:\n",
        "global → talking to outside world\n",
        "local → talking to own world\n",
        "nonlocal → talking to neighbor's world (enclosed function)\n",
        "'''"
      ],
      "metadata": {
        "id": "MkTb8GKJNOJg"
      },
      "execution_count": null,
      "outputs": []
    },
    {
      "cell_type": "code",
      "source": [
        "# Example\n",
        "# Global variable\n",
        "total_burgers = 50\n",
        "\n",
        "def kitchen_section():\n",
        "    # Local variable\n",
        "    section_burgers = 25\n",
        "    print(f\"Section has {section_burgers} burgers.\")\n",
        "\n",
        "    def make_burgers(count):\n",
        "        nonlocal section_burgers\n",
        "        section_burgers += count\n",
        "        print(f\"Made {count} burgers in kitchen. Section now has {section_burgers} burgers.\")\n",
        "\n",
        "    def move_burgers_to_counter(count):\n",
        "        nonlocal section_burgers\n",
        "        global total_burgers\n",
        "        if count <= section_burgers:\n",
        "            section_burgers -= count\n",
        "            total_burgers += count\n",
        "            print(f\"Moved {count} burgers to main counter. Total burgers now: {total_burgers}\")\n",
        "        else:\n",
        "            print(\"Not enough burgers in kitchen to move.\")\n",
        "\n",
        "    def summary():\n",
        "        print(f\"Kitchen Section Burgers: {section_burgers}\")\n",
        "        print(f\"Restaurant Total Burgers: {total_burgers}\")\n",
        "\n",
        "    return make_burgers, move_burgers_to_counter, summary\n",
        "\n",
        "make, move, show = kitchen_section()\n",
        "\n",
        "make(20)\n",
        "move(15)\n",
        "show()\n"
      ],
      "metadata": {
        "id": "vUqrJLkvNOQk",
        "colab": {
          "base_uri": "https://localhost:8080/"
        },
        "outputId": "824a906b-d188-452a-e389-71e8c0c98381"
      },
      "execution_count": 6,
      "outputs": [
        {
          "output_type": "stream",
          "name": "stdout",
          "text": [
            "Section has 25 burgers.\n",
            "Made 20 burgers in kitchen. Section now has 45 burgers.\n",
            "Moved 15 burgers to main counter. Total burgers now: 65\n",
            "Kitchen Section Burgers: 30\n",
            "Restaurant Total Burgers: 65\n"
          ]
        }
      ]
    },
    {
      "cell_type": "code",
      "source": [
        "'''\n",
        "  Point           |                     Why it Matters\n",
        "global keyword    |   Needed to modify a global variable inside a function. Otherwise, Python would create a new local variable named total_burgers inside the function.\n",
        "nonlocal keyword  |   Needed to modify an outer function's variable (like section_burgers) from a nested function. Otherwise, a new local copy would be created.\n",
        "Local variables   |   Are private to the function in which they are declared. Without return or nonlocal, they cannot be accessed or modified outside.\n",
        "Clean structure   |   You organized make(), move(), and show() separately — very clean! Good software design.\n",
        "\n",
        "Global Scope\n",
        "total_burgers is a global variable.\n",
        "It is declared outside all functions.\n",
        "To modify it inside a function, we must use the keyword global.\n",
        "\n",
        "Local Scope\n",
        "section_burgers is a local variable.\n",
        "It is declared inside kitchen_section().\n",
        "It is normally visible only inside kitchen_section().\n",
        "\n",
        "Nonlocal Scope\n",
        "Inside make_burgers() and move_burgers_to_counter(), we use nonlocal section_burgers.\n",
        "nonlocal allows the inner functions to modify the section_burgers defined in the outer function (kitchen_section).\n",
        "Without nonlocal, a new separate section_burgers would be created in each inner function.\n",
        "\n",
        "Scope\t       Example Variable\t                          Meaning\n",
        "Global\t      total_burgers\t              vailable everywhere; needs global to modify inside functions.\n",
        "Local\t        section_burgers\t            Exists only inside kitchen_section.\n",
        "Nonlocal\t    section_burgers             Allows inner functions to change outer function's variable.\n",
        "              inside nested functions\n",
        "\n",
        "'''"
      ],
      "metadata": {
        "id": "ItwI5gjRNOMX"
      },
      "execution_count": null,
      "outputs": []
    },
    {
      "cell_type": "code",
      "source": [
        "'''\n",
        "Super Mario Adventure - 3 Levels\n",
        "Welcome to Super Mario Adventure! Embark on an exciting journey through three unique levels, each filled with challenges, enemies, and surprises. Your goal is to collect coins, defeat enemies, and navigate through hazardous terrains to achieve the highest score possible!\n",
        "\n",
        "Levels:\n",
        "Normal Grassland 🌳\n",
        "The journey begins in the peaceful grasslands, where Mario collects coins and defeats enemies to earn points. A smooth start to get you into the game!\n",
        "\n",
        "Under the Sea 🌊\n",
        "Dive deep into the oceanic world, where Mario faces sea creatures and collects underwater treasures. The underwater level adds a twist with some unique coin collecting challenges!\n",
        "\n",
        "Volcano 🌋\n",
        "The ultimate challenge awaits in the Volcano level. Here, Mario must tread carefully because the lava trap is lurking! Step on lava, and you lose points, making this level much more dangerous than the others. Will Mario survive the volcano’s fury and keep his score intact?\n",
        "\n",
        "Game Features:\n",
        "Global Score: The total score accumulates from all levels, adding a competitive edge to complete every challenge!\n",
        "Lava Trap in Volcano: The stakes are high in the Volcano level. Mario's score can drop if he steps on lava. Only the careful can survive and win.\n",
        "Nonlocal Scoring: Each level has its own score while contributing to the overall game score.\n",
        "\n",
        "Objective:\n",
        "Collect Coins: Mario collects coins in each level to boost his level score.\n",
        "Defeat Enemies: Be sure to defeat enemies to gain additional points and avoid getting hit.\n",
        "Survive the Lava Trap: In the Volcano level, avoid stepping on lava to prevent negative scores and keep your chances of winning high!\n",
        "\n",
        "Game Progression:\n",
        "Each level introduces new challenges, and completing one level unlocks the next.\n",
        "After defeating the final enemy in the Volcano level, you’ll get to see your final score, reflecting your skills across all levels.\n",
        "Are you ready to collect coins, defeat enemies, and survive the traps to become the ultimate Mario champion?\n",
        "Let the adventure begin! 🎮🔥\n",
        "'''"
      ],
      "metadata": {
        "id": "I5InGMvR9V3N"
      },
      "execution_count": null,
      "outputs": []
    },
    {
      "cell_type": "code",
      "source": [
        "# Global variable\n",
        "total_score = 0\n",
        "\n",
        "def start_level(level_name):\n",
        "    # Local variable\n",
        "    level_score = 0\n",
        "    lava_trap = False  # Will be set to True if Mario steps on lava\n",
        "    print(f\"\\n=== {level_name} Level Started ===\")\n",
        "\n",
        "    def collect_coin(points):\n",
        "        nonlocal level_score, lava_trap\n",
        "        if lava_trap:\n",
        "            level_score -= points  # Lose points if stepped on lava\n",
        "            print(f\"Ouch! Stepped on lava! {level_name} Level Score: {level_score}\")\n",
        "        else:\n",
        "            level_score += points  # Normal points collection\n",
        "            print(f\"Collected a coin! {level_name} Level Score: {level_score}\")\n",
        "\n",
        "    def defeat_enemy(points):\n",
        "        nonlocal level_score\n",
        "        level_score += points\n",
        "        print(f\"Defeated an enemy! {level_name} Level Score: {level_score}\")\n",
        "\n",
        "    def step_on_lava():\n",
        "        nonlocal lava_trap\n",
        "        lava_trap = True\n",
        "        print(f\"Stepped on lava! Be careful in the {level_name} level!\")\n",
        "\n",
        "    def complete_level():\n",
        "        global total_score\n",
        "        nonlocal level_score\n",
        "        total_score += level_score\n",
        "        print(f\"{level_name} Level completed! Total Score: {total_score}\")\n",
        "        level_score = 0  # Reset after level complete\n",
        "\n",
        "    def level_summary():\n",
        "        print(f\"{level_name} Level Current Score: {level_score}\")\n",
        "        print(f\"Total Game Score: {total_score}\")\n",
        "\n",
        "    return collect_coin, defeat_enemy, step_on_lava, complete_level, level_summary\n",
        "\n",
        "# --- Application ---\n",
        "\n",
        "# 🌳 Level 1: Normal Grass\n",
        "collect1, defeat1, step_on_lava1, complete1, summary1 = start_level(\"Normal Grass\")\n",
        "summary1()\n",
        "collect1(10)\n",
        "defeat1(20)\n",
        "collect1(15)\n",
        "complete1()\n",
        "\n",
        "# 🌊 Level 2: Under the Sea\n",
        "collect2, defeat2, step_on_lava2, complete2, summary2 = start_level(\"Under the Sea\")\n",
        "summary2()\n",
        "collect2(20)\n",
        "defeat2(30)\n",
        "collect2(25)\n",
        "complete2()\n",
        "\n",
        "# 🌋 Level 3: Volcano (with Lava Trap!)\n",
        "collect3, defeat3, step_on_lava3, complete3, summary3 = start_level(\"Volcano\")\n",
        "summary3()\n",
        "collect3(30)\n",
        "defeat3(40)\n",
        "step_on_lava3()  # Mario steps on lava here!\n",
        "collect3(50)     # Mario collects a coin after lava\n",
        "complete3()\n",
        "\n",
        "# 🎉 Final Summary\n",
        "print(\"\\n=== GAME OVER ===\")\n",
        "print(f\"Final Total Score: {total_score}\")\n"
      ],
      "metadata": {
        "id": "RWqF7fHvNOTB",
        "colab": {
          "base_uri": "https://localhost:8080/"
        },
        "outputId": "7f693a7a-203d-4aec-b31d-d3a3407075aa"
      },
      "execution_count": 7,
      "outputs": [
        {
          "output_type": "stream",
          "name": "stdout",
          "text": [
            "\n",
            "=== Normal Grass Level Started ===\n",
            "Normal Grass Level Current Score: 0\n",
            "Total Game Score: 0\n",
            "Collected a coin! Normal Grass Level Score: 10\n",
            "Defeated an enemy! Normal Grass Level Score: 30\n",
            "Collected a coin! Normal Grass Level Score: 45\n",
            "Normal Grass Level completed! Total Score: 45\n",
            "\n",
            "=== Under the Sea Level Started ===\n",
            "Under the Sea Level Current Score: 0\n",
            "Total Game Score: 45\n",
            "Collected a coin! Under the Sea Level Score: 20\n",
            "Defeated an enemy! Under the Sea Level Score: 50\n",
            "Collected a coin! Under the Sea Level Score: 75\n",
            "Under the Sea Level completed! Total Score: 120\n",
            "\n",
            "=== Volcano Level Started ===\n",
            "Volcano Level Current Score: 0\n",
            "Total Game Score: 120\n",
            "Collected a coin! Volcano Level Score: 30\n",
            "Defeated an enemy! Volcano Level Score: 70\n",
            "Stepped on lava! Be careful in the Volcano level!\n",
            "Ouch! Stepped on lava! Volcano Level Score: 20\n",
            "Volcano Level completed! Total Score: 140\n",
            "\n",
            "=== GAME OVER ===\n",
            "Final Total Score: 140\n"
          ]
        }
      ]
    },
    {
      "cell_type": "code",
      "source": [
        "'''\n",
        "Global Scope: total_score\n",
        "What is it?\n",
        "The global variable total_score keeps track of the overall score across all levels.\n",
        "It is used to accumulate the scores from different levels (Normal Grass, Under the Sea, and Volcano).\n",
        "\n",
        "Where is it used?\n",
        "The total_score variable is updated when a level is completed (in the complete_level() function).\n",
        "It’s used to track the total game score, making it available across all levels,\n",
        "ensuring that the score continues accumulating as Mario progresses through the game.\n",
        "\n",
        "Why is it important?\n",
        "The total_score represents the big picture of Mario's progress throughout the game.\n",
        "It is updated and tracked globally, showing how well Mario has performed over multiple levels.\n",
        "'''"
      ],
      "metadata": {
        "id": "Qh3YokpPNOV-"
      },
      "execution_count": null,
      "outputs": []
    },
    {
      "cell_type": "code",
      "source": [
        "'''\n",
        "Local Scope: level_score\n",
        "What is it?\n",
        "level_score is a local variable that holds the score for a specific level (e.g., Normal Grass, Under the Sea, or Volcano).\n",
        "\n",
        "Where is it used?\n",
        "Each level starts by initializing its own level_score variable.\n",
        "This score is updated as Mario collects coins and defeats enemies within that specific level.\n",
        "After completing a level, the score is added to total_score and the local level_score is reset to 0.\n",
        "\n",
        "Why is it important?\n",
        "level_score tracks the score within one level, ensuring that each level has its own score calculation.\n",
        "It is isolated to its respective level, and doesn't affect the scores of other levels.\n",
        "'''"
      ],
      "metadata": {
        "id": "X_1FKS9k-CN-"
      },
      "execution_count": null,
      "outputs": []
    },
    {
      "cell_type": "code",
      "source": [
        "'''\n",
        "Nonlocal Scope: lava_trap\n",
        "What is it?\n",
        "The lava_trap variable is used within the Volcano level to track whether Mario has stepped on lava.\n",
        "It’s marked as True once Mario steps on lava, causing him to lose points when collecting coins.\n",
        "\n",
        "Where is it used?\n",
        "Inside the inner functions (collect_coin(), defeat_enemy(), etc.) of the Volcano level,\n",
        "the lava_trap flag is checked to decide whether Mario should lose points.\n",
        "The lava_trap flag is set inside the step_on_lava() function. It is marked True when Mario steps on lava,\n",
        "causing the subsequent coin collection to deduct points instead of adding them.\n",
        "\n",
        "Why is it important?\n",
        "nonlocal allows the lava_trap variable to be modified inside the inner function (collect_coin())\n",
        "while retaining its value in the enclosing start_level() function.\n",
        "This means the lava trap is tracked at the level level (not globally),\n",
        "but the flag (lava_trap) can still be updated across nested functions like collect_coin().\n",
        "'''"
      ],
      "metadata": {
        "id": "GuqILbw9-NvW"
      },
      "execution_count": null,
      "outputs": []
    }
  ]
}