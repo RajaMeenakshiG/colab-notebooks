{
  "nbformat": 4,
  "nbformat_minor": 0,
  "metadata": {
    "colab": {
      "provenance": []
    },
    "kernelspec": {
      "name": "python3",
      "display_name": "Python 3"
    },
    "language_info": {
      "name": "python"
    }
  },
  "cells": [
    {
      "cell_type": "code",
      "source": [
        "# one powerful feature of variable in Python - DYNAMICALLY TYPED\n",
        "# No need to declare the datatype like other programming languages!\n",
        "\n",
        "n = 7           # Integer\n",
        "name = \"Mahi\"   # String\n",
        "num = 7.1981    # Float\n",
        "flag = True     # Boolean"
      ],
      "metadata": {
        "id": "qmn2ZK5BEylv"
      },
      "execution_count": 1,
      "outputs": []
    },
    {
      "cell_type": "code",
      "source": [
        "# to print the variables..\n",
        "print(n, name, num, flag)\n",
        "\n",
        "# to print the datatype of the variables\n",
        "print(type(n), type(name), type(num), type(flag))"
      ],
      "metadata": {
        "colab": {
          "base_uri": "https://localhost:8080/"
        },
        "id": "NJJ-ieDCFgjr",
        "outputId": "105fe5a2-18fc-43a7-a55e-2499a9e387c6"
      },
      "execution_count": 2,
      "outputs": [
        {
          "output_type": "stream",
          "name": "stdout",
          "text": [
            "7 Mahi 7.1981 True\n",
            "<class 'int'> <class 'str'> <class 'float'> <class 'bool'>\n"
          ]
        }
      ]
    },
    {
      "cell_type": "code",
      "source": [
        "# drawback - declaration + initialization only possible.\n",
        "# just declaration - a big NoOoOoO...\n",
        "b # this will cause ERROR; can't do like this!"
      ],
      "metadata": {
        "colab": {
          "base_uri": "https://localhost:8080/",
          "height": 176
        },
        "id": "Kl2pYBrUEyog",
        "outputId": "ff948cf3-b542-4d6a-f7f0-dd8f9b8b2b1a"
      },
      "execution_count": 3,
      "outputs": [
        {
          "output_type": "error",
          "ename": "NameError",
          "evalue": "name 'b' is not defined",
          "traceback": [
            "\u001b[0;31m---------------------------------------------------------------------------\u001b[0m",
            "\u001b[0;31mNameError\u001b[0m                                 Traceback (most recent call last)",
            "\u001b[0;32m<ipython-input-3-4107bb594e36>\u001b[0m in \u001b[0;36m<cell line: 0>\u001b[0;34m()\u001b[0m\n\u001b[1;32m      1\u001b[0m \u001b[0;31m# drawback - declaration + initialization only possible.\u001b[0m\u001b[0;34m\u001b[0m\u001b[0;34m\u001b[0m\u001b[0m\n\u001b[1;32m      2\u001b[0m \u001b[0;31m# just declaration - a big NoOoOoO...\u001b[0m\u001b[0;34m\u001b[0m\u001b[0;34m\u001b[0m\u001b[0m\n\u001b[0;32m----> 3\u001b[0;31m \u001b[0mb\u001b[0m \u001b[0;31m# this will cause ERROR; can't do like this!\u001b[0m\u001b[0;34m\u001b[0m\u001b[0;34m\u001b[0m\u001b[0m\n\u001b[0m",
            "\u001b[0;31mNameError\u001b[0m: name 'b' is not defined"
          ]
        }
      ]
    },
    {
      "cell_type": "code",
      "source": [
        "# but... can change datatype later as well!\n",
        "b = 12\n",
        "print(b, type(b))\n",
        "print()\n",
        "b = \"apple\"\n",
        "print(b, type(b))"
      ],
      "metadata": {
        "colab": {
          "base_uri": "https://localhost:8080/"
        },
        "id": "Di52bSeIEyrg",
        "outputId": "8921980f-edd0-4e1c-996c-ae7da8946b15"
      },
      "execution_count": 4,
      "outputs": [
        {
          "output_type": "stream",
          "name": "stdout",
          "text": [
            "12 <class 'int'>\n",
            "\n",
            "apple <class 'str'>\n"
          ]
        }
      ]
    },
    {
      "cell_type": "code",
      "source": [
        "'''\n",
        "Rules for Naming Variables:\n",
        "\n",
        "Must begin with a letter (a-z, A-Z) or an underscore (_)\n",
        "Can contain letters, digits, and underscores\n",
        "Cannot start with a number\n",
        "Case-sensitive (name and Name are different)\n",
        "Should not use Python keywords (like for, if, class, etc.)\n",
        "Cannot have space\n",
        "'''"
      ],
      "metadata": {
        "id": "GGYjF37yEyuP",
        "colab": {
          "base_uri": "https://localhost:8080/",
          "height": 53
        },
        "outputId": "af085507-0928-429e-9984-47ae78336c8c"
      },
      "execution_count": 5,
      "outputs": [
        {
          "output_type": "execute_result",
          "data": {
            "text/plain": [
              "'\\nRules for Naming Variables:\\n\\nMust begin with a letter (a-z, A-Z) or an underscore (_)\\nCan contain letters, digits, and underscores\\nCannot start with a number\\nCase-sensitive (name and Name are different)\\nShould not use Python keywords (like for, if, class, etc.)\\nCannot have space\\n'"
            ],
            "application/vnd.google.colaboratory.intrinsic+json": {
              "type": "string"
            }
          },
          "metadata": {},
          "execution_count": 5
        }
      ]
    },
    {
      "cell_type": "code",
      "source": [
        "# Rule 1 - Must begin with a letter (a-z, A-Z) or an underscore (_)\n",
        "\n",
        "# all are valid variables...\n",
        "abc = 1\n",
        "ABC = 2\n",
        "aBc = 3\n",
        "_abc = 4\n",
        "\n",
        "print(abc, ABC, aBc, _abc)"
      ],
      "metadata": {
        "colab": {
          "base_uri": "https://localhost:8080/"
        },
        "id": "mhhSqqyQEyw3",
        "outputId": "7bdc5fd1-b5e6-4855-bf16-6cae13bfb9d7"
      },
      "execution_count": 5,
      "outputs": [
        {
          "output_type": "stream",
          "name": "stdout",
          "text": [
            "1 2 3 4\n"
          ]
        }
      ]
    },
    {
      "cell_type": "code",
      "source": [
        "# Rule 2 - Can contain letters, digits, and underscores\n",
        "\n",
        "# all are valid variables...\n",
        "ABcDe = 5\n",
        "ABC_123 = 6\n",
        "\n",
        "print(ABcDe, ABC_123)"
      ],
      "metadata": {
        "colab": {
          "base_uri": "https://localhost:8080/"
        },
        "id": "z3FQ-mRxEyzO",
        "outputId": "8b1173e6-28ba-4a90-ef7b-56ba3bf3b4c4"
      },
      "execution_count": 6,
      "outputs": [
        {
          "output_type": "stream",
          "name": "stdout",
          "text": [
            "5 6\n"
          ]
        }
      ]
    },
    {
      "cell_type": "code",
      "source": [
        "# Rule 3 - Cannot start with a number\n",
        "\n",
        "# invalid\n",
        "\n",
        "123abc = 10\n",
        "print(123abc)"
      ],
      "metadata": {
        "colab": {
          "base_uri": "https://localhost:8080/",
          "height": 106
        },
        "id": "dJl3MgxqEy1v",
        "outputId": "20ddd5ea-f131-46ac-a8f4-f2edb0868bb5"
      },
      "execution_count": 7,
      "outputs": [
        {
          "output_type": "error",
          "ename": "SyntaxError",
          "evalue": "invalid decimal literal (<ipython-input-7-ef200d537b32>, line 5)",
          "traceback": [
            "\u001b[0;36m  File \u001b[0;32m\"<ipython-input-7-ef200d537b32>\"\u001b[0;36m, line \u001b[0;32m5\u001b[0m\n\u001b[0;31m    123abc = 10\u001b[0m\n\u001b[0m      ^\u001b[0m\n\u001b[0;31mSyntaxError\u001b[0m\u001b[0;31m:\u001b[0m invalid decimal literal\n"
          ]
        }
      ]
    },
    {
      "cell_type": "code",
      "source": [
        "# but can have num after the first char\n",
        "a1b2c3_2025 = 7\n",
        "print(a1b2c3_2025)"
      ],
      "metadata": {
        "colab": {
          "base_uri": "https://localhost:8080/"
        },
        "id": "tHVIrpULEy4O",
        "outputId": "166c515c-5b10-4e9e-eb66-e3ad4b1fba06"
      },
      "execution_count": 8,
      "outputs": [
        {
          "output_type": "stream",
          "name": "stdout",
          "text": [
            "7\n"
          ]
        }
      ]
    },
    {
      "cell_type": "code",
      "source": [
        "# Rule 4 - Case-sensitive (name and Name are different)\n",
        "\n",
        "# all are valid variables...\n",
        "name = \"CSK\"\n",
        "Name = \"MI\"\n",
        "\n",
        "print(name, Name)"
      ],
      "metadata": {
        "colab": {
          "base_uri": "https://localhost:8080/"
        },
        "id": "r6cNEtVMEy67",
        "outputId": "14cb1809-2a4b-4cd7-9baf-a6a9ea901feb"
      },
      "execution_count": 9,
      "outputs": [
        {
          "output_type": "stream",
          "name": "stdout",
          "text": [
            "CSK MI\n"
          ]
        }
      ]
    },
    {
      "cell_type": "code",
      "source": [
        "# Rule 5 - Should not use Python keywords (like for, if, class, etc.)\n",
        " #list of PY keywords\n",
        "from keyword import kwlist\n",
        "print(kwlist)"
      ],
      "metadata": {
        "colab": {
          "base_uri": "https://localhost:8080/"
        },
        "id": "R_HdihsHEy9X",
        "outputId": "51346934-caec-4e9b-b263-4c347ef01197"
      },
      "execution_count": 10,
      "outputs": [
        {
          "output_type": "stream",
          "name": "stdout",
          "text": [
            "['False', 'None', 'True', 'and', 'as', 'assert', 'async', 'await', 'break', 'class', 'continue', 'def', 'del', 'elif', 'else', 'except', 'finally', 'for', 'from', 'global', 'if', 'import', 'in', 'is', 'lambda', 'nonlocal', 'not', 'or', 'pass', 'raise', 'return', 'try', 'while', 'with', 'yield']\n"
          ]
        }
      ]
    },
    {
      "cell_type": "code",
      "source": [
        "# there are 35 keywords\n",
        "\n",
        "# some invalid examples\n",
        "\n",
        "True = 123"
      ],
      "metadata": {
        "colab": {
          "base_uri": "https://localhost:8080/",
          "height": 106
        },
        "id": "oJmTVDquEzAK",
        "outputId": "2de91c00-b0d3-4e12-97d1-7e2ed977e416"
      },
      "execution_count": 11,
      "outputs": [
        {
          "output_type": "error",
          "ename": "SyntaxError",
          "evalue": "cannot assign to True (<ipython-input-11-3a8d9e83abb9>, line 5)",
          "traceback": [
            "\u001b[0;36m  File \u001b[0;32m\"<ipython-input-11-3a8d9e83abb9>\"\u001b[0;36m, line \u001b[0;32m5\u001b[0m\n\u001b[0;31m    True = 123\u001b[0m\n\u001b[0m    ^\u001b[0m\n\u001b[0;31mSyntaxError\u001b[0m\u001b[0;31m:\u001b[0m cannot assign to True\n"
          ]
        }
      ]
    },
    {
      "cell_type": "code",
      "source": [
        "break = continue"
      ],
      "metadata": {
        "colab": {
          "base_uri": "https://localhost:8080/",
          "height": 106
        },
        "id": "3jeyjdlBEzDG",
        "outputId": "3e8648c1-9dae-4f79-9dea-8cf8a27e5e2f"
      },
      "execution_count": 12,
      "outputs": [
        {
          "output_type": "error",
          "ename": "SyntaxError",
          "evalue": "invalid syntax (<ipython-input-12-7014047f7f22>, line 1)",
          "traceback": [
            "\u001b[0;36m  File \u001b[0;32m\"<ipython-input-12-7014047f7f22>\"\u001b[0;36m, line \u001b[0;32m1\u001b[0m\n\u001b[0;31m    break = continue\u001b[0m\n\u001b[0m          ^\u001b[0m\n\u001b[0;31mSyntaxError\u001b[0m\u001b[0;31m:\u001b[0m invalid syntax\n"
          ]
        }
      ]
    },
    {
      "cell_type": "code",
      "source": [
        "# exceptional case - built in methods should not be confused with keywords - like sum, print, max etc.\n",
        "print(max(1,2,3,4,5)) # max does the purpose of finding the largest number"
      ],
      "metadata": {
        "colab": {
          "base_uri": "https://localhost:8080/"
        },
        "id": "VoUcJHkEEzFf",
        "outputId": "1de0f2a0-088e-4fc3-9ec3-70fd467869aa"
      },
      "execution_count": 13,
      "outputs": [
        {
          "output_type": "stream",
          "name": "stdout",
          "text": [
            "5\n"
          ]
        }
      ]
    },
    {
      "cell_type": "code",
      "source": [
        "max = \"apple\"\n",
        "print(max) # No Error"
      ],
      "metadata": {
        "colab": {
          "base_uri": "https://localhost:8080/"
        },
        "id": "UwXuQeSLEzIA",
        "outputId": "d6a0de29-5104-4957-e57e-3decc4674e81"
      },
      "execution_count": 14,
      "outputs": [
        {
          "output_type": "stream",
          "name": "stdout",
          "text": [
            "apple\n"
          ]
        }
      ]
    },
    {
      "cell_type": "code",
      "source": [
        "# but when we seek the help of max() to find the largest value, it fails!\n",
        "print(max(1,2,3,4,5)) # because max is now a string.\n",
        "\n",
        "# same with other built in methods as well! Be careful with print!\n",
        "# Because once the print loses its functionality, we can't print anything! We've to restart the runtime!! :("
      ],
      "metadata": {
        "colab": {
          "base_uri": "https://localhost:8080/",
          "height": 211
        },
        "id": "n5vIdnjKHdqc",
        "outputId": "4360a48f-1cd8-4e14-9333-cb1cbd80c405"
      },
      "execution_count": 15,
      "outputs": [
        {
          "output_type": "error",
          "ename": "TypeError",
          "evalue": "'str' object is not callable",
          "traceback": [
            "\u001b[0;31m---------------------------------------------------------------------------\u001b[0m",
            "\u001b[0;31mTypeError\u001b[0m                                 Traceback (most recent call last)",
            "\u001b[0;32m<ipython-input-15-4446c01b8aba>\u001b[0m in \u001b[0;36m<cell line: 0>\u001b[0;34m()\u001b[0m\n\u001b[1;32m      1\u001b[0m \u001b[0;31m# but when we seek the help of max() to find the largest value, it fails!\u001b[0m\u001b[0;34m\u001b[0m\u001b[0;34m\u001b[0m\u001b[0m\n\u001b[0;32m----> 2\u001b[0;31m \u001b[0mprint\u001b[0m\u001b[0;34m(\u001b[0m\u001b[0mmax\u001b[0m\u001b[0;34m(\u001b[0m\u001b[0;36m1\u001b[0m\u001b[0;34m,\u001b[0m\u001b[0;36m2\u001b[0m\u001b[0;34m,\u001b[0m\u001b[0;36m3\u001b[0m\u001b[0;34m,\u001b[0m\u001b[0;36m4\u001b[0m\u001b[0;34m,\u001b[0m\u001b[0;36m5\u001b[0m\u001b[0;34m)\u001b[0m\u001b[0;34m)\u001b[0m \u001b[0;31m# because max is now a string.\u001b[0m\u001b[0;34m\u001b[0m\u001b[0;34m\u001b[0m\u001b[0m\n\u001b[0m\u001b[1;32m      3\u001b[0m \u001b[0;34m\u001b[0m\u001b[0m\n\u001b[1;32m      4\u001b[0m \u001b[0;31m# same with other built in methods as well! Be careful with print!\u001b[0m\u001b[0;34m\u001b[0m\u001b[0;34m\u001b[0m\u001b[0m\n\u001b[1;32m      5\u001b[0m \u001b[0;31m# Because once the print loses its functionality, we can't print anything! We've to restart the runtime!! :(\u001b[0m\u001b[0;34m\u001b[0m\u001b[0;34m\u001b[0m\u001b[0m\n",
            "\u001b[0;31mTypeError\u001b[0m: 'str' object is not callable"
          ]
        }
      ]
    },
    {
      "cell_type": "code",
      "source": [
        "# Rule 6 - Cannot have space\n",
        "abc 123 = 2025\n",
        "print(abc 123)"
      ],
      "metadata": {
        "colab": {
          "base_uri": "https://localhost:8080/",
          "height": 106
        },
        "id": "kR8e9R3WMmr9",
        "outputId": "69b81b4f-0e04-4497-c952-4f7011eed7b7"
      },
      "execution_count": 16,
      "outputs": [
        {
          "output_type": "error",
          "ename": "SyntaxError",
          "evalue": "invalid syntax (<ipython-input-16-7f39a0037f2a>, line 2)",
          "traceback": [
            "\u001b[0;36m  File \u001b[0;32m\"<ipython-input-16-7f39a0037f2a>\"\u001b[0;36m, line \u001b[0;32m2\u001b[0m\n\u001b[0;31m    abc 123 = 2025\u001b[0m\n\u001b[0m        ^\u001b[0m\n\u001b[0;31mSyntaxError\u001b[0m\u001b[0;31m:\u001b[0m invalid syntax\n"
          ]
        }
      ]
    },
    {
      "cell_type": "code",
      "source": [
        "# Constant Variables - full capital\n",
        "PI = 3.14159       # All caps indicate this shouldn't change\n",
        "MAX_USERS = 1000\n",
        "\n",
        "print(PI, MAX_USERS)"
      ],
      "metadata": {
        "colab": {
          "base_uri": "https://localhost:8080/"
        },
        "id": "_dWbeEswHnf2",
        "outputId": "43a2f8dd-a44d-479e-d431-222770aa8d9b"
      },
      "execution_count": 17,
      "outputs": [
        {
          "output_type": "stream",
          "name": "stdout",
          "text": [
            "3.14159 1000\n"
          ]
        }
      ]
    },
    {
      "cell_type": "code",
      "source": [
        "# In Python, Variables are References (Not Containers)\n",
        "a = 7\n",
        "b = a\n",
        "c = 7\n",
        "\n",
        "# all three variables have same memory!\n",
        "\n",
        "#proof\n",
        "print(id(a), id(b), id(c))"
      ],
      "metadata": {
        "colab": {
          "base_uri": "https://localhost:8080/"
        },
        "id": "aoZc2GK0Hnle",
        "outputId": "2a0cc9a9-bc54-4ff2-ce89-52f445d9eba6"
      },
      "execution_count": 18,
      "outputs": [
        {
          "output_type": "stream",
          "name": "stdout",
          "text": [
            "10751048 10751048 10751048\n"
          ]
        }
      ]
    },
    {
      "cell_type": "code",
      "source": [
        "a = \"apple\" # a's reference is changed from 7 to \"apple\", so memory location changes!!\n",
        "print(id(a), id(b), id(c))"
      ],
      "metadata": {
        "colab": {
          "base_uri": "https://localhost:8080/"
        },
        "id": "Eh_Av7sgHnqW",
        "outputId": "06080dca-3c97-4406-83d2-1509f12f97f8"
      },
      "execution_count": 19,
      "outputs": [
        {
          "output_type": "stream",
          "name": "stdout",
          "text": [
            "135412849316528 10751048 10751048\n"
          ]
        }
      ]
    },
    {
      "cell_type": "code",
      "source": [
        "# multiple assignments in a single line\n",
        "a,b,c,d = 1,2,3,4 # different values\n",
        "print(a,b,c,d)"
      ],
      "metadata": {
        "colab": {
          "base_uri": "https://localhost:8080/"
        },
        "id": "PBIsDKnZHnu3",
        "outputId": "cf209a03-bdd5-43cd-c805-d9203774cf30"
      },
      "execution_count": 20,
      "outputs": [
        {
          "output_type": "stream",
          "name": "stdout",
          "text": [
            "1 2 3 4\n"
          ]
        }
      ]
    },
    {
      "cell_type": "code",
      "source": [
        "a = b = c = d = 2025 # same value\n",
        "print(a,b,c,d)"
      ],
      "metadata": {
        "colab": {
          "base_uri": "https://localhost:8080/"
        },
        "id": "ffeKSiKFIagn",
        "outputId": "b3cf84fd-fff3-4849-d22a-c752d0744899"
      },
      "execution_count": 21,
      "outputs": [
        {
          "output_type": "stream",
          "name": "stdout",
          "text": [
            "2025 2025 2025 2025\n"
          ]
        }
      ]
    },
    {
      "cell_type": "code",
      "source": [
        "# optional type hinting\n",
        "\n",
        "# valid\n",
        "year: int = 2015\n",
        "name: str = \"Ziva\"\n",
        "print(year, name)\n",
        "\n",
        "# invalid\n",
        "year: str = 2015\n",
        "name: str = \"Ziva\"\n",
        "print(year, name)\n",
        "# this doesn't cause error even if the datatype is wrong! This is just a indication for the datatype to be used!"
      ],
      "metadata": {
        "colab": {
          "base_uri": "https://localhost:8080/"
        },
        "id": "y2fiYyeXIajZ",
        "outputId": "cd9c61ff-e2f0-4937-9d27-9e3f6758a3d4"
      },
      "execution_count": 22,
      "outputs": [
        {
          "output_type": "stream",
          "name": "stdout",
          "text": [
            "2015 Ziva\n",
            "2015 Ziva\n"
          ]
        }
      ]
    },
    {
      "cell_type": "code",
      "source": [
        "# Python handles memory automatically. When a variable has no more references, it's cleaned up.\n",
        "a = 123\n",
        "b = a\n",
        "del a\n",
        "# b still exists and holds the value"
      ],
      "metadata": {
        "id": "sEIw8WCgIapK"
      },
      "execution_count": 23,
      "outputs": []
    },
    {
      "cell_type": "code",
      "source": [
        "print(a,b) # Garbage Collection done for 'a'"
      ],
      "metadata": {
        "colab": {
          "base_uri": "https://localhost:8080/",
          "height": 141
        },
        "id": "7Y1sc-bHIasB",
        "outputId": "ed5d71d9-4884-46da-cb4d-6960e8639120"
      },
      "execution_count": 24,
      "outputs": [
        {
          "output_type": "error",
          "ename": "NameError",
          "evalue": "name 'a' is not defined",
          "traceback": [
            "\u001b[0;31m---------------------------------------------------------------------------\u001b[0m",
            "\u001b[0;31mNameError\u001b[0m                                 Traceback (most recent call last)",
            "\u001b[0;32m<ipython-input-24-698b1adedeb8>\u001b[0m in \u001b[0;36m<cell line: 0>\u001b[0;34m()\u001b[0m\n\u001b[0;32m----> 1\u001b[0;31m \u001b[0mprint\u001b[0m\u001b[0;34m(\u001b[0m\u001b[0ma\u001b[0m\u001b[0;34m,\u001b[0m\u001b[0mb\u001b[0m\u001b[0;34m)\u001b[0m \u001b[0;31m# Garbage Collection done for 'a'\u001b[0m\u001b[0;34m\u001b[0m\u001b[0;34m\u001b[0m\u001b[0m\n\u001b[0m",
            "\u001b[0;31mNameError\u001b[0m: name 'a' is not defined"
          ]
        }
      ]
    },
    {
      "cell_type": "code",
      "source": [
        "print(b)"
      ],
      "metadata": {
        "colab": {
          "base_uri": "https://localhost:8080/"
        },
        "id": "uio67hSRJdDZ",
        "outputId": "9ceda93e-4e0d-4c9c-9147-16a5af64b17c"
      },
      "execution_count": 25,
      "outputs": [
        {
          "output_type": "stream",
          "name": "stdout",
          "text": [
            "123\n"
          ]
        }
      ]
    }
  ]
}