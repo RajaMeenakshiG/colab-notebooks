{
  "nbformat": 4,
  "nbformat_minor": 0,
  "metadata": {
    "colab": {
      "provenance": []
    },
    "kernelspec": {
      "name": "python3",
      "display_name": "Python 3"
    },
    "language_info": {
      "name": "python"
    }
  },
  "cells": [
    {
      "cell_type": "code",
      "source": [
        "# one powerful feature of variable in Python - DYNAMICALLY TYPED\n",
        "# No need to declare the datatype like other programming languages!\n",
        "\n",
        "n = 7           # Integer\n",
        "name = \"Mahi\"   # String\n",
        "num = 7.1981    # Float\n",
        "flag = True     # Boolean"
      ],
      "metadata": {
        "id": "qmn2ZK5BEylv"
      },
      "execution_count": 1,
      "outputs": []
    },
    {
      "cell_type": "code",
      "source": [
        "# to print the variables..\n",
        "print(n, name, num, flag)\n",
        "\n",
        "# to print the datatype of the variables\n",
        "print(type(n), type(name), type(num), type(flag))"
      ],
      "metadata": {
        "colab": {
          "base_uri": "https://localhost:8080/"
        },
        "id": "NJJ-ieDCFgjr",
        "outputId": "8e5a4a44-8369-43aa-d855-6f4fbccd59dc"
      },
      "execution_count": 2,
      "outputs": [
        {
          "output_type": "stream",
          "name": "stdout",
          "text": [
            "7 Mahi 7.1981 True\n",
            "<class 'int'> <class 'str'> <class 'float'> <class 'bool'>\n"
          ]
        }
      ]
    },
    {
      "cell_type": "code",
      "source": [
        "# drawback - declaration + initialization only possible.\n",
        "# just declaration - a big NoOoOoO...\n",
        "b # this will cause ERROR; can't do like this!"
      ],
      "metadata": {
        "colab": {
          "base_uri": "https://localhost:8080/",
          "height": 211
        },
        "id": "Kl2pYBrUEyog",
        "outputId": "97673ac6-a388-476a-f9f3-6aef7c5b8697"
      },
      "execution_count": 3,
      "outputs": [
        {
          "output_type": "error",
          "ename": "NameError",
          "evalue": "name 'b' is not defined",
          "traceback": [
            "\u001b[0;31m---------------------------------------------------------------------------\u001b[0m",
            "\u001b[0;31mNameError\u001b[0m                                 Traceback (most recent call last)",
            "\u001b[0;32m<ipython-input-3-f37aaa84f06d>\u001b[0m in \u001b[0;36m<cell line: 0>\u001b[0;34m()\u001b[0m\n\u001b[1;32m      1\u001b[0m \u001b[0;31m# drawback - declaration + initialization only possible.\u001b[0m\u001b[0;34m\u001b[0m\u001b[0;34m\u001b[0m\u001b[0m\n\u001b[1;32m      2\u001b[0m \u001b[0;31m# just declaration - a big NoOoOoO...\u001b[0m\u001b[0;34m\u001b[0m\u001b[0;34m\u001b[0m\u001b[0m\n\u001b[0;32m----> 3\u001b[0;31m \u001b[0mb\u001b[0m \u001b[0;31m# this will cause ERROR; can't do like this!\u001b[0m\u001b[0;34m\u001b[0m\u001b[0;34m\u001b[0m\u001b[0m\n\u001b[0m\u001b[1;32m      4\u001b[0m \u001b[0;34m\u001b[0m\u001b[0m\n\u001b[1;32m      5\u001b[0m \u001b[0;31m# but... can change datatype later as well!\u001b[0m\u001b[0;34m\u001b[0m\u001b[0;34m\u001b[0m\u001b[0m\n",
            "\u001b[0;31mNameError\u001b[0m: name 'b' is not defined"
          ]
        }
      ]
    },
    {
      "cell_type": "code",
      "source": [
        "# but... can change datatype later as well!\n",
        "b = 12\n",
        "print(b, type(b))\n",
        "print()\n",
        "b = \"apple\"\n",
        "print(b, type(b))"
      ],
      "metadata": {
        "colab": {
          "base_uri": "https://localhost:8080/"
        },
        "id": "Di52bSeIEyrg",
        "outputId": "6011e41f-b338-4c99-cbc4-ebde5451f449"
      },
      "execution_count": 4,
      "outputs": [
        {
          "output_type": "stream",
          "name": "stdout",
          "text": [
            "12 <class 'int'>\n",
            "\n",
            "apple <class 'str'>\n"
          ]
        }
      ]
    },
    {
      "cell_type": "code",
      "source": [
        "'''\n",
        "Rules for Naming Variables:\n",
        "\n",
        "Must begin with a letter (a-z, A-Z) or an underscore (_)\n",
        "Can contain letters, digits, and underscores\n",
        "Cannot start with a number\n",
        "Case-sensitive (name and Name are different)\n",
        "Should not use Python keywords (like for, if, class, etc.)\n",
        "Cannot have space\n",
        "'''"
      ],
      "metadata": {
        "id": "GGYjF37yEyuP"
      },
      "execution_count": null,
      "outputs": []
    },
    {
      "cell_type": "code",
      "source": [
        "# Rule 1 - Must begin with a letter (a-z, A-Z) or an underscore (_)\n",
        "\n",
        "# all are valid variables...\n",
        "abc = 1\n",
        "ABC = 2\n",
        "aBc = 3\n",
        "_abc = 4\n",
        "\n",
        "print(abc, ABC, aBc, _abc)"
      ],
      "metadata": {
        "colab": {
          "base_uri": "https://localhost:8080/"
        },
        "id": "mhhSqqyQEyw3",
        "outputId": "e30a591f-769a-4f73-c2bc-f379c4769c01"
      },
      "execution_count": 5,
      "outputs": [
        {
          "output_type": "stream",
          "name": "stdout",
          "text": [
            "1 2 3 4\n"
          ]
        }
      ]
    },
    {
      "cell_type": "code",
      "source": [
        "# Rule 2 - Can contain letters, digits, and underscores\n",
        "\n",
        "# all are valid variables...\n",
        "ABcDe = 5\n",
        "ABC_123 = 6\n",
        "\n",
        "print(ABcDe, ABC_123)"
      ],
      "metadata": {
        "colab": {
          "base_uri": "https://localhost:8080/"
        },
        "id": "z3FQ-mRxEyzO",
        "outputId": "889af2bb-e7bb-444e-991d-6dad1c1b9169"
      },
      "execution_count": 6,
      "outputs": [
        {
          "output_type": "stream",
          "name": "stdout",
          "text": [
            "5 6\n"
          ]
        }
      ]
    },
    {
      "cell_type": "code",
      "source": [
        "# Rule 3 - Cannot start with a number\n",
        "\n",
        "# invalid\n",
        "\n",
        "123abc = 10\n",
        "print(123abc)"
      ],
      "metadata": {
        "colab": {
          "base_uri": "https://localhost:8080/",
          "height": 106
        },
        "id": "dJl3MgxqEy1v",
        "outputId": "d052af82-a450-461c-d7dd-307c4b96e4b5"
      },
      "execution_count": 7,
      "outputs": [
        {
          "output_type": "error",
          "ename": "SyntaxError",
          "evalue": "invalid decimal literal (<ipython-input-7-04b50d55a20f>, line 5)",
          "traceback": [
            "\u001b[0;36m  File \u001b[0;32m\"<ipython-input-7-04b50d55a20f>\"\u001b[0;36m, line \u001b[0;32m5\u001b[0m\n\u001b[0;31m    123abc = 10\u001b[0m\n\u001b[0m      ^\u001b[0m\n\u001b[0;31mSyntaxError\u001b[0m\u001b[0;31m:\u001b[0m invalid decimal literal\n"
          ]
        }
      ]
    },
    {
      "cell_type": "code",
      "source": [
        "# but can have num after the first char\n",
        "a1b2c3_2025 = 7\n",
        "print(a1b2c3_2025)"
      ],
      "metadata": {
        "colab": {
          "base_uri": "https://localhost:8080/"
        },
        "id": "tHVIrpULEy4O",
        "outputId": "53bb7e4d-9b4b-446b-947f-8668ece39246"
      },
      "execution_count": 8,
      "outputs": [
        {
          "output_type": "stream",
          "name": "stdout",
          "text": [
            "7\n"
          ]
        }
      ]
    },
    {
      "cell_type": "code",
      "source": [
        "# Rule 4 - Case-sensitive (name and Name are different)\n",
        "\n",
        "# all are valid variables...\n",
        "name = \"CSK\"\n",
        "Name = \"MI\"\n",
        "\n",
        "print(name, Name)"
      ],
      "metadata": {
        "colab": {
          "base_uri": "https://localhost:8080/"
        },
        "id": "r6cNEtVMEy67",
        "outputId": "9ada74d2-cd5f-4b95-ed09-83c9f74b16f6"
      },
      "execution_count": 9,
      "outputs": [
        {
          "output_type": "stream",
          "name": "stdout",
          "text": [
            "CSK MI\n"
          ]
        }
      ]
    },
    {
      "cell_type": "code",
      "source": [
        "# Rule 5 - Should not use Python keywords (like for, if, class, etc.)\n",
        " #list of PY keywords\n",
        "from keyword import kwlist\n",
        "print(kwlist)"
      ],
      "metadata": {
        "colab": {
          "base_uri": "https://localhost:8080/"
        },
        "id": "R_HdihsHEy9X",
        "outputId": "32750de7-b877-4404-e29a-441dde2852cc"
      },
      "execution_count": 10,
      "outputs": [
        {
          "output_type": "stream",
          "name": "stdout",
          "text": [
            "['False', 'None', 'True', 'and', 'as', 'assert', 'async', 'await', 'break', 'class', 'continue', 'def', 'del', 'elif', 'else', 'except', 'finally', 'for', 'from', 'global', 'if', 'import', 'in', 'is', 'lambda', 'nonlocal', 'not', 'or', 'pass', 'raise', 'return', 'try', 'while', 'with', 'yield']\n"
          ]
        }
      ]
    },
    {
      "cell_type": "code",
      "source": [
        "# there are 35 keywords\n",
        "\n",
        "# some invalid examples\n",
        "\n",
        "True = 123"
      ],
      "metadata": {
        "colab": {
          "base_uri": "https://localhost:8080/",
          "height": 106
        },
        "id": "oJmTVDquEzAK",
        "outputId": "151d57b9-2dbb-4bb3-f8eb-b4436e148eca"
      },
      "execution_count": 11,
      "outputs": [
        {
          "output_type": "error",
          "ename": "SyntaxError",
          "evalue": "cannot assign to True (<ipython-input-11-8e739f831a14>, line 5)",
          "traceback": [
            "\u001b[0;36m  File \u001b[0;32m\"<ipython-input-11-8e739f831a14>\"\u001b[0;36m, line \u001b[0;32m5\u001b[0m\n\u001b[0;31m    True = 123\u001b[0m\n\u001b[0m    ^\u001b[0m\n\u001b[0;31mSyntaxError\u001b[0m\u001b[0;31m:\u001b[0m cannot assign to True\n"
          ]
        }
      ]
    },
    {
      "cell_type": "code",
      "source": [
        "break = continue"
      ],
      "metadata": {
        "colab": {
          "base_uri": "https://localhost:8080/",
          "height": 106
        },
        "id": "3jeyjdlBEzDG",
        "outputId": "5c8a88b9-c5ed-4d05-b615-14037a30b3f0"
      },
      "execution_count": 12,
      "outputs": [
        {
          "output_type": "error",
          "ename": "SyntaxError",
          "evalue": "invalid syntax (<ipython-input-12-7014047f7f22>, line 1)",
          "traceback": [
            "\u001b[0;36m  File \u001b[0;32m\"<ipython-input-12-7014047f7f22>\"\u001b[0;36m, line \u001b[0;32m1\u001b[0m\n\u001b[0;31m    break = continue\u001b[0m\n\u001b[0m          ^\u001b[0m\n\u001b[0;31mSyntaxError\u001b[0m\u001b[0;31m:\u001b[0m invalid syntax\n"
          ]
        }
      ]
    },
    {
      "cell_type": "code",
      "source": [
        "# exceptional case - built in methods should not be confused with keywords - like sum, print, max etc.\n",
        "print(max(1,2,3,4,5)) # max does the purpose of finding the largest number"
      ],
      "metadata": {
        "colab": {
          "base_uri": "https://localhost:8080/"
        },
        "id": "VoUcJHkEEzFf",
        "outputId": "7e90e5ae-4f9c-4364-9f92-1ab07c434fc1"
      },
      "execution_count": 13,
      "outputs": [
        {
          "output_type": "stream",
          "name": "stdout",
          "text": [
            "5\n"
          ]
        }
      ]
    },
    {
      "cell_type": "code",
      "source": [
        "max = \"apple\"\n",
        "print(max) # No Error"
      ],
      "metadata": {
        "colab": {
          "base_uri": "https://localhost:8080/"
        },
        "id": "UwXuQeSLEzIA",
        "outputId": "1cf2a994-a1c9-49f7-c92a-b811e111d7aa"
      },
      "execution_count": 14,
      "outputs": [
        {
          "output_type": "stream",
          "name": "stdout",
          "text": [
            "apple\n"
          ]
        }
      ]
    },
    {
      "cell_type": "code",
      "source": [
        "# but when we seek the help of max() to find the largest value, it fails!\n",
        "print(max(1,2,3,4,5)) # because max is now a string.\n",
        "\n",
        "# same with other built in methods as well! Be careful with print!\n",
        "# Because once the print loses its functionality, we can't print anything! We've to restart the runtime!! :("
      ],
      "metadata": {
        "colab": {
          "base_uri": "https://localhost:8080/",
          "height": 158
        },
        "id": "n5vIdnjKHdqc",
        "outputId": "c245f969-7023-4019-d55e-534ae7581ad0"
      },
      "execution_count": 15,
      "outputs": [
        {
          "output_type": "error",
          "ename": "TypeError",
          "evalue": "'str' object is not callable",
          "traceback": [
            "\u001b[0;31m---------------------------------------------------------------------------\u001b[0m",
            "\u001b[0;31mTypeError\u001b[0m                                 Traceback (most recent call last)",
            "\u001b[0;32m<ipython-input-15-f56daaad8a49>\u001b[0m in \u001b[0;36m<cell line: 0>\u001b[0;34m()\u001b[0m\n\u001b[1;32m      1\u001b[0m \u001b[0;31m# but when we seek the help of max() to find the largest value, it fails!\u001b[0m\u001b[0;34m\u001b[0m\u001b[0;34m\u001b[0m\u001b[0m\n\u001b[0;32m----> 2\u001b[0;31m \u001b[0mprint\u001b[0m\u001b[0;34m(\u001b[0m\u001b[0mmax\u001b[0m\u001b[0;34m(\u001b[0m\u001b[0;36m1\u001b[0m\u001b[0;34m,\u001b[0m\u001b[0;36m2\u001b[0m\u001b[0;34m,\u001b[0m\u001b[0;36m3\u001b[0m\u001b[0;34m,\u001b[0m\u001b[0;36m4\u001b[0m\u001b[0;34m,\u001b[0m\u001b[0;36m5\u001b[0m\u001b[0;34m)\u001b[0m\u001b[0;34m)\u001b[0m\u001b[0;34m\u001b[0m\u001b[0;34m\u001b[0m\u001b[0m\n\u001b[0m",
            "\u001b[0;31mTypeError\u001b[0m: 'str' object is not callable"
          ]
        }
      ]
    },
    {
      "cell_type": "code",
      "source": [
        "# Constant Variables - full capital\n",
        "PI = 3.14159       # All caps indicate this shouldn't change\n",
        "MAX_USERS = 1000\n",
        "\n",
        "print(PI, MAX_USERS)"
      ],
      "metadata": {
        "colab": {
          "base_uri": "https://localhost:8080/"
        },
        "id": "_dWbeEswHnf2",
        "outputId": "3ba5834a-4950-4c3a-8f81-709a509836c5"
      },
      "execution_count": 16,
      "outputs": [
        {
          "output_type": "stream",
          "name": "stdout",
          "text": [
            "3.14159 1000\n"
          ]
        }
      ]
    },
    {
      "cell_type": "code",
      "source": [
        "# In Python, Variables are References (Not Containers)\n",
        "a = 7\n",
        "b = a\n",
        "c = 7\n",
        "\n",
        "# all three variables have same memory!\n",
        "\n",
        "#proof\n",
        "print(id(a), id(b), id(c))"
      ],
      "metadata": {
        "colab": {
          "base_uri": "https://localhost:8080/"
        },
        "id": "aoZc2GK0Hnle",
        "outputId": "ad27c25b-e93a-4689-b35a-d346b006f59d"
      },
      "execution_count": 17,
      "outputs": [
        {
          "output_type": "stream",
          "name": "stdout",
          "text": [
            "10751048 10751048 10751048\n"
          ]
        }
      ]
    },
    {
      "cell_type": "code",
      "source": [
        "a = \"apple\" # a's reference is changed from 7 to \"apple\", so memory location changes!!\n",
        "print(id(a), id(b), id(c))"
      ],
      "metadata": {
        "colab": {
          "base_uri": "https://localhost:8080/"
        },
        "id": "Eh_Av7sgHnqW",
        "outputId": "eff4fef5-e080-407d-c40e-5740225e5338"
      },
      "execution_count": 18,
      "outputs": [
        {
          "output_type": "stream",
          "name": "stdout",
          "text": [
            "140102633590064 10751048 10751048\n"
          ]
        }
      ]
    },
    {
      "cell_type": "code",
      "source": [
        "# multiple assignments in a single line\n",
        "a,b,c,d = 1,2,3,4 # different values\n",
        "print(a,b,c,d)"
      ],
      "metadata": {
        "colab": {
          "base_uri": "https://localhost:8080/"
        },
        "id": "PBIsDKnZHnu3",
        "outputId": "cfcba38d-f317-4a05-c06d-6210e7c4d1e2"
      },
      "execution_count": 19,
      "outputs": [
        {
          "output_type": "stream",
          "name": "stdout",
          "text": [
            "1 2 3 4\n"
          ]
        }
      ]
    },
    {
      "cell_type": "code",
      "source": [
        "a = b = c = d = 2025 # same value\n",
        "print(a,b,c,d)"
      ],
      "metadata": {
        "colab": {
          "base_uri": "https://localhost:8080/"
        },
        "id": "ffeKSiKFIagn",
        "outputId": "51290cb2-c857-423b-df2f-c8364eda03ad"
      },
      "execution_count": 20,
      "outputs": [
        {
          "output_type": "stream",
          "name": "stdout",
          "text": [
            "2025 2025 2025 2025\n"
          ]
        }
      ]
    },
    {
      "cell_type": "code",
      "source": [
        "# optional type hinting\n",
        "\n",
        "# valid\n",
        "year: int = 2015\n",
        "name: str = \"Ziva\"\n",
        "print(year, name)"
      ],
      "metadata": {
        "colab": {
          "base_uri": "https://localhost:8080/"
        },
        "id": "y2fiYyeXIajZ",
        "outputId": "501abf67-0887-4699-e0ea-5a4dd59cffb8"
      },
      "execution_count": 21,
      "outputs": [
        {
          "output_type": "stream",
          "name": "stdout",
          "text": [
            "2015 Ziva\n"
          ]
        }
      ]
    },
    {
      "cell_type": "code",
      "source": [
        "# invalid\n",
        "year: str = 2015\n",
        "name: str = \"Ziva\"\n",
        "print(year, name)\n",
        "# this doesn't cause error even if the datatype is wrong! This is just a indication for the datatype to be used!"
      ],
      "metadata": {
        "colab": {
          "base_uri": "https://localhost:8080/"
        },
        "id": "u9utlFKHIama",
        "outputId": "9bead163-10f0-4bd4-a32a-f5fbde4fd17f"
      },
      "execution_count": 22,
      "outputs": [
        {
          "output_type": "stream",
          "name": "stdout",
          "text": [
            "2015 Ziva\n"
          ]
        }
      ]
    },
    {
      "cell_type": "code",
      "source": [
        "# Python handles memory automatically. When a variable has no more references, it's cleaned up.\n",
        "a = 123\n",
        "b = a\n",
        "del a\n",
        "# b still exists and holds the value"
      ],
      "metadata": {
        "id": "sEIw8WCgIapK"
      },
      "execution_count": 23,
      "outputs": []
    },
    {
      "cell_type": "code",
      "source": [
        "print(a,b) # Garbage Collection done for 'a'"
      ],
      "metadata": {
        "colab": {
          "base_uri": "https://localhost:8080/",
          "height": 141
        },
        "id": "7Y1sc-bHIasB",
        "outputId": "4cf6a90a-7543-4584-950c-723f729b0cfb"
      },
      "execution_count": 24,
      "outputs": [
        {
          "output_type": "error",
          "ename": "NameError",
          "evalue": "name 'a' is not defined",
          "traceback": [
            "\u001b[0;31m---------------------------------------------------------------------------\u001b[0m",
            "\u001b[0;31mNameError\u001b[0m                                 Traceback (most recent call last)",
            "\u001b[0;32m<ipython-input-24-c704b7a6b29d>\u001b[0m in \u001b[0;36m<cell line: 0>\u001b[0;34m()\u001b[0m\n\u001b[0;32m----> 1\u001b[0;31m \u001b[0mprint\u001b[0m\u001b[0;34m(\u001b[0m\u001b[0ma\u001b[0m\u001b[0;34m,\u001b[0m\u001b[0mb\u001b[0m\u001b[0;34m)\u001b[0m\u001b[0;34m\u001b[0m\u001b[0;34m\u001b[0m\u001b[0m\n\u001b[0m",
            "\u001b[0;31mNameError\u001b[0m: name 'a' is not defined"
          ]
        }
      ]
    },
    {
      "cell_type": "code",
      "source": [
        "print(b)"
      ],
      "metadata": {
        "colab": {
          "base_uri": "https://localhost:8080/"
        },
        "id": "uio67hSRJdDZ",
        "outputId": "513a9ffd-7612-493a-f3b1-a0d327a53807"
      },
      "execution_count": 25,
      "outputs": [
        {
          "output_type": "stream",
          "name": "stdout",
          "text": [
            "123\n"
          ]
        }
      ]
    }
  ]
}
