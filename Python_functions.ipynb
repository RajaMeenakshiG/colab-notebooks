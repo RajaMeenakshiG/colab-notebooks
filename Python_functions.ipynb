{
  "nbformat": 4,
  "nbformat_minor": 0,
  "metadata": {
    "colab": {
      "provenance": []
    },
    "kernelspec": {
      "name": "python3",
      "display_name": "Python 3"
    },
    "language_info": {
      "name": "python"
    }
  },
  "cells": [
    {
      "cell_type": "code",
      "source": [
        "# simple function\n",
        "def greet(): # function declaration\n",
        "    print(\"Welcome to Python Session about Functions\")\n",
        "\n",
        "# function call - this is important else the function body will not get executed\n",
        "greet()"
      ],
      "metadata": {
        "colab": {
          "base_uri": "https://localhost:8080/"
        },
        "id": "2GQHtx52HzMd",
        "outputId": "345f799c-e669-40d3-ee75-16c2b7e96abc"
      },
      "execution_count": 1,
      "outputs": [
        {
          "output_type": "stream",
          "name": "stdout",
          "text": [
            "Welcome to Python Session about Functions\n"
          ]
        }
      ]
    },
    {
      "cell_type": "code",
      "source": [
        "# Function with Parameters\n",
        "def greet(name):\n",
        "    print(f\"Hello, {name}!\")\n",
        "    print(\"Welcome to Python Session about Functions\\n\")\n",
        "\n",
        "# Let's greet two persons\n",
        "greet(\"Mahi\")\n",
        "greet(\"Ziva\")"
      ],
      "metadata": {
        "colab": {
          "base_uri": "https://localhost:8080/"
        },
        "id": "EbqWa09aHzPE",
        "outputId": "66489b84-76fa-46db-cf6a-ebbe5bb8fb7e"
      },
      "execution_count": 2,
      "outputs": [
        {
          "output_type": "stream",
          "name": "stdout",
          "text": [
            "Hello, Mahi!\n",
            "Welcome to Python Session about Functions\n",
            "\n",
            "Hello, Ziva!\n",
            "Welcome to Python Session about Functions\n",
            "\n"
          ]
        }
      ]
    },
    {
      "cell_type": "code",
      "source": [
        "# Function with return values\n",
        "def add(a, b):\n",
        "    return a + b\n",
        "\n",
        "result = add(2, 5)\n",
        "print(result)\n"
      ],
      "metadata": {
        "colab": {
          "base_uri": "https://localhost:8080/"
        },
        "id": "WEmDplqZHzRl",
        "outputId": "4a17bc07-1101-4708-c5e5-3a9baf6e4396"
      },
      "execution_count": 3,
      "outputs": [
        {
          "output_type": "stream",
          "name": "stdout",
          "text": [
            "7\n"
          ]
        }
      ]
    },
    {
      "cell_type": "code",
      "source": [
        "# Docstrings - Documentation for the function\n",
        "def greet(name):\n",
        "    \"\"\"This function greets the person passed in.\"\"\"\n",
        "    return f\"Hello, {name}\"\n",
        "\n",
        "print(greet.__doc__)"
      ],
      "metadata": {
        "colab": {
          "base_uri": "https://localhost:8080/"
        },
        "id": "IsA_QOYrM_Ro",
        "outputId": "ec3dcf79-c28c-4d0b-a153-7724508280e7"
      },
      "execution_count": 4,
      "outputs": [
        {
          "output_type": "stream",
          "name": "stdout",
          "text": [
            "This function greets the person passed in.\n"
          ]
        }
      ]
    },
    {
      "cell_type": "code",
      "source": [
        "help(greet)"
      ],
      "metadata": {
        "colab": {
          "base_uri": "https://localhost:8080/"
        },
        "id": "PI-U6ORnNHln",
        "outputId": "53106a14-5a4a-47f0-ea3f-03f9115b6b50"
      },
      "execution_count": 5,
      "outputs": [
        {
          "output_type": "stream",
          "name": "stdout",
          "text": [
            "Help on function greet in module __main__:\n",
            "\n",
            "greet(name)\n",
            "    This function greets the person passed in.\n",
            "\n"
          ]
        }
      ]
    },
    {
      "cell_type": "code",
      "source": [
        "# 4 types of Functions\n",
        "'''\n",
        "1. Functions with parameters and with return values\n",
        "2. Functions with parameters and without return values\n",
        "3. Functions without parameters and with return values\n",
        "4. Functions without parameters and without return values\n",
        "'''"
      ],
      "metadata": {
        "id": "YSLYZv35HzT7"
      },
      "execution_count": null,
      "outputs": []
    },
    {
      "cell_type": "code",
      "source": [
        "# 1. Functions with parameters and with return values\n",
        "def add1(a, b):\n",
        "    return a + b\n",
        "\n",
        "result = add1(2, 5) # method 1 of calling is assiging to a variable\n",
        "print(result)\n",
        "\n",
        "print(add1(1,2)) # method 2 of calling is calling inside print"
      ],
      "metadata": {
        "colab": {
          "base_uri": "https://localhost:8080/"
        },
        "id": "1jy-rF-4HzWd",
        "outputId": "c5905c38-ade7-4cfb-b8b2-2000897fdb4c"
      },
      "execution_count": 6,
      "outputs": [
        {
          "output_type": "stream",
          "name": "stdout",
          "text": [
            "7\n",
            "3\n"
          ]
        }
      ]
    },
    {
      "cell_type": "code",
      "source": [
        "# common errors in type 1\n",
        "# calling without assigning to a variable / not calling inside print\n",
        "add1(10,20) # this answer is missing\n",
        "add1(30,40)"
      ],
      "metadata": {
        "colab": {
          "base_uri": "https://localhost:8080/"
        },
        "id": "6Js3_WV2HzZF",
        "outputId": "ef52078b-245d-408a-a829-61d129e72795"
      },
      "execution_count": 7,
      "outputs": [
        {
          "output_type": "execute_result",
          "data": {
            "text/plain": [
              "70"
            ]
          },
          "metadata": {},
          "execution_count": 7
        }
      ]
    },
    {
      "cell_type": "code",
      "source": [
        "'''\n",
        "This is like I'm giving a chocolate to persons who are attending our Functions class\n",
        "The students must be present to get the chocolate - print(gettingChocolate())\n",
        "or\n",
        "The students giving their ID to their friends to get their chocolates - friend = gettingChocolate()\n",
        "Then getting the chocolate from the friend print(friend)\n",
        "\n",
        "If none of those two methods is followed then the given chocolate present in the desk can be stonen by anyone like\n",
        "add1(10,20) # this answer is missing\n",
        "'''"
      ],
      "metadata": {
        "id": "gto9R3phHzbs"
      },
      "execution_count": null,
      "outputs": []
    },
    {
      "cell_type": "code",
      "source": [
        "# 2. Functions with parameters and without return values\n",
        "def add2(a, b):\n",
        "    print(a + b)\n",
        "\n",
        "add2(2, 5)\n",
        "add2(1, 2)"
      ],
      "metadata": {
        "colab": {
          "base_uri": "https://localhost:8080/"
        },
        "id": "DgNN3mTAHzeT",
        "outputId": "24beb793-a8ca-4d83-8694-0eeec045db99"
      },
      "execution_count": 8,
      "outputs": [
        {
          "output_type": "stream",
          "name": "stdout",
          "text": [
            "7\n",
            "3\n"
          ]
        }
      ]
    },
    {
      "cell_type": "code",
      "source": [
        "# common errors in type 1\n",
        "# calling by assigning to a variable / calling inside print\n",
        "result = add2(10, 20)\n",
        "print(result)\n",
        "\n",
        "print(add2(30, 40))\n",
        "# it will print extra None"
      ],
      "metadata": {
        "colab": {
          "base_uri": "https://localhost:8080/"
        },
        "id": "Pzy-ansnJj2x",
        "outputId": "039adb78-e6c6-4a79-ee56-80c4bb479142"
      },
      "execution_count": 9,
      "outputs": [
        {
          "output_type": "stream",
          "name": "stdout",
          "text": [
            "30\n",
            "None\n",
            "70\n",
            "None\n"
          ]
        }
      ]
    },
    {
      "cell_type": "code",
      "source": [
        "'''\n",
        "This is like I'm taking an online session about Functions\n",
        "You are waiting in the lab to get the chocolate like print(getChocolate())\n",
        "You will get the virtual chocolate only; so answer + None\n",
        "\n",
        "Similarly if you assign your friend to get the chocolate as friend = getChocolate()\n",
        "In this case as well virtual chocolate only.\n",
        "\n",
        "Endless waiting + Virtual Chocolate\n",
        "So calling directly is advisable!\n",
        "'''"
      ],
      "metadata": {
        "id": "oglFd9XJJj5w"
      },
      "execution_count": null,
      "outputs": []
    },
    {
      "cell_type": "code",
      "source": [
        "# 3. Functions without parameters and with return values\n",
        "def add3():\n",
        "    a = 10\n",
        "    b = 20\n",
        "    return a + b\n",
        "\n",
        "result = add3() # function call equivalent to type 1\n",
        "print(result)\n",
        "\n",
        "print(add3()) # fixed a and b values"
      ],
      "metadata": {
        "colab": {
          "base_uri": "https://localhost:8080/"
        },
        "id": "9RomYq22Hzgs",
        "outputId": "f2be195f-5be7-4f17-cdbd-829c433b31a7"
      },
      "execution_count": 10,
      "outputs": [
        {
          "output_type": "stream",
          "name": "stdout",
          "text": [
            "30\n",
            "30\n"
          ]
        }
      ]
    },
    {
      "cell_type": "code",
      "source": [
        "# 4. Functions without parameters and without return values\n",
        "def add4():\n",
        "    a = int(input())\n",
        "    b = int(input())\n",
        "    print(f\"The sum of {a} and {b} is {a + b}.\")\n",
        "\n",
        "add4() # function call equivalent to type 2\n",
        "print()\n",
        "add4() # as user inputs; no fixed results"
      ],
      "metadata": {
        "colab": {
          "base_uri": "https://localhost:8080/"
        },
        "id": "N9FFYllKKO6B",
        "outputId": "a129924b-73e8-42d2-b395-ef4ee2eaba29"
      },
      "execution_count": 11,
      "outputs": [
        {
          "output_type": "stream",
          "name": "stdout",
          "text": [
            "1\n",
            "2\n",
            "The sum of 1 and 2 is 3.\n",
            "\n",
            "4\n",
            "5\n",
            "The sum of 4 and 5 is 9.\n"
          ]
        }
      ]
    },
    {
      "cell_type": "code",
      "source": [
        "# Default Parameter Value\n",
        "def multiplication(a = 1, b = 1):\n",
        "    print(f\"The product of {a} and {b} is {a*b}.\")\n",
        "\n",
        "multiplication() # 1 * 1 # both values replaced with a and b\n",
        "multiplication(2) # 2 * 1 # second value replaced with b\n",
        "multiplication(2, 3) # 2 * 3"
      ],
      "metadata": {
        "colab": {
          "base_uri": "https://localhost:8080/"
        },
        "id": "kW4816GrHzjE",
        "outputId": "8ae5f82a-58cf-4c72-84cd-45fcd836c380"
      },
      "execution_count": 12,
      "outputs": [
        {
          "output_type": "stream",
          "name": "stdout",
          "text": [
            "The product of 1 and 1 is 1.\n",
            "The product of 2 and 1 is 2.\n",
            "The product of 2 and 3 is 6.\n"
          ]
        }
      ]
    },
    {
      "cell_type": "code",
      "source": [
        "# common error in default parameters\n",
        "# non-default arguments should not follow default arguments\n",
        "def subtract(a = 0, b):\n",
        "    print(f\"The difference of {a} and {b} is {a*b}.\")\n",
        "\n",
        "subtract(1)"
      ],
      "metadata": {
        "colab": {
          "base_uri": "https://localhost:8080/",
          "height": 106
        },
        "id": "EjGCy4nfLHob",
        "outputId": "7b71e919-492c-41f4-fe12-7b9963a649a3"
      },
      "execution_count": 13,
      "outputs": [
        {
          "output_type": "error",
          "ename": "SyntaxError",
          "evalue": "non-default argument follows default argument (<ipython-input-13-dc5ce1f457a2>, line 3)",
          "traceback": [
            "\u001b[0;36m  File \u001b[0;32m\"<ipython-input-13-dc5ce1f457a2>\"\u001b[0;36m, line \u001b[0;32m3\u001b[0m\n\u001b[0;31m    def subtract(a = 0, b):\u001b[0m\n\u001b[0m                        ^\u001b[0m\n\u001b[0;31mSyntaxError\u001b[0m\u001b[0;31m:\u001b[0m non-default argument follows default argument\n"
          ]
        }
      ]
    },
    {
      "cell_type": "code",
      "source": [
        "# Keyword Arguments\n",
        "def introduce(name, age):\n",
        "    print(f\"My name is {name} and I am {age} years old.\")\n",
        "\n",
        "introduce(age=10, name=\"Ziva\") # parameters can be passed in any order"
      ],
      "metadata": {
        "colab": {
          "base_uri": "https://localhost:8080/"
        },
        "id": "rrySpc3aIN3W",
        "outputId": "dec8282d-15dd-4b06-db16-4e1c0b3a343c"
      },
      "execution_count": 14,
      "outputs": [
        {
          "output_type": "stream",
          "name": "stdout",
          "text": [
            "My name is Ziva and I am 10 years old.\n"
          ]
        }
      ]
    },
    {
      "cell_type": "code",
      "source": [
        "# Arbitrary Arguments\n",
        "# *args – for variable number of positional arguments\n",
        "def total(*numbers):\n",
        "    return sum(numbers)\n",
        "\n",
        "print(total(1, 2, 3))  # Output: 6\n",
        "print(total(10, 20, 30, 40))  # Output: 100"
      ],
      "metadata": {
        "colab": {
          "base_uri": "https://localhost:8080/"
        },
        "id": "s9FMJ928IN50",
        "outputId": "48ba97c9-b746-4355-f647-60bb4e0663f0"
      },
      "execution_count": 15,
      "outputs": [
        {
          "output_type": "stream",
          "name": "stdout",
          "text": [
            "6\n",
            "100\n"
          ]
        }
      ]
    },
    {
      "cell_type": "code",
      "source": [
        "# **kwargs – for variable number of keyword arguments -- We'll discuss Dictionary Soon!\n",
        "def about_me(**values):\n",
        "    for key, value in values.items():\n",
        "        print(f\"{key}  :  {value}\")\n",
        "\n",
        "about_me(Name=\"MS Dhoni\", DOB=\"07-07-1981\", Achievement=\"WC 2011\", Quality=\"Being Cool!\")"
      ],
      "metadata": {
        "colab": {
          "base_uri": "https://localhost:8080/"
        },
        "id": "7IM154hdLfal",
        "outputId": "d1c5e471-4b8a-442a-8ff2-c7817ec896a4"
      },
      "execution_count": 16,
      "outputs": [
        {
          "output_type": "stream",
          "name": "stdout",
          "text": [
            "Name  :  MS Dhoni\n",
            "DOB  :  07-07-1981\n",
            "Achievement  :  WC 2011\n",
            "Quality  :  Being Cool!\n"
          ]
        }
      ]
    },
    {
      "cell_type": "code",
      "source": [
        "# Lambda Function (anonymous function)\n",
        "square = lambda x: x ** 2\n",
        "print(square(4))"
      ],
      "metadata": {
        "colab": {
          "base_uri": "https://localhost:8080/"
        },
        "id": "AgpJUL5NIN8N",
        "outputId": "06ec2f48-1c81-4ad1-b5b8-e8e2c33476f9"
      },
      "execution_count": 17,
      "outputs": [
        {
          "output_type": "stream",
          "name": "stdout",
          "text": [
            "16\n"
          ]
        }
      ]
    },
    {
      "cell_type": "code",
      "source": [
        "# Function Annotations (Type Hints)\n",
        "# Helps to document expected input and output types\n",
        "\n",
        "def greet(name: str) -> str:\n",
        "    return f\"Hello, {name}!\"\n",
        "\n",
        "print(greet(\"Dhoni\"))\n",
        "print(greet(7)) # ni error if datatype is wrongly given as well; only hints!!"
      ],
      "metadata": {
        "colab": {
          "base_uri": "https://localhost:8080/"
        },
        "id": "LRaDjpNFMfF-",
        "outputId": "88dd028d-5414-4272-f6f2-8ab0500ec8d1"
      },
      "execution_count": 18,
      "outputs": [
        {
          "output_type": "stream",
          "name": "stdout",
          "text": [
            "Hello, Dhoni!\n",
            "Hello, 7!\n"
          ]
        }
      ]
    },
    {
      "cell_type": "code",
      "source": [
        "# Nested Functions\n",
        "def outer():\n",
        "    def inner():\n",
        "        return \"I'm the inner one!\"\n",
        "    return inner()\n",
        "\n",
        "print(outer())"
      ],
      "metadata": {
        "colab": {
          "base_uri": "https://localhost:8080/"
        },
        "id": "DODBxF9KMfIY",
        "outputId": "9e434898-30e1-4182-a31b-fd088fac315b"
      },
      "execution_count": 19,
      "outputs": [
        {
          "output_type": "stream",
          "name": "stdout",
          "text": [
            "I'm the inner one!\n"
          ]
        }
      ]
    },
    {
      "cell_type": "code",
      "source": [
        "# Program to find the Factorial of a number\n",
        "def factorial(n):\n",
        "    if n == 0 or n == 1:\n",
        "        return 1\n",
        "    fact = 1\n",
        "    for i in range(2, n + 1):\n",
        "        fact *= i\n",
        "    return fact\n",
        "\n",
        "num = 7\n",
        "print(f\"The Factorial of {num} is {factorial(num)}.\")"
      ],
      "metadata": {
        "colab": {
          "base_uri": "https://localhost:8080/"
        },
        "id": "aYhkAKooNnTQ",
        "outputId": "49956e02-d23d-415c-ef77-ac5b4ea27cea"
      },
      "execution_count": 20,
      "outputs": [
        {
          "output_type": "stream",
          "name": "stdout",
          "text": [
            "The Factorial of 7 is 5040.\n"
          ]
        }
      ]
    },
    {
      "cell_type": "code",
      "source": [
        "# Program to check whether the number is Prime or Composite\n",
        "def is_prime(n):\n",
        "    if n <= 1:\n",
        "        return False  # 0 and 1 are not prime\n",
        "    for i in range(2, int(n ** 0.5) + 1):  # check up to square root of n\n",
        "        if n % i == 0:\n",
        "            return False\n",
        "    return True\n",
        "\n",
        "num = 7\n",
        "if is_prime(num):\n",
        "    print(f\"{num} is a prime number!\")\n",
        "else:\n",
        "    print(f\"{num} is a composite number.\")"
      ],
      "metadata": {
        "colab": {
          "base_uri": "https://localhost:8080/"
        },
        "id": "Z2xkyOJCMfK1",
        "outputId": "b6789f21-c600-423a-9c4c-7c839a68c31a"
      },
      "execution_count": 21,
      "outputs": [
        {
          "output_type": "stream",
          "name": "stdout",
          "text": [
            "7 is a prime number!\n"
          ]
        }
      ]
    },
    {
      "cell_type": "code",
      "source": [
        "# Print the First n Prime Numbers\n",
        "def is_prime(num):\n",
        "    if num < 2:\n",
        "        return False\n",
        "    for i in range(2, int(num ** 0.5) + 1):\n",
        "        if num % i == 0:\n",
        "            return False\n",
        "    return True\n",
        "\n",
        "def print_primes(n):\n",
        "    count = 0\n",
        "    num = 2  # The first prime number\n",
        "    while count < n:\n",
        "        if is_prime(num):\n",
        "            print(num, end=\" \")\n",
        "            count += 1\n",
        "        num += 1\n",
        "\n",
        "num = 25\n",
        "print_primes(num)"
      ],
      "metadata": {
        "colab": {
          "base_uri": "https://localhost:8080/"
        },
        "id": "0FbTlYCTRsaZ",
        "outputId": "5e3c4a40-b214-4147-80c3-c6840b53cb05"
      },
      "execution_count": 22,
      "outputs": [
        {
          "output_type": "stream",
          "name": "stdout",
          "text": [
            "2 3 5 7 11 13 17 19 23 29 31 37 41 43 47 53 59 61 67 71 73 79 83 89 97 "
          ]
        }
      ]
    },
    {
      "cell_type": "code",
      "source": [
        "# Program to find the Sum of the Digits\n",
        "def sum_of_digits(n):\n",
        "    total = 0\n",
        "    while n > 0:\n",
        "        rem = n % 10\n",
        "        total += rem\n",
        "        n //= 10\n",
        "    return total\n",
        "\n",
        "print(sum_of_digits(123))"
      ],
      "metadata": {
        "colab": {
          "base_uri": "https://localhost:8080/"
        },
        "id": "_FmiaD8YN9bZ",
        "outputId": "cf1e9096-6620-449e-a6e5-e3f23c6d1688"
      },
      "execution_count": 23,
      "outputs": [
        {
          "output_type": "stream",
          "name": "stdout",
          "text": [
            "6\n"
          ]
        }
      ]
    },
    {
      "cell_type": "code",
      "source": [
        "# Reverse a number\n",
        "def reverse_number(n):\n",
        "    reversed_num = 0\n",
        "    while n > 0:\n",
        "        digit = n % 10  # Get the last digit\n",
        "        reversed_num = reversed_num * 10 + digit  # Shift current digits left and add the new digit\n",
        "        n = n // 10  # Remove the last digit from n\n",
        "    return reversed_num\n",
        "\n",
        "num = 1234\n",
        "print(reverse_number(num))"
      ],
      "metadata": {
        "colab": {
          "base_uri": "https://localhost:8080/"
        },
        "id": "XlZ-sOjHSDay",
        "outputId": "3f07ff63-3633-405a-e1c0-8eeabbce11f3"
      },
      "execution_count": 24,
      "outputs": [
        {
          "output_type": "stream",
          "name": "stdout",
          "text": [
            "4321\n"
          ]
        }
      ]
    },
    {
      "cell_type": "code",
      "source": [
        "# Fibonacci Series\n",
        "def print_fibonacci(n):\n",
        "    a, b = 0, 1\n",
        "    if n >= 1:\n",
        "        print(a, end=\" \")\n",
        "    if n >= 2:\n",
        "        print(b, end=\" \")\n",
        "\n",
        "    for _ in range(2, n):\n",
        "        a, b = b, a + b\n",
        "        print(b, end=\" \")\n",
        "\n",
        "num = 18\n",
        "print_fibonacci(num)"
      ],
      "metadata": {
        "colab": {
          "base_uri": "https://localhost:8080/"
        },
        "id": "cUxct4eZN9g5",
        "outputId": "3ce8f686-de53-4823-81b9-9e958f2ca45e"
      },
      "execution_count": 25,
      "outputs": [
        {
          "output_type": "stream",
          "name": "stdout",
          "text": [
            "0 1 1 2 3 5 8 13 21 34 55 89 144 233 377 610 987 1597 "
          ]
        }
      ]
    },
    {
      "cell_type": "code",
      "source": [
        "# Print Armstrong Numbers in the given range\n",
        "'''\n",
        "A number is called an Armstrong number\n",
        "if the sum of its own digits each raised to the power of the number of digits is equal to the number itself.\n",
        "\n",
        "153 → 1³ + 5³ + 3³ = 153\n",
        "\n",
        "9474 → 9⁴ + 4⁴ + 7⁴ + 4⁴ = 9474\n",
        "\n",
        "'''\n",
        "def is_armstrong(num):\n",
        "    temp = num\n",
        "    power = len(str(num))\n",
        "    total = 0\n",
        "    while temp > 0:\n",
        "        digit = temp % 10\n",
        "        total += digit ** power\n",
        "        temp //= 10\n",
        "    return total == num\n",
        "\n",
        "def print_armstrong_numbers(start, end):\n",
        "    print(f\"Armstrong numbers between {start} and {end} are:\")\n",
        "    for i in range(start, end + 1):\n",
        "        if is_armstrong(i):\n",
        "            print(i, end= \" \")\n",
        "\n",
        "print_armstrong_numbers(100, 1000)"
      ],
      "metadata": {
        "colab": {
          "base_uri": "https://localhost:8080/"
        },
        "id": "xKXA857pN9d8",
        "outputId": "4eb18c4c-faf3-4497-9670-695828c3ba27"
      },
      "execution_count": 26,
      "outputs": [
        {
          "output_type": "stream",
          "name": "stdout",
          "text": [
            "Armstrong numbers between 100 and 1000 are:\n",
            "153 370 371 407 "
          ]
        }
      ]
    },
    {
      "cell_type": "code",
      "source": [
        "# 🛒 E-commerce Application\n",
        "\n",
        "# Function to display available products\n",
        "def display_products():\n",
        "    print(\"\\nAvailable Products:\")\n",
        "    print(\"1. Laptop - ₹50000\")\n",
        "    print(\"2. Smartphone - ₹20000\")\n",
        "    print(\"3. Headphones - ₹3000\")\n",
        "    print(\"4. Smartwatch - ₹2000\")\n",
        "    print(\"5. Tablet - ₹10000\")\n",
        "\n",
        "# Function to get the price of the selected product\n",
        "def get_product_price(product_id):\n",
        "    if product_id == 1:\n",
        "        return 50000\n",
        "    elif product_id == 2:\n",
        "        return 20000\n",
        "    elif product_id == 3:\n",
        "        return 3000\n",
        "    elif product_id == 4:\n",
        "        return 2000\n",
        "    elif product_id == 5:\n",
        "        return 10000\n",
        "    else:\n",
        "        return 0  # Return 0 for invalid product IDs\n",
        "\n",
        "# Function to calculate the total price of the cart\n",
        "def calculate_total(cart_count, total_price):\n",
        "    print(f\"\\nYour total amount is: ₹{total_price}\")\n",
        "    print(f\"Thank you for shopping with us! You've bought {cart_count} items.\")\n",
        "\n",
        "# Main function to run the e-commerce application\n",
        "def main():\n",
        "    cart_count = 0  # Number of items in the cart\n",
        "    total_price = 0  # Total price of the cart\n",
        "\n",
        "    while True:\n",
        "        display_products()\n",
        "\n",
        "        print(\"\\n1. Add to cart\\n2. View total\\n3. Checkout\\n4. Exit\")\n",
        "        choice = int(input(\"Please select an option: \"))\n",
        "\n",
        "        if choice == 1:\n",
        "            product_id = int(input(\"Enter product ID to add to cart (1-5): \"))\n",
        "            product_price = get_product_price(product_id)\n",
        "\n",
        "            if product_price > 0:\n",
        "                cart_count += 1\n",
        "                total_price += product_price\n",
        "                print(f\"Added product with ID {product_id} to your cart.\")\n",
        "            else:\n",
        "                print(\"Invalid product ID. Please try again.\")\n",
        "\n",
        "        elif choice == 2:\n",
        "            print(f\"\\nYou have {cart_count} items in your cart. Total: ₹{total_price}\")\n",
        "\n",
        "        elif choice == 3:\n",
        "            calculate_total(cart_count, total_price)\n",
        "            break\n",
        "\n",
        "        elif choice == 4:\n",
        "            print(\"Thank you!\")\n",
        "            break\n",
        "\n",
        "        else:\n",
        "            print(\"Invalid choice. Please try again.\")\n",
        "\n",
        "# Run the application\n",
        "main()\n"
      ],
      "metadata": {
        "colab": {
          "base_uri": "https://localhost:8080/"
        },
        "id": "R0PHrjj3TSCz",
        "outputId": "4ed9d948-4546-4591-d6d9-adac95067d44"
      },
      "execution_count": 28,
      "outputs": [
        {
          "output_type": "stream",
          "name": "stdout",
          "text": [
            "\n",
            "Available Products:\n",
            "1. Laptop - ₹50000\n",
            "2. Smartphone - ₹20000\n",
            "3. Headphones - ₹3000\n",
            "4. Smartwatch - ₹2000\n",
            "5. Tablet - ₹10000\n",
            "\n",
            "1. Add to cart\n",
            "2. View total\n",
            "3. Checkout\n",
            "4. Exit\n",
            "Please select an option: 1\n",
            "Enter product ID to add to cart (1-5): 1\n",
            "Added product with ID 1 to your cart.\n",
            "\n",
            "Available Products:\n",
            "1. Laptop - ₹50000\n",
            "2. Smartphone - ₹20000\n",
            "3. Headphones - ₹3000\n",
            "4. Smartwatch - ₹2000\n",
            "5. Tablet - ₹10000\n",
            "\n",
            "1. Add to cart\n",
            "2. View total\n",
            "3. Checkout\n",
            "4. Exit\n",
            "Please select an option: 1\n",
            "Enter product ID to add to cart (1-5): 3\n",
            "Added product with ID 3 to your cart.\n",
            "\n",
            "Available Products:\n",
            "1. Laptop - ₹50000\n",
            "2. Smartphone - ₹20000\n",
            "3. Headphones - ₹3000\n",
            "4. Smartwatch - ₹2000\n",
            "5. Tablet - ₹10000\n",
            "\n",
            "1. Add to cart\n",
            "2. View total\n",
            "3. Checkout\n",
            "4. Exit\n",
            "Please select an option: 2\n",
            "\n",
            "You have 2 items in your cart. Total: ₹53000\n",
            "\n",
            "Available Products:\n",
            "1. Laptop - ₹50000\n",
            "2. Smartphone - ₹20000\n",
            "3. Headphones - ₹3000\n",
            "4. Smartwatch - ₹2000\n",
            "5. Tablet - ₹10000\n",
            "\n",
            "1. Add to cart\n",
            "2. View total\n",
            "3. Checkout\n",
            "4. Exit\n",
            "Please select an option: 1\n",
            "Enter product ID to add to cart (1-5): 4\n",
            "Added product with ID 4 to your cart.\n",
            "\n",
            "Available Products:\n",
            "1. Laptop - ₹50000\n",
            "2. Smartphone - ₹20000\n",
            "3. Headphones - ₹3000\n",
            "4. Smartwatch - ₹2000\n",
            "5. Tablet - ₹10000\n",
            "\n",
            "1. Add to cart\n",
            "2. View total\n",
            "3. Checkout\n",
            "4. Exit\n",
            "Please select an option: 3\n",
            "\n",
            "Your total amount is: ₹55000\n",
            "Thank you for shopping with us! You've bought 3 items.\n"
          ]
        }
      ]
    }
  ]
}