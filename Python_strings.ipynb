{
  "nbformat": 4,
  "nbformat_minor": 0,
  "metadata": {
    "colab": {
      "provenance": []
    },
    "kernelspec": {
      "name": "python3",
      "display_name": "Python 3"
    },
    "language_info": {
      "name": "python"
    }
  },
  "cells": [
    {
      "cell_type": "code",
      "source": [
        "# Strings in Python are sequences of characters enclosed in quotes.\n",
        "s1 = \"Hello World\"\n",
        "s2 = 'Hello World'\n",
        "s3 = '''Hello World'''\n",
        "s4 = \"\"\"Hello World\"\"\"\n",
        "print(s1)\n",
        "print(s2)\n",
        "print(s3)\n",
        "print(s4)"
      ],
      "metadata": {
        "colab": {
          "base_uri": "https://localhost:8080/"
        },
        "id": "LVBUjsk68u4p",
        "outputId": "e370fcfe-c17b-42bb-b740-3c0db1aaf01a"
      },
      "execution_count": 1,
      "outputs": [
        {
          "output_type": "stream",
          "name": "stdout",
          "text": [
            "Hello World\n",
            "Hello World\n",
            "Hello World\n",
            "Hello World\n"
          ]
        }
      ]
    },
    {
      "cell_type": "code",
      "source": [
        "# Length of the string\n",
        "s = \"Hello World\" # space is also considered\n",
        "print(len(s))"
      ],
      "metadata": {
        "colab": {
          "base_uri": "https://localhost:8080/"
        },
        "id": "OvDkRcFG8u7Y",
        "outputId": "fa3ead5f-aa40-4189-f8e7-302bef66dac7"
      },
      "execution_count": 2,
      "outputs": [
        {
          "output_type": "stream",
          "name": "stdout",
          "text": [
            "11\n"
          ]
        }
      ]
    },
    {
      "cell_type": "code",
      "source": [
        "# concatenation\n",
        "s1 = \"Hello\"\n",
        "s2 = \"World\"\n",
        "s3 = s1 + \" \" + s2\n",
        "print(s3)"
      ],
      "metadata": {
        "colab": {
          "base_uri": "https://localhost:8080/"
        },
        "id": "YxW0sk-a8u-Z",
        "outputId": "19014845-ff81-4be5-8a46-f46dc6a98227"
      },
      "execution_count": 3,
      "outputs": [
        {
          "output_type": "stream",
          "name": "stdout",
          "text": [
            "Hello World\n"
          ]
        }
      ]
    },
    {
      "cell_type": "code",
      "source": [
        "# repetition\n",
        "s = \"abc \"\n",
        "print(s * 7)"
      ],
      "metadata": {
        "colab": {
          "base_uri": "https://localhost:8080/"
        },
        "id": "B58o5mRS8vBC",
        "outputId": "8c52888d-b143-4bbe-be64-5de677705bfd"
      },
      "execution_count": 4,
      "outputs": [
        {
          "output_type": "stream",
          "name": "stdout",
          "text": [
            "abc abc abc abc abc abc abc \n"
          ]
        }
      ]
    },
    {
      "cell_type": "code",
      "source": [
        "# iteration using two format of for loops\n",
        "s = \"abcde\"\n",
        "for i in range(0, len(s)):\n",
        "  print(s[i], end = \" \")\n",
        "print()\n",
        "for i in s:\n",
        "  print(i, end = \" \")"
      ],
      "metadata": {
        "colab": {
          "base_uri": "https://localhost:8080/"
        },
        "id": "YiVttoHBMIKA",
        "outputId": "833440e2-a582-42e7-9f43-8230cb4bac97"
      },
      "execution_count": 5,
      "outputs": [
        {
          "output_type": "stream",
          "name": "stdout",
          "text": [
            "a b c d e \n",
            "a b c d e "
          ]
        }
      ]
    },
    {
      "cell_type": "code",
      "source": [
        "# strings are immutable\n",
        "s = \"Hello World\"\n",
        "s[0] = \"h\"  #Error: 'str' object does not support item assignment"
      ],
      "metadata": {
        "colab": {
          "base_uri": "https://localhost:8080/",
          "height": 176
        },
        "id": "WEouAZi68vDw",
        "outputId": "41bbd503-dbc5-455a-fb7f-7901c6342fb0"
      },
      "execution_count": 6,
      "outputs": [
        {
          "output_type": "error",
          "ename": "TypeError",
          "evalue": "'str' object does not support item assignment",
          "traceback": [
            "\u001b[0;31m---------------------------------------------------------------------------\u001b[0m",
            "\u001b[0;31mTypeError\u001b[0m                                 Traceback (most recent call last)",
            "\u001b[0;32m<ipython-input-6-e4de4fb79698>\u001b[0m in \u001b[0;36m<cell line: 0>\u001b[0;34m()\u001b[0m\n\u001b[1;32m      1\u001b[0m \u001b[0;31m# strings are immutable\u001b[0m\u001b[0;34m\u001b[0m\u001b[0;34m\u001b[0m\u001b[0m\n\u001b[1;32m      2\u001b[0m \u001b[0ms\u001b[0m \u001b[0;34m=\u001b[0m \u001b[0;34m\"Hello World\"\u001b[0m\u001b[0;34m\u001b[0m\u001b[0;34m\u001b[0m\u001b[0m\n\u001b[0;32m----> 3\u001b[0;31m \u001b[0ms\u001b[0m\u001b[0;34m[\u001b[0m\u001b[0;36m0\u001b[0m\u001b[0;34m]\u001b[0m \u001b[0;34m=\u001b[0m \u001b[0;34m\"h\"\u001b[0m  \u001b[0;31m#Error: 'str' object does not support item assignment\u001b[0m\u001b[0;34m\u001b[0m\u001b[0;34m\u001b[0m\u001b[0m\n\u001b[0m",
            "\u001b[0;31mTypeError\u001b[0m: 'str' object does not support item assignment"
          ]
        }
      ]
    },
    {
      "cell_type": "code",
      "source": [
        "# checking substrings\n",
        "s = \"Hello World\"\n",
        "print(\"World\" in s)\n",
        "print(\"world\" in s)"
      ],
      "metadata": {
        "colab": {
          "base_uri": "https://localhost:8080/"
        },
        "id": "TMUDtsh28vGh",
        "outputId": "1d5f8842-a7f8-463f-f6ab-e79d6c49f943"
      },
      "execution_count": 7,
      "outputs": [
        {
          "output_type": "stream",
          "name": "stdout",
          "text": [
            "True\n",
            "False\n"
          ]
        }
      ]
    },
    {
      "cell_type": "code",
      "source": [
        "# Formatted Strings - f-strings\n",
        "name = \"Ziva\"\n",
        "print(f\"Hello, {name}!\")"
      ],
      "metadata": {
        "colab": {
          "base_uri": "https://localhost:8080/"
        },
        "id": "MJ0r3ApG9pXi",
        "outputId": "d2ad7aef-971e-4463-8ade-0fefdba58e25"
      },
      "execution_count": 8,
      "outputs": [
        {
          "output_type": "stream",
          "name": "stdout",
          "text": [
            "Hello, Ziva!\n"
          ]
        }
      ]
    },
    {
      "cell_type": "code",
      "source": [
        "# Accessing individual characters using indices (starts from 0).\n",
        "s = \"Python\"\n",
        "print(s[0])    # P\n",
        "print(s[-1])   # n (last character)"
      ],
      "metadata": {
        "colab": {
          "base_uri": "https://localhost:8080/"
        },
        "id": "QPLMullhJ2E7",
        "outputId": "61f15f6c-2abe-4fac-e6fb-9b98215f798a"
      },
      "execution_count": 9,
      "outputs": [
        {
          "output_type": "stream",
          "name": "stdout",
          "text": [
            "P\n",
            "n\n"
          ]
        }
      ]
    },
    {
      "cell_type": "code",
      "source": [
        "# slicing\n",
        "s = \"Python\"\n",
        "print(s[0])     # first element\n",
        "print(s[-1])    # last element\n",
        "print(s[1:4])   # index 1 to 3; 4 is not considered\n",
        "\n",
        "print(s[len(s):-len(s)-1:-1]) # length is 6 --> 6:-7:-1\n",
        "print(s[6:-7:-1])\n",
        "# start = len(s); end = -len(s)-1; step is -1 # string reversal\n",
        "print(s[::-1])  # short cut\n",
        "\n",
        "print(s[::2]) # skip alternate characters from start to end"
      ],
      "metadata": {
        "colab": {
          "base_uri": "https://localhost:8080/"
        },
        "id": "d5KfH1iB8vJQ",
        "outputId": "eea266ce-730e-4dfc-ca64-53bbb2a3b084"
      },
      "execution_count": 10,
      "outputs": [
        {
          "output_type": "stream",
          "name": "stdout",
          "text": [
            "P\n",
            "n\n",
            "yth\n",
            "nohtyP\n",
            "nohtyP\n",
            "nohtyP\n",
            "Pto\n"
          ]
        }
      ]
    },
    {
      "cell_type": "code",
      "source": [
        "s = \"ABC\"\n",
        "print(s.lower())\n",
        "print(s) # original string is not affected\n",
        "\n",
        "s = s.lower()\n",
        "print(s) # now original string is affected after re-assignment"
      ],
      "metadata": {
        "colab": {
          "base_uri": "https://localhost:8080/"
        },
        "id": "dfhTAVTV8vL3",
        "outputId": "69c82ba5-fdc5-48e5-ae23-4ac4427d075a"
      },
      "execution_count": 11,
      "outputs": [
        {
          "output_type": "stream",
          "name": "stdout",
          "text": [
            "abc\n",
            "ABC\n",
            "abc\n"
          ]
        }
      ]
    },
    {
      "cell_type": "code",
      "source": [
        "# raw strings - Prefix with r to ignore escape sequences.\n",
        "print(r\"C:\\Users\\Ziva\")  # Outputs the raw path"
      ],
      "metadata": {
        "colab": {
          "base_uri": "https://localhost:8080/"
        },
        "id": "FPZcv6QTKAn0",
        "outputId": "3dd6a546-bab5-4366-c648-59fb21cb9137"
      },
      "execution_count": 12,
      "outputs": [
        {
          "output_type": "stream",
          "name": "stdout",
          "text": [
            "C:\\Users\\Ziva\n"
          ]
        }
      ]
    },
    {
      "cell_type": "code",
      "source": [
        "# String functions\n",
        "s = \"Computer Science\"\n",
        "print(f\"Upper case: {s.upper()}\")\n",
        "print(f\"Lower case: {s.lower()}\")\n",
        "print(f\"Capitalize: {s.capitalize()}\")\n",
        "print(f\"Title case: {s.title()}\")\n",
        "print(f\"Swap case: {s.swapcase()}\")\n",
        "print(f\"Count of 'e': {s.count('e')}\")\n",
        "print(f\"Index of 'e': {s.index('e')}\") # first index\n",
        "print(f\"Index of 'e' from 7th index: {s.index('e', 7)}\")\n",
        "# print(f\"Index of 'e' from 18th index: {s.index('e', 18)}\") # ValueError: substring not found\n",
        "print(f\"Find 'e': {s.find('e')}\") # first index\n",
        "print(f\"Find 'e' from 7th index: {s.find('e', 7)}\")\n",
        "print(f\"Find 'e' from 18th index: {s.find('e', 18)}\") # -1 if not found\n",
        "print(f\"Replace 'e' with 'E': {s.replace('e', 'E')}\")\n",
        "print(f\"Split on space: {s.split(' ')}\")\n",
        "print(f\"For caseless comparison: {s.casefold()}\")\n",
        "print()\n",
        "print(f\"Align with left: {s.ljust(50)}\")\n",
        "print(f\"Align with right: {s.rjust(50)}\")\n",
        "\n",
        "print(f\"Check if all characters are alphabets: {s.isalpha()}\") # because there is a space\n",
        "print(f\"Check if all characters are digits: {s.isdigit()}\")\n",
        "print(f\"Check if all characters are alphanumeric: {s.isalnum()}\")\n",
        "print(f\"Check if all characters are decimal: {s.isdecimal()}\")\n",
        "print(f\"Check if all characters are lower case: {s.islower()}\")\n",
        "print(f\"Check if all characters are upper case: {s.isupper()}\")\n",
        "print(f\"Check if all characters are ASCII: {s.isascii()}\")\n",
        "print(f\"Check if the string is an identifier: {s.isidentifier()}\") # space is there; so not a valid variable\n",
        "print(f\"Check if all characters are printable: {s.isprintable()}\")\n",
        "print(f\"Check if all characters are whitespace: {s.isspace()}\")\n",
        "print(f\"Check if all characters are title case: {s.istitle()}\")\n",
        "\n",
        "print(f\"Check if the string ends with 'e': {s.endswith('e')}\")\n",
        "print(f\"Check if the string starts with 'C': {s.startswith('C')}\")"
      ],
      "metadata": {
        "colab": {
          "base_uri": "https://localhost:8080/"
        },
        "id": "4wKosoTl8vOY",
        "outputId": "5bf05860-b7bb-4860-80e4-3a62e2f2a97f"
      },
      "execution_count": 13,
      "outputs": [
        {
          "output_type": "stream",
          "name": "stdout",
          "text": [
            "Upper case: COMPUTER SCIENCE\n",
            "Lower case: computer science\n",
            "Capitalize: Computer science\n",
            "Title case: Computer Science\n",
            "Swap case: cOMPUTER sCIENCE\n",
            "Count of 'e': 3\n",
            "Index of 'e': 6\n",
            "Index of 'e' from 7th index: 12\n",
            "Find 'e': 6\n",
            "Find 'e' from 7th index: 12\n",
            "Find 'e' from 18th index: -1\n",
            "Replace 'e' with 'E': ComputEr SciEncE\n",
            "Split on space: ['Computer', 'Science']\n",
            "For caseless comparison: computer science\n",
            "\n",
            "Align with left: Computer Science                                  \n",
            "Align with right:                                   Computer Science\n",
            "Check if all characters are alphabets: False\n",
            "Check if all characters are digits: False\n",
            "Check if all characters are alphanumeric: False\n",
            "Check if all characters are decimal: False\n",
            "Check if all characters are lower case: False\n",
            "Check if all characters are upper case: False\n",
            "Check if all characters are ASCII: True\n",
            "Check if the string is an identifier: False\n",
            "Check if all characters are printable: True\n",
            "Check if all characters are whitespace: False\n",
            "Check if all characters are title case: True\n",
            "Check if the string ends with 'e': True\n",
            "Check if the string starts with 'C': True\n"
          ]
        }
      ]
    },
    {
      "cell_type": "code",
      "source": [
        "# String functions\n",
        "s = \"Computer Science\"\n",
        "print(f\"Original String: {s}\")\n",
        "print()\n",
        "# Centering with padding\n",
        "print(f\"Align with center: {s.center(50)}\")\n",
        "print(f\"Align with center: {s.center(50, '-')}\")\n",
        "print(f\"Centered: {s.center(25, '*')}\")\n",
        "print()\n",
        "# Encoding\n",
        "encoded = s.encode()\n",
        "print(f\"Encoded string: {encoded}\")\n",
        "print()\n",
        "# Expand tabs\n",
        "tab_str = \"CS\\tDept\"\n",
        "print(f\"Expanded tabs: {tab_str.expandtabs(4)}\")\n",
        "print()\n",
        "# Format\n",
        "lang = \"Python\"\n",
        "level = \"beginner\"\n",
        "print(\"Learn {} for {} level.\".format(lang, level))\n",
        "print()\n",
        "# Format map\n",
        "details = {\"lang\": \"Java\", \"level\": \"intermediate\"}\n",
        "print(\"Learn {lang} for {level} level.\".format_map(details))\n",
        "print()\n",
        "# isXXX checks\n",
        "print(f\"Is alphanumeric: {s.isalnum()}\")\n",
        "print(f\"Is alpha: {s.isalpha()}\")\n",
        "print(f\"Is ASCII: {s.isascii()}\")\n",
        "print(f\"Is decimal: {'123'.isdecimal()}\")\n",
        "print(f\"Is digit: {'1234'.isdigit()}\")\n",
        "print(f\"Is identifier: {'variable_name'.isidentifier()}\")\n",
        "print(f\"Is lower: {'science'.islower()}\")\n",
        "print(f\"Is numeric: {'1234'.isnumeric()}\")\n",
        "print(f\"Is printable: {s.isprintable()}\")\n",
        "print(f\"Is space: {'   '.isspace()}\")\n",
        "print(f\"Is title: {'Computer Science'.istitle()}\")\n",
        "print(f\"Is upper: {'HELLO'.isupper()}\")\n",
        "print()\n",
        "# Join\n",
        "print(f\"Join with '.': {'.'.join(['ab', 'cd', 'ef'])}\")\n",
        "print()\n",
        "# Justify\n",
        "print(f\"Left Justified: {s.ljust(25, '-')}\")\n",
        "print(f\"Right Justified: {s.rjust(25, '-')}\")\n",
        "print()\n",
        "# Strip\n",
        "sample = \"  Hello Python  \"\n",
        "print(f\"Stripped: '{sample.strip()}'\")\n",
        "print(f\"LStrip: '{sample.lstrip()}'\")\n",
        "print(f\"RStrip: '{sample.rstrip()}'\")\n",
        "print()\n",
        "# Partition\n",
        "print(f\"Partition by ' ': {s.partition(' ')}\")\n",
        "print()\n",
        "# Remove prefix/suffix\n",
        "file = \"dhoni.png\"\n",
        "print(f\"Remove prefix 'image': {file.removeprefix('dhoni')}\")\n",
        "print(f\"Remove suffix '.png': {file.removesuffix('.png')}\")\n",
        "print()\n",
        "# Replace\n",
        "print(f\"Replace 'Science' with 'Tech': {s.replace('Science', 'Tech')}\")\n",
        "print()\n",
        "# Rfind and Rindex\n",
        "print(f\"Rfind 'e': {s.rfind('e')}\")\n",
        "print(f\"Rindex 'e': {s.rindex('e')}\")\n",
        "print()\n",
        "# Rpartition\n",
        "print(f\"Rpartition by ' ': {s.rpartition(' ')}\")\n",
        "print()\n",
        "# Split and Rsplit\n",
        "csv = \"one,two,three\"\n",
        "print(f\"Split: {csv.split(',')}\")\n",
        "print(f\"Rsplit: {csv.rsplit(',', 1)}\")\n",
        "print()\n",
        "# Splitlines\n",
        "multi = \"Line1\\nLine2\\nLine3\"\n",
        "print(f\"Splitlines: {multi.splitlines()}\")\n",
        "print()\n",
        "# Translate\n",
        "table = str.maketrans(\"ae\", \"12\")\n",
        "print(f\"Translate a->1, e->2: {s.translate(table)}\")\n",
        "print()\n",
        "# Zfill\n",
        "num = \"42\"\n",
        "print(f\"Zfilled: {num.zfill(5)}\")"
      ],
      "metadata": {
        "colab": {
          "base_uri": "https://localhost:8080/"
        },
        "id": "KbqvHyW88vsX",
        "outputId": "91be6276-0fc7-40c7-a653-18279c47c082"
      },
      "execution_count": 14,
      "outputs": [
        {
          "output_type": "stream",
          "name": "stdout",
          "text": [
            "Original String: Computer Science\n",
            "\n",
            "Align with center:                  Computer Science                 \n",
            "Align with center: -----------------Computer Science-----------------\n",
            "Centered: *****Computer Science****\n",
            "\n",
            "Encoded string: b'Computer Science'\n",
            "\n",
            "Expanded tabs: CS  Dept\n",
            "\n",
            "Learn Python for beginner level.\n",
            "\n",
            "Learn Java for intermediate level.\n",
            "\n",
            "Is alphanumeric: False\n",
            "Is alpha: False\n",
            "Is ASCII: True\n",
            "Is decimal: True\n",
            "Is digit: True\n",
            "Is identifier: True\n",
            "Is lower: True\n",
            "Is numeric: True\n",
            "Is printable: True\n",
            "Is space: True\n",
            "Is title: True\n",
            "Is upper: True\n",
            "\n",
            "Join with '.': ab.cd.ef\n",
            "\n",
            "Left Justified: Computer Science---------\n",
            "Right Justified: ---------Computer Science\n",
            "\n",
            "Stripped: 'Hello Python'\n",
            "LStrip: 'Hello Python  '\n",
            "RStrip: '  Hello Python'\n",
            "\n",
            "Partition by ' ': ('Computer', ' ', 'Science')\n",
            "\n",
            "Remove prefix 'image': .png\n",
            "Remove suffix '.png': dhoni\n",
            "\n",
            "Replace 'Science' with 'Tech': Computer Tech\n",
            "\n",
            "Rfind 'e': 15\n",
            "Rindex 'e': 15\n",
            "\n",
            "Rpartition by ' ': ('Computer', ' ', 'Science')\n",
            "\n",
            "Split: ['one', 'two', 'three']\n",
            "Rsplit: ['one,two', 'three']\n",
            "\n",
            "Splitlines: ['Line1', 'Line2', 'Line3']\n",
            "\n",
            "Translate a->1, e->2: Comput2r Sci2nc2\n",
            "\n",
            "Zfilled: 00042\n"
          ]
        }
      ]
    },
    {
      "cell_type": "code",
      "source": [
        "# Program 1 - Count Vowels in a String\n",
        "s = input(\"Enter a string: \")\n",
        "vowels = \"aeiouAEIOU\"\n",
        "count = 0\n",
        "for i in s:\n",
        "    if i in vowels:\n",
        "        count += 1\n",
        "print(\"Number of vowels:\", count)"
      ],
      "metadata": {
        "colab": {
          "base_uri": "https://localhost:8080/"
        },
        "id": "MkH-lZcs8vx_",
        "outputId": "999f161c-8562-4d2f-f8a5-bd6ffba15ad9"
      },
      "execution_count": 15,
      "outputs": [
        {
          "output_type": "stream",
          "name": "stdout",
          "text": [
            "Enter a string: Python Programming\n",
            "Number of vowels: 4\n"
          ]
        }
      ]
    },
    {
      "cell_type": "code",
      "source": [
        "# Program 2 - Check if the string is a Palindrome\n",
        "s = input(\"Enter a string: \")\n",
        "if s.lower() == s[::-1].lower():\n",
        "    print(f\"{s} is a palindrome!\")\n",
        "else:\n",
        "    print(f\"{s} is not a palindrome.\")"
      ],
      "metadata": {
        "colab": {
          "base_uri": "https://localhost:8080/"
        },
        "id": "Hatk1kWu8v0x",
        "outputId": "0335d69c-c69b-4e65-cca9-fb74608f4f08"
      },
      "execution_count": 16,
      "outputs": [
        {
          "output_type": "stream",
          "name": "stdout",
          "text": [
            "Enter a string: rAcECaR\n",
            "rAcECaR is a palindrome!\n"
          ]
        }
      ]
    },
    {
      "cell_type": "code",
      "source": [
        "# Program 3 - Count number of words in a sentence\n",
        "sentence = input(\"Enter a sentence: \")\n",
        "words = sentence.split()\n",
        "print(\"Number of words:\", len(words))"
      ],
      "metadata": {
        "colab": {
          "base_uri": "https://localhost:8080/"
        },
        "id": "KPaFtISn8v3a",
        "outputId": "2b1019c8-6f9a-4443-dce9-7409ae967cd4"
      },
      "execution_count": 17,
      "outputs": [
        {
          "output_type": "stream",
          "name": "stdout",
          "text": [
            "Enter a sentence: Python is super awesome!\n",
            "Number of words: 4\n"
          ]
        }
      ]
    },
    {
      "cell_type": "code",
      "source": [
        "# Program 4 - Remove spaces\n",
        "s = input(\"Enter a string: \")\n",
        "res = s.replace(\" \", \"\")\n",
        "print(\"Without spaces:\", res)"
      ],
      "metadata": {
        "colab": {
          "base_uri": "https://localhost:8080/"
        },
        "id": "OHWWcm1x8v5y",
        "outputId": "ce14f0d9-375b-4542-9428-f50691bff53c"
      },
      "execution_count": 18,
      "outputs": [
        {
          "output_type": "stream",
          "name": "stdout",
          "text": [
            "Enter a string: Computer Science\n",
            "Without spaces: ComputerScience\n"
          ]
        }
      ]
    },
    {
      "cell_type": "code",
      "source": [
        "# Program 5 - Remove duplicates from a string\n",
        "s = input(\"Enter a string: \")\n",
        "result = \"\"\n",
        "for i in s:\n",
        "    if i not in result:\n",
        "        result += i\n",
        "print(\"Without duplicates:\", result)"
      ],
      "metadata": {
        "colab": {
          "base_uri": "https://localhost:8080/"
        },
        "id": "nNZ-3_xEKy_l",
        "outputId": "6f40497c-0f82-4e89-ff95-673c857588ed"
      },
      "execution_count": 19,
      "outputs": [
        {
          "output_type": "stream",
          "name": "stdout",
          "text": [
            "Enter a string: abcbca\n",
            "Without duplicates: abc\n"
          ]
        }
      ]
    },
    {
      "cell_type": "code",
      "source": [
        "# Program 6 - Count uppercase and lowercase letters\n",
        "s = input(\"Enter a string: \")\n",
        "upper = lower = 0\n",
        "for i in s:\n",
        "    if i.isupper():\n",
        "        upper += 1\n",
        "    elif i.islower():\n",
        "        lower += 1\n",
        "print(\"Uppercase letters:\", upper)\n",
        "print(\"Lowercase letters:\", lower)"
      ],
      "metadata": {
        "colab": {
          "base_uri": "https://localhost:8080/"
        },
        "id": "YCb09F0dKzDd",
        "outputId": "3e7d6af7-006b-4acc-9b70-14b233a8f922"
      },
      "execution_count": 20,
      "outputs": [
        {
          "output_type": "stream",
          "name": "stdout",
          "text": [
            "Enter a string: Let's enjoy learning Python!\n",
            "Uppercase letters: 2\n",
            "Lowercase letters: 21\n"
          ]
        }
      ]
    },
    {
      "cell_type": "code",
      "source": [
        "# Program 7 - Find length without using len()\n",
        "s = input(\"Enter a string: \")\n",
        "count = 0\n",
        "for i in s:\n",
        "    count += 1\n",
        "print(\"Length of the string:\", count)"
      ],
      "metadata": {
        "colab": {
          "base_uri": "https://localhost:8080/"
        },
        "id": "7yzONTw7KzHW",
        "outputId": "8a771d7a-93f0-4c42-8a15-6c5db73bb954"
      },
      "execution_count": 21,
      "outputs": [
        {
          "output_type": "stream",
          "name": "stdout",
          "text": [
            "Enter a string: abcdefghij\n",
            "Length of the string: 10\n"
          ]
        }
      ]
    },
    {
      "cell_type": "code",
      "source": [
        "# Program 8 - Print ASCII value of each character\n",
        "s = input(\"Enter a string: \")\n",
        "for i in s:\n",
        "    print(f\"{i} -> {ord(i)}\")"
      ],
      "metadata": {
        "colab": {
          "base_uri": "https://localhost:8080/"
        },
        "id": "ByFSXbErLOkH",
        "outputId": "e41d3a1a-7613-4fb0-8511-6b8b07ab6da2"
      },
      "execution_count": 22,
      "outputs": [
        {
          "output_type": "stream",
          "name": "stdout",
          "text": [
            "Enter a string: Python\n",
            "P -> 80\n",
            "y -> 121\n",
            "t -> 116\n",
            "h -> 104\n",
            "o -> 111\n",
            "n -> 110\n"
          ]
        }
      ]
    },
    {
      "cell_type": "code",
      "source": [
        "# Program 9 - Remove all Punctuation\n",
        "import string\n",
        "s = input(\"Enter a string: \")\n",
        "for i in string.punctuation:\n",
        "    s = s.replace(i, \"\")\n",
        "print(\"Without punctuation:\", s)"
      ],
      "metadata": {
        "colab": {
          "base_uri": "https://localhost:8080/"
        },
        "id": "pJ2mZll0LOoI",
        "outputId": "f635150a-5937-4379-f003-1397e3df972b"
      },
      "execution_count": 23,
      "outputs": [
        {
          "output_type": "stream",
          "name": "stdout",
          "text": [
            "Enter a string: Be cool always! :)\n",
            "Without punctuation: Be cool always \n"
          ]
        }
      ]
    },
    {
      "cell_type": "code",
      "source": [
        "# Program 10 - Simple Feel Good App\n",
        "print(\"Hello! I'm your mood buddy 😊\")\n",
        "name = input(\"Enter your name: \")\n",
        "mood = input(\"How are you feeling today? \").lower()\n",
        "\n",
        "if \"happy\" in mood:\n",
        "    print(\"Yay! Keep smiling and spread the joy! 🌞\")\n",
        "elif \"sad\" in mood:\n",
        "    print(\"Aww... it's okay to feel sad. Sending you hugs 💖\")\n",
        "elif \"angry\" in mood:\n",
        "    print(\"Take a deep breath... You got this. 😌🫶\")\n",
        "elif \"tired\" in mood:\n",
        "    print(\"Go get some rest, you deserve it! 😴💤\")\n",
        "elif \"bored\" in mood:\n",
        "    print(\"Why not try a fun little coding challenge? 🎮🐍\")\n",
        "else:\n",
        "    print(\"Thanks for sharing. I'm always here to listen 🤗\")\n",
        "\n",
        "print(f\"Have a beautiful day, {name} 💌\")"
      ],
      "metadata": {
        "colab": {
          "base_uri": "https://localhost:8080/"
        },
        "id": "IIS6WhJcLOr4",
        "outputId": "130c6dd0-0bab-4932-de1c-7a185fbbce4a"
      },
      "execution_count": 24,
      "outputs": [
        {
          "output_type": "stream",
          "name": "stdout",
          "text": [
            "Hello! I'm your mood buddy 😊\n",
            "Enter your name: MS Dhoni\n",
            "How are you feeling today? happy\n",
            "Yay! Keep smiling and spread the joy! 🌞\n",
            "Have a beautiful day, MS Dhoni 💌\n"
          ]
        }
      ]
    }
  ]
}