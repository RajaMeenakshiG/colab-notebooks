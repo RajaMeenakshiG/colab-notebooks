{
  "nbformat": 4,
  "nbformat_minor": 0,
  "metadata": {
    "colab": {
      "provenance": []
    },
    "kernelspec": {
      "name": "python3",
      "display_name": "Python 3"
    },
    "language_info": {
      "name": "python"
    }
  },
  "cells": [
    {
      "cell_type": "code",
      "source": [
        "# Regular Expression\n",
        "# Regular expressions (regex) in Python are used to match patterns in strings.\n",
        "# Useful for tasks like validation, searching, or substitution."
      ],
      "metadata": {
        "id": "m9MDdeBpCM0l"
      },
      "execution_count": null,
      "outputs": []
    },
    {
      "cell_type": "code",
      "source": [
        "import re"
      ],
      "metadata": {
        "id": "-y0IohTrCM2y"
      },
      "execution_count": 1,
      "outputs": []
    },
    {
      "cell_type": "code",
      "source": [
        "# Introduction\n",
        "\n",
        "# 1. re.search() - checks for a match anywhere in the string\n",
        "match = re.search(r\"\\d+\", \"Captain Cool's number is 7.\")\n",
        "print(match.group())\n",
        "\n",
        "# 2. re.match() - checks for a match at the beginning\n",
        "match = re.match(r\"\\d+\", \"7th July is Mahi's Birthday\")\n",
        "print(match.group())\n",
        "\n",
        "# 3. re.findall() - returns all matches in a list\n",
        "numbers = re.findall(r\"\\d+\", \"Captain Cool's Birthday is 7-7-1981\")\n",
        "print(numbers)\n",
        "\n",
        "# 4. re.sub() - replaces matches\n",
        "clean_text = re.sub(r\"\\d+\", \"#\", \"ABC: 2025, XYZ: 2026\")\n",
        "print(clean_text)\n",
        "\n",
        "# 5. re.split() - splits string by the pattern\n",
        "words = re.split(r\"\\s+\", \"Mahendra Singh Dhoni\")\n",
        "print(words)  # Output: ['Split', 'this', 'sentence', 'into', 'words']"
      ],
      "metadata": {
        "colab": {
          "base_uri": "https://localhost:8080/"
        },
        "id": "VZFs4Xl_CM5r",
        "outputId": "620b21db-0cc9-4ffa-f417-063ddbb9d1f9"
      },
      "execution_count": 2,
      "outputs": [
        {
          "output_type": "stream",
          "name": "stdout",
          "text": [
            "7\n",
            "7\n",
            "['7', '7', '1981']\n",
            "ABC: #, XYZ: #\n",
            "['Mahendra', 'Singh', 'Dhoni']\n"
          ]
        }
      ]
    },
    {
      "cell_type": "code",
      "source": [
        "# Sequence Characters in Regular Expressions\n",
        "'''\n",
        "| Sequence | Description                         | Example Match        |\n",
        "|----------|-------------------------------------|----------------------|\n",
        "| `\\d`     | Any digit (0–9)                     | `'4'`, `'0'`         |\n",
        "| `\\D`     | Any non-digit                       | `'a'`, `'#'`         |\n",
        "| `\\w`     | Any alphanumeric character\n",
        "              (a–z, A–Z, 0–9, _) | `'A'`,\n",
        "              `'9'`, `'_'` |\n",
        "| `\\W`     | Any non-word character              | `'@'`, `'!'`         |\n",
        "| `\\s`     | Any whitespace character            | `' '`, `'\\n'`        |\n",
        "| `\\S`     | Any non-whitespace character        | `'a'`, `'1'`         |\n",
        "| `\\b`     | Word boundary                       | Matches boundary     |\n",
        "| `\\B`     | Non-word boundary                   | Matches inside words |\n",
        "| `\\\\`     | Backslash character                 | `'\\\\'`               |\n",
        "| `\\t`     | Tab                                 | Tab space            |\n",
        "| `\\n`     | Newline                             | Newline              |\n",
        "| `.`      | Any character except newline        | `'a'`, `'1'`, etc.   |\n",
        "'''"
      ],
      "metadata": {
        "id": "VJInkBgOCM8S"
      },
      "execution_count": null,
      "outputs": []
    },
    {
      "cell_type": "code",
      "source": [
        "print(\"=== Sequence Characters in Regular Expressions ===\")\n",
        "\n",
        "# \\d => matches any digit (0-9)\n",
        "print(\"Digits:\", re.findall(r'\\d', \"mahi7781\"))\n",
        "# ['7', '7', '8', '1']\n",
        "\n",
        "# \\D => matches any non-digit\n",
        "print(\"Non-digits:\", re.findall(r'\\D', \"mahi7781\"))\n",
        "# ['m', 'a', 'h', 'i']\n",
        "\n",
        "# \\w => matches any alphanumeric character or underscore (a-z, A-Z, 0-9, _)\n",
        "print(\"Word characters (alphanumeric or _):\", re.findall(r'\\w', \"dhoni@7\"))\n",
        "# ['d', 'h', 'o', 'n', 'i', '7']\n",
        "\n",
        "# \\W => matches any non-word character\n",
        "print(\"Non-word characters (symbols):\", re.findall(r'\\W', \"dhoni@7\"))\n",
        "# ['@']\n",
        "\n",
        "# \\s => matches any whitespace character (space, tab, newline)\n",
        "print(\"Whitespace characters (tab, space, newline):\", re.findall(r'\\s', \"Dhoni\\tZiva \\nCSK\"))\n",
        "# ['\\t', ' ', '\\n']\n",
        "\n",
        "# \\S => matches any non-whitespace character\n",
        "# All visible characters excluding tab, space, newline\n",
        "print(\"Non-whitespace characters:\", re.findall(r'\\S', \"Dhoni\\tZiva \\nCSK\"))\n",
        "# ['D', 'h', 'o', 'n', 'i', 'Z', 'i', 'v', 'a', 'C', 'S', 'K']\n",
        "\n",
        "# \\b => matches word boundaries (start or end of a word)\n",
        "print(\"Word boundary before 'MSD':\", re.findall(r'\\bMSD', \"hi there, this is MSD\"))\n",
        "# ['MSD']\n",
        "\n",
        "# \\B => matches inside a word (no boundary before 'MSD')\n",
        "print(\"No boundary before 'MSD':\", re.findall(r'\\BMSD', \"hi there, this is CaptainCoolMSDhoni.\"))\n",
        "# ['MSD']\n",
        "\n",
        "# \\\\ => matches a backslash\n",
        "print(\"Backslashes:\", re.findall(r'\\\\', \"C:\\\\Users\\\\Mahi\"))\n",
        "# ['\\\\', '\\\\']\n",
        "\n",
        "# \\t => matches tab character\n",
        "print(\"Tab character:\", re.findall(r'\\t', \"Hello\\tWorld\"))\n",
        "# ['\\t']\n",
        "\n",
        "# \\n => matches newline character\n",
        "print(\"Newline character:\", re.findall(r'\\n', \"Captain\\nCool\"))\n",
        "# ['\\n']\n",
        "\n",
        "# . => matches any character except newline\n",
        "print(\"Any character between 'a' and 'b':\", re.findall(r'a.b', \"a1b a_b a b aXb\"))\n",
        "# ['a1b', 'a_b', 'aXb']"
      ],
      "metadata": {
        "colab": {
          "base_uri": "https://localhost:8080/"
        },
        "id": "A1NHLCTVCM-r",
        "outputId": "ebc999df-71fd-4ae7-f317-7098260392e4"
      },
      "execution_count": 3,
      "outputs": [
        {
          "output_type": "stream",
          "name": "stdout",
          "text": [
            "=== Sequence Characters in Regular Expressions ===\n",
            "Digits: ['7', '7', '8', '1']\n",
            "Non-digits: ['m', 'a', 'h', 'i']\n",
            "Word characters (alphanumeric or _): ['d', 'h', 'o', 'n', 'i', '7']\n",
            "Non-word characters (symbols): ['@']\n",
            "Whitespace characters (tab, space, newline): ['\\t', ' ', '\\n']\n",
            "Non-whitespace characters: ['D', 'h', 'o', 'n', 'i', 'Z', 'i', 'v', 'a', 'C', 'S', 'K']\n",
            "Word boundary before 'MSD': ['MSD']\n",
            "No boundary before 'MSD': ['MSD']\n",
            "Backslashes: ['\\\\', '\\\\']\n",
            "Tab character: ['\\t']\n",
            "Newline character: ['\\n']\n",
            "Any character between 'a' and 'b': ['a1b', 'a_b', 'a b', 'aXb']\n"
          ]
        }
      ]
    },
    {
      "cell_type": "code",
      "source": [
        "# Quantifiers in Regular Expressions\n",
        "'''\n",
        "| Quantifier |        Description           |              Example Match             |\n",
        "|------------|------------------------------|----------------------------------------|\n",
        "| `*`        | 0 or more times              | `'ab*'` → `'a'`, `'ab'`, `'abbb'`      |\n",
        "| `+`        | 1 or more times              | `'ab+'` → `'ab'`, `'abbb'`             |\n",
        "| `?`        | 0 or 1 time                  | `'ab?'` → `'a'`, `'ab'`                |\n",
        "| `{n}`      | Exactly `n` times            | `'a{3}'` → `'aaa'`                     |\n",
        "| `{n,}`     | At least `n` times           | `'a{2,}'` → `'aa'`, `'aaa'`            |\n",
        "| `{n,m}`    | Between `n` and `m` times    | `'a{2,4}'` → `'aa'`, `'aaa'`, `'aaaa'` |\n",
        "'''"
      ],
      "metadata": {
        "id": "GrTMAeoNEViO"
      },
      "execution_count": null,
      "outputs": []
    },
    {
      "cell_type": "code",
      "source": [
        "print(\"=== Quantifiers in Regular Expressions ===\")\n",
        "\n",
        "# * => 0 or more of the preceding character\n",
        "print(\"'*' (0 or more 'b's after 'a'):\", re.findall(r'ab*', \"a ab abb abbb a\"))\n",
        "# ['a', 'ab', 'abb', 'abbb', 'a']\n",
        "\n",
        "# + => 1 or more of the preceding character\n",
        "print(\"'+' (1 or more 'b's after 'a'):\", re.findall(r'ab+', \"a ab abb abbb a\"))\n",
        "# ['ab', 'abb', 'abbb']\n",
        "\n",
        "# ? => 0 or 1 of the preceding character\n",
        "print(\"'?' (0 or 1 'b' after 'a'):\", re.findall(r'ab?', \"a ab abb abbb a\"))\n",
        "# ['a', 'ab', 'ab', 'ab', 'a']\n",
        "\n",
        "# {n} => exactly n times\n",
        "print(\"'{3}' (exactly 3 'a's):\", re.findall(r'a{3}', \"a aa aaa aaaa aaaaa\"))\n",
        "# ['aaa', 'aaa']\n",
        "\n",
        "# {n,} => at least n times\n",
        "print(\"'{2,}' (2 or more 'a's):\", re.findall(r'a{2,}', \"a aa aaa aaaa aaaaa\"))\n",
        "# ['aa', 'aaa', 'aaaa', 'aaaaa']\n",
        "\n",
        "# {n,m} => between n and m times (inclusive)\n",
        "print(\"'{2,4}' (between 2 and 4 'a's):\", re.findall(r'a{2,4}', \"a aa aaa aaaa aaaaa\"))\n",
        "# ['aa', 'aaa', 'aaaa']"
      ],
      "metadata": {
        "colab": {
          "base_uri": "https://localhost:8080/"
        },
        "id": "02nb8lQICNDZ",
        "outputId": "c8d4618a-b6bc-4a10-a920-da14da78cff6"
      },
      "execution_count": 4,
      "outputs": [
        {
          "output_type": "stream",
          "name": "stdout",
          "text": [
            "=== Quantifiers in Regular Expressions ===\n",
            "'*' (0 or more 'b's after 'a'): ['a', 'ab', 'abb', 'abbb', 'a']\n",
            "'+' (1 or more 'b's after 'a'): ['ab', 'abb', 'abbb']\n",
            "'?' (0 or 1 'b' after 'a'): ['a', 'ab', 'ab', 'ab', 'a']\n",
            "'{3}' (exactly 3 'a's): ['aaa', 'aaa', 'aaa']\n",
            "'{2,}' (2 or more 'a's): ['aa', 'aaa', 'aaaa', 'aaaaa']\n",
            "'{2,4}' (between 2 and 4 'a's): ['aa', 'aaa', 'aaaa', 'aaaa']\n"
          ]
        }
      ]
    },
    {
      "cell_type": "code",
      "source": [
        "# Methods in re Module\n",
        "'''\n",
        "| Method        |                Description                                |\n",
        "|---------------|-----------------------------------------------------------|\n",
        "| `findall()`   | Returns all non-overlapping matches as a list             |\n",
        "| `finditer()`  | Returns an iterator yielding match objects                |\n",
        "| `search()`    | Returns the first match object or `None`                  |\n",
        "| `match()`     | Checks for a match at the beginning of a string           |\n",
        "| `sub()`       | Replaces matches with a string                            |\n",
        "| `compile()`   | Compiles a regex pattern into a regex object              |\n",
        "'''"
      ],
      "metadata": {
        "id": "HocwVpu6E5Q2"
      },
      "execution_count": null,
      "outputs": []
    },
    {
      "cell_type": "code",
      "source": [
        "print(\"=== Regex Methods in Python ===\")\n",
        "\n",
        "# findall() => Returns all non-overlapping matches as a list\n",
        "print(\"findall():\", re.findall(r'\\d+', \"Mahi7781 and MSD07\"))\n",
        "# ['7781', '07']\n",
        "\n",
        "# finditer() => Returns an iterator of match objects\n",
        "print(\"finditer():\")\n",
        "for match in re.finditer(r'\\d+', \"Mahi7781 and MSD07\"):\n",
        "    print(\" Match found:\", match.group(), \"at position\", match.start())\n",
        "\n",
        "# search() => Returns the first match object or None\n",
        "result = re.search(r'MSD', \"Mahi7781 and MSD07\")\n",
        "print(\"search():\", result.group() if result else \"Not Found\")\n",
        "# MSD\n",
        "\n",
        "# match() => Checks for a match only at the beginning of the string\n",
        "result = re.match(r'Mahi', \"Mahi7781 and MSD07\")\n",
        "print(\"match():\", result.group() if result else \"No Match\")\n",
        "# Mahi\n",
        "\n",
        "# sub() => Replaces all matches with a specified string\n",
        "print(\"sub():\", re.sub(r'\\d+', '###', \"Mahi7781 and MSD07\"))\n",
        "# Mahi### and MSD###\n",
        "\n",
        "# compile() => Compiles a pattern into a regex object for reuse\n",
        "pattern = re.compile(r'\\b\\w{4}\\b')  # words with exactly 4 letters\n",
        "print(\"compile():\", pattern.findall(\"Mahi loves Ziva and CSK team\"))\n",
        "# ['Mahi', 'Ziva', 'team']"
      ],
      "metadata": {
        "colab": {
          "base_uri": "https://localhost:8080/"
        },
        "id": "cDfHSZ6HFCM3",
        "outputId": "05d996fe-3a15-48d0-b486-0497912893be"
      },
      "execution_count": 5,
      "outputs": [
        {
          "output_type": "stream",
          "name": "stdout",
          "text": [
            "=== Regex Methods in Python ===\n",
            "findall(): ['7781', '07']\n",
            "finditer():\n",
            " Match found: 7781 at position 4\n",
            " Match found: 07 at position 16\n",
            "search(): MSD\n",
            "match(): Mahi\n",
            "sub(): Mahi### and MSD###\n",
            "compile(): ['Mahi', 'Ziva', 'team']\n"
          ]
        }
      ]
    },
    {
      "cell_type": "code",
      "source": [
        "# Special Characters in Regular Expressions\n",
        "'''\n",
        "| Character |             Description                    |\n",
        "|-----------|--------------------------------------------|\n",
        "| `.`       | Matches any character except newline       |\n",
        "| `^`       | Matches the beginning of the string        |\n",
        "| `$`       | Matches the end of the string              |\n",
        "| `*`       | 0 or more repetitions                      |\n",
        "| `+`       | 1 or more repetitions                      |\n",
        "| `?`       | 0 or 1 repetition                          |\n",
        "| `{}`      | Specifies the number of repetitions        |\n",
        "| `[]`      | Matches any one character in brackets      |\n",
        "| `[^]`     | Matches any character *not* in brackets    |\n",
        "| `|`       | Acts as OR (`a|b` matches `a` or `b`)      |\n",
        "| `()`      | Groups patterns                            |\n",
        "| `\\`       | Escapes special characters                 |\n",
        "'''"
      ],
      "metadata": {
        "id": "l2yQUwEeFDt3"
      },
      "execution_count": null,
      "outputs": []
    },
    {
      "cell_type": "code",
      "source": [
        "print(\"=== Special Characters in Regular Expressions ===\")\n",
        "\n",
        "# . => Matches any character except newline\n",
        "print(\"'.' (any character except newline):\", re.findall(r'a.b', \"a1b a_b a b aXb\"))\n",
        "# ['a1b', 'a_b', 'aXb']\n",
        "\n",
        "# ^ => Matches the beginning of the string\n",
        "print(\"'^' (start of string):\", re.findall(r'^Mahi', \"Mahi is MSD\"))\n",
        "# ['Mahi']\n",
        "\n",
        "# $ => Matches the end of the string\n",
        "print(\"'$' (end of string):\", re.findall(r'MSD$', \"He is MSD\"))\n",
        "# ['MSD']\n",
        "\n",
        "# * => 0 or more repetitions\n",
        "print(\"'*' (zero or more 'b' after 'a'):\", re.findall(r'ab*', \"a ab abb abbb a\"))\n",
        "# ['a', 'ab', 'abb', 'abbb', 'a']\n",
        "\n",
        "# + => 1 or more repetitions\n",
        "print(\"'+' (one or more 'b' after 'a'):\", re.findall(r'ab+', \"a ab abb abbb a\"))\n",
        "# ['ab', 'abb', 'abbb']\n",
        "\n",
        "# ? => 0 or 1 repetition\n",
        "print(\"'?' (zero or one 'b' after 'a'):\", re.findall(r'ab?', \"a ab abb abbb a\"))\n",
        "# ['a', 'ab', 'ab', 'ab', 'a']\n",
        "\n",
        "# {} => Specifies the number of repetitions\n",
        "print(\"'{}' (exactly 3 a's):\", re.findall(r'a{3}', \"a aa aaa aaaa\"))\n",
        "# ['aaa', 'aaa']\n",
        "\n",
        "# [] => Matches any one character in brackets\n",
        "print(\"'[]' (match 'a', 'b' or 'c'):\", re.findall(r'[abc]', \"xaybzcp\"))\n",
        "# ['a', 'b', 'c']\n",
        "\n",
        "# [^] => Matches any character not in brackets\n",
        "print(\"'[^]' (not 'a', 'b', or 'c'):\", re.findall(r'[^abc]', \"xaybzcp\"))\n",
        "# ['x', 'y', 'z', 'p']\n",
        "\n",
        "# | => Acts as OR\n",
        "print(\"'|' (a or b):\", re.findall(r'a|b', \"xaybzcp\"))\n",
        "# ['a', 'b']\n",
        "\n",
        "# () => Groups patterns\n",
        "print(\"'()' (group 'ab' repeated):\", re.findall(r'(ab)+', \"ab abab ababab ab\"))\n",
        "# ['ab', 'ab', 'ab', 'ab']\n",
        "\n",
        "# \\ => Escapes special characters\n",
        "print(\"'\\\\' (escape dot to match actual .):\", re.findall(r'MSD\\.7', \"He is MSD.7 not MSDX7\"))\n",
        "# ['MSD.7']"
      ],
      "metadata": {
        "colab": {
          "base_uri": "https://localhost:8080/"
        },
        "id": "alF7iPGvCNGO",
        "outputId": "0ce5a9f0-8282-49e6-c3d6-03dfcee48219"
      },
      "execution_count": 6,
      "outputs": [
        {
          "output_type": "stream",
          "name": "stdout",
          "text": [
            "=== Special Characters in Regular Expressions ===\n",
            "'.' (any character except newline): ['a1b', 'a_b', 'a b', 'aXb']\n",
            "'^' (start of string): ['Mahi']\n",
            "'$' (end of string): ['MSD']\n",
            "'*' (zero or more 'b' after 'a'): ['a', 'ab', 'abb', 'abbb', 'a']\n",
            "'+' (one or more 'b' after 'a'): ['ab', 'abb', 'abbb']\n",
            "'?' (zero or one 'b' after 'a'): ['a', 'ab', 'ab', 'ab', 'a']\n",
            "'{}' (exactly 3 a's): ['aaa', 'aaa']\n",
            "'[]' (match 'a', 'b' or 'c'): ['a', 'b', 'c']\n",
            "'[^]' (not 'a', 'b', or 'c'): ['x', 'y', 'z', 'p']\n",
            "'|' (a or b): ['a', 'b']\n",
            "'()' (group 'ab' repeated): ['ab', 'ab', 'ab', 'ab']\n",
            "'\\' (escape dot to match actual .): ['MSD.7']\n"
          ]
        }
      ]
    },
    {
      "cell_type": "code",
      "source": [
        "# Program 1 - Email Validation\n",
        "\n",
        "email = \"msdhoni7781@gmail.com\"\n",
        "pattern = r'^[\\w\\.-]+@[\\w\\.-]+\\.\\w+$'\n",
        "\n",
        "if re.match(pattern, email):\n",
        "    print(\"Valid Email\")\n",
        "else:\n",
        "    print(\"Invalid Email\")"
      ],
      "metadata": {
        "colab": {
          "base_uri": "https://localhost:8080/"
        },
        "id": "05RGEweNCNJY",
        "outputId": "154d329e-1a84-47f2-c05b-2926375b91c2"
      },
      "execution_count": 7,
      "outputs": [
        {
          "output_type": "stream",
          "name": "stdout",
          "text": [
            "Valid Email\n"
          ]
        }
      ]
    },
    {
      "cell_type": "code",
      "source": [
        "# pattern = r'^[\\w\\.-]+@[\\w\\.-]+\\.\\w+$'\n",
        "\n",
        "'''\n",
        "^ → Start of string\n",
        "[\\w\\.-]+ → One or more of (word characters, dot or hyphen) → before @\n",
        "@ → The @ symbol\n",
        "[\\w\\.-]+ → One or more of (word characters, dot or hyphen) → domain\n",
        "\\. → A literal dot (escaped)\n",
        "\\w+ → One or more word characters (for domain suffix like com)\n",
        "$ → End of string\n",
        "'''"
      ],
      "metadata": {
        "id": "SgivjGCOIQXe"
      },
      "execution_count": null,
      "outputs": []
    },
    {
      "cell_type": "code",
      "source": [
        "# Program 2 - Extract Phone Numbers from Text\n",
        "\n",
        "text = \"Call me at 9876543210 or at the office 0422-12345678.\"\n",
        "pattern = r'\\b(?:\\d{10}|\\d{3,4}-\\d{6,8})\\b'\n",
        "\n",
        "print(\"Phone Numbers Found:\", re.findall(pattern, text))"
      ],
      "metadata": {
        "colab": {
          "base_uri": "https://localhost:8080/"
        },
        "id": "dXclK0HZCNLO",
        "outputId": "841b503c-a572-4ad8-9ab8-4ffd51861900"
      },
      "execution_count": 8,
      "outputs": [
        {
          "output_type": "stream",
          "name": "stdout",
          "text": [
            "Phone Numbers Found: ['9876543210', '0422-12345678']\n"
          ]
        }
      ]
    },
    {
      "cell_type": "code",
      "source": [
        "# pattern = r'\\b(?:\\d{10}|\\d{3,4}-\\d{6,8})\\b'\n",
        "'''\n",
        "\\b → Word boundary (ensures exact match, not inside another word)\n",
        "(?:...) → Non-capturing group (choose one format)\n",
        "\\d{10} → 10 digits (mobile number)\n",
        "| → OR\n",
        "\\d{3,4}-\\d{6,8} → Landline format like o422-12345678\n",
        "\\b → Word boundary\n",
        "'''"
      ],
      "metadata": {
        "id": "VF0wvYw2CNNz"
      },
      "execution_count": null,
      "outputs": []
    },
    {
      "cell_type": "code",
      "source": [
        "# Program 3 - Check Strong Password (at least 1 uppercase, lowercase, digit, special char, 8+ chars)\n",
        "\n",
        "password = \"MSD@CaptainCool7781\"\n",
        "\n",
        "pattern = r'^(?=.*[a-z])(?=.*[A-Z])(?=.*\\d)(?=.*[@#$%^&+=!]).{8,}$'\n",
        "\n",
        "if re.match(pattern, password):\n",
        "    print(\"Strong Password\")\n",
        "else:\n",
        "    print(\"Weak Password\")\n"
      ],
      "metadata": {
        "colab": {
          "base_uri": "https://localhost:8080/"
        },
        "id": "ri8gSGQpCNQx",
        "outputId": "57ff0ae3-71a7-41d9-dd0c-3296baf5fdf3"
      },
      "execution_count": 9,
      "outputs": [
        {
          "output_type": "stream",
          "name": "stdout",
          "text": [
            "Strong Password\n"
          ]
        }
      ]
    },
    {
      "cell_type": "code",
      "source": [
        "# pattern = r'^(?=.*[a-z])(?=.*[A-Z])(?=.*\\d)(?=.*[@#$%^&+=!]).{8,}$'\n",
        "\n",
        "'''\n",
        "^ → Start of string\n",
        "(?=.*[a-z]) → At least one lowercase letter\n",
        "(?=.*[A-Z]) → At least one uppercase letter\n",
        "(?=.*\\d) → At least one digit\n",
        "(?=.*[@#$%^&+=!]) → At least one special character\n",
        ".{8,} → Minimum 8 characters of any kind\n",
        "$ → End of string\n",
        "'''"
      ],
      "metadata": {
        "id": "zuT9EAmfCNS7"
      },
      "execution_count": null,
      "outputs": []
    },
    {
      "cell_type": "code",
      "source": [
        "# Program 4 - Extract Hashtags from a Social Media Post\n",
        "\n",
        "post = \"The loudest cheer, from the closest hearts! 💛 #CSK #WhistlePodu #Yellove #MSDhoni🦁💛\"\n",
        "hashtags = re.findall(r'#\\w+', post)\n",
        "\n",
        "print(\"Hashtags:\", hashtags)"
      ],
      "metadata": {
        "colab": {
          "base_uri": "https://localhost:8080/"
        },
        "id": "jX8OKpt9CNV0",
        "outputId": "591665ff-50f0-4656-a903-e1da00893a21"
      },
      "execution_count": 10,
      "outputs": [
        {
          "output_type": "stream",
          "name": "stdout",
          "text": [
            "Hashtags: ['#CSK', '#WhistlePodu', '#Yellove', '#MSDhoni']\n"
          ]
        }
      ]
    },
    {
      "cell_type": "code",
      "source": [
        "# pattern = r'#\\w+'\n",
        "\n",
        "'''\n",
        "# → The hashtag symbol\n",
        "\\w+ → One or more word characters (letters, numbers, underscore)\n",
        "'''"
      ],
      "metadata": {
        "id": "D6CNCD1dCNYR"
      },
      "execution_count": null,
      "outputs": []
    },
    {
      "cell_type": "code",
      "source": [
        "# Program 5 - Validate Indian Vehicle Number Plate Format\n",
        "\n",
        "plate = \"TN-07-MS-7781\"\n",
        "pattern = r'^[A-Z]{2}-\\d{2}-[A-Z]{1,2}-\\d{4}$'\n",
        "\n",
        "if re.match(pattern, plate):\n",
        "    print(\"Valid Vehicle Number\")\n",
        "else:\n",
        "    print(\"Invalid Number\")"
      ],
      "metadata": {
        "colab": {
          "base_uri": "https://localhost:8080/"
        },
        "id": "QkYQum9FJSwg",
        "outputId": "4a9141db-eb79-463d-e494-8d6a35d8aa66"
      },
      "execution_count": 11,
      "outputs": [
        {
          "output_type": "stream",
          "name": "stdout",
          "text": [
            "Valid Vehicle Number\n"
          ]
        }
      ]
    },
    {
      "cell_type": "code",
      "source": [
        "# pattern = r'^[A-Z]{2}-\\d{2}-[A-Z]{1,2}-\\d{4}$'\n",
        "\n",
        "'''\n",
        "^[A-Z]{2} → 2 capital letters (state code)\n",
        "- → Hyphen\n",
        "\\d{2} → 2 digits (district code)\n",
        "- → Hyphen\n",
        "[A-Z]{1,2} → 1 or 2 capital letters (series)\n",
        "- → Hyphen\n",
        "\\d{4} → 4 digits\n",
        "$ → End of string\n",
        "'''"
      ],
      "metadata": {
        "id": "iLGVsKKPJhO6"
      },
      "execution_count": null,
      "outputs": []
    },
    {
      "cell_type": "code",
      "source": [
        "# PRogram 6 - Remove HTML Tags\n",
        "\n",
        "html = \"<h1>Welcome to Master Coding from Scratch! </h1><p>Today we're discussing about Regula Expressions in Python.</p>\"\n",
        "clean = re.sub(r'<.*?>', '', html)\n",
        "\n",
        "print(\"Clean Text:\", clean)"
      ],
      "metadata": {
        "colab": {
          "base_uri": "https://localhost:8080/"
        },
        "id": "TwukLkbjJhRi",
        "outputId": "c6d94f95-91d4-47e8-b185-36f9475975d8"
      },
      "execution_count": 12,
      "outputs": [
        {
          "output_type": "stream",
          "name": "stdout",
          "text": [
            "Clean Text: Welcome to Master Coding from Scratch! Today we're discussing about Regula Expressions in Python.\n"
          ]
        }
      ]
    },
    {
      "cell_type": "code",
      "source": [
        "# pattern = r'<.*?>'\n",
        "\n",
        "'''\n",
        "< → Opening angle bracket\n",
        ".*? → Match anything (non-greedy)\n",
        "> → Closing bracket\n",
        "→ Matches anything like <h1>, <p> etc.\n",
        "'''"
      ],
      "metadata": {
        "id": "RRsB8EjsJhUK"
      },
      "execution_count": null,
      "outputs": []
    },
    {
      "cell_type": "code",
      "source": [
        "# Program 7 - Extract All Dates in DD-MM-YYYY Format\n",
        "\n",
        "text = \"Birthdays: 06-02-2015, 07-07-1981.\"\n",
        "dates = re.findall(r'\\b\\d{2}-\\d{2}-\\d{4}\\b', text)\n",
        "\n",
        "print(\"Dates Found:\", dates)"
      ],
      "metadata": {
        "colab": {
          "base_uri": "https://localhost:8080/"
        },
        "id": "IqjXM3ScJhWz",
        "outputId": "5ebaa888-0361-4371-f691-2d2e4e67a1c2"
      },
      "execution_count": 13,
      "outputs": [
        {
          "output_type": "stream",
          "name": "stdout",
          "text": [
            "Dates Found: ['06-02-2015', '07-07-1981']\n"
          ]
        }
      ]
    },
    {
      "cell_type": "code",
      "source": [
        "# pattern = r'\\b\\d{2}-\\d{2}-\\d{4}\\b'\n",
        "\n",
        "'''\n",
        "\\b → Word boundary\n",
        "\\d{2} → Two digits (day)\n",
        "- → Hyphen\n",
        "\\d{2} → Two digits (month)\n",
        "- → Hyphen\n",
        "\\d{4} → Four digits (year)\n",
        "\\b → Word boundary\n",
        "'''"
      ],
      "metadata": {
        "id": "WVVxBGIYKeok"
      },
      "execution_count": null,
      "outputs": []
    },
    {
      "cell_type": "code",
      "source": [
        "# Application\n",
        "# Resume Parser\n",
        "'''\n",
        "You are tasked with building a Resume Parser that automatically extracts key details from a candidate's resume.\n",
        "The input will be the text of the resume, and the output should include the following information:\n",
        "Name of the candidate\n",
        "Email address\n",
        "Phone number\n",
        "Skills listed in the resume\n",
        "Education level or degree\n",
        "Years of experience in the field\n",
        "\n",
        "Requirements:\n",
        "Name Extraction: Extract the candidate’s name, which may include a first name, middle name, and last name.\n",
        "Email Validation: Ensure the email address is valid and extract it from the resume text.\n",
        "Phone Number Extraction: Support different phone number formats, including international numbers with country codes,\n",
        "area codes with parentheses, and different separators (spaces, dashes).\n",
        "Skills Extraction: Extract the skills mentioned in the resume (such as programming languages, frameworks, or tools) from a predefined list.\n",
        "Education Extraction: Extract the candidate’s educational background (e.g., \"Bachelor\", \"Master\", \"PhD\").\n",
        "Experience Extraction: Extract the candidate’s work experience, specifying the number of years of experience (e.g., \"5 years\" or \"3 yrs\").\n",
        "\n",
        "Assumptions:\n",
        "The resume will be provided in plain text format.\n",
        "The skills list can include common programming languages and frameworks (e.g., Python, Java, SQL, React, Node.js).\n",
        "The phone number and email will be in standard formats but may vary in delimiters or spacing.\n",
        "The name may include a first, middle, and last name.\n",
        "'''"
      ],
      "metadata": {
        "id": "sLF63QjyKjXC"
      },
      "execution_count": null,
      "outputs": []
    },
    {
      "cell_type": "code",
      "source": [
        "import re\n",
        "\n",
        "def parse_resume(resume_text):\n",
        "    # Regex for matching name (handles first, middle, last names)\n",
        "    name_pattern = r'\\b([A-Z][a-z]+(?: [A-Z][a-z]+)*)\\b'\n",
        "    name_match = re.search(name_pattern, resume_text)\n",
        "    name = name_match.group(0) if name_match else \"Name not found\"\n",
        "\n",
        "    # Regex for matching email with more accurate format\n",
        "    email_pattern = r'\\b[A-Za-z0-9._%+-]+@[A-Za-z0-9.-]+\\.[A-Z|a-z]{2,7}\\b'\n",
        "    email_match = re.search(email_pattern, resume_text)\n",
        "    email = email_match.group(0) if email_match else \"Email not found\"\n",
        "\n",
        "    # Regex for matching phone numbers (handles different formats)\n",
        "    phone_pattern = r'\\b(?:\\+?\\d{1,2}\\s?)?(\\(?\\d{3}\\)?[\\s-]?)?[\\d{7}]+(?:[\\s-]?\\d{1,4})?\\b'\n",
        "    phone_match = re.search(phone_pattern, resume_text)\n",
        "    phone = phone_match.group(0) if phone_match else \"Phone number not found\"\n",
        "\n",
        "    # Regex for matching skills (expanded list)\n",
        "    skills_pattern = r'\\b(HTML|CSS|JavaScript|Python|Java|SQL|C\\+\\+|PHP|React|Node\\.js|Ruby|Go|Swift|R|TypeScript|Django|C#|Scala|Kotlin|Rust)\\b'\n",
        "    skills_matches = re.findall(skills_pattern, resume_text)\n",
        "    skills = ', '.join(skills_matches) if skills_matches else \"Skills not found\"\n",
        "\n",
        "    # Regex for matching education (simple matching for degree names)\n",
        "    education_pattern = r'\\b(Bachelor|Master|Ph\\.?D|Diploma)\\b'\n",
        "    education_match = re.search(education_pattern, resume_text)\n",
        "    education = education_match.group(0) if education_match else \"Education not found\"\n",
        "\n",
        "    # Regex for matching years of experience (simple matching for years like \"5 years\")\n",
        "    experience_pattern = r'\\b(\\d{1,2})\\s?(year|yr|yrs|years)\\b'\n",
        "    experience_match = re.search(experience_pattern, resume_text)\n",
        "    experience = experience_match.group(0) if experience_match else \"Experience not found\"\n",
        "\n",
        "    return {\n",
        "        \"Name\": name,\n",
        "        \"Email\": email,\n",
        "        \"Phone\": phone,\n",
        "        \"Skills\": skills,\n",
        "        \"Education\": education,\n",
        "        \"Experience\": experience\n",
        "    }\n",
        "\n",
        "# Sample resume text\n",
        "resume_text = \"\"\"\n",
        "MS Dhoni\n",
        "Email: mahi7781@gmail.com\n",
        "Phone: 12345 67890\n",
        "Skills: Python, Java, SQL, HTML, CSS, JavaScript\n",
        "Education: Bachelor of Science in Computer Science\n",
        "Experience: 5 years in software development\n",
        "\"\"\"\n",
        "\n",
        "# Parse the resume\n",
        "parsed_info = parse_resume(resume_text)\n",
        "\n",
        "# Display parsed information\n",
        "print(\"Parsed Resume Information:\")\n",
        "for key, value in parsed_info.items(): # We'll discuss dict soon!\n",
        "    print(f\"{key}: {value}\")\n"
      ],
      "metadata": {
        "colab": {
          "base_uri": "https://localhost:8080/"
        },
        "id": "otsjB32sKjaT",
        "outputId": "175b8d95-eb15-4921-af01-ecd457e205a6"
      },
      "execution_count": 14,
      "outputs": [
        {
          "output_type": "stream",
          "name": "stdout",
          "text": [
            "Parsed Resume Information:\n",
            "Name: Dhoni\n",
            "Email: mahi7781@gmail.com\n",
            "Phone: 12345 67890\n",
            "Skills: Python, Java, SQL, HTML, CSS, JavaScript\n",
            "Education: Bachelor\n",
            "Experience: 5 years\n"
          ]
        }
      ]
    },
    {
      "cell_type": "code",
      "source": [
        "'''\n",
        "Name Pattern (name_pattern)\n",
        "r'\\b([A-Z][a-z]+(?: [A-Z][a-z]+)*)\\b'\n",
        "\n",
        "\\b: Word boundary. This ensures that the match is a complete word, and we don't match part of another word.\n",
        "[A-Z]: Matches a single uppercase letter (for the first letter of the name).\n",
        "[a-z]+: Matches one or more lowercase letters (the rest of the name).\n",
        "(?: [A-Z][a-z]+)*: This part matches middle names or last names:\n",
        "(?: ... ): A non-capturing group. It groups the pattern but doesn't create a separate match for it.\n",
        "[A-Z][a-z]+: Matches a space followed by a capital letter and then lowercase letters (i.e., another part of the name).\n",
        "The * after this allows it to repeat, so it can handle multiple names (e.g., \"John Doe\" or \"John Michael Doe\").\n",
        "\\b: Word boundary again to ensure the match ends after the name.\n",
        "Example match: \"MS Dhoni\".\n",
        "----------------------------------------------------------------------------------------------------------------------\n",
        "2. Email Pattern (email_pattern)\n",
        "r'\\b[A-Za-z0-9._%+-]+@[A-Za-z0-9.-]+\\.[A-Z|a-z]{2,7}\\b'\n",
        "\n",
        "\\b: Word boundary, ensuring the email is matched as a whole.\n",
        "[A-Za-z0-9._%+-]+: Matches the username part of the email, which can include:\n",
        "Letters (A-Z and a-z), digits (0-9), underscores (_), periods (.), percent signs (%), pluses (+), and hyphens (-).\n",
        "The + means that one or more of these characters can be used.\n",
        "@: Matches the @ symbol that separates the username and domain.\n",
        "[A-Za-z0-9.-]+: Matches the domain name part, which can contain letters, digits, dots, or hyphens.\n",
        "\\.: Matches the dot (.) before the domain extension.\n",
        "[A-Z|a-z]{2,7}: Matches the domain extension, like .com, .org, .net. It allows 2 to 7 characters (case-insensitive).\n",
        "\\b: Word boundary, ensuring the email is a whole match.\n",
        "Example match: \"mahi7781@gmail.com\".\n",
        "----------------------------------------------------------------------------------------------------------------------\n",
        "3. Phone Number Pattern (phone_pattern)\n",
        "r'\\b(?:\\+?\\d{1,2}\\s?)?(\\(?\\d{3}\\)?[\\s-]?)?[\\d{7}]+(?:[\\s-]?\\d{1,4})?\\b'\n",
        "\n",
        "\\b: Word boundary to ensure we match a complete phone number.\n",
        "(?:\\+?\\d{1,2}\\s?)?: Matches an optional country code (e.g., +1, +91). It can have:\n",
        "\\+?: An optional plus sign (+).\n",
        "\\d{1,2}: One or two digits for the country code.\n",
        "\\s?: An optional space.\n",
        "The entire country code pattern is optional because of the ? at the end.\n",
        "(\\(?\\d{3}\\)?[\\s-]?)?: Matches the area code:\n",
        "\\(?\\d{3}\\)?: Matches the area code, which may be enclosed in parentheses (e.g., (123)).\n",
        "[\\s-]?: Optionally matches a space or hyphen after the area code.\n",
        "[\\d{7}]+: Matches the main 7 digits of the phone number.\n",
        "(?:[\\s-]?\\d{1,4})?: Matches an optional extension (e.g., 1234), allowing for space or hyphen between the main digits and the extension.\n",
        "\\b: Word boundary to ensure the phone number is matched fully.\n",
        "Example match: \"12345 67890\" or \"+1 123-456-7890\".\n",
        "----------------------------------------------------------------------------------------------------------------------\n",
        "4. Skills Pattern (skills_pattern)\n",
        "r'\\b(HTML|CSS|JavaScript|Python|Java|SQL|C\\+\\+|PHP|React|Node\\.js|Ruby|Go|Swift|R|TypeScript|Django|C#|Scala|Kotlin|Rust)\\b'\n",
        "\n",
        "\\b: Word boundary to ensure that we match complete skills.\n",
        "(HTML|CSS|JavaScript|Python|...): This part lists all the skills you're interested in.\n",
        "The | acts as an OR operator, meaning it will match any of the skills listed.\n",
        "For example, it will match \"Python\", \"Java\", \"React\", etc.\n",
        "\\b: Word boundary again to ensure the skill name is complete.\n",
        "Example match: \"Python\", \"Java\", \"SQL\", \"React\".\n",
        "----------------------------------------------------------------------------------------------------------------------\n",
        "5. Education Pattern (education_pattern)\n",
        "r'\\b(Bachelor|Master|Ph\\.?D|Diploma)\\b'\n",
        "\n",
        "\\b: Word boundary to ensure it's a full word match.\n",
        "(Bachelor|Master|Ph\\.?D|Diploma): Matches one of the educational degrees listed:\n",
        "Bachelor, Master, Ph\\.?D (with or without a period), and Diploma.\n",
        "The \\ is used to escape the dot in \"Ph.D.\" to make sure it's treated as a literal period, not a wildcard.\n",
        "\\b: Word boundary to end the match.\n",
        "Example match: \"Bachelor\", \"Master\", \"Ph.D.\".\n",
        "----------------------------------------------------------------------------------------------------------------------\n",
        "6. Experience Pattern (experience_pattern)\n",
        "r'\\b(\\d{1,2})\\s?(year|yr|yrs|years)\\b'\n",
        "\n",
        "\\b: Word boundary to ensure a complete match.\n",
        "(\\d{1,2}): Matches one or two digits for the number of years of experience.\n",
        "\\s?: Optionally matches a space between the number and the word \"year\" or \"years\".\n",
        "(year|yr|yrs|years): Matches the word \"year\", \"yr\", \"yrs\", or \"years\".\n",
        "\\b: Word boundary to end the match.\n",
        "Example match: \"5 years\", \"3 yrs\", \"1 year\".\n",
        "'''"
      ],
      "metadata": {
        "id": "bDxEisbrKjc-"
      },
      "execution_count": null,
      "outputs": []
    }
  ]
}