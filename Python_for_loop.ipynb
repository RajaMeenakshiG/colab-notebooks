{
  "nbformat": 4,
  "nbformat_minor": 0,
  "metadata": {
    "colab": {
      "provenance": []
    },
    "kernelspec": {
      "name": "python3",
      "display_name": "Python 3"
    },
    "language_info": {
      "name": "python"
    }
  },
  "cells": [
    {
      "cell_type": "code",
      "source": [
        "# for - iterate through a sequence or number of times\n",
        "# using range\n",
        "for i in range(7): # 7 is end value - 1\n",
        "  print(i, end = \" \")"
      ],
      "metadata": {
        "colab": {
          "base_uri": "https://localhost:8080/"
        },
        "id": "3j9eTtIBi-RX",
        "outputId": "60458e7b-995f-469f-a78f-9243999c893d"
      },
      "execution_count": 1,
      "outputs": [
        {
          "output_type": "stream",
          "name": "stdout",
          "text": [
            "0 1 2 3 4 5 6 "
          ]
        }
      ]
    },
    {
      "cell_type": "code",
      "source": [
        "for i in range(1,11,1): # start = 1; stop = 10; step = 1 (default value)\n",
        "  print(i, end = \" \") # start and step are optional"
      ],
      "metadata": {
        "colab": {
          "base_uri": "https://localhost:8080/"
        },
        "id": "IZ2GtKowi-Vy",
        "outputId": "5f4ce365-a315-4897-f11e-5bc8ca31fcdc"
      },
      "execution_count": 2,
      "outputs": [
        {
          "output_type": "stream",
          "name": "stdout",
          "text": [
            "1 2 3 4 5 6 7 8 9 10 "
          ]
        }
      ]
    },
    {
      "cell_type": "code",
      "source": [
        "# reverse for loop\n",
        "for i in range(20,0,-1):\n",
        "  print(i, end = \" \")"
      ],
      "metadata": {
        "colab": {
          "base_uri": "https://localhost:8080/"
        },
        "id": "0baFaZ0wlSGi",
        "outputId": "0bc06aab-d6dc-40f2-81ec-c2941ae6a343"
      },
      "execution_count": 3,
      "outputs": [
        {
          "output_type": "stream",
          "name": "stdout",
          "text": [
            "20 19 18 17 16 15 14 13 12 11 10 9 8 7 6 5 4 3 2 1 "
          ]
        }
      ]
    },
    {
      "cell_type": "code",
      "source": [
        "# print odd numbers from 1 to 25 using step\n",
        "for i in range(1,26,2):\n",
        "  print(i, end = \" \")"
      ],
      "metadata": {
        "colab": {
          "base_uri": "https://localhost:8080/"
        },
        "id": "GtU2-ArGi-aW",
        "outputId": "7bea38c3-4015-4880-b370-0fa0fb8f81a5"
      },
      "execution_count": 4,
      "outputs": [
        {
          "output_type": "stream",
          "name": "stdout",
          "text": [
            "1 3 5 7 9 11 13 15 17 19 21 23 25 "
          ]
        }
      ]
    },
    {
      "cell_type": "code",
      "source": [
        "# print even numbers from 1 to 25 without step but using if\n",
        "for i in range(1,26):\n",
        "  if i % 2 == 0:\n",
        "    print(i, end = \" \")"
      ],
      "metadata": {
        "colab": {
          "base_uri": "https://localhost:8080/"
        },
        "id": "CZRvUfr1i-dX",
        "outputId": "2f00baac-4625-48ab-d9c1-10d9b8791f79"
      },
      "execution_count": 5,
      "outputs": [
        {
          "output_type": "stream",
          "name": "stdout",
          "text": [
            "2 4 6 8 10 12 14 16 18 20 22 24 "
          ]
        }
      ]
    },
    {
      "cell_type": "code",
      "source": [
        "# sequence - string\n",
        "s = \"helloworld\"\n",
        "for i in s:\n",
        "  print(i, end = \" - \") # after last char also - is there\n",
        "\n",
        "# we'll see same for loop in list and two more for loop editions - enumerate and zip!!"
      ],
      "metadata": {
        "colab": {
          "base_uri": "https://localhost:8080/"
        },
        "id": "6uKnU1STi-g5",
        "outputId": "045b745a-a1c4-42bb-c0f9-e40a93e7e932"
      },
      "execution_count": 6,
      "outputs": [
        {
          "output_type": "stream",
          "name": "stdout",
          "text": [
            "h - e - l - l - o - w - o - r - l - d - "
          ]
        }
      ]
    },
    {
      "cell_type": "code",
      "source": [
        "# no - after last char\n",
        "s = \"helloworld\"\n",
        "for i in s:\n",
        "  if i != s[-1]: # last char index is -1. Let's see in details in Strings chapter\n",
        "    print(i, end = \" - \")\n",
        "  else:\n",
        "    print(i)"
      ],
      "metadata": {
        "colab": {
          "base_uri": "https://localhost:8080/"
        },
        "id": "uTLlRI5oi-km",
        "outputId": "530bfe11-248f-4179-bf60-e5bd02f30435"
      },
      "execution_count": 7,
      "outputs": [
        {
          "output_type": "stream",
          "name": "stdout",
          "text": [
            "h - e - l - l - o - w - o - r - l - d\n"
          ]
        }
      ]
    },
    {
      "cell_type": "code",
      "source": [
        "# for with break\n",
        "for i in range(1, 10):\n",
        "    if i == 5:\n",
        "        break  # stops the loop\n",
        "    print(i, end = \" \")"
      ],
      "metadata": {
        "colab": {
          "base_uri": "https://localhost:8080/"
        },
        "id": "uHSc0rM2i-p5",
        "outputId": "09393bbc-97e8-4676-8c39-188e204c0b20"
      },
      "execution_count": 8,
      "outputs": [
        {
          "output_type": "stream",
          "name": "stdout",
          "text": [
            "1 2 3 4 "
          ]
        }
      ]
    },
    {
      "cell_type": "code",
      "source": [
        "# for with continue\n",
        "for i in range(1, 10):\n",
        "    if i == 5:\n",
        "        continue  # skips the current iteration\n",
        "    print(i, end = \" \")"
      ],
      "metadata": {
        "colab": {
          "base_uri": "https://localhost:8080/"
        },
        "id": "r4aFEiemi-tL",
        "outputId": "8d6cb228-af2a-4042-867e-4cfc1f20ab8e"
      },
      "execution_count": 9,
      "outputs": [
        {
          "output_type": "stream",
          "name": "stdout",
          "text": [
            "1 2 3 4 6 7 8 9 "
          ]
        }
      ]
    },
    {
      "cell_type": "code",
      "source": [
        "# for else suite\n",
        "for i in range(3):\n",
        "    print(i, end = \" \")\n",
        "else:\n",
        "    print(\"\\nLoop completed without break!\")\n",
        "print(\"Outside the loop\")"
      ],
      "metadata": {
        "colab": {
          "base_uri": "https://localhost:8080/"
        },
        "id": "xy_Z_3cIi-wq",
        "outputId": "0e010227-a86d-460a-bc3a-12726052b36c"
      },
      "execution_count": 10,
      "outputs": [
        {
          "output_type": "stream",
          "name": "stdout",
          "text": [
            "0 1 2 \n",
            "Loop completed without break!\n",
            "Outside the loop\n"
          ]
        }
      ]
    },
    {
      "cell_type": "code",
      "source": [
        "for i in range(1,5):\n",
        "  if i == 3:\n",
        "    break\n",
        "  else:\n",
        "    print(i, end = \" \")\n",
        "else:\n",
        "  print(\"\\nElse in For!\")\n",
        "print(\"\\nOutside the loop\")"
      ],
      "metadata": {
        "colab": {
          "base_uri": "https://localhost:8080/"
        },
        "id": "uvjpkaIWi-z1",
        "outputId": "2489108c-2a47-4d3c-b558-1d90972a80f5"
      },
      "execution_count": 11,
      "outputs": [
        {
          "output_type": "stream",
          "name": "stdout",
          "text": [
            "1 2 \n",
            "Outside the loop\n"
          ]
        }
      ]
    },
    {
      "cell_type": "code",
      "source": [
        "# nested for loop\n",
        "for i in range(1,4):\n",
        "    for j in range(1,4):\n",
        "        print(f\"{i}, {j}\")\n",
        "    print()"
      ],
      "metadata": {
        "colab": {
          "base_uri": "https://localhost:8080/"
        },
        "id": "-bIrH_dDi-2-",
        "outputId": "47df3baf-7910-4de7-d891-a39250157d2a"
      },
      "execution_count": 12,
      "outputs": [
        {
          "output_type": "stream",
          "name": "stdout",
          "text": [
            "1, 1\n",
            "1, 2\n",
            "1, 3\n",
            "\n",
            "2, 1\n",
            "2, 2\n",
            "2, 3\n",
            "\n",
            "3, 1\n",
            "3, 2\n",
            "3, 3\n",
            "\n"
          ]
        }
      ]
    },
    {
      "cell_type": "code",
      "source": [
        "# simple pyramid pattern\n",
        "\n",
        "n = 7\n",
        "\n",
        "for i in range(1, n + 1):\n",
        "    for j in range(n - i):\n",
        "        print(\"   \", end=\" \")\n",
        "\n",
        "    for k in range(2 * i - 1):\n",
        "        print(\" * \", end=\" \")\n",
        "\n",
        "    print()\n"
      ],
      "metadata": {
        "colab": {
          "base_uri": "https://localhost:8080/"
        },
        "id": "E_eNZSw_oyEh",
        "outputId": "eb8b848c-5d7f-4d91-e552-f52f60c19aba"
      },
      "execution_count": 13,
      "outputs": [
        {
          "output_type": "stream",
          "name": "stdout",
          "text": [
            "                         *  \n",
            "                     *   *   *  \n",
            "                 *   *   *   *   *  \n",
            "             *   *   *   *   *   *   *  \n",
            "         *   *   *   *   *   *   *   *   *  \n",
            "     *   *   *   *   *   *   *   *   *   *   *  \n",
            " *   *   *   *   *   *   *   *   *   *   *   *   *  \n"
          ]
        }
      ]
    },
    {
      "cell_type": "code",
      "source": [
        "# Floyd's Triangle\n",
        "n = 7\n",
        "num = 1\n",
        "\n",
        "for i in range(1, n + 1):\n",
        "    for j in range(1, i + 1):\n",
        "        print(num, end=\" \")\n",
        "        num += 1\n",
        "    print()"
      ],
      "metadata": {
        "colab": {
          "base_uri": "https://localhost:8080/"
        },
        "id": "gTIW4BzJoyQx",
        "outputId": "7bfb8ff8-6a20-46e2-fad1-b51805dee215"
      },
      "execution_count": 14,
      "outputs": [
        {
          "output_type": "stream",
          "name": "stdout",
          "text": [
            "1 \n",
            "2 3 \n",
            "4 5 6 \n",
            "7 8 9 10 \n",
            "11 12 13 14 15 \n",
            "16 17 18 19 20 21 \n",
            "22 23 24 25 26 27 28 \n"
          ]
        }
      ]
    },
    {
      "cell_type": "code",
      "source": [
        "# Multiplication Table\n",
        "num = int(input(\"Enter the number for which multiplication table has to be generated: \"))\n",
        "limit = int(input(\"Enter the limit till which the multiplication table has to be generated: \"))\n",
        "for i in range(1, limit+1):\n",
        "    print(f\"{num} × {i} = {num * i}\")"
      ],
      "metadata": {
        "colab": {
          "base_uri": "https://localhost:8080/"
        },
        "id": "TR10l5jRi-6C",
        "outputId": "b048d960-373a-49e9-a1e9-4109df1c597d"
      },
      "execution_count": 15,
      "outputs": [
        {
          "output_type": "stream",
          "name": "stdout",
          "text": [
            "Enter the number for which multiplication table has to be generated: 7\n",
            "Enter the limit till which the multiplication table has to be generated: 12\n",
            "7 × 1 = 7\n",
            "7 × 2 = 14\n",
            "7 × 3 = 21\n",
            "7 × 4 = 28\n",
            "7 × 5 = 35\n",
            "7 × 6 = 42\n",
            "7 × 7 = 49\n",
            "7 × 8 = 56\n",
            "7 × 9 = 63\n",
            "7 × 10 = 70\n",
            "7 × 11 = 77\n",
            "7 × 12 = 84\n"
          ]
        }
      ]
    },
    {
      "cell_type": "code",
      "source": [
        "# sum of numbers using loop\n",
        "n = 100\n",
        "total = 0\n",
        "for i in range(1, n+1):\n",
        "  total += i\n",
        "print(f\"Sum of numbers from 1 to {n} natural numbers is {total}.\")"
      ],
      "metadata": {
        "colab": {
          "base_uri": "https://localhost:8080/"
        },
        "id": "4TsayTKfi-9M",
        "outputId": "d0416baf-71d1-4511-8cf8-2485cde6094d"
      },
      "execution_count": 16,
      "outputs": [
        {
          "output_type": "stream",
          "name": "stdout",
          "text": [
            "Sum of numbers from 1 to 100 natural numbers is 5050.\n"
          ]
        }
      ]
    },
    {
      "cell_type": "code",
      "source": [
        "# generate a simple password\n",
        "import random\n",
        "import string\n",
        "\n",
        "length = 8\n",
        "password = \"\"\n",
        "\n",
        "for _ in range(length):\n",
        "    password += random.choice(string.ascii_letters + string.digits + string.punctuation)\n",
        "\n",
        "print(\"Generated Password:\", password)"
      ],
      "metadata": {
        "colab": {
          "base_uri": "https://localhost:8080/"
        },
        "id": "71EqjCl1i_Ab",
        "outputId": "409d309a-45da-4ee5-8db3-d64223047a59"
      },
      "execution_count": 17,
      "outputs": [
        {
          "output_type": "stream",
          "name": "stdout",
          "text": [
            "Generated Password: 4%JB<eC)\n"
          ]
        }
      ]
    },
    {
      "cell_type": "code",
      "source": [
        "print(string.ascii_letters)\n",
        "print(string.digits)\n",
        "print(string.punctuation)"
      ],
      "metadata": {
        "colab": {
          "base_uri": "https://localhost:8080/"
        },
        "id": "Y0MCye8xi_Gc",
        "outputId": "7ae351bb-a1ea-44dd-b565-a913e09df27e"
      },
      "execution_count": 18,
      "outputs": [
        {
          "output_type": "stream",
          "name": "stdout",
          "text": [
            "abcdefghijklmnopqrstuvwxyzABCDEFGHIJKLMNOPQRSTUVWXYZ\n",
            "0123456789\n",
            "!\"#$%&'()*+,-./:;<=>?@[\\]^_`{|}~\n"
          ]
        }
      ]
    },
    {
      "cell_type": "code",
      "source": [
        "# username and email validation\n",
        "\n",
        "username = input(\"Enter your username: \")\n",
        "email = input(\"Enter your email: \")\n",
        "\n",
        "valid_username = True\n",
        "if len(username) < 5 or len(username) > 15:\n",
        "    valid_username = False\n",
        "else:\n",
        "    for i in username:\n",
        "        if not i.isalnum():  # Check if each character is alphanumeric\n",
        "            valid_username = False\n",
        "            break\n",
        "\n",
        "if valid_username:\n",
        "    print(\"Username is valid.\")\n",
        "else:\n",
        "    print(\"Invalid username. It must be 5-15 characters long and alphanumeric.\")\n",
        "\n",
        "at_found = False\n",
        "dot_found = False\n",
        "\n",
        "for char in email:\n",
        "    if char == '@':\n",
        "        at_found = True\n",
        "    if char == '.':\n",
        "        dot_found = True\n",
        "\n",
        "if at_found and dot_found:\n",
        "    print(\"Email is valid.\")\n",
        "else:\n",
        "    print(\"Invalid email. It must contain '@' and '.'.\")"
      ],
      "metadata": {
        "colab": {
          "base_uri": "https://localhost:8080/"
        },
        "id": "tXHtaF-Yi_K2",
        "outputId": "28eeafa2-0046-4920-93dd-67e570553982"
      },
      "execution_count": 19,
      "outputs": [
        {
          "output_type": "stream",
          "name": "stdout",
          "text": [
            "Enter your username: msdhoni\n",
            "Enter your email: dhoni@gmail.com\n",
            "Username is valid.\n",
            "Email is valid.\n"
          ]
        }
      ]
    }
  ]
}
