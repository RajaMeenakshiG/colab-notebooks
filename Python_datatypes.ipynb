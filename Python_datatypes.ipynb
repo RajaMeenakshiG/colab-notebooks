{
  "nbformat": 4,
  "nbformat_minor": 0,
  "metadata": {
    "colab": {
      "provenance": []
    },
    "kernelspec": {
      "name": "python3",
      "display_name": "Python 3"
    },
    "language_info": {
      "name": "python"
    }
  },
  "cells": [
    {
      "cell_type": "code",
      "source": [
        "# Basic Data Types\n",
        "\n",
        "a = 7 # Integer numbers\n",
        "b = -0.99 # Floating-point numbers\n",
        "c = \"Enjoy Python!\" # String (text)\n",
        "d = True # Boolean values\n",
        "e = None # Represents no value or null\n",
        "\n",
        "print(a, type(a))\n",
        "print(b, type(b))\n",
        "print(c, type(c))\n",
        "print(d, type(d))\n",
        "print(e, type(e))"
      ],
      "metadata": {
        "colab": {
          "base_uri": "https://localhost:8080/"
        },
        "id": "mV-EsPk6DSgN",
        "outputId": "2fad2e3b-7707-40a0-9693-de77bf92f359"
      },
      "execution_count": 1,
      "outputs": [
        {
          "output_type": "stream",
          "name": "stdout",
          "text": [
            "7 <class 'int'>\n",
            "-0.99 <class 'float'>\n",
            "Enjoy Python! <class 'str'>\n",
            "True <class 'bool'>\n",
            "None <class 'NoneType'>\n"
          ]
        }
      ]
    },
    {
      "cell_type": "code",
      "source": [
        "# Collection Data Types - we'll discuss all these soon!\n",
        "\n",
        "f = [1,2,3,\"a\", \"b\", \"c\"] # Ordered, mutable collection\n",
        "g = (1,2,3,\"a\", \"b\", \"c\") # Ordered, immutable collection\n",
        "h = {1:\"a\", 2:\"b\", 3:\"c\"} # Key-value pairs\n",
        "i = {1,2,3,\"a\", \"b\", \"c\"} # Unordered collection of unique elements\n",
        "j = frozenset([1,2,3]) # Immutable version of a set\n",
        "k = range(7) # Sequence of numbers 0,1,2...5,6,7\n",
        "\n",
        "print(f, type(f))\n",
        "print(g, type(g))\n",
        "print(h, type(h))\n",
        "print(i, type(i))\n",
        "print(j, type(j))\n",
        "print(k, type(k))"
      ],
      "metadata": {
        "colab": {
          "base_uri": "https://localhost:8080/"
        },
        "id": "D6oYjjobDSjk",
        "outputId": "5b6ede5b-57ba-497c-9835-f4f4ee5e8ee1"
      },
      "execution_count": 2,
      "outputs": [
        {
          "output_type": "stream",
          "name": "stdout",
          "text": [
            "[1, 2, 3, 'a', 'b', 'c'] <class 'list'>\n",
            "(1, 2, 3, 'a', 'b', 'c') <class 'tuple'>\n",
            "{1: 'a', 2: 'b', 3: 'c'} <class 'dict'>\n",
            "{'a', 1, 2, 3, 'b', 'c'} <class 'set'>\n",
            "frozenset({1, 2, 3}) <class 'frozenset'>\n",
            "range(0, 7) <class 'range'>\n"
          ]
        }
      ]
    },
    {
      "cell_type": "code",
      "source": [
        "# Advanced Data Types\n",
        "l = b\"abc\" # Immutable byte sequence\n",
        "m = bytearray(b\"abc\") # Mutable byte sequence\n",
        "n = memoryview(b\"abc\") # Memory-efficient view of binary data\n",
        "o = 3 + 4j # Complex numbers\n",
        "\n",
        "print(l, type(l))\n",
        "print(m, type(m))\n",
        "print(n, type(n))\n",
        "print(o, type(o))"
      ],
      "metadata": {
        "colab": {
          "base_uri": "https://localhost:8080/"
        },
        "id": "GaNqiftHDSmM",
        "outputId": "fbc1da4f-1913-4d0b-ed29-cb0eea9001cb"
      },
      "execution_count": 3,
      "outputs": [
        {
          "output_type": "stream",
          "name": "stdout",
          "text": [
            "b'abc' <class 'bytes'>\n",
            "bytearray(b'abc') <class 'bytearray'>\n",
            "<memory at 0x7a667abe6f80> <class 'memoryview'>\n",
            "(3+4j) <class 'complex'>\n"
          ]
        }
      ]
    },
    {
      "cell_type": "code",
      "source": [
        "# Features\n",
        "\n",
        "# 1. Dynamic Typing -- we've dicussed this already! Hope you remember!\n",
        "\n",
        "x = 10        # int\n",
        "print(x, type(x))\n",
        "x = \"hello\"   # now it's a str\n",
        "print(x, type(x))"
      ],
      "metadata": {
        "colab": {
          "base_uri": "https://localhost:8080/"
        },
        "id": "HQdlm3BSDSo3",
        "outputId": "64f03997-7cd6-4a30-b768-e2b353a1c077"
      },
      "execution_count": 4,
      "outputs": [
        {
          "output_type": "stream",
          "name": "stdout",
          "text": [
            "10 <class 'int'>\n",
            "hello <class 'str'>\n"
          ]
        }
      ]
    },
    {
      "cell_type": "code",
      "source": [
        "# 2. Everything is an Object\n",
        "x = 5\n",
        "print(x.bit_length())  # int behaves like an object\n",
        "y = \"hello\"\n",
        "print(y.upper())       # str behaves like an object"
      ],
      "metadata": {
        "colab": {
          "base_uri": "https://localhost:8080/"
        },
        "id": "uYH2cqcFDSrQ",
        "outputId": "6023ba14-1cdc-405a-aacb-bb4b111ed7c3"
      },
      "execution_count": 5,
      "outputs": [
        {
          "output_type": "stream",
          "name": "stdout",
          "text": [
            "3\n",
            "HELLO\n"
          ]
        }
      ]
    },
    {
      "cell_type": "code",
      "source": [
        "# 3. Type Casting (Explicit Conversion)\n",
        "print(int(\"10\"))      # 10\n",
        "print(float(\"3.14\"))  # 3.14\n",
        "print(str(123))       # \"123\"\n",
        "print(list(\"abc\"))    # ['a', 'b', 'c']"
      ],
      "metadata": {
        "colab": {
          "base_uri": "https://localhost:8080/"
        },
        "id": "mkIQXFfJDSt-",
        "outputId": "e6a61fa4-542e-4684-8258-967adf05232c"
      },
      "execution_count": 6,
      "outputs": [
        {
          "output_type": "stream",
          "name": "stdout",
          "text": [
            "10\n",
            "3.14\n",
            "123\n",
            "['a', 'b', 'c']\n"
          ]
        }
      ]
    },
    {
      "cell_type": "code",
      "source": [
        "# 4. Boolean Conversion - Boolean Conversion\n",
        "print(bool(0))        # False\n",
        "print(bool(\"\"))       # False\n",
        "print(bool([]))       # False\n",
        "print(bool(\"hello\"))  # True"
      ],
      "metadata": {
        "colab": {
          "base_uri": "https://localhost:8080/"
        },
        "id": "tFbXpY0SDSwM",
        "outputId": "001c495f-04c6-470e-fea1-391f279b57b3"
      },
      "execution_count": 7,
      "outputs": [
        {
          "output_type": "stream",
          "name": "stdout",
          "text": [
            "False\n",
            "False\n",
            "False\n",
            "True\n"
          ]
        }
      ]
    },
    {
      "cell_type": "code",
      "source": [
        "# Soon we'll learn custom data types!!\n",
        "# Yes it is Classes and Objects!!"
      ],
      "metadata": {
        "id": "NOLJ2ArQDSyu"
      },
      "execution_count": null,
      "outputs": []
    },
    {
      "cell_type": "code",
      "source": [
        "# Summer Activity!\n",
        "'''\n",
        "🏖️ Activity Instructions:\n",
        "Imagine you are at the beach 🏖️, enjoying a sunny day with a refreshing drink 🥤.\n",
        "You’re feeling curious about simple math (because, let’s face it, math is fun!). 😄 You want to calculate:\n",
        "The total cost of your drinks if each one costs ₹5.00 and you buy 3.\n",
        "The total number of hours you’ve spent in the sun based on your current temperature.\n",
        "If it's 32°C, and you’re planning to stay out until it reaches 35°C, how long will you be outside?\n",
        "\n",
        "Step 1: Write the expressions for both of these:\n",
        "  Calculate the cost of drinks: 5 * 3\n",
        "  Calculate the hours in the sun: 35 - 32\n",
        "\n",
        "Step 2: Use the Python program (with eval()) to evaluate your expressions and convert the results to float. See how Python handles your inputs and how you can play with the results dynamically.\n",
        "\n",
        "Step 3: Now, get creative! Try adjusting the numbers to fit new situations. For example:\n",
        "  What if the drink costs $4.50 instead of ₹5?\n",
        "  What if the temperature starts at 30°C and you want to stay out until it hits 40°C?\n",
        "\n",
        "Step 4: Reflect: What would happen if you typed a complex expression?\n",
        "How does Python evaluate it? Try expressions like 10 * (2 + 3) or 20 / 4 + 6\n",
        "'''"
      ],
      "metadata": {
        "id": "oOzQs8-dDS1k"
      },
      "execution_count": null,
      "outputs": []
    },
    {
      "cell_type": "code",
      "source": [
        "ex_1 = \"5 * 3\"  # Total cost of drinks\n",
        "ex_2 = \"35 - 32\"  # Hours in the sun\n",
        "\n",
        "res_1 = float(eval(ex_1))\n",
        "res_2 = float(eval(ex_2))\n",
        "\n",
        "print(f\"Total cost of drinks: ₹{res_1:.2f}\")\n",
        "print(f\"Time spent in the sun: {res_2} hours\")"
      ],
      "metadata": {
        "colab": {
          "base_uri": "https://localhost:8080/"
        },
        "id": "g2A-62ZLDS4t",
        "outputId": "054da2a4-b7e0-49bc-b086-5231d912d036"
      },
      "execution_count": 8,
      "outputs": [
        {
          "output_type": "stream",
          "name": "stdout",
          "text": [
            "Total cost of drinks: ₹15.00\n",
            "Time spent in the sun: 3.0 hours\n"
          ]
        }
      ]
    },
    {
      "cell_type": "code",
      "source": [
        "price = 4.50\n",
        "num = 3\n",
        "\n",
        "total_cost = float(eval(f\"{price} * {num}\"))\n",
        "\n",
        "print(f\"Total cost of drinks: ₹{total_cost:.2f}\")"
      ],
      "metadata": {
        "colab": {
          "base_uri": "https://localhost:8080/"
        },
        "id": "g6FltghWDS7P",
        "outputId": "29aa3490-b171-4c6a-f20d-95793e919d8a"
      },
      "execution_count": 9,
      "outputs": [
        {
          "output_type": "stream",
          "name": "stdout",
          "text": [
            "Total cost of drinks: ₹13.50\n"
          ]
        }
      ]
    },
    {
      "cell_type": "code",
      "source": [
        "temp = 30\n",
        "target = 40\n",
        "\n",
        "res = float(eval(f\"{target} - {temp}\"))\n",
        "\n",
        "print(f\"Time spent in the sun: {res} hours\")"
      ],
      "metadata": {
        "colab": {
          "base_uri": "https://localhost:8080/"
        },
        "id": "XpKJry2JDS91",
        "outputId": "6ac2b645-d0ae-4f24-f478-42692632fde4"
      },
      "execution_count": 10,
      "outputs": [
        {
          "output_type": "stream",
          "name": "stdout",
          "text": [
            "Time spent in the sun: 10.0 hours\n"
          ]
        }
      ]
    },
    {
      "cell_type": "code",
      "source": [
        "# What would happen if you typed a complex expression?\n",
        "expression = \"2 * (3 + 4) - 5 + 10 / 2\"\n",
        "\n",
        "result = float(eval(expression))\n",
        "\n",
        "print(f\"Result of '{expression}' is: {result}\")"
      ],
      "metadata": {
        "colab": {
          "base_uri": "https://localhost:8080/"
        },
        "id": "4YTxSwT7DTAV",
        "outputId": "2a553278-2c5b-4007-f412-5e007e6e2294"
      },
      "execution_count": 11,
      "outputs": [
        {
          "output_type": "stream",
          "name": "stdout",
          "text": [
            "Result of '2 * (3 + 4) - 5 + 10 / 2' is: 14.0\n"
          ]
        }
      ]
    },
    {
      "cell_type": "code",
      "source": [
        "# Enjoy the datatypes with cool drinks in this hot Summer!\n",
        "# Happy Coding!"
      ],
      "metadata": {
        "id": "2keRMwkEDTC9"
      },
      "execution_count": null,
      "outputs": []
    }
  ]
}