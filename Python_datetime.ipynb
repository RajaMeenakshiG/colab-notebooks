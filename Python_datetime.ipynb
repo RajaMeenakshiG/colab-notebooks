{
  "nbformat": 4,
  "nbformat_minor": 0,
  "metadata": {
    "colab": {
      "provenance": []
    },
    "kernelspec": {
      "name": "python3",
      "display_name": "Python 3"
    },
    "language_info": {
      "name": "python"
    }
  },
  "cells": [
    {
      "cell_type": "code",
      "source": [
        "# datetime\n",
        "import datetime as dt"
      ],
      "metadata": {
        "id": "RyXdXEVPviMs"
      },
      "execution_count": 1,
      "outputs": []
    },
    {
      "cell_type": "code",
      "source": [
        "# Get Current Date and Time\n",
        "now = dt.datetime.now()\n",
        "print(\"Now:\", now) # GMT"
      ],
      "metadata": {
        "colab": {
          "base_uri": "https://localhost:8080/"
        },
        "id": "l79WIUxzviPk",
        "outputId": "8f8c1be5-ba16-46f4-c4a6-de7c6db7b2d3"
      },
      "execution_count": 2,
      "outputs": [
        {
          "output_type": "stream",
          "name": "stdout",
          "text": [
            "Now: 2025-04-29 06:23:48.407578\n"
          ]
        }
      ]
    },
    {
      "cell_type": "code",
      "source": [
        "# For our timezone IST\n",
        "import pytz\n",
        "print(\"IST:\", dt.datetime.now(pytz.timezone('Asia/Kolkata')))"
      ],
      "metadata": {
        "colab": {
          "base_uri": "https://localhost:8080/"
        },
        "id": "ka9vGVilviS2",
        "outputId": "f9c30718-2e45-46ad-9328-bb7790a298d5"
      },
      "execution_count": 3,
      "outputs": [
        {
          "output_type": "stream",
          "name": "stdout",
          "text": [
            "IST: 2025-04-29 11:53:51.802964+05:30\n"
          ]
        }
      ]
    },
    {
      "cell_type": "code",
      "source": [
        "# Other timezone\n",
        "print(\"Europe:\", dt.datetime.now(pytz.timezone('Europe/London')))\n",
        "print(\"Asia:\", dt.datetime.now(pytz.timezone('Asia/Tokyo')))\n",
        "print(\"Australia:\", dt.datetime.now(pytz.timezone('Australia/Sydney')))\n",
        "print(\"Africa:\", dt.datetime.now(pytz.timezone('Africa/Johannesburg')))\n",
        "print(\"Antarctica:\", dt.datetime.now(pytz.timezone('Antarctica/Palmer')))"
      ],
      "metadata": {
        "colab": {
          "base_uri": "https://localhost:8080/"
        },
        "id": "pNyboCjdviU_",
        "outputId": "3b9b69e2-f386-4c11-db16-b453d8b26919"
      },
      "execution_count": 4,
      "outputs": [
        {
          "output_type": "stream",
          "name": "stdout",
          "text": [
            "Europe: 2025-04-29 07:23:55.708615+01:00\n",
            "Asia: 2025-04-29 15:23:55.711061+09:00\n",
            "Australia: 2025-04-29 16:23:55.712602+10:00\n",
            "Africa: 2025-04-29 08:23:55.713663+02:00\n",
            "Antarctica: 2025-04-29 03:23:55.714734-03:00\n"
          ]
        }
      ]
    },
    {
      "cell_type": "code",
      "source": [
        "# Different America Timezones\n",
        "print(\"US/Pacific:\", dt.datetime.now(pytz.timezone('US/Pacific')))   # US/Pacific — Pacific Time (e.g., California)\n",
        "print(\"US/Eastern:\", dt.datetime.now(pytz.timezone('US/Eastern')))   # US/Eastern — Eastern Time (e.g., New York)\n",
        "print(\"US/Central:\", dt.datetime.now(pytz.timezone('US/Central')))   # US/Central — Central Time (e.g., Texas)\n",
        "print(\"US/Mountain:\", dt.datetime.now(pytz.timezone('US/Mountain'))) # US/Mountain — Mountain Time (e.g., Colorado)"
      ],
      "metadata": {
        "colab": {
          "base_uri": "https://localhost:8080/"
        },
        "id": "zQNYwBqiviXn",
        "outputId": "9f97e20f-5c7d-42b2-a17c-c743303e964f"
      },
      "execution_count": 5,
      "outputs": [
        {
          "output_type": "stream",
          "name": "stdout",
          "text": [
            "US/Pacific: 2025-04-28 23:23:58.273212-07:00\n",
            "US/Eastern: 2025-04-29 02:23:58.275631-04:00\n",
            "US/Central: 2025-04-29 01:23:58.277555-05:00\n",
            "US/Mountain: 2025-04-29 00:23:58.278815-06:00\n"
          ]
        }
      ]
    },
    {
      "cell_type": "code",
      "source": [
        "# Get Only Date or Time\n",
        "today = dt.date.today()\n",
        "print(\"Date:\", today)\n",
        "\n",
        "current_time = dt.datetime.now(pytz.timezone('Asia/Kolkata')).time()\n",
        "print(\"Time:\", current_time)"
      ],
      "metadata": {
        "colab": {
          "base_uri": "https://localhost:8080/"
        },
        "id": "GjQZWjPLviac",
        "outputId": "60182989-7c54-43dc-e0a8-50c3a379045f"
      },
      "execution_count": 6,
      "outputs": [
        {
          "output_type": "stream",
          "name": "stdout",
          "text": [
            "Date: 2025-04-29\n",
            "Time: 11:54:01.021482\n"
          ]
        }
      ]
    },
    {
      "cell_type": "code",
      "source": [
        "# Create a Specific Date or Time\n",
        "d = dt.datetime(2025, 7, 7, 7, 7)\n",
        "print(\"Custom datetime:\", d)"
      ],
      "metadata": {
        "colab": {
          "base_uri": "https://localhost:8080/"
        },
        "id": "56sTJOUovidv",
        "outputId": "aef6766a-5fab-4554-a1c6-cf5ddccb58c3"
      },
      "execution_count": 7,
      "outputs": [
        {
          "output_type": "stream",
          "name": "stdout",
          "text": [
            "Custom datetime: 2025-07-07 07:07:00\n"
          ]
        }
      ]
    },
    {
      "cell_type": "code",
      "source": [
        "# Formatting dates\n",
        "formatted = d.strftime(\"%d-%m-%Y %H:%M:%S\")\n",
        "print(\"Formatted:\", formatted)"
      ],
      "metadata": {
        "colab": {
          "base_uri": "https://localhost:8080/"
        },
        "id": "GJBTwah4vig5",
        "outputId": "122c548e-a8df-446b-8910-f00f0c17edce"
      },
      "execution_count": 8,
      "outputs": [
        {
          "output_type": "stream",
          "name": "stdout",
          "text": [
            "Formatted: 07-07-2025 07:07:00\n"
          ]
        }
      ]
    },
    {
      "cell_type": "code",
      "source": [
        "# Getting Today's Date in Different Formats\n",
        "today = dt.date.today()\n",
        "\n",
        "# Date as \"Year-Month-Day\"\n",
        "print(\"Year-Month-Day:\", today)\n",
        "\n",
        "# Date as \"Month/Day/Year\"\n",
        "print(\"Month/Day/Year:\", today.strftime(\"%m/%d/%Y\"))\n",
        "\n",
        "# Day of the week (e.g., Monday)\n",
        "print(\"Day of the Week:\", today.strftime(\"%A\"))"
      ],
      "metadata": {
        "colab": {
          "base_uri": "https://localhost:8080/"
        },
        "id": "08xoWVNxycH7",
        "outputId": "e3a746c6-f248-458f-bd52-eef66277c1c3"
      },
      "execution_count": 9,
      "outputs": [
        {
          "output_type": "stream",
          "name": "stdout",
          "text": [
            "Year-Month-Day: 2025-04-29\n",
            "Month/Day/Year: 04/29/2025\n",
            "Day of the Week: Tuesday\n"
          ]
        }
      ]
    },
    {
      "cell_type": "code",
      "source": [
        "# Working with Time\n",
        "current_time = dt.datetime.now(pytz.timezone('Asia/Kolkata')).time()\n",
        "print(\"Current Time:\", current_time)\n",
        "\n",
        "# Convert string to time\n",
        "time_str = \"14:30:45\"\n",
        "time_obj = dt.datetime.strptime(time_str, \"%H:%M:%S\").time()\n",
        "print(\"Parsed Time:\", time_obj)"
      ],
      "metadata": {
        "colab": {
          "base_uri": "https://localhost:8080/"
        },
        "id": "N3Z9xYsjygfy",
        "outputId": "e17ba6a4-cf83-4954-e787-e0ab552f530c"
      },
      "execution_count": 10,
      "outputs": [
        {
          "output_type": "stream",
          "name": "stdout",
          "text": [
            "Current Time: 11:54:17.079012\n",
            "Parsed Time: 14:30:45\n"
          ]
        }
      ]
    },
    {
      "cell_type": "code",
      "source": [
        "# Parsing a Date String\n",
        "date_str = \"07-07-2025\"\n",
        "parsed_date = dt.datetime.strptime(date_str, \"%d-%m-%Y\")\n",
        "print(\"Parsed:\", parsed_date)"
      ],
      "metadata": {
        "colab": {
          "base_uri": "https://localhost:8080/"
        },
        "id": "Y993tfjuvii1",
        "outputId": "85f7e6b3-ca6c-4ee6-e2fe-a8387c255bc2"
      },
      "execution_count": 11,
      "outputs": [
        {
          "output_type": "stream",
          "name": "stdout",
          "text": [
            "Parsed: 2025-07-07 00:00:00\n"
          ]
        }
      ]
    },
    {
      "cell_type": "code",
      "source": [
        "# Date Arithmetic\n",
        "from datetime import timedelta\n",
        "\n",
        "tomorrow = today + timedelta(days=1)\n",
        "print(\"Tomorrow:\", tomorrow)"
      ],
      "metadata": {
        "colab": {
          "base_uri": "https://localhost:8080/"
        },
        "id": "qh3Uqff8vild",
        "outputId": "511e1056-5dda-4cc0-cdd3-3983716e3293"
      },
      "execution_count": 12,
      "outputs": [
        {
          "output_type": "stream",
          "name": "stdout",
          "text": [
            "Tomorrow: 2025-04-30\n"
          ]
        }
      ]
    },
    {
      "cell_type": "code",
      "source": [
        "# Adding/Subtracting Days, Hours, etc.\n",
        "\n",
        "# Add 18 days\n",
        "hundred_days_later = today + timedelta(days=100)\n",
        "print(\"Ten days later:\", hundred_days_later)\n",
        "\n",
        "# Subtract 7 hours\n",
        "seven_hours_earlier = dt.datetime.now(pytz.timezone('Asia/Kolkata')) - timedelta(hours=7)\n",
        "print(\"Seven hours earlier:\", seven_hours_earlier)"
      ],
      "metadata": {
        "colab": {
          "base_uri": "https://localhost:8080/"
        },
        "id": "-9cLnfMSypuq",
        "outputId": "6c14e1f9-8493-4f38-cc46-61fa85eb7381"
      },
      "execution_count": 13,
      "outputs": [
        {
          "output_type": "stream",
          "name": "stdout",
          "text": [
            "Ten days later: 2025-08-07\n",
            "Seven hours earlier: 2025-04-29 04:54:34.516868+05:30\n"
          ]
        }
      ]
    },
    {
      "cell_type": "code",
      "source": [
        "# Comparing Dates\n",
        "date1 = dt.date(2025, 4, 29)\n",
        "date2 = dt.date(2024, 4, 29)\n",
        "\n",
        "if date1 > date2:\n",
        "    print(f\"{date1} is later than {date2}\")\n",
        "else:\n",
        "    print(f\"{date1} is earlier than {date2}\")"
      ],
      "metadata": {
        "colab": {
          "base_uri": "https://localhost:8080/"
        },
        "id": "fieXzpcRy_qj",
        "outputId": "25abebe6-5ab8-40c8-f604-8000e959cf29"
      },
      "execution_count": 14,
      "outputs": [
        {
          "output_type": "stream",
          "name": "stdout",
          "text": [
            "2025-04-29 is later than 2024-04-29\n"
          ]
        }
      ]
    },
    {
      "cell_type": "code",
      "source": [
        "# Converting a Time Delta to Total Seconds\n",
        "start_time = dt.datetime(2025, 4, 29, 7, 0, 0)\n",
        "end_time = dt.datetime(2025, 4, 29, 19, 0, 0)\n",
        "\n",
        "delta = end_time - start_time\n",
        "print(\"Time Difference in Seconds:\", delta.total_seconds()) # 12 hours"
      ],
      "metadata": {
        "colab": {
          "base_uri": "https://localhost:8080/"
        },
        "id": "T54F8WXFzJf8",
        "outputId": "453f8118-0c08-40be-a4ea-145fcf8fc1ca"
      },
      "execution_count": 15,
      "outputs": [
        {
          "output_type": "stream",
          "name": "stdout",
          "text": [
            "Time Difference in Seconds: 43200.0\n"
          ]
        }
      ]
    },
    {
      "cell_type": "code",
      "source": [
        "# calendar\n",
        "import calendar"
      ],
      "metadata": {
        "id": "t5e7cVNsvio7"
      },
      "execution_count": 16,
      "outputs": []
    },
    {
      "cell_type": "code",
      "source": [
        "# Print a Month's Calendar\n",
        "print(calendar.month(2025, 8))"
      ],
      "metadata": {
        "colab": {
          "base_uri": "https://localhost:8080/"
        },
        "id": "O4S_OPGexuJw",
        "outputId": "a338badf-b8c1-4ab1-ffa9-d12518cc367a"
      },
      "execution_count": 17,
      "outputs": [
        {
          "output_type": "stream",
          "name": "stdout",
          "text": [
            "    August 2025\n",
            "Mo Tu We Th Fr Sa Su\n",
            "             1  2  3\n",
            " 4  5  6  7  8  9 10\n",
            "11 12 13 14 15 16 17\n",
            "18 19 20 21 22 23 24\n",
            "25 26 27 28 29 30 31\n",
            "\n"
          ]
        }
      ]
    },
    {
      "cell_type": "code",
      "source": [
        "# Print a Year’s Calendar\n",
        "print(calendar.calendar(2025))"
      ],
      "metadata": {
        "colab": {
          "base_uri": "https://localhost:8080/"
        },
        "id": "Que_kOdIxuMq",
        "outputId": "8aef0669-c56c-45ca-beaf-a0f5cd719e7a"
      },
      "execution_count": 18,
      "outputs": [
        {
          "output_type": "stream",
          "name": "stdout",
          "text": [
            "                                  2025\n",
            "\n",
            "      January                   February                   March\n",
            "Mo Tu We Th Fr Sa Su      Mo Tu We Th Fr Sa Su      Mo Tu We Th Fr Sa Su\n",
            "       1  2  3  4  5                      1  2                      1  2\n",
            " 6  7  8  9 10 11 12       3  4  5  6  7  8  9       3  4  5  6  7  8  9\n",
            "13 14 15 16 17 18 19      10 11 12 13 14 15 16      10 11 12 13 14 15 16\n",
            "20 21 22 23 24 25 26      17 18 19 20 21 22 23      17 18 19 20 21 22 23\n",
            "27 28 29 30 31            24 25 26 27 28            24 25 26 27 28 29 30\n",
            "                                                    31\n",
            "\n",
            "       April                      May                       June\n",
            "Mo Tu We Th Fr Sa Su      Mo Tu We Th Fr Sa Su      Mo Tu We Th Fr Sa Su\n",
            "    1  2  3  4  5  6                1  2  3  4                         1\n",
            " 7  8  9 10 11 12 13       5  6  7  8  9 10 11       2  3  4  5  6  7  8\n",
            "14 15 16 17 18 19 20      12 13 14 15 16 17 18       9 10 11 12 13 14 15\n",
            "21 22 23 24 25 26 27      19 20 21 22 23 24 25      16 17 18 19 20 21 22\n",
            "28 29 30                  26 27 28 29 30 31         23 24 25 26 27 28 29\n",
            "                                                    30\n",
            "\n",
            "        July                     August                  September\n",
            "Mo Tu We Th Fr Sa Su      Mo Tu We Th Fr Sa Su      Mo Tu We Th Fr Sa Su\n",
            "    1  2  3  4  5  6                   1  2  3       1  2  3  4  5  6  7\n",
            " 7  8  9 10 11 12 13       4  5  6  7  8  9 10       8  9 10 11 12 13 14\n",
            "14 15 16 17 18 19 20      11 12 13 14 15 16 17      15 16 17 18 19 20 21\n",
            "21 22 23 24 25 26 27      18 19 20 21 22 23 24      22 23 24 25 26 27 28\n",
            "28 29 30 31               25 26 27 28 29 30 31      29 30\n",
            "\n",
            "      October                   November                  December\n",
            "Mo Tu We Th Fr Sa Su      Mo Tu We Th Fr Sa Su      Mo Tu We Th Fr Sa Su\n",
            "       1  2  3  4  5                      1  2       1  2  3  4  5  6  7\n",
            " 6  7  8  9 10 11 12       3  4  5  6  7  8  9       8  9 10 11 12 13 14\n",
            "13 14 15 16 17 18 19      10 11 12 13 14 15 16      15 16 17 18 19 20 21\n",
            "20 21 22 23 24 25 26      17 18 19 20 21 22 23      22 23 24 25 26 27 28\n",
            "27 28 29 30 31            24 25 26 27 28 29 30      29 30 31\n",
            "\n"
          ]
        }
      ]
    },
    {
      "cell_type": "code",
      "source": [
        "# Check for Leap Year\n",
        "print(\"Is 2024 a leap year?\", calendar.isleap(2024))\n",
        "print(\"Is 2025 a leap year?\", calendar.isleap(2025))"
      ],
      "metadata": {
        "colab": {
          "base_uri": "https://localhost:8080/"
        },
        "id": "SZazLc38xuPq",
        "outputId": "ca5a8ce9-0aef-4da2-a9ae-6cc3f8ae8de5"
      },
      "execution_count": 19,
      "outputs": [
        {
          "output_type": "stream",
          "name": "stdout",
          "text": [
            "Is 2024 a leap year? True\n",
            "Is 2025 a leap year? False\n"
          ]
        }
      ]
    },
    {
      "cell_type": "code",
      "source": [
        "# Get Number of Leap Years Between Years\n",
        "print(calendar.leapdays(1900, 2025))"
      ],
      "metadata": {
        "colab": {
          "base_uri": "https://localhost:8080/"
        },
        "id": "LqlGp3ITxuSC",
        "outputId": "9d0904fd-b0c1-4b5e-ba1f-0c791dd1e605"
      },
      "execution_count": 20,
      "outputs": [
        {
          "output_type": "stream",
          "name": "stdout",
          "text": [
            "31\n"
          ]
        }
      ]
    },
    {
      "cell_type": "code",
      "source": [
        "# Weekday of a Specific Date\n",
        "# Monday is 0 and Sunday is 6\n",
        "print(calendar.weekday(2025,7 , 7))  # 0 (Sunday)"
      ],
      "metadata": {
        "colab": {
          "base_uri": "https://localhost:8080/"
        },
        "id": "IQ0nI8DvxuUZ",
        "outputId": "818c607d-66cc-444a-d0d8-d8aaad7e8f30"
      },
      "execution_count": 21,
      "outputs": [
        {
          "output_type": "stream",
          "name": "stdout",
          "text": [
            "0\n"
          ]
        }
      ]
    },
    {
      "cell_type": "code",
      "source": [
        "# Check the First Day of the Month\n",
        "# Get the weekday of the first day of the month (0=Monday, 6=Sunday)\n",
        "weekday = calendar.monthrange(2025, 5)[0]\n",
        "print(\"First day of the month May 2025 (0=Monday, 6=Sunday):\", weekday) # Thursday"
      ],
      "metadata": {
        "colab": {
          "base_uri": "https://localhost:8080/"
        },
        "id": "H1HotHSRvir4",
        "outputId": "d8d6c915-730f-43b4-ca7d-d032765eb4e5"
      },
      "execution_count": 22,
      "outputs": [
        {
          "output_type": "stream",
          "name": "stdout",
          "text": [
            "First day of the month May 2025 (0=Monday, 6=Sunday): 3\n"
          ]
        }
      ]
    },
    {
      "cell_type": "code",
      "source": [
        "# Getting the Number of Days in a Month\n",
        "days_in_month = calendar.monthrange(2025, 5)[1]\n",
        "print(\"Days in May 2025:\", days_in_month)"
      ],
      "metadata": {
        "colab": {
          "base_uri": "https://localhost:8080/"
        },
        "id": "kIcfKHcLzhz2",
        "outputId": "ff206697-a831-4416-e399-044dd3700440"
      },
      "execution_count": 23,
      "outputs": [
        {
          "output_type": "stream",
          "name": "stdout",
          "text": [
            "Days in May 2025: 31\n"
          ]
        }
      ]
    },
    {
      "cell_type": "code",
      "source": [
        "#  Finding Out Which Day of the Week a Specific Date Falls On\n",
        "# Get the weekday (0=Monday, 6=Sunday) of a specific date\n",
        "weekday = calendar.weekday(2025, 7, 7)\n",
        "print(\"Day of the Week for July 7, 2025:\", calendar.day_name[weekday])"
      ],
      "metadata": {
        "colab": {
          "base_uri": "https://localhost:8080/"
        },
        "id": "XQ7T1HtPzhxE",
        "outputId": "6019e41c-45b5-4827-99d8-1eefc3495681"
      },
      "execution_count": 24,
      "outputs": [
        {
          "output_type": "stream",
          "name": "stdout",
          "text": [
            "Day of the Week for July 7, 2025: Monday\n"
          ]
        }
      ]
    },
    {
      "cell_type": "code",
      "source": [
        "# Generate a List of All Weekdays in a Given Month\n",
        "month_days = calendar.monthcalendar(2025, 5)\n",
        "print(\"Weekdays in May 2025:\")\n",
        "\n",
        "# Loop through the month and print weekdays (ignore 0 values)\n",
        "for week in month_days:\n",
        "    for day in week:\n",
        "        if day != 0:\n",
        "            print(day, end=\" \")\n"
      ],
      "metadata": {
        "colab": {
          "base_uri": "https://localhost:8080/"
        },
        "id": "S7ibjJK4zh42",
        "outputId": "43950e21-2457-4564-e0ab-caf6deb2f77d"
      },
      "execution_count": 25,
      "outputs": [
        {
          "output_type": "stream",
          "name": "stdout",
          "text": [
            "Weekdays in May 2025:\n",
            "1 2 3 4 5 6 7 8 9 10 11 12 13 14 15 16 17 18 19 20 21 22 23 24 25 26 27 28 29 30 31 "
          ]
        }
      ]
    },
    {
      "cell_type": "code",
      "source": [
        "# Birthday Calculator\n",
        "\n",
        "def calculate_age_with_leap_years(birthdate_str):\n",
        "    # Convert birthdate string to datetime object\n",
        "    birthdate = dt.datetime.strptime(birthdate_str, \"%Y-%m-%d\")\n",
        "\n",
        "    # Get today's date\n",
        "    today = dt.datetime.today()\n",
        "\n",
        "    # Calculate the age in years\n",
        "    age_years = today.year - birthdate.year\n",
        "\n",
        "    # Adjust if the birthday hasn't occurred yet this year\n",
        "    if today.month < birthdate.month or (today.month == birthdate.month and today.day < birthdate.day):\n",
        "        age_years -= 1\n",
        "\n",
        "    # Calculate the number of days and months\n",
        "    age_months = today.month - birthdate.month\n",
        "    age_days = today.day - birthdate.day\n",
        "\n",
        "    if age_months < 0:\n",
        "        age_months += 12\n",
        "    if age_days < 0:\n",
        "        age_days += (today - dt.datetime(today.year, today.month, 1)).days\n",
        "\n",
        "    # Calculate the number of leap years\n",
        "    leap_years = 0\n",
        "    for year in range(birthdate.year, today.year + 1):\n",
        "        if (year % 4 == 0 and year % 100 != 0) or (year % 400 == 0):\n",
        "            leap_years += 1\n",
        "\n",
        "    # Add the leap year days to the age\n",
        "    age_days += leap_years\n",
        "\n",
        "    return age_years, age_months, age_days\n",
        "\n",
        "birthdate_input = input(\"Enter your birthdate (YYYY-MM-DD): \")\n",
        "age_years, age_months, age_days = calculate_age_with_leap_years(birthdate_input)\n",
        "\n",
        "print(f\"You are {age_years} years, {age_months} months, and {age_days} days old, considering leap years.\")"
      ],
      "metadata": {
        "colab": {
          "base_uri": "https://localhost:8080/"
        },
        "id": "5_kYt3Sszh7I",
        "outputId": "d2b7415f-4339-42d4-f280-27ef437aced1"
      },
      "execution_count": 26,
      "outputs": [
        {
          "output_type": "stream",
          "name": "stdout",
          "text": [
            "Enter your birthdate (YYYY-MM-DD): 1981-07-07\n",
            "You are 43 years, 9 months, and 33 days old, considering leap years.\n"
          ]
        }
      ]
    },
    {
      "cell_type": "code",
      "source": [
        "# Days Until Next Birthday\n",
        "\n",
        "def days_until_next_birthday(birthdate_str):\n",
        "    # Convert the birthdate string to a datetime object\n",
        "    birthdate = dt.datetime.strptime(birthdate_str, \"%Y-%m-%d\")\n",
        "\n",
        "    # Get today's date\n",
        "    today = dt.datetime.today()\n",
        "\n",
        "    # Calculate the next birthday date\n",
        "    next_birthday = dt.datetime(today.year, birthdate.month, birthdate.day)\n",
        "\n",
        "    # If the next birthday has already passed this year, set it to next year\n",
        "    if today > next_birthday:\n",
        "        next_birthday = dt.datetime(today.year + 1, birthdate.month, birthdate.day)\n",
        "\n",
        "    # Calculate the difference in days\n",
        "    days_left = (next_birthday - today).days\n",
        "\n",
        "    return days_left\n",
        "\n",
        "birthdate_input = input(\"Enter your birthdate (YYYY-MM-DD): \")\n",
        "days_left = days_until_next_birthday(birthdate_input)\n",
        "print(f\"There are {days_left} days left until your next birthday!\")"
      ],
      "metadata": {
        "colab": {
          "base_uri": "https://localhost:8080/"
        },
        "id": "jzS9Oyguzh-E",
        "outputId": "7cce284c-cd97-4e21-9682-55511534c8ba"
      },
      "execution_count": 27,
      "outputs": [
        {
          "output_type": "stream",
          "name": "stdout",
          "text": [
            "Enter your birthdate (YYYY-MM-DD): 2025-07-07\n",
            "There are 68 days left until your next birthday!\n"
          ]
        }
      ]
    },
    {
      "cell_type": "code",
      "source": [
        "# Countdown Timer for a Future Date\n",
        "from datetime import datetime\n",
        "\n",
        "def countdown_to_event(event_date_str):\n",
        "    # Convert the event date string into a datetime object\n",
        "    event_date = datetime.strptime(event_date_str, \"%Y-%m-%d %H:%M:%S\")\n",
        "\n",
        "    # Get the current date and time\n",
        "    now = datetime.now()\n",
        "\n",
        "    # Calculate the difference between the event and the current time\n",
        "    time_remaining = event_date - now\n",
        "\n",
        "    # Get the days, hours, minutes, and seconds\n",
        "    days_remaining = time_remaining.days\n",
        "    seconds = time_remaining.seconds\n",
        "    hours = seconds // 3600\n",
        "    minutes = (seconds % 3600) // 60\n",
        "    seconds = seconds % 60\n",
        "\n",
        "    return days_remaining, hours, minutes, seconds\n",
        "\n",
        "event_date_input = input(\"Enter the event date and time (YYYY-MM-DD HH:MM:SS): \")\n",
        "days, hours, minutes, seconds = countdown_to_event(event_date_input)\n",
        "\n",
        "print(f\"Time remaining: {days} days, {hours} hours, {minutes} minutes, and {seconds} seconds.\")"
      ],
      "metadata": {
        "id": "w8Se-dv71-dq",
        "colab": {
          "base_uri": "https://localhost:8080/"
        },
        "outputId": "7becad50-94a6-4b6c-9bc3-c37287e881e6"
      },
      "execution_count": 28,
      "outputs": [
        {
          "output_type": "stream",
          "name": "stdout",
          "text": [
            "Enter the event date and time (YYYY-MM-DD HH:MM:SS): 2025-07-07 00:00:00\n",
            "Time remaining: 68 days, 17 hours, 30 minutes, and 4 seconds.\n"
          ]
        }
      ]
    },
    {
      "cell_type": "code",
      "source": [
        "#  Calculate Time Between Two Dates (in Days, Hours, Minutes)\n",
        "\n",
        "def calculate_time_difference(start_date_str, end_date_str):\n",
        "    # Convert start and end dates to datetime objects\n",
        "    start_date = datetime.strptime(start_date_str, \"%Y-%m-%d %H:%M:%S\")\n",
        "    end_date = datetime.strptime(end_date_str, \"%Y-%m-%d %H:%M:%S\")\n",
        "\n",
        "    # Calculate the difference between the two dates\n",
        "    time_difference = end_date - start_date\n",
        "\n",
        "    # Get the total number of days, hours, and minutes\n",
        "    days = time_difference.days\n",
        "    seconds = time_difference.seconds\n",
        "    hours = seconds // 3600\n",
        "    minutes = (seconds % 3600) // 60\n",
        "\n",
        "    return days, hours, minutes\n",
        "\n",
        "start_date_input = input(\"Enter the start date and time (YYYY-MM-DD HH:MM:SS): \")\n",
        "end_date_input = input(\"Enter the end date and time (YYYY-MM-DD HH:MM:SS): \")\n",
        "\n",
        "days, hours, minutes = calculate_time_difference(start_date_input, end_date_input)\n",
        "print(f\"The difference is {days} days, {hours} hours, and {minutes} minutes.\")"
      ],
      "metadata": {
        "colab": {
          "base_uri": "https://localhost:8080/"
        },
        "id": "MY-QZVbM1LFw",
        "outputId": "6db8b2ab-4ec1-4ea7-c578-bb73e1332975"
      },
      "execution_count": 29,
      "outputs": [
        {
          "output_type": "stream",
          "name": "stdout",
          "text": [
            "Enter the start date and time (YYYY-MM-DD HH:MM:SS): 2025-02-06 00:00:00\n",
            "Enter the end date and time (YYYY-MM-DD HH:MM:SS): 2025-07-07 00:00:00\n",
            "The difference is 151 days, 0 hours, and 0 minutes.\n"
          ]
        }
      ]
    },
    {
      "cell_type": "code",
      "source": [
        "# Convert Days to Years, Months, and Days\n",
        "from datetime import timedelta\n",
        "\n",
        "def convert_days_to_years_months_days(days):\n",
        "    # Define average days in a year and month\n",
        "    days_in_year = 365.25  # considering leap years\n",
        "    days_in_month = 30.44  # average days in a month\n",
        "\n",
        "    # Calculate years, months, and days\n",
        "    years = int(days // days_in_year)\n",
        "    remaining_days = days % int(days_in_year)\n",
        "\n",
        "    months = int(remaining_days // days_in_month)\n",
        "    days_left = int(remaining_days % days_in_month)\n",
        "\n",
        "    return years, months, days_left\n",
        "\n",
        "days_input = int(input(\"Enter the number of days: \"))\n",
        "years, months, days_left = convert_days_to_years_months_days(days_input)\n",
        "\n",
        "print(f\"{days_input} days is approximately {years} years, {months} months, and {days_left} days.\")"
      ],
      "metadata": {
        "id": "hrxpEuKN1LMJ",
        "colab": {
          "base_uri": "https://localhost:8080/"
        },
        "outputId": "c2fe414f-85be-4001-f9b3-0b00e5c139a2"
      },
      "execution_count": 30,
      "outputs": [
        {
          "output_type": "stream",
          "name": "stdout",
          "text": [
            "Enter the number of days: 2025\n",
            "2025 days is approximately 5 years, 6 months, and 17 days.\n"
          ]
        }
      ]
    },
    {
      "cell_type": "code",
      "source": [
        "# 12-Hour to 24-Hour Time Converter\n",
        "from datetime import datetime\n",
        "\n",
        "def convert_to_24hr_format(time_str):\n",
        "    # Convert 12-hour time format to 24-hour time format\n",
        "    time_obj = datetime.strptime(time_str, \"%I:%M %p\")\n",
        "    return time_obj.strftime(\"%H:%M\")\n",
        "\n",
        "time_input = input(\"Enter time in 12-hour format (e.g., 02:30 PM): \")\n",
        "converted_time = convert_to_24hr_format(time_input)\n",
        "print(f\"The time in 24-hour format is: {converted_time}\")"
      ],
      "metadata": {
        "id": "iZiRkVmk1LPx",
        "colab": {
          "base_uri": "https://localhost:8080/"
        },
        "outputId": "d23c8e50-9c71-49f0-edc8-348674aec2a2"
      },
      "execution_count": 31,
      "outputs": [
        {
          "output_type": "stream",
          "name": "stdout",
          "text": [
            "Enter time in 12-hour format (e.g., 02:30 PM): 07:00 PM\n",
            "The time in 24-hour format is: 19:00\n"
          ]
        }
      ]
    },
    {
      "cell_type": "code",
      "source": [
        "# Leap Year Calculator\n",
        "def is_century_leap_year(year):\n",
        "    # Century leap year rule: Divisible by 400\n",
        "    return year % 400 == 0\n",
        "\n",
        "def is_non_century_leap_year(year):\n",
        "    # Non-century leap year rule: Divisible by 4 but not by 100\n",
        "    return year % 4 == 0 and year % 100 != 0\n",
        "\n",
        "def is_leap_year(year):\n",
        "    # A leap year is either a century leap year or non-century leap year\n",
        "    return is_century_leap_year(year) or is_non_century_leap_year(year)\n",
        "\n",
        "def days_in_year(year):\n",
        "    # A leap year has 366 days, otherwise 365 days\n",
        "    return 366 if is_leap_year(year) else 365\n",
        "\n",
        "year_input = int(input(\"Enter a year: \"))\n",
        "if is_leap_year(year_input):\n",
        "    if is_century_leap_year(year_input):\n",
        "        print(f\"{year_input} is a century leap year with {days_in_year(year_input)} days.\")\n",
        "    elif is_non_century_leap_year(year_input):\n",
        "        print(f\"{year_input} is a non-century leap year with {days_in_year(year_input)} days.\")\n",
        "else:\n",
        "    print(f\"{year_input} is not a leap year. It has {days_in_year(year_input)} days.\")"
      ],
      "metadata": {
        "id": "iwVDFuiD1LSg",
        "colab": {
          "base_uri": "https://localhost:8080/"
        },
        "outputId": "b042ed70-1f9e-42d2-8caa-5d8f1c55956c"
      },
      "execution_count": 32,
      "outputs": [
        {
          "output_type": "stream",
          "name": "stdout",
          "text": [
            "Enter a year: 2100\n",
            "2100 is not a leap year. It has 365 days.\n"
          ]
        }
      ]
    },
    {
      "cell_type": "code",
      "source": [
        "year_input = int(input(\"Enter a year: \"))\n",
        "if is_leap_year(year_input):\n",
        "    if is_century_leap_year(year_input):\n",
        "        print(f\"{year_input} is a century leap year with {days_in_year(year_input)} days.\")\n",
        "    elif is_non_century_leap_year(year_input):\n",
        "        print(f\"{year_input} is a non-century leap year with {days_in_year(year_input)} days.\")\n",
        "else:\n",
        "    print(f\"{year_input} is not a leap year. It has {days_in_year(year_input)} days.\")"
      ],
      "metadata": {
        "colab": {
          "base_uri": "https://localhost:8080/"
        },
        "id": "6DRqnTpePeHe",
        "outputId": "b2add26f-3c1b-4e96-afd1-399f0ecc5edf"
      },
      "execution_count": 33,
      "outputs": [
        {
          "output_type": "stream",
          "name": "stdout",
          "text": [
            "Enter a year: 2800\n",
            "2800 is a century leap year with 366 days.\n"
          ]
        }
      ]
    },
    {
      "cell_type": "code",
      "source": [
        "year_input = int(input(\"Enter a year: \"))\n",
        "if is_leap_year(year_input):\n",
        "    if is_century_leap_year(year_input):\n",
        "        print(f\"{year_input} is a century leap year with {days_in_year(year_input)} days.\")\n",
        "    elif is_non_century_leap_year(year_input):\n",
        "        print(f\"{year_input} is a non-century leap year with {days_in_year(year_input)} days.\")\n",
        "else:\n",
        "    print(f\"{year_input} is not a leap year. It has {days_in_year(year_input)} days.\")"
      ],
      "metadata": {
        "colab": {
          "base_uri": "https://localhost:8080/"
        },
        "id": "Chs15iEJPjKf",
        "outputId": "8e1da449-a1c5-4623-f539-577a51afb06c"
      },
      "execution_count": 34,
      "outputs": [
        {
          "output_type": "stream",
          "name": "stdout",
          "text": [
            "Enter a year: 2028\n",
            "2028 is a non-century leap year with 366 days.\n"
          ]
        }
      ]
    }
  ]
}