{
  "nbformat": 4,
  "nbformat_minor": 0,
  "metadata": {
    "colab": {
      "provenance": []
    },
    "kernelspec": {
      "name": "python3",
      "display_name": "Python 3"
    },
    "language_info": {
      "name": "python"
    }
  },
  "cells": [
    {
      "cell_type": "code",
      "source": [
        "'''\n",
        "Adictionary is a built-in data type that stores data in key-value pairs.\n",
        "It is mutable, unordered (as of Python < 3.7), and indexed by keys.\n",
        "Keys must be unique and immutable (like strings, numbers, tuples).\n",
        "Values can be any type.\n",
        "'''"
      ],
      "metadata": {
        "id": "hMhjfP2E_SEW"
      },
      "execution_count": null,
      "outputs": []
    },
    {
      "cell_type": "code",
      "source": [
        "# Creating a dictionary\n",
        "dhoni_profile = {\n",
        "    \"name\": \"MS Dhoni\",\n",
        "    \"birthplace\": \"Ranchi\",\n",
        "    \"jersey_no\": 7,\n",
        "    \"titles\": [\"2007 T20 WC\", \"2011 WC\", \"2016 Asia Cup\"]\n",
        "}\n",
        "\n",
        "# Accessing values\n",
        "print(dhoni_profile[\"name\"])       # MS Dhoni\n",
        "\n",
        "# Adding a key-value pair\n",
        "dhoni_profile[\"nickname\"] = \"Thala\"\n",
        "\n",
        "# Loop through dictionary\n",
        "for key, value in dhoni_profile.items():\n",
        "    print(f\"{key}: {value}\")"
      ],
      "metadata": {
        "colab": {
          "base_uri": "https://localhost:8080/"
        },
        "id": "cyvIJauP_SL9",
        "outputId": "d56a5c12-0148-4b69-e701-5ebc18797bca"
      },
      "execution_count": 1,
      "outputs": [
        {
          "output_type": "stream",
          "name": "stdout",
          "text": [
            "MS Dhoni\n",
            "name: MS Dhoni\n",
            "birthplace: Ranchi\n",
            "jersey_no: 7\n",
            "titles: ['2007 T20 WC', '2011 WC', '2016 Asia Cup']\n",
            "nickname: Thala\n"
          ]
        }
      ]
    },
    {
      "cell_type": "code",
      "source": [
        "# Dictionary Method\n",
        "sample = {\n",
        "    \"name\": \"MS Dhoni\",\n",
        "    \"team\": \"CSK\",\n",
        "    \"jersey_no\": 7,\n",
        "    \"titles\": [\"2007 T20 WC\", \"2011 WC\", \"2016 Asia Cup\"]\n",
        "}"
      ],
      "metadata": {
        "id": "MsRnNEez_SRV"
      },
      "execution_count": 2,
      "outputs": []
    },
    {
      "cell_type": "code",
      "source": [
        "# 1. clear()\n",
        "# Removes all key-value pairs from the dictionary.\n",
        "sample.clear()\n",
        "print(sample)  # Output: {}"
      ],
      "metadata": {
        "colab": {
          "base_uri": "https://localhost:8080/"
        },
        "id": "bTIq3E04_ST2",
        "outputId": "3fe7fa3f-5418-42b7-e758-8745e49ee645"
      },
      "execution_count": 3,
      "outputs": [
        {
          "output_type": "stream",
          "name": "stdout",
          "text": [
            "{}\n"
          ]
        }
      ]
    },
    {
      "cell_type": "code",
      "source": [
        "# 2. copy()\n",
        "# Returns a shallow copy of the dictionary.\n",
        "dhoni_copy = dhoni_profile.copy()\n",
        "print(dhoni_copy)"
      ],
      "metadata": {
        "colab": {
          "base_uri": "https://localhost:8080/"
        },
        "id": "1-3JVnnH_SWd",
        "outputId": "49a6753c-2037-4132-cf8d-8b7792fa170a"
      },
      "execution_count": 4,
      "outputs": [
        {
          "output_type": "stream",
          "name": "stdout",
          "text": [
            "{'name': 'MS Dhoni', 'birthplace': 'Ranchi', 'jersey_no': 7, 'titles': ['2007 T20 WC', '2011 WC', '2016 Asia Cup'], 'nickname': 'Thala'}\n"
          ]
        }
      ]
    },
    {
      "cell_type": "code",
      "source": [
        "# 3.fromkeys(iterable, value)\n",
        "# Creates a new dictionary with specified keys and a common value.\n",
        "keys = [\"name\", \"team\", \"jersey_no\"]\n",
        "default_dhoni = dict.fromkeys(keys, \"Unknown\")\n",
        "print(default_dhoni)"
      ],
      "metadata": {
        "colab": {
          "base_uri": "https://localhost:8080/"
        },
        "id": "dmElG_8A_SZH",
        "outputId": "eec22770-c492-4532-9eab-d90cf03b36a0"
      },
      "execution_count": 5,
      "outputs": [
        {
          "output_type": "stream",
          "name": "stdout",
          "text": [
            "{'name': 'Unknown', 'team': 'Unknown', 'jersey_no': 'Unknown'}\n"
          ]
        }
      ]
    },
    {
      "cell_type": "code",
      "source": [
        "# 4. get(key, default=None)\n",
        "# Returns the value of a key; if not found, returns the default.\n",
        "print(dhoni_profile.get(\"titles\"))\n",
        "print(dhoni_profile.get(\"runs\", \"No record\"))"
      ],
      "metadata": {
        "colab": {
          "base_uri": "https://localhost:8080/"
        },
        "id": "uxNK_Ijn_Sb1",
        "outputId": "81e4c036-f988-478c-a1be-af4479445dc7"
      },
      "execution_count": 6,
      "outputs": [
        {
          "output_type": "stream",
          "name": "stdout",
          "text": [
            "['2007 T20 WC', '2011 WC', '2016 Asia Cup']\n",
            "No record\n"
          ]
        }
      ]
    },
    {
      "cell_type": "code",
      "source": [
        "# 5. items()\n",
        "# Returns all dictionary items (key-value pairs) as tuples.\n",
        "for key, value in dhoni_profile.items():\n",
        "    print(key, \":\", value)"
      ],
      "metadata": {
        "colab": {
          "base_uri": "https://localhost:8080/"
        },
        "id": "4kjA90Ru_Set",
        "outputId": "78db8724-9af2-4601-c1a1-ab17bf3cb3cb"
      },
      "execution_count": 7,
      "outputs": [
        {
          "output_type": "stream",
          "name": "stdout",
          "text": [
            "name : MS Dhoni\n",
            "birthplace : Ranchi\n",
            "jersey_no : 7\n",
            "titles : ['2007 T20 WC', '2011 WC', '2016 Asia Cup']\n",
            "nickname : Thala\n"
          ]
        }
      ]
    },
    {
      "cell_type": "code",
      "source": [
        "# 6. keys()\n",
        "# Returns all the keys in the dictionary.\n",
        "print(list(dhoni_profile.keys()))"
      ],
      "metadata": {
        "colab": {
          "base_uri": "https://localhost:8080/"
        },
        "id": "lVLp37AY_ShV",
        "outputId": "3916d2de-cba7-4a14-ee27-5ffe82004eb2"
      },
      "execution_count": 8,
      "outputs": [
        {
          "output_type": "stream",
          "name": "stdout",
          "text": [
            "['name', 'birthplace', 'jersey_no', 'titles', 'nickname']\n"
          ]
        }
      ]
    },
    {
      "cell_type": "code",
      "source": [
        "# 7. pop(key[, default])\n",
        "# Removes the specified key and returns the value.\n",
        "jersey = dhoni_profile.pop(\"jersey_no\")\n",
        "print(jersey)\n",
        "print(dhoni_profile)"
      ],
      "metadata": {
        "colab": {
          "base_uri": "https://localhost:8080/"
        },
        "id": "MNHGei7H_SkO",
        "outputId": "caca98fe-4242-47d3-e725-c6b855fd8399"
      },
      "execution_count": 9,
      "outputs": [
        {
          "output_type": "stream",
          "name": "stdout",
          "text": [
            "7\n",
            "{'name': 'MS Dhoni', 'birthplace': 'Ranchi', 'titles': ['2007 T20 WC', '2011 WC', '2016 Asia Cup'], 'nickname': 'Thala'}\n"
          ]
        }
      ]
    },
    {
      "cell_type": "code",
      "source": [
        "# 8. popitem()\n",
        "# Removes and returns the last inserted key-value pair.\n",
        "last_item = dhoni_profile.popitem()\n",
        "print(last_item)"
      ],
      "metadata": {
        "colab": {
          "base_uri": "https://localhost:8080/"
        },
        "id": "uiOFAw-rBDXf",
        "outputId": "7dd413a8-b766-4a7a-b718-c0be24d45ccd"
      },
      "execution_count": 10,
      "outputs": [
        {
          "output_type": "stream",
          "name": "stdout",
          "text": [
            "('nickname', 'Thala')\n"
          ]
        }
      ]
    },
    {
      "cell_type": "code",
      "source": [
        "# 9. setdefault(key[, default])\n",
        "# Returns the value of a key. If key doesn’t exist, it adds it with the given default value.\n",
        "dhoni_profile.setdefault(\"nickname\", \"Thala\")\n",
        "print(dhoni_profile[\"nickname\"])"
      ],
      "metadata": {
        "colab": {
          "base_uri": "https://localhost:8080/"
        },
        "id": "M7LmynsiBDZ1",
        "outputId": "2edd0118-2d88-4040-9921-342e72252b2d"
      },
      "execution_count": 11,
      "outputs": [
        {
          "output_type": "stream",
          "name": "stdout",
          "text": [
            "Thala\n"
          ]
        }
      ]
    },
    {
      "cell_type": "code",
      "source": [
        "# 10. update(other_dict)\n",
        "# Updates the dictionary with another dictionary or key-value pairs.\n",
        "dhoni_profile.update({\"captaincy_span\": \"2007-2016\"})\n",
        "print(dhoni_profile)"
      ],
      "metadata": {
        "colab": {
          "base_uri": "https://localhost:8080/"
        },
        "id": "IXNxZl6_BDcP",
        "outputId": "7e1c11a7-93f2-443f-a664-c2396c83f823"
      },
      "execution_count": 12,
      "outputs": [
        {
          "output_type": "stream",
          "name": "stdout",
          "text": [
            "{'name': 'MS Dhoni', 'birthplace': 'Ranchi', 'titles': ['2007 T20 WC', '2011 WC', '2016 Asia Cup'], 'nickname': 'Thala', 'captaincy_span': '2007-2016'}\n"
          ]
        }
      ]
    },
    {
      "cell_type": "code",
      "source": [
        "# 11. values()\n",
        "#Returns all the values in the dictionary.\n",
        "print(list(dhoni_profile.values()))"
      ],
      "metadata": {
        "colab": {
          "base_uri": "https://localhost:8080/"
        },
        "id": "8RLbeDZeBDef",
        "outputId": "cfcfed31-5351-42ce-9261-46ecc83addb1"
      },
      "execution_count": 13,
      "outputs": [
        {
          "output_type": "stream",
          "name": "stdout",
          "text": [
            "['MS Dhoni', 'Ranchi', ['2007 T20 WC', '2011 WC', '2016 Asia Cup'], 'Thala', '2007-2016']\n"
          ]
        }
      ]
    },
    {
      "cell_type": "code",
      "source": [
        "# Using [] (Square Brackets) and Using .update() Method for both adding and updating key-value pair\n",
        "\n",
        "# [] is direct assignment. If the key exists, it updates the value. If not, it adds a new key-value pair.\n",
        "# .update() accepts a dictionary or iterable of key-value pairs and updates/adds all at once.\n",
        "\n",
        "'''\n",
        "| Feature         | `[]` Assignment              | `.update()`                       |\n",
        "| --------------- | -------------------------    | --------------------------------- |\n",
        "| Syntax          | `dict[key] = value`          | `dict.update({key: value})`       |\n",
        "| Add New         | ✅ Yes                      | ✅ Yes                             |\n",
        "| Update Existing | ✅ Yes                      | ✅ Yes                             |\n",
        "| Bulk Update     | ❌ (one at a time)          | ✅ Yes (multiple keys at once)     |\n",
        "| Error on None   | ❌ Raises KeyError on read  | ✅ Safe with default using `get()` |\n",
        "\n",
        "'''"
      ],
      "metadata": {
        "id": "OoLqgSHABDg-"
      },
      "execution_count": null,
      "outputs": []
    },
    {
      "cell_type": "code",
      "source": [
        "# [] to add a new key-value pair\n",
        "dhoni = {\"name\": \"MS Dhoni\"}\n",
        "dhoni[\"team\"] = \"CSK\"\n",
        "print(dhoni)"
      ],
      "metadata": {
        "colab": {
          "base_uri": "https://localhost:8080/"
        },
        "id": "J78YqrtKBDje",
        "outputId": "3eefe5f3-0630-4f09-da9c-c1186371b244"
      },
      "execution_count": 14,
      "outputs": [
        {
          "output_type": "stream",
          "name": "stdout",
          "text": [
            "{'name': 'MS Dhoni', 'team': 'CSK'}\n"
          ]
        }
      ]
    },
    {
      "cell_type": "code",
      "source": [
        "# [] to update an existing key\n",
        "dhoni[\"name\"] = \"Mahi\"\n",
        "print(dhoni)"
      ],
      "metadata": {
        "colab": {
          "base_uri": "https://localhost:8080/"
        },
        "id": "SU4DLicT_Sm2",
        "outputId": "90699dae-885d-44da-d5d1-91ecb528a145"
      },
      "execution_count": 15,
      "outputs": [
        {
          "output_type": "stream",
          "name": "stdout",
          "text": [
            "{'name': 'Mahi', 'team': 'CSK'}\n"
          ]
        }
      ]
    },
    {
      "cell_type": "code",
      "source": [
        "# .update() to add new key-value pair(s)\n",
        "dhoni.update({\"jersey_no\": 7, \"country\":\"India\"})\n",
        "print(dhoni)"
      ],
      "metadata": {
        "colab": {
          "base_uri": "https://localhost:8080/"
        },
        "id": "aMMc7dhPNuw3",
        "outputId": "e08bda51-1634-4727-d2ff-dcaab98c88e5"
      },
      "execution_count": 16,
      "outputs": [
        {
          "output_type": "stream",
          "name": "stdout",
          "text": [
            "{'name': 'Mahi', 'team': 'CSK', 'jersey_no': 7, 'country': 'India'}\n"
          ]
        }
      ]
    },
    {
      "cell_type": "code",
      "source": [
        "# .update() to update existing key(s)\n",
        "dhoni.update({\"name\": \"Mahendra Singh Dhoni\", \"team\": \"CSK\"})\n",
        "print(dhoni)"
      ],
      "metadata": {
        "colab": {
          "base_uri": "https://localhost:8080/"
        },
        "id": "t__VhUK6Nuzq",
        "outputId": "88989620-f641-4ef6-c1d6-3cf7f34d0583"
      },
      "execution_count": 17,
      "outputs": [
        {
          "output_type": "stream",
          "name": "stdout",
          "text": [
            "{'name': 'Mahendra Singh Dhoni', 'team': 'CSK', 'jersey_no': 7, 'country': 'India'}\n"
          ]
        }
      ]
    },
    {
      "cell_type": "code",
      "source": [
        "# Keys Must Be Immutable\n",
        "valid = {\"team\": \"CSK\", (7, \"Dhoni\"): \"Legend\"}\n",
        "# invalid = {[\"CSK\"]: \"Team\"} → TypeError: unhashable type: 'list'"
      ],
      "metadata": {
        "id": "ypWu5k1ENu2C"
      },
      "execution_count": 18,
      "outputs": []
    },
    {
      "cell_type": "code",
      "source": [
        "# No Duplicate Keys\n",
        "# If a key appears more than once, the last assignment wins.\n",
        "dhoni = {\"name\": \"Mahi\", \"name\": \"MS Dhoni\"}\n",
        "print(dhoni)"
      ],
      "metadata": {
        "colab": {
          "base_uri": "https://localhost:8080/"
        },
        "id": "EXmDULJANu4X",
        "outputId": "6e228b4c-8579-4e78-807a-f1e7c5a02916"
      },
      "execution_count": 19,
      "outputs": [
        {
          "output_type": "stream",
          "name": "stdout",
          "text": [
            "{'name': 'MS Dhoni'}\n"
          ]
        }
      ]
    },
    {
      "cell_type": "code",
      "source": [
        "# Can Hold Any Data Type as Value\n",
        "# Values can be numbers, strings, lists, other dictionaries, etc.\n",
        "dhoni = {\n",
        "    \"name\": \"MS Dhoni\",\n",
        "    \"stats\": {\"ODI\": 10773, \"T20I\": 1617},\n",
        "    \"titles\": [\"2007 T20 WC\", \"2011 WC\", \"2016 Asia Cup\"]\n",
        "}"
      ],
      "metadata": {
        "id": "Jfcy90U6O024"
      },
      "execution_count": 20,
      "outputs": []
    },
    {
      "cell_type": "code",
      "source": [
        "# Nesting Dictionaries\n",
        "# A dictionary can contain another dictionary.\n",
        "career = {\n",
        "    \"Dhoni\": {\n",
        "        \"ODI\": 350,\n",
        "        \"Test\": 90,\n",
        "        \"T20\": 98\n",
        "    }\n",
        "}\n",
        "print(career[\"Dhoni\"][\"Test\"])"
      ],
      "metadata": {
        "colab": {
          "base_uri": "https://localhost:8080/"
        },
        "id": "ee2KpTzAO05R",
        "outputId": "e6a4c60c-171f-4a64-90e6-26aa3f4f4a10"
      },
      "execution_count": 21,
      "outputs": [
        {
          "output_type": "stream",
          "name": "stdout",
          "text": [
            "90\n"
          ]
        }
      ]
    },
    {
      "cell_type": "code",
      "source": [
        "# Unpacking with ** Operator\n",
        "# Useful in function calls or merging dictionaries.\n",
        "\n",
        "dhoni1 = {\"name\": \"Dhoni\"}\n",
        "dhoni2 = {\"team\": \"CSK\"}\n",
        "merged = {**dhoni1, **dhoni2}\n",
        "print(merged)"
      ],
      "metadata": {
        "colab": {
          "base_uri": "https://localhost:8080/"
        },
        "id": "3kvSZtSPO07q",
        "outputId": "39caaa4d-adbf-41d5-d184-f45423e27a70"
      },
      "execution_count": 22,
      "outputs": [
        {
          "output_type": "stream",
          "name": "stdout",
          "text": [
            "{'name': 'Dhoni', 'team': 'CSK'}\n"
          ]
        }
      ]
    },
    {
      "cell_type": "code",
      "source": [
        "#  Length, Min, Max, Sum\n",
        "# When keys are numeric, functions can be applied.\n",
        "scores = {10: \"A\", 30: \"B\", 50: \"C\"}\n",
        "print(min(scores))\n",
        "print(sum(scores))"
      ],
      "metadata": {
        "colab": {
          "base_uri": "https://localhost:8080/"
        },
        "id": "VHwbPKg3O09w",
        "outputId": "25707b55-1395-4284-aaf2-f6499524aeb3"
      },
      "execution_count": 23,
      "outputs": [
        {
          "output_type": "stream",
          "name": "stdout",
          "text": [
            "10\n",
            "90\n"
          ]
        }
      ]
    },
    {
      "cell_type": "code",
      "source": [
        "# Looping Over Keys and Values\n",
        "for key in dhoni:\n",
        "    print(key, \"->\", dhoni[key])\n",
        "print()\n",
        "for k, v in dhoni.items():\n",
        "    print(f\"{k} = {v}\")"
      ],
      "metadata": {
        "colab": {
          "base_uri": "https://localhost:8080/"
        },
        "id": "fSAvI3QPO1AF",
        "outputId": "2e7c4d86-d6fe-4ba3-a757-a768b6fcf106"
      },
      "execution_count": 24,
      "outputs": [
        {
          "output_type": "stream",
          "name": "stdout",
          "text": [
            "name -> MS Dhoni\n",
            "stats -> {'ODI': 10773, 'T20I': 1617}\n",
            "titles -> ['2007 T20 WC', '2011 WC', '2016 Asia Cup']\n",
            "\n",
            "name = MS Dhoni\n",
            "stats = {'ODI': 10773, 'T20I': 1617}\n",
            "titles = ['2007 T20 WC', '2011 WC', '2016 Asia Cup']\n"
          ]
        }
      ]
    },
    {
      "cell_type": "code",
      "source": [
        "# Reverse Lookup (slow way)\n",
        "# Finding a key from a value (manual approach)\n",
        "dhoni = {\"jersey\": 7, \"role\": \"Captain\"}\n",
        "for key, value in dhoni.items():\n",
        "    if value == 7:\n",
        "        print(\"Jersey number key is:\", key)"
      ],
      "metadata": {
        "colab": {
          "base_uri": "https://localhost:8080/"
        },
        "id": "9abAzpRKO1Ck",
        "outputId": "a9b59834-a4c0-4e48-fefe-510022804295"
      },
      "execution_count": 25,
      "outputs": [
        {
          "output_type": "stream",
          "name": "stdout",
          "text": [
            "Jersey number key is: jersey\n"
          ]
        }
      ]
    },
    {
      "cell_type": "code",
      "source": [
        "# Deleting Keys\n",
        "# Use del keyword to delete a key.\n",
        "del dhoni[\"role\"]"
      ],
      "metadata": {
        "id": "J9k5O5VxPY1Y"
      },
      "execution_count": 26,
      "outputs": []
    },
    {
      "cell_type": "code",
      "source": [
        "print(dhoni) # role got deleted"
      ],
      "metadata": {
        "colab": {
          "base_uri": "https://localhost:8080/"
        },
        "id": "MBJKOJlTfFE-",
        "outputId": "8e2dc1a6-1729-488c-f556-8bc4d83a6b7e"
      },
      "execution_count": 27,
      "outputs": [
        {
          "output_type": "stream",
          "name": "stdout",
          "text": [
            "{'jersey': 7}\n"
          ]
        }
      ]
    },
    {
      "cell_type": "code",
      "source": [
        "# Frequency Dictionary\n",
        "\n",
        "# if-else: Verbose but fully customizable for logic, slower for large datasets.\n",
        "\n",
        "# 1. using if else for character frequency (case sensitive)\n",
        "\n",
        "words = \"MS Dhoni is Captain Cool! Dhoni is playing for CSK. People say dhoni as Thala.\"\n",
        "freq = {}\n",
        "\n",
        "for word in words:\n",
        "    if word in freq:\n",
        "        freq[word] += 1\n",
        "    else:\n",
        "        freq[word] = 1\n",
        "\n",
        "print(freq)"
      ],
      "metadata": {
        "colab": {
          "base_uri": "https://localhost:8080/"
        },
        "id": "O55K_kGHPY4S",
        "outputId": "40c7f391-e652-41d5-e27b-37b0ad0cccdc"
      },
      "execution_count": 28,
      "outputs": [
        {
          "output_type": "stream",
          "name": "stdout",
          "text": [
            "{'M': 1, 'S': 2, ' ': 14, 'D': 2, 'h': 4, 'o': 7, 'n': 5, 'i': 7, 's': 4, 'C': 3, 'a': 7, 'p': 3, 't': 1, 'l': 4, '!': 1, 'y': 2, 'g': 1, 'f': 1, 'r': 1, 'K': 1, '.': 2, 'P': 1, 'e': 2, 'd': 1, 'T': 1}\n"
          ]
        }
      ]
    },
    {
      "cell_type": "code",
      "source": [
        "# 2. using if else for word frequency (case insensitive; ignoring punctuation)\n",
        "import string\n",
        "\n",
        "words = \"MS Dhoni is Captain Cool! Dhoni is playing for CSK. People say dhoni as Thala.\".split()\n",
        "freq = {}\n",
        "\n",
        "for word in words:\n",
        "    word = word.upper().strip(string.punctuation)\n",
        "    if word in freq:\n",
        "        freq[word] += 1\n",
        "    else:\n",
        "        freq[word] = 1\n",
        "\n",
        "print(freq)\n"
      ],
      "metadata": {
        "colab": {
          "base_uri": "https://localhost:8080/"
        },
        "id": "JQWtUpPQPY66",
        "outputId": "36ace106-d810-4b5a-ce66-3983bae0adab"
      },
      "execution_count": 29,
      "outputs": [
        {
          "output_type": "stream",
          "name": "stdout",
          "text": [
            "{'MS': 1, 'DHONI': 3, 'IS': 2, 'CAPTAIN': 1, 'COOL': 1, 'PLAYING': 1, 'FOR': 1, 'CSK': 1, 'PEOPLE': 1, 'SAY': 1, 'AS': 1, 'THALA': 1}\n"
          ]
        }
      ]
    },
    {
      "cell_type": "code",
      "source": [
        "# get(): Cleaner and safer than if-else, but still slower than Counter.\n",
        "\n",
        "# 3. using get() for character frequency (case sensitive)\n",
        "words = \"MS Dhoni\".split()\n",
        "freq = {}\n",
        "\n",
        "for word in words:\n",
        "    freq[word] = freq.get(word, 0) + 1\n",
        "\n",
        "print(freq)\n",
        "\n",
        "# get(word, 0) returns 0 if the word is not found, avoiding the need for if."
      ],
      "metadata": {
        "colab": {
          "base_uri": "https://localhost:8080/"
        },
        "id": "ku-wHnSHPY9g",
        "outputId": "5185ff37-0831-414e-8a12-5ab9d2f0cd37"
      },
      "execution_count": 30,
      "outputs": [
        {
          "output_type": "stream",
          "name": "stdout",
          "text": [
            "{'MS': 1, 'Dhoni': 1}\n"
          ]
        }
      ]
    },
    {
      "cell_type": "code",
      "source": [
        "# 4. using get() for word frequency (case insensitive; ignoring punctuation)\n",
        "words = \"MS Dhoni is the best. The people are always with Mahi!\".split()\n",
        "freq = {}\n",
        "\n",
        "for word in words:\n",
        "    word = word.lower().strip(string.punctuation)\n",
        "    freq[word] = freq.get(word, 0) + 1\n",
        "\n",
        "print(freq)\n",
        "\n",
        "# get(word, 0) returns 0 if the word is not found, avoiding the need for if."
      ],
      "metadata": {
        "colab": {
          "base_uri": "https://localhost:8080/"
        },
        "id": "PooGutR1PZAX",
        "outputId": "797e495d-f262-453d-9789-57ec78f4ab6f"
      },
      "execution_count": 31,
      "outputs": [
        {
          "output_type": "stream",
          "name": "stdout",
          "text": [
            "{'ms': 1, 'dhoni': 1, 'is': 1, 'the': 2, 'best': 1, 'people': 1, 'are': 1, 'always': 1, 'with': 1, 'mahi': 1}\n"
          ]
        }
      ]
    },
    {
      "cell_type": "code",
      "source": [
        "# Counter: Most efficient and concise, optimized for performance, but requires importing collections.\n",
        "\n",
        "# 5. Using collections.Counter for character frequency (case insensitive; ignoring punctuation)\n",
        "from collections import Counter\n",
        "\n",
        "text = \"MS Dhoni is the best! Dhoni is legendary. CSK loves Dhoni, and Ziva loves him too.\"\n",
        "text = text.lower()\n",
        "words = text\n",
        "\n",
        "cleaned_words = []\n",
        "for word in words:\n",
        "    cleaned_word = word.strip(string.punctuation)\n",
        "    cleaned_words.append(cleaned_word)\n",
        "\n",
        "freq = Counter(cleaned_words)\n",
        "print(freq)\n",
        "# Counter is the shortest and most efficient for this task."
      ],
      "metadata": {
        "colab": {
          "base_uri": "https://localhost:8080/"
        },
        "id": "1Da1N178PZDw",
        "outputId": "e9b224b6-545c-432d-ec75-41e9e54df941"
      },
      "execution_count": 32,
      "outputs": [
        {
          "output_type": "stream",
          "name": "stdout",
          "text": [
            "Counter({' ': 15, 's': 7, 'o': 7, 'i': 7, 'e': 6, 'd': 5, 'h': 5, 'n': 5, '': 4, 't': 3, 'l': 3, 'a': 3, 'v': 3, 'm': 2, 'b': 1, 'g': 1, 'r': 1, 'y': 1, 'c': 1, 'k': 1, 'z': 1})\n"
          ]
        }
      ]
    },
    {
      "cell_type": "code",
      "source": [
        "# 6. Using collections.Counter for character frequency (case sensitive)\n",
        "\n",
        "text = \"MS Dhoni is the best! Dhoni is legendary. CSK loves Dhoni, and Ziva loves him too.\"\n",
        "words = text.split()\n",
        "\n",
        "cleaned_words = []\n",
        "for word in words:\n",
        "    cleaned_word = word.strip(string.punctuation)\n",
        "    cleaned_words.append(cleaned_word)\n",
        "\n",
        "freq = Counter(cleaned_words)\n",
        "print(freq)\n"
      ],
      "metadata": {
        "colab": {
          "base_uri": "https://localhost:8080/"
        },
        "id": "Jr709ne5RPIR",
        "outputId": "b8bf7aae-8430-4b9c-cb38-4d863b22428e"
      },
      "execution_count": 33,
      "outputs": [
        {
          "output_type": "stream",
          "name": "stdout",
          "text": [
            "Counter({'Dhoni': 3, 'is': 2, 'loves': 2, 'MS': 1, 'the': 1, 'best': 1, 'legendary': 1, 'CSK': 1, 'and': 1, 'Ziva': 1, 'him': 1, 'too': 1})\n"
          ]
        }
      ]
    },
    {
      "cell_type": "code",
      "source": [
        "# Hay Day Game: Farm Inventory Management\n",
        "'''\n",
        "The inventory consists of several categories, such as crops, dairy, bakery, and preserves.\n",
        "Each category contains items with their respective quantity and price. The player can perform actions like:\n",
        "\n",
        "Add items to the inventory.\n",
        "Update quantities (selling items).\n",
        "Craft items (production using raw materials).\n",
        "Undo actions (like undoing a sale or crafting).\n",
        "Check the current stock of a specific item.\n",
        "Apply special offers (random increases in quantities).\n",
        "Track the value of the inventory.\n",
        "Apply discounts to items.\n",
        "Transfer items between categories (e.g., transferring milk from dairy to bakery).\n",
        "Update prices dynamically for the items.\n",
        "\n",
        "'''"
      ],
      "metadata": {
        "id": "iaZ-esbxSP5U"
      },
      "execution_count": null,
      "outputs": []
    },
    {
      "cell_type": "code",
      "source": [
        "# Initialize the Inventory with Categories\n",
        "import random\n",
        "\n",
        "inventory = {\n",
        "    \"crops\": {\n",
        "        \"wheat\": {\"quantity\": 10, \"price\": 2},\n",
        "        \"corn\": {\"quantity\": 5, \"price\": 3},\n",
        "        \"carrot\": {\"quantity\": 7, \"price\": 1}\n",
        "    },\n",
        "    \"dairy\": {\n",
        "        \"milk\": {\"quantity\": 20, \"price\": 2},\n",
        "        \"butter\": {\"quantity\": 5, \"price\": 3}\n",
        "    },\n",
        "    \"bakery\": {\n",
        "        \"bread\": {\"quantity\": 10, \"price\": 5},\n",
        "        \"cake\": {\"quantity\": 0, \"price\": 10}\n",
        "    },\n",
        "    \"preserves\": {\n",
        "        \"jam\": {\"quantity\": 12, \"price\": 4}\n",
        "    }\n",
        "}\n",
        "\n",
        "history = [] # for undo"
      ],
      "metadata": {
        "id": "ugwOXjJ9SP7x"
      },
      "execution_count": 34,
      "outputs": []
    },
    {
      "cell_type": "code",
      "source": [
        "# Step 1: Add Items to the Inventory\n",
        "def add_item(category, item, quantity, price):\n",
        "\n",
        "    \"\"\"Add new item or increase the quantity in a category.\"\"\"\n",
        "\n",
        "    if category not in inventory:\n",
        "        inventory[category] = {}\n",
        "    if item in inventory[category]:\n",
        "        inventory[category][item][\"quantity\"] += quantity\n",
        "    else:\n",
        "        inventory[category][item] = {\"quantity\": quantity, \"price\": price}\n",
        "    print(f\"Added {quantity} {item}(s) to {category}.\")\n",
        "\n",
        "add_item(\"crops\", \"barley\", 10, 2)\n",
        "\n",
        "print(\"\\nUpdated Crops\")\n",
        "for item, data in inventory[\"crops\"].items():\n",
        "    print(f\"{item}: Quantity: {data['quantity']}, Price: {data['price']}\")"
      ],
      "metadata": {
        "colab": {
          "base_uri": "https://localhost:8080/"
        },
        "id": "_wXyeuY0SQAp",
        "outputId": "189dabb2-03ee-470e-83f7-afebadf1f668"
      },
      "execution_count": 35,
      "outputs": [
        {
          "output_type": "stream",
          "name": "stdout",
          "text": [
            "Added 10 barley(s) to crops.\n",
            "\n",
            "Updated Crops\n",
            "wheat: Quantity: 10, Price: 2\n",
            "corn: Quantity: 5, Price: 3\n",
            "carrot: Quantity: 7, Price: 1\n",
            "barley: Quantity: 10, Price: 2\n"
          ]
        }
      ]
    },
    {
      "cell_type": "code",
      "source": [
        "# Step 2: Sell Items (Update Quantities)\n",
        "def sell_item(category, item, quantity):\n",
        "\n",
        "    \"\"\"Sell an item from the inventory.\"\"\"\n",
        "\n",
        "    if category not in inventory or item not in inventory[category]:\n",
        "        print(f\"{item} is not available in {category}.\")\n",
        "        return False\n",
        "    if inventory[category][item][\"quantity\"] < quantity:\n",
        "        print(f\"Not enough {item} in {category} to sell.\")\n",
        "        return False\n",
        "    # Deduct quantity from inventory and log the sale\n",
        "    inventory[category][item][\"quantity\"] -= quantity\n",
        "    history.append((\"sell\", category, item, quantity))\n",
        "    print(f\"Sold {quantity} {item}(s) from {category}.\")\n",
        "    return True\n",
        "\n",
        "# initially --> wheat: Quantity: 10, Price: 2\n",
        "sell_item(\"crops\", \"wheat\", 5)\n",
        "\n",
        "print(\"\\nUpdated Crops\")\n",
        "for item, data in inventory[\"crops\"].items():\n",
        "    print(f\"{item}: Quantity: {data['quantity']}, Price: {data['price']}\")\n",
        "# finally --> wheat: Quantity: 5, Price: 2"
      ],
      "metadata": {
        "colab": {
          "base_uri": "https://localhost:8080/"
        },
        "id": "-aD0x-HqSQDX",
        "outputId": "639bbafe-01d6-4965-e3bc-2a375aac31cf"
      },
      "execution_count": 36,
      "outputs": [
        {
          "output_type": "stream",
          "name": "stdout",
          "text": [
            "Sold 5 wheat(s) from crops.\n",
            "\n",
            "Updated Crops\n",
            "wheat: Quantity: 5, Price: 2\n",
            "corn: Quantity: 5, Price: 3\n",
            "carrot: Quantity: 7, Price: 1\n",
            "barley: Quantity: 10, Price: 2\n"
          ]
        }
      ]
    },
    {
      "cell_type": "code",
      "source": [
        "# Step 3: Craft Items (Production)\n",
        "\n",
        "def craft_item(item, quantity):\n",
        "    \"\"\"Craft an item (e.g., cake) from raw materials.\"\"\"\n",
        "\n",
        "    if item == \"cake\":\n",
        "        # Required ingredients for crafting a cake\n",
        "        required_items = {\"flour\": 2, \"eggs\": 3}\n",
        "        for ingredient, required_quantity in required_items.items():\n",
        "            if inventory[\"crops\"].get(ingredient, {}).get(\"quantity\", 0) < required_quantity * quantity:\n",
        "                print(f\"Not enough {ingredient} to craft {quantity} cakes.\")\n",
        "                return False\n",
        "        # Deduct ingredients and add crafted item\n",
        "        for ingredient, required_quantity in required_items.items():\n",
        "            inventory[\"crops\"][ingredient][\"quantity\"] -= required_quantity * quantity\n",
        "        if \"bakery\" not in inventory:\n",
        "            inventory[\"bakery\"] = {}\n",
        "        inventory[\"bakery\"][item] = inventory[\"bakery\"].get(item, {\"quantity\": 0, \"price\": 10})\n",
        "        inventory[\"bakery\"][item][\"quantity\"] += quantity\n",
        "        history.append((\"craft\", \"bakery\", item, quantity, required_items))\n",
        "        print(f\"{quantity} cakes crafted successfully!\")\n",
        "        return True\n",
        "    return False\n",
        "\n",
        "\n",
        "add_item(\"crops\", \"flour\", 10, 4) # added in crops as raw materials for baking a cake!\n",
        "add_item(\"crops\", \"eggs\", 10, 2)\n",
        "\n",
        "if craft_item(\"cake\", 3):\n",
        "    print(\"\\nUpdated Items\")\n",
        "    for item, data in inventory[\"crops\"].items(): # 6 flour got reduced; 9 eggs got used\n",
        "        print(f\"{item}: Quantity: {data['quantity']}, Price: {data['price']}\")\n",
        "else:\n",
        "    print(\"Crafting failed.\")"
      ],
      "metadata": {
        "colab": {
          "base_uri": "https://localhost:8080/"
        },
        "id": "Fqe1G20rSQFx",
        "outputId": "e91824ae-143c-429b-e8dd-ed9d4eefb474"
      },
      "execution_count": 37,
      "outputs": [
        {
          "output_type": "stream",
          "name": "stdout",
          "text": [
            "Added 10 flour(s) to crops.\n",
            "Added 10 eggs(s) to crops.\n",
            "3 cakes crafted successfully!\n",
            "\n",
            "Updated Items\n",
            "wheat: Quantity: 5, Price: 2\n",
            "corn: Quantity: 5, Price: 3\n",
            "carrot: Quantity: 7, Price: 1\n",
            "barley: Quantity: 10, Price: 2\n",
            "flour: Quantity: 4, Price: 4\n",
            "eggs: Quantity: 1, Price: 2\n"
          ]
        }
      ]
    },
    {
      "cell_type": "code",
      "source": [
        "print(inventory)"
      ],
      "metadata": {
        "colab": {
          "base_uri": "https://localhost:8080/"
        },
        "id": "jlbwSBxvfjo2",
        "outputId": "550c22c8-232e-499f-f0f3-bf9d5cc78d5f"
      },
      "execution_count": 38,
      "outputs": [
        {
          "output_type": "stream",
          "name": "stdout",
          "text": [
            "{'crops': {'wheat': {'quantity': 5, 'price': 2}, 'corn': {'quantity': 5, 'price': 3}, 'carrot': {'quantity': 7, 'price': 1}, 'barley': {'quantity': 10, 'price': 2}, 'flour': {'quantity': 4, 'price': 4}, 'eggs': {'quantity': 1, 'price': 2}}, 'dairy': {'milk': {'quantity': 20, 'price': 2}, 'butter': {'quantity': 5, 'price': 3}}, 'bakery': {'bread': {'quantity': 10, 'price': 5}, 'cake': {'quantity': 3, 'price': 10}}, 'preserves': {'jam': {'quantity': 12, 'price': 4}}}\n"
          ]
        }
      ]
    },
    {
      "cell_type": "code",
      "source": [
        "for item, data in inventory[\"bakery\"].items(): # 3 caked made and added to bakery\n",
        "        print(f\"{item}: Quantity: {data['quantity']}, Price: {data['price']}\")"
      ],
      "metadata": {
        "colab": {
          "base_uri": "https://localhost:8080/"
        },
        "id": "RAot08lJf5nO",
        "outputId": "8a3d27e3-7edf-48ce-80e2-f9c19a9ea66e"
      },
      "execution_count": 39,
      "outputs": [
        {
          "output_type": "stream",
          "name": "stdout",
          "text": [
            "bread: Quantity: 10, Price: 5\n",
            "cake: Quantity: 3, Price: 10\n"
          ]
        }
      ]
    },
    {
      "cell_type": "code",
      "source": [
        "# Step 4: Undo the Last Action\n",
        "def undo_last_action():\n",
        "\n",
        "    \"\"\"Undo the last action (sale or crafting).\"\"\"\n",
        "\n",
        "    if not history:\n",
        "        print(\"No actions to undo.\")\n",
        "        return\n",
        "    action, category, item, quantity, *additional = history.pop()\n",
        "    if action == \"sell\":\n",
        "        inventory[category][item][\"quantity\"] += quantity\n",
        "        print(f\"Undid sale of {quantity} {item}(s) from {category}.\")\n",
        "    elif action == \"craft\":\n",
        "        required_items = additional[0]\n",
        "        for ingredient, required_quantity in required_items.items():\n",
        "            inventory[\"crops\"][ingredient][\"quantity\"] += required_quantity * quantity\n",
        "        inventory[\"bakery\"][item][\"quantity\"] -= quantity\n",
        "        print(f\"Undid crafting of {quantity} {item}(s) in {category}.\")\n",
        "\n",
        "undo_last_action()\n",
        "print(\"\\nUpdated Items\")\n",
        "\n",
        "for item, data in inventory[\"bakery\"].items():\n",
        "        print(f\"{item}: Quantity: {data['quantity']}, Price: {data['price']}\")"
      ],
      "metadata": {
        "colab": {
          "base_uri": "https://localhost:8080/"
        },
        "id": "hfEn6Q3ZSQIM",
        "outputId": "0e0c9401-9be8-480a-a52e-8343a5bd508a"
      },
      "execution_count": 40,
      "outputs": [
        {
          "output_type": "stream",
          "name": "stdout",
          "text": [
            "Undid crafting of 3 cake(s) in bakery.\n",
            "\n",
            "Updated Items\n",
            "bread: Quantity: 10, Price: 5\n",
            "cake: Quantity: 0, Price: 10\n"
          ]
        }
      ]
    },
    {
      "cell_type": "code",
      "source": [
        "undo_last_action() # after cake, its wheat!\n",
        "print(\"\\nUpdated Items\")\n",
        "\n",
        "for item, data in inventory[\"bakery\"].items():\n",
        "        print(f\"{item}: Quantity: {data['quantity']}, Price: {data['price']}\")"
      ],
      "metadata": {
        "colab": {
          "base_uri": "https://localhost:8080/"
        },
        "id": "FlHGJP3dgGMe",
        "outputId": "45bbf6e8-c8bd-437e-b892-480ebbc5816c"
      },
      "execution_count": 41,
      "outputs": [
        {
          "output_type": "stream",
          "name": "stdout",
          "text": [
            "Undid sale of 5 wheat(s) from crops.\n",
            "\n",
            "Updated Items\n",
            "bread: Quantity: 10, Price: 5\n",
            "cake: Quantity: 0, Price: 10\n"
          ]
        }
      ]
    },
    {
      "cell_type": "code",
      "source": [
        "print(history)"
      ],
      "metadata": {
        "colab": {
          "base_uri": "https://localhost:8080/"
        },
        "id": "BkR4aev2gOmH",
        "outputId": "5dd873e8-2acf-4294-f57e-9513d4b3f807"
      },
      "execution_count": 42,
      "outputs": [
        {
          "output_type": "stream",
          "name": "stdout",
          "text": [
            "[]\n"
          ]
        }
      ]
    },
    {
      "cell_type": "code",
      "source": [
        "undo_last_action() # because history is empty"
      ],
      "metadata": {
        "colab": {
          "base_uri": "https://localhost:8080/"
        },
        "id": "jQqTwuLtgRWO",
        "outputId": "e7038a68-da21-4d6a-a64b-220454bc3ad7"
      },
      "execution_count": 43,
      "outputs": [
        {
          "output_type": "stream",
          "name": "stdout",
          "text": [
            "No actions to undo.\n"
          ]
        }
      ]
    },
    {
      "cell_type": "code",
      "source": [
        "for item, data in inventory[\"crops\"].items():\n",
        "        print(f\"{item}: Quantity: {data['quantity']}, Price: {data['price']}\")"
      ],
      "metadata": {
        "colab": {
          "base_uri": "https://localhost:8080/"
        },
        "id": "GHbn8buYgUtg",
        "outputId": "97ca2e0d-18be-4102-a3d0-770c0e4b0a1d"
      },
      "execution_count": 44,
      "outputs": [
        {
          "output_type": "stream",
          "name": "stdout",
          "text": [
            "wheat: Quantity: 10, Price: 2\n",
            "corn: Quantity: 5, Price: 3\n",
            "carrot: Quantity: 7, Price: 1\n",
            "barley: Quantity: 10, Price: 2\n",
            "flour: Quantity: 10, Price: 4\n",
            "eggs: Quantity: 10, Price: 2\n"
          ]
        }
      ]
    },
    {
      "cell_type": "code",
      "source": [
        "# Step 5: Apply Special Offer (Random Event)\n",
        "def apply_special_offer(category, item):\n",
        "\n",
        "    \"\"\"Apply a random offer to increase the quantity of an item.\"\"\"\n",
        "\n",
        "    if category not in inventory or item not in inventory[category]:\n",
        "        print(f\"{item} is not available in {category}.\")\n",
        "        return\n",
        "    offer_amount = random.randint(1, 5)  # Random increase by 1 to 5\n",
        "    inventory[category][item][\"quantity\"] += offer_amount\n",
        "    print(f\"Special offer! {item} quantity increased by {offer_amount}.\")\n",
        "\n",
        "# initially --> corn: Quantity: 5, Price: 3\n",
        "apply_special_offer(\"crops\", \"corn\")\n",
        "print(\"\\nUpdated Items\")\n",
        "for item, data in inventory[\"crops\"].items():\n",
        "        print(f\"{item}: Quantity: {data['quantity']}, Price: {data['price']}\")\n",
        "# finally --> corn: Quantity: 9, Price: 3"
      ],
      "metadata": {
        "colab": {
          "base_uri": "https://localhost:8080/"
        },
        "id": "lvGDxrp8SQKi",
        "outputId": "c40cef43-0647-4463-9391-a6f4b2d1bf8d"
      },
      "execution_count": 45,
      "outputs": [
        {
          "output_type": "stream",
          "name": "stdout",
          "text": [
            "Special offer! corn quantity increased by 4.\n",
            "\n",
            "Updated Items\n",
            "wheat: Quantity: 10, Price: 2\n",
            "corn: Quantity: 9, Price: 3\n",
            "carrot: Quantity: 7, Price: 1\n",
            "barley: Quantity: 10, Price: 2\n",
            "flour: Quantity: 10, Price: 4\n",
            "eggs: Quantity: 10, Price: 2\n"
          ]
        }
      ]
    },
    {
      "cell_type": "code",
      "source": [
        "# Step 6: Check Stock of an Item\n",
        "def check_stock(category, item):\n",
        "\n",
        "    \"\"\"Check the current stock of a specific item.\"\"\"\n",
        "\n",
        "    if category in inventory and item in inventory[category]:\n",
        "        stock = inventory[category][item][\"quantity\"]\n",
        "        print(f\"Current stock of {item} in {category}: {stock}\")\n",
        "    else:\n",
        "        print(f\"{item} is not available in {category}.\")\n",
        "\n",
        "check_stock(\"crops\", \"carrot\")\n"
      ],
      "metadata": {
        "colab": {
          "base_uri": "https://localhost:8080/"
        },
        "id": "WMw4rSgTUYrR",
        "outputId": "661227c8-93a7-4c46-be1f-90c665326649"
      },
      "execution_count": 46,
      "outputs": [
        {
          "output_type": "stream",
          "name": "stdout",
          "text": [
            "Current stock of carrot in crops: 7\n"
          ]
        }
      ]
    },
    {
      "cell_type": "code",
      "source": [
        "# Step 7: Track Total Value of Inventory\n",
        "\n",
        "def track_inventory_value():\n",
        "\n",
        "    \"\"\"Track and display the total value of all inventory items.\"\"\"\n",
        "\n",
        "    total_value = 0\n",
        "    for category, items in inventory.items():\n",
        "        for item, data in items.items():\n",
        "            value = data[\"quantity\"] * data[\"price\"]\n",
        "            total_value += value\n",
        "            print(f\"{category}: {item} - Quantity: {data['quantity']} - Value: {value}\")\n",
        "    print(f\"\\nTotal value of inventory: {total_value}\")\n",
        "\n",
        "track_inventory_value()"
      ],
      "metadata": {
        "colab": {
          "base_uri": "https://localhost:8080/"
        },
        "id": "Y_l7alfnUYtt",
        "outputId": "7ae65d6c-d2fa-421b-faf3-6b450d32c50d"
      },
      "execution_count": 47,
      "outputs": [
        {
          "output_type": "stream",
          "name": "stdout",
          "text": [
            "crops: wheat - Quantity: 10 - Value: 20\n",
            "crops: corn - Quantity: 9 - Value: 27\n",
            "crops: carrot - Quantity: 7 - Value: 7\n",
            "crops: barley - Quantity: 10 - Value: 20\n",
            "crops: flour - Quantity: 10 - Value: 40\n",
            "crops: eggs - Quantity: 10 - Value: 20\n",
            "dairy: milk - Quantity: 20 - Value: 40\n",
            "dairy: butter - Quantity: 5 - Value: 15\n",
            "bakery: bread - Quantity: 10 - Value: 50\n",
            "bakery: cake - Quantity: 0 - Value: 0\n",
            "preserves: jam - Quantity: 12 - Value: 48\n",
            "\n",
            "Total value of inventory: 287\n"
          ]
        }
      ]
    },
    {
      "cell_type": "code",
      "source": [
        "# Step 8: Apply Discount to Item Price\n",
        "def apply_discount(category, item, discount_percentage):\n",
        "\n",
        "    \"\"\"Apply a discount to the price of an item.\"\"\"\n",
        "\n",
        "    if category in inventory and item in inventory[category]:\n",
        "        old_price = inventory[category][item][\"price\"]\n",
        "        print(f\"Old Price of butter is ₹{old_price}\")\n",
        "        new_price = old_price * (1 - discount_percentage / 100)\n",
        "        inventory[category][item][\"price\"] = new_price\n",
        "        print(f\"Applied {discount_percentage}% discount on {item}. New price: {new_price}\")\n",
        "    else:\n",
        "        print(f\"{item} is not available in {category}.\")\n",
        "\n",
        "\n",
        "apply_discount(\"dairy\", \"butter\", 10)"
      ],
      "metadata": {
        "colab": {
          "base_uri": "https://localhost:8080/"
        },
        "id": "3pJBWsX-UYwF",
        "outputId": "47f0dd9a-5ce9-4d3e-a8ec-de83635df1d9"
      },
      "execution_count": 48,
      "outputs": [
        {
          "output_type": "stream",
          "name": "stdout",
          "text": [
            "Old Price of butter is ₹3\n",
            "Applied 10% discount on butter. New price: 2.7\n"
          ]
        }
      ]
    },
    {
      "cell_type": "code",
      "source": [
        "# Step 9: Transfer Items Between Categories\n",
        "def transfer_item(from_category, to_category, item, quantity):\n",
        "\n",
        "    \"\"\"Transfer an item from one category to another.\"\"\"\n",
        "\n",
        "    if from_category in inventory and item in inventory[from_category]:\n",
        "        if inventory[from_category][item][\"quantity\"] < quantity:\n",
        "            print(f\"Not enough {item} in {from_category} to transfer.\")\n",
        "            return False\n",
        "        # Deduct from the source category\n",
        "        inventory[from_category][item][\"quantity\"] -= quantity\n",
        "        # Add to the destination category\n",
        "        if to_category not in inventory:\n",
        "            inventory[to_category] = {}\n",
        "        if item not in inventory[to_category]:\n",
        "            inventory[to_category][item] = {\"quantity\": 0, \"price\": inventory[from_category][item][\"price\"]}\n",
        "        inventory[to_category][item][\"quantity\"] += quantity\n",
        "        print(f\"Transferred {quantity} {item}(s) from {from_category} to {to_category}.\")\n",
        "        return True\n",
        "    else:\n",
        "        print(f\"{item} not available in {from_category}.\")\n",
        "        return False\n",
        "\n",
        "\n",
        "if transfer_item(\"dairy\", \"bakery\", \"milk\", 5):\n",
        "    print(\"\\nUpdated Items\")\n",
        "    for item, data in inventory[\"bakery\"].items():\n",
        "        print(f\"{item}: Quantity: {data['quantity']}, Price: {data['price']}\")\n",
        "\n",
        "    print(\"\\nUpdated Items\")\n",
        "    for item, data in inventory[\"dairy\"].items():\n",
        "        print(f\"{item}: Quantity: {data['quantity']}, Price: {data['price']}\")\n",
        "else:\n",
        "    print(\"Transfer failed.\")\n"
      ],
      "metadata": {
        "colab": {
          "base_uri": "https://localhost:8080/"
        },
        "id": "c7pOgwVMUYyg",
        "outputId": "ba176327-472c-4a7f-989d-a522be338d2d"
      },
      "execution_count": 49,
      "outputs": [
        {
          "output_type": "stream",
          "name": "stdout",
          "text": [
            "Transferred 5 milk(s) from dairy to bakery.\n",
            "\n",
            "Updated Items\n",
            "bread: Quantity: 10, Price: 5\n",
            "cake: Quantity: 0, Price: 10\n",
            "milk: Quantity: 5, Price: 2\n",
            "\n",
            "Updated Items\n",
            "milk: Quantity: 15, Price: 2\n",
            "butter: Quantity: 5, Price: 2.7\n"
          ]
        }
      ]
    },
    {
      "cell_type": "code",
      "source": [
        "# Step 10. Update item prices dynamically\n",
        "def update_item_price(category, item, new_price):\n",
        "    if category in inventory and item in inventory[category]:\n",
        "        old_price = inventory[category][item][\"price\"]\n",
        "        inventory[category][item][\"price\"] = new_price\n",
        "        print(f\"Updated price of {item} from {old_price} to {new_price}.\")\n",
        "    else:\n",
        "        print(f\"{item} is not available in {category}.\")\n",
        "\n",
        "update_item_price(\"bakery\", \"bread\", 6)"
      ],
      "metadata": {
        "colab": {
          "base_uri": "https://localhost:8080/"
        },
        "id": "G7fLxQ4wVD5R",
        "outputId": "12fc2625-cc3d-46ab-9e4f-10283b451d9d"
      },
      "execution_count": 50,
      "outputs": [
        {
          "output_type": "stream",
          "name": "stdout",
          "text": [
            "Updated price of bread from 5 to 6.\n"
          ]
        }
      ]
    }
  ]
}