{
  "nbformat": 4,
  "nbformat_minor": 0,
  "metadata": {
    "colab": {
      "provenance": []
    },
    "kernelspec": {
      "name": "python3",
      "display_name": "Python 3"
    },
    "language_info": {
      "name": "python"
    }
  },
  "cells": [
    {
      "cell_type": "code",
      "execution_count": 4,
      "metadata": {
        "colab": {
          "base_uri": "https://localhost:8080/"
        },
        "id": "uc292igyYef3",
        "outputId": "38f89278-3710-4ebd-97eb-aaf5ff1b0df4"
      },
      "outputs": [
        {
          "output_type": "stream",
          "name": "stdout",
          "text": [
            "Hello World\n",
            "Hello World :)\n",
            "\n",
            "Hello World\n",
            "\n",
            "                              Welcome to Python Class\n",
            "\n",
            ":)\n",
            "Hello World\n",
            "\n",
            "                              Let's create moments of Python!\n",
            "\n",
            ":)\n"
          ]
        }
      ],
      "source": [
        "#single line\n",
        "print(\"Hello World\") # let's start our moments of Python with the universal statement HELLO WORLD!! 😉\n",
        "print('Hello World :)')\n",
        "\n",
        "print() # empty line\n",
        "\n",
        "#multiline\n",
        "print('''Hello World\n",
        "\n",
        "                              Welcome to Python Class\n",
        "\n",
        ":)''')\n",
        "print(\"\"\"Hello World\n",
        "\n",
        "                              Let's create moments of Python!\n",
        "\n",
        ":)\"\"\")"
      ]
    },
    {
      "cell_type": "code",
      "source": [
        "#ERROR\n",
        "print('Hello World\n",
        "\n",
        ":)') # same with single quotes"
      ],
      "metadata": {
        "colab": {
          "base_uri": "https://localhost:8080/",
          "height": 106
        },
        "id": "vk6QD8DLY5WM",
        "outputId": "295108e0-d38f-4ae2-ef31-30bca576f44d"
      },
      "execution_count": 5,
      "outputs": [
        {
          "output_type": "error",
          "ename": "SyntaxError",
          "evalue": "unterminated string literal (detected at line 2) (<ipython-input-5-7c2c8c3203ae>, line 2)",
          "traceback": [
            "\u001b[0;36m  File \u001b[0;32m\"<ipython-input-5-7c2c8c3203ae>\"\u001b[0;36m, line \u001b[0;32m2\u001b[0m\n\u001b[0;31m    print('Hello World\u001b[0m\n\u001b[0m          ^\u001b[0m\n\u001b[0;31mSyntaxError\u001b[0m\u001b[0;31m:\u001b[0m unterminated string literal (detected at line 2)\n"
          ]
        }
      ]
    },
    {
      "cell_type": "code",
      "source": [
        "# let's include some pieces of variables here! We'll discuss soon!\n",
        "name = \"ABC\"\n",
        "lang = \"Python\"\n",
        "year = 2025\n",
        "\n",
        "# method 1 - concatenation\n",
        "print(name + \"is learning\" + lang + \"in the year\" + year)\n",
        "\n",
        "# int and str cannot be concatenated?? A big YES!!"
      ],
      "metadata": {
        "colab": {
          "base_uri": "https://localhost:8080/",
          "height": 211
        },
        "id": "OYz_qaPaY5ZS",
        "outputId": "6482b2f4-1a6a-4302-8301-9a89c8dd97ad"
      },
      "execution_count": 7,
      "outputs": [
        {
          "output_type": "error",
          "ename": "TypeError",
          "evalue": "can only concatenate str (not \"int\") to str",
          "traceback": [
            "\u001b[0;31m---------------------------------------------------------------------------\u001b[0m",
            "\u001b[0;31mTypeError\u001b[0m                                 Traceback (most recent call last)",
            "\u001b[0;32m<ipython-input-7-c30b5a21f51f>\u001b[0m in \u001b[0;36m<cell line: 0>\u001b[0;34m()\u001b[0m\n\u001b[1;32m      3\u001b[0m \u001b[0mlang\u001b[0m \u001b[0;34m=\u001b[0m \u001b[0;34m\"Python\"\u001b[0m\u001b[0;34m\u001b[0m\u001b[0;34m\u001b[0m\u001b[0m\n\u001b[1;32m      4\u001b[0m \u001b[0myear\u001b[0m \u001b[0;34m=\u001b[0m \u001b[0;36m2025\u001b[0m\u001b[0;34m\u001b[0m\u001b[0;34m\u001b[0m\u001b[0m\n\u001b[0;32m----> 5\u001b[0;31m \u001b[0mprint\u001b[0m\u001b[0;34m(\u001b[0m\u001b[0mname\u001b[0m \u001b[0;34m+\u001b[0m \u001b[0;34m\"is learning\"\u001b[0m \u001b[0;34m+\u001b[0m \u001b[0mlang\u001b[0m \u001b[0;34m+\u001b[0m \u001b[0;34m\"in the year\"\u001b[0m \u001b[0;34m+\u001b[0m \u001b[0myear\u001b[0m\u001b[0;34m)\u001b[0m\u001b[0;34m\u001b[0m\u001b[0;34m\u001b[0m\u001b[0m\n\u001b[0m\u001b[1;32m      6\u001b[0m \u001b[0;34m\u001b[0m\u001b[0m\n\u001b[1;32m      7\u001b[0m \u001b[0;31m# int and str cannot be concatenated?? A big YES!!\u001b[0m\u001b[0;34m\u001b[0m\u001b[0;34m\u001b[0m\u001b[0m\n",
            "\u001b[0;31mTypeError\u001b[0m: can only concatenate str (not \"int\") to str"
          ]
        }
      ]
    },
    {
      "cell_type": "code",
      "source": [
        "print(name + \"is learning\" + lang + \"in the year\" + str(year))\n",
        "# Now after typecasting it is working! Let's discuss about typecasting soon! Explore !\n",
        "\n",
        "# Oh ho... But....\n",
        "# no proper spacing"
      ],
      "metadata": {
        "colab": {
          "base_uri": "https://localhost:8080/"
        },
        "id": "llk04HzDY5cJ",
        "outputId": "f65fd5a1-5c49-40d5-83c7-272888f557c4"
      },
      "execution_count": 10,
      "outputs": [
        {
          "output_type": "stream",
          "name": "stdout",
          "text": [
            "ABCis learningPythonin the year2025\n"
          ]
        }
      ]
    },
    {
      "cell_type": "code",
      "source": [
        "print(name + \" is learning \"+lang+\" in the year \"+str(year) + \".\")\n",
        "# Perfect, but not sooo perfect !!"
      ],
      "metadata": {
        "colab": {
          "base_uri": "https://localhost:8080/"
        },
        "id": "z1CTfQ7qY5fC",
        "outputId": "9f685b8d-7be5-4b56-db1a-91a4a9214340"
      },
      "execution_count": 11,
      "outputs": [
        {
          "output_type": "stream",
          "name": "stdout",
          "text": [
            "ABC is learning Python in the year 2025.\n"
          ]
        }
      ]
    },
    {
      "cell_type": "code",
      "source": [
        "# method 2 - comma separated string\n",
        "print(name , \" is learning \" , lang , \" in the year \",year , \".\")\n",
        "\n",
        "# no datatype issue\n",
        "# But....\n",
        "# irregular spacing"
      ],
      "metadata": {
        "colab": {
          "base_uri": "https://localhost:8080/"
        },
        "id": "UwIAvC4YY5h1",
        "outputId": "dfb0cc9c-b1f2-492c-9278-ff0eb5b49bd7"
      },
      "execution_count": 12,
      "outputs": [
        {
          "output_type": "stream",
          "name": "stdout",
          "text": [
            "ABC  is learning  Python  in the year  2025 .\n"
          ]
        }
      ]
    },
    {
      "cell_type": "code",
      "source": [
        "print(name , \"is learning\",lang,\"in the year\",year , \".\")\n",
        "# manually adjusted the spaces..\n",
        "# But.. see near the dot! :("
      ],
      "metadata": {
        "colab": {
          "base_uri": "https://localhost:8080/"
        },
        "id": "w5CarrO0Y5ka",
        "outputId": "d6c6b98b-3ca2-40fe-9f8e-ef577a6a0701"
      },
      "execution_count": 13,
      "outputs": [
        {
          "output_type": "stream",
          "name": "stdout",
          "text": [
            "ABC is learning Python in the year 2025 .\n"
          ]
        }
      ]
    },
    {
      "cell_type": "code",
      "source": [
        "# method 3 - format() built in method\n",
        "print(\"{} is learning {} in the year {}.\".format(name, lang, year))\n",
        "# Perfect to 90%! 10% ??"
      ],
      "metadata": {
        "colab": {
          "base_uri": "https://localhost:8080/"
        },
        "id": "kb37RVJxY5nK",
        "outputId": "b9be61b3-ad77-411e-e3be-d79a3f28c01e"
      },
      "execution_count": 14,
      "outputs": [
        {
          "output_type": "stream",
          "name": "stdout",
          "text": [
            "ABC is learning Python in the year 2025.\n"
          ]
        }
      ]
    },
    {
      "cell_type": "code",
      "source": [
        "# what if wanna reuse the variables?\n",
        "print(\"{} is learning {} in the year {}. {} is interesting.\".format(name, lang, year, lang))\n",
        "# redundant parameters"
      ],
      "metadata": {
        "colab": {
          "base_uri": "https://localhost:8080/"
        },
        "id": "E-ioDVO7bHyZ",
        "outputId": "59d4756c-65fb-4693-e7e6-8713c32e40f4"
      },
      "execution_count": 15,
      "outputs": [
        {
          "output_type": "stream",
          "name": "stdout",
          "text": [
            "ABC is learning Python in the year 2025. Python is interesting.\n"
          ]
        }
      ]
    },
    {
      "cell_type": "code",
      "source": [
        "# idea\n",
        "print(\"{0} is learning {1} in the year {2}. {1} is interesting.\".format(name, lang, year))\n",
        "# index based parameters"
      ],
      "metadata": {
        "colab": {
          "base_uri": "https://localhost:8080/"
        },
        "id": "mdjTI8tzbH1H",
        "outputId": "8cad7ff9-e3c7-4f14-b3ae-43f6094e92d9"
      },
      "execution_count": 16,
      "outputs": [
        {
          "output_type": "stream",
          "name": "stdout",
          "text": [
            "ABC is learning Python in the year 2025. Python is interesting.\n"
          ]
        }
      ]
    },
    {
      "cell_type": "code",
      "source": [
        "# But, what if logical mistakes come?\n",
        "print(\"{0} is learning {1} in the year {2}. {0} is interesting.\".format(name, lang, year))\n",
        "# instead of Python, it says ABC is interesting! ABC may be interesting, but it is a logical mistake obviously!!"
      ],
      "metadata": {
        "colab": {
          "base_uri": "https://localhost:8080/"
        },
        "id": "_E6NPxcRbH4G",
        "outputId": "c0347504-039f-4ece-cb34-184d9866727a"
      },
      "execution_count": 18,
      "outputs": [
        {
          "output_type": "stream",
          "name": "stdout",
          "text": [
            "ABC is learning Python in the year 2025. ABC is interesting.\n"
          ]
        }
      ]
    },
    {
      "cell_type": "code",
      "source": [
        "# another remedy\n",
        "print(\"{n} is learning {l} in the year {y}. {l} is interesting.\".format(n = name, l = lang, y = year))\n",
        "# keyword parameters"
      ],
      "metadata": {
        "colab": {
          "base_uri": "https://localhost:8080/"
        },
        "id": "kXBDMUtYbi-v",
        "outputId": "4309a213-3460-4375-fd47-c5a71ac77140"
      },
      "execution_count": 19,
      "outputs": [
        {
          "output_type": "stream",
          "name": "stdout",
          "text": [
            "ABC is learning Python in the year 2025. Python is interesting.\n"
          ]
        }
      ]
    },
    {
      "cell_type": "code",
      "source": [
        "# But what if the variables count gets increased??\n",
        "# method 4 - f-strings --> 3.8+\n",
        "print(f\"{name} is learning {lang} in the year {year}. {lang} is interesting.\")\n",
        "# optimized method!!\n",
        "# Perfect! Just Perfect!! 😍"
      ],
      "metadata": {
        "colab": {
          "base_uri": "https://localhost:8080/"
        },
        "id": "rANdM0PUbjBg",
        "outputId": "e3d85c62-617c-4765-82e7-86c7fd42c7da"
      },
      "execution_count": 20,
      "outputs": [
        {
          "output_type": "stream",
          "name": "stdout",
          "text": [
            "ABC is learning Python in the year 2025. Python is interesting.\n"
          ]
        }
      ]
    }
  ]
}