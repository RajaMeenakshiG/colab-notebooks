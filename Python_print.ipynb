{
  "nbformat": 4,
  "nbformat_minor": 0,
  "metadata": {
    "colab": {
      "provenance": []
    },
    "kernelspec": {
      "name": "python3",
      "display_name": "Python 3"
    },
    "language_info": {
      "name": "python"
    }
  },
  "cells": [
    {
      "cell_type": "code",
      "execution_count": 1,
      "metadata": {
        "colab": {
          "base_uri": "https://localhost:8080/"
        },
        "id": "uc292igyYef3",
        "outputId": "be8e7950-c567-4a05-aaa5-31611fd4fe4e"
      },
      "outputs": [
        {
          "output_type": "stream",
          "name": "stdout",
          "text": [
            "Hello World\n",
            "Hello World :)\n",
            "\n",
            "Hello World\n",
            "\n",
            "                              Welcome to Python Class\n",
            "\n",
            ":)\n",
            "Hello World\n",
            "\n",
            "                            Let's create moments of Python!\n",
            "\n",
            ":)\n"
          ]
        }
      ],
      "source": [
        "#single line\n",
        "print(\"Hello World\") # let's start our moments of Python with the universal statement HELLO WORLD!! 😉\n",
        "print('Hello World :)')\n",
        "\n",
        "print() # empty line\n",
        "\n",
        "#multiline\n",
        "print('''Hello World\n",
        "\n",
        "                              Welcome to Python Class\n",
        "\n",
        ":)''')\n",
        "print(\"\"\"Hello World\n",
        "\n",
        "                            Let's create moments of Python!\n",
        "\n",
        ":)\"\"\")"
      ]
    },
    {
      "cell_type": "code",
      "source": [
        "#ERROR\n",
        "print('Hello World\n",
        "\n",
        ":)') # same with single quotes"
      ],
      "metadata": {
        "colab": {
          "base_uri": "https://localhost:8080/",
          "height": 106
        },
        "id": "vk6QD8DLY5WM",
        "outputId": "421a69e3-1b8f-40bd-e8f8-917bf0a72cb5"
      },
      "execution_count": 2,
      "outputs": [
        {
          "output_type": "error",
          "ename": "SyntaxError",
          "evalue": "unterminated string literal (detected at line 2) (<ipython-input-2-7c2c8c3203ae>, line 2)",
          "traceback": [
            "\u001b[0;36m  File \u001b[0;32m\"<ipython-input-2-7c2c8c3203ae>\"\u001b[0;36m, line \u001b[0;32m2\u001b[0m\n\u001b[0;31m    print('Hello World\u001b[0m\n\u001b[0m          ^\u001b[0m\n\u001b[0;31mSyntaxError\u001b[0m\u001b[0;31m:\u001b[0m unterminated string literal (detected at line 2)\n"
          ]
        }
      ]
    },
    {
      "cell_type": "code",
      "source": [
        "print('Hello World\") # Opening and closing should be same quotes"
      ],
      "metadata": {
        "colab": {
          "base_uri": "https://localhost:8080/",
          "height": 106
        },
        "id": "ljm6uc-yRKo5",
        "outputId": "404b71cf-0373-4a3a-d348-a9c2c441cc29"
      },
      "execution_count": 3,
      "outputs": [
        {
          "output_type": "error",
          "ename": "SyntaxError",
          "evalue": "unterminated string literal (detected at line 1) (<ipython-input-3-ce674f8c1631>, line 1)",
          "traceback": [
            "\u001b[0;36m  File \u001b[0;32m\"<ipython-input-3-ce674f8c1631>\"\u001b[0;36m, line \u001b[0;32m1\u001b[0m\n\u001b[0;31m    print('Hello World\") # Opening and closing should be same quotes\u001b[0m\n\u001b[0m          ^\u001b[0m\n\u001b[0;31mSyntaxError\u001b[0m\u001b[0;31m:\u001b[0m unterminated string literal (detected at line 1)\n"
          ]
        }
      ]
    },
    {
      "cell_type": "code",
      "source": [
        "# end and sep\n",
        "print(\"Hello\", \"World\", sep=\"-\", end=\"!!!\\n\")"
      ],
      "metadata": {
        "colab": {
          "base_uri": "https://localhost:8080/"
        },
        "id": "-7bI6jvvRYdX",
        "outputId": "7b52b7bb-bd85-47f6-aca6-51b8ef37867d"
      },
      "execution_count": 4,
      "outputs": [
        {
          "output_type": "stream",
          "name": "stdout",
          "text": [
            "Hello-World!!!\n"
          ]
        }
      ]
    },
    {
      "cell_type": "code",
      "source": [
        "# Escape Sequences\n",
        "print(\"ABC\\nXYZ\") # new line\n",
        "print(\"ABC\\tXYZ\") # tab"
      ],
      "metadata": {
        "colab": {
          "base_uri": "https://localhost:8080/"
        },
        "id": "ktC6uwt2ReLf",
        "outputId": "ecd48f1a-e6e3-4957-bfa1-6d0bface1ab6"
      },
      "execution_count": 5,
      "outputs": [
        {
          "output_type": "stream",
          "name": "stdout",
          "text": [
            "ABC\n",
            "XYZ\n",
            "ABC\tXYZ\n"
          ]
        }
      ]
    },
    {
      "cell_type": "code",
      "source": [
        "print(\"Mahi said, \\\"Be cool always!!\\\"\") # double quotes inside double quotes is prefixed with \\"
      ],
      "metadata": {
        "colab": {
          "base_uri": "https://localhost:8080/"
        },
        "id": "it4YgtxURk5_",
        "outputId": "b4d482d9-d4ce-4f6b-9a6d-723b2e4946c7"
      },
      "execution_count": 6,
      "outputs": [
        {
          "output_type": "stream",
          "name": "stdout",
          "text": [
            "Mahi said, \"Be cool always!!\"\n"
          ]
        }
      ]
    },
    {
      "cell_type": "code",
      "source": [
        "print(\"Can you print \\\\n?\") # to print \\n we have to prefix \\"
      ],
      "metadata": {
        "colab": {
          "base_uri": "https://localhost:8080/"
        },
        "id": "enby2iIsRyuo",
        "outputId": "3cd71c34-700d-423f-e4d2-e4cc94476136"
      },
      "execution_count": 7,
      "outputs": [
        {
          "output_type": "stream",
          "name": "stdout",
          "text": [
            "Can you print \\n?\n"
          ]
        }
      ]
    },
    {
      "cell_type": "code",
      "source": [
        "# let's include some pieces of variables here! We'll discuss soon!\n",
        "name = \"ABC\"\n",
        "lang = \"Python\"\n",
        "year = 2025\n",
        "\n",
        "# method 1 - concatenation\n",
        "print(name + \"is learning\" + lang + \"in the year\" + year)\n",
        "\n",
        "# int and str cannot be concatenated?? A big YES!!"
      ],
      "metadata": {
        "colab": {
          "base_uri": "https://localhost:8080/",
          "height": 211
        },
        "id": "OYz_qaPaY5ZS",
        "outputId": "4c4c2ef6-b0f1-43b8-f2a6-847c313b1f06"
      },
      "execution_count": 8,
      "outputs": [
        {
          "output_type": "error",
          "ename": "TypeError",
          "evalue": "can only concatenate str (not \"int\") to str",
          "traceback": [
            "\u001b[0;31m---------------------------------------------------------------------------\u001b[0m",
            "\u001b[0;31mTypeError\u001b[0m                                 Traceback (most recent call last)",
            "\u001b[0;32m<ipython-input-8-c58524655dd3>\u001b[0m in \u001b[0;36m<cell line: 0>\u001b[0;34m()\u001b[0m\n\u001b[1;32m      5\u001b[0m \u001b[0;34m\u001b[0m\u001b[0m\n\u001b[1;32m      6\u001b[0m \u001b[0;31m# method 1 - concatenation\u001b[0m\u001b[0;34m\u001b[0m\u001b[0;34m\u001b[0m\u001b[0m\n\u001b[0;32m----> 7\u001b[0;31m \u001b[0mprint\u001b[0m\u001b[0;34m(\u001b[0m\u001b[0mname\u001b[0m \u001b[0;34m+\u001b[0m \u001b[0;34m\"is learning\"\u001b[0m \u001b[0;34m+\u001b[0m \u001b[0mlang\u001b[0m \u001b[0;34m+\u001b[0m \u001b[0;34m\"in the year\"\u001b[0m \u001b[0;34m+\u001b[0m \u001b[0myear\u001b[0m\u001b[0;34m)\u001b[0m\u001b[0;34m\u001b[0m\u001b[0;34m\u001b[0m\u001b[0m\n\u001b[0m\u001b[1;32m      8\u001b[0m \u001b[0;34m\u001b[0m\u001b[0m\n\u001b[1;32m      9\u001b[0m \u001b[0;31m# int and str cannot be concatenated?? A big YES!!\u001b[0m\u001b[0;34m\u001b[0m\u001b[0;34m\u001b[0m\u001b[0m\n",
            "\u001b[0;31mTypeError\u001b[0m: can only concatenate str (not \"int\") to str"
          ]
        }
      ]
    },
    {
      "cell_type": "code",
      "source": [
        "print(name + \"is learning\" + lang + \"in the year\" + str(year))\n",
        "# Now after typecasting it is working! Let's discuss about typecasting soon! Explore !\n",
        "\n",
        "# Oh ho... But....\n",
        "# no proper spacing"
      ],
      "metadata": {
        "colab": {
          "base_uri": "https://localhost:8080/"
        },
        "id": "llk04HzDY5cJ",
        "outputId": "b9ba5562-70d2-4b56-a5dc-481fa274e155"
      },
      "execution_count": 9,
      "outputs": [
        {
          "output_type": "stream",
          "name": "stdout",
          "text": [
            "ABCis learningPythonin the year2025\n"
          ]
        }
      ]
    },
    {
      "cell_type": "code",
      "source": [
        "print(name + \" is learning \" + lang + \" in the year \"+str(year) + \".\")\n",
        "# Perfect, but not sooo perfect !!"
      ],
      "metadata": {
        "colab": {
          "base_uri": "https://localhost:8080/"
        },
        "id": "z1CTfQ7qY5fC",
        "outputId": "4ef62871-e048-4be3-af67-4ca1eda91e9d"
      },
      "execution_count": 10,
      "outputs": [
        {
          "output_type": "stream",
          "name": "stdout",
          "text": [
            "ABC is learning Python in the year 2025.\n"
          ]
        }
      ]
    },
    {
      "cell_type": "code",
      "source": [
        "# method 2 - comma separated string\n",
        "print(name , \" is learning \" , lang , \" in the year \",year , \".\")\n",
        "\n",
        "# no datatype issue\n",
        "# But....\n",
        "# irregular spacing"
      ],
      "metadata": {
        "colab": {
          "base_uri": "https://localhost:8080/"
        },
        "id": "UwIAvC4YY5h1",
        "outputId": "ebb3010b-f3e1-4874-fb87-2cc26e0506a0"
      },
      "execution_count": 11,
      "outputs": [
        {
          "output_type": "stream",
          "name": "stdout",
          "text": [
            "ABC  is learning  Python  in the year  2025 .\n"
          ]
        }
      ]
    },
    {
      "cell_type": "code",
      "source": [
        "print(name , \"is learning\" , lang , \"in the year\" , year , \".\")\n",
        "# manually adjusted the spaces..\n",
        "# But.. see near the dot! :("
      ],
      "metadata": {
        "colab": {
          "base_uri": "https://localhost:8080/"
        },
        "id": "w5CarrO0Y5ka",
        "outputId": "ed751cee-ab58-4d95-9254-52b7f218bc40"
      },
      "execution_count": 12,
      "outputs": [
        {
          "output_type": "stream",
          "name": "stdout",
          "text": [
            "ABC is learning Python in the year 2025 .\n"
          ]
        }
      ]
    },
    {
      "cell_type": "code",
      "source": [
        "# method 3 - format() built in method\n",
        "print(\"{} is learning {} in the year {}.\".format(name, lang, year))\n",
        "# Perfect to 90%! 10% ??"
      ],
      "metadata": {
        "colab": {
          "base_uri": "https://localhost:8080/"
        },
        "id": "kb37RVJxY5nK",
        "outputId": "1929aeb3-ce08-4cee-9080-874edfb4060c"
      },
      "execution_count": 13,
      "outputs": [
        {
          "output_type": "stream",
          "name": "stdout",
          "text": [
            "ABC is learning Python in the year 2025.\n"
          ]
        }
      ]
    },
    {
      "cell_type": "code",
      "source": [
        "# what if wanna reuse the variables?\n",
        "print(\"{} is learning {} in the year {}. {} is interesting.\".format(name, lang, year, lang))\n",
        "# redundant parameters"
      ],
      "metadata": {
        "colab": {
          "base_uri": "https://localhost:8080/"
        },
        "id": "E-ioDVO7bHyZ",
        "outputId": "3a1aef28-a979-4d64-d169-e6cadeb7f33b"
      },
      "execution_count": 14,
      "outputs": [
        {
          "output_type": "stream",
          "name": "stdout",
          "text": [
            "ABC is learning Python in the year 2025. Python is interesting.\n"
          ]
        }
      ]
    },
    {
      "cell_type": "code",
      "source": [
        "# idea\n",
        "print(\"{0} is learning {1} in the year {2}. {1} is interesting.\".format(name, lang, year))\n",
        "# index based parameters"
      ],
      "metadata": {
        "colab": {
          "base_uri": "https://localhost:8080/"
        },
        "id": "mdjTI8tzbH1H",
        "outputId": "e6f0cb45-aff6-4bcb-84d9-95e05871cc79"
      },
      "execution_count": 15,
      "outputs": [
        {
          "output_type": "stream",
          "name": "stdout",
          "text": [
            "ABC is learning Python in the year 2025. Python is interesting.\n"
          ]
        }
      ]
    },
    {
      "cell_type": "code",
      "source": [
        "# But, what if logical mistakes come?\n",
        "print(\"{0} is learning {1} in the year {2}. {0} is interesting.\".format(name, lang, year))\n",
        "# instead of Python, it says ABC is interesting! ABC may be interesting, but it is a logical mistake obviously!!"
      ],
      "metadata": {
        "colab": {
          "base_uri": "https://localhost:8080/"
        },
        "id": "_E6NPxcRbH4G",
        "outputId": "7bc91415-a208-4171-dfed-6d02447c5515"
      },
      "execution_count": 16,
      "outputs": [
        {
          "output_type": "stream",
          "name": "stdout",
          "text": [
            "ABC is learning Python in the year 2025. ABC is interesting.\n"
          ]
        }
      ]
    },
    {
      "cell_type": "code",
      "source": [
        "# another remedy\n",
        "print(\"{n} is learning {l} in the year {y}. {l} is interesting.\".format(n = name, l = lang, y = year))\n",
        "# keyword parameters"
      ],
      "metadata": {
        "colab": {
          "base_uri": "https://localhost:8080/"
        },
        "id": "kXBDMUtYbi-v",
        "outputId": "82114a6c-6efb-41cf-e109-27807a8e6d38"
      },
      "execution_count": 17,
      "outputs": [
        {
          "output_type": "stream",
          "name": "stdout",
          "text": [
            "ABC is learning Python in the year 2025. Python is interesting.\n"
          ]
        }
      ]
    },
    {
      "cell_type": "code",
      "source": [
        "# But what if the variables count gets increased??\n",
        "# method 4 - f-strings --> 3.8+\n",
        "print(f\"{name} is learning {lang} in the year {year}. {lang} is interesting.\")\n",
        "# optimized method!!\n",
        "# Perfect! Just Perfect!! 😍"
      ],
      "metadata": {
        "colab": {
          "base_uri": "https://localhost:8080/"
        },
        "id": "rANdM0PUbjBg",
        "outputId": "d059a219-4c74-4b51-f393-97fcdad1e6bb"
      },
      "execution_count": 18,
      "outputs": [
        {
          "output_type": "stream",
          "name": "stdout",
          "text": [
            "ABC is learning Python in the year 2025. Python is interesting.\n"
          ]
        }
      ]
    }
  ]
}