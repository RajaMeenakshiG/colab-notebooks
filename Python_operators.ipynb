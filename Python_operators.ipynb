{
  "nbformat": 4,
  "nbformat_minor": 0,
  "metadata": {
    "colab": {
      "provenance": []
    },
    "kernelspec": {
      "name": "python3",
      "display_name": "Python 3"
    },
    "language_info": {
      "name": "python"
    }
  },
  "cells": [
    {
      "cell_type": "code",
      "source": [
        "# Arithmetic Operators - Used for mathematical operations -  Result is either integer or float.\n",
        "a = 7\n",
        "b = 3\n",
        "print(f\"The sum of {a} and {b} is {a+b}\") # Addition\n ",
        "print(f\"The difference of {a} and {b} is {a-b}\") # Subtraction\n",
        "print(f\"The product of {a} and {b} is {a*b}\") # Multiplication\n",
        "print(f\"The quotient of {a} and {b} is {a/b}\") # Division  - Quotient with decimal\n",
        "print(f\"The floor quotient of {a} and {b} is {a//b}\") # Floor Division - Quotient without decimal\n",
        "print(f\"The remainder of {a} and {b} is {a%b}\") # Modulus - Remainder Division\n",
        "print(f\"{a} to the power of {b} is {a**b}\") # Exponentiation"
      ],
      "metadata": {
        "colab": {
          "base_uri": "https://localhost:8080/"
        },
        "id": "fFI0N6LPI46p",
        "outputId": "142ab759-2a0d-408a-8a76-0adedf5ad9a1"
      },
      "execution_count": 1,
      "outputs": [
        {
          "output_type": "stream",
          "name": "stdout",
          "text": [
            "The sum of 7 and 3 is 10\n",
            "The difference of 7 and 3 is 4\n",
            "The product of 7 and 3 is 21\n",
            "The quotient of 7 and 3 is 2.3333333333333335\n",
            "The floor quotient of 7 and 3 is 2\n",
            "The remainder of 7 and 3 is 1\n",
            "7 to the power of 3 is 343\n"
          ]
        }
      ]
    },
    {
      "cell_type": "code",
      "source": [
        "# Comparison (Relational) Operators - Used to compare values - Resultant datatype is always Boolean - True or False!\n",
        "a = 7\n",
        "b = 3\n",
        "print(f\"Is {a} equal to {b} ? {a==b}\") # Equal to\n",
        "print(f\"Is {a} not equal to {b} ? {a!=b}\") # Not equal to\n",
        "print(f\"Is {a} greater than {b} ? {a>b}\") # Greater than\n",
        "print(f\"Is {a} less than {b} ? {a<b}\") # Less than\n",
        "print(f\"Is {a} greater than or equal to {b} ? {a>=b}\") # Greater than or equal to\n",
        "print(f\"Is {a} less than or equal to {b} ? {a<=b}\") # Less than or equal to\n"
      ],
      "metadata": {
        "colab": {
          "base_uri": "https://localhost:8080/"
        },
        "id": "OFFo5veSI49C",
        "outputId": "e60e6655-6bcb-46da-ebba-11a3d48d391e"
      },
      "execution_count": 2,
      "outputs": [
        {
          "output_type": "stream",
          "name": "stdout",
          "text": [
            "Is 7 equal to 3 ? False\n",
            "Is 7 not equal to 3 ? True\n",
            "Is 7 greater than 3 ? True\n",
            "Is 7 less than 3 ? False\n",
            "Is 7 greater than or equal to 3 ? True\n",
            "Is 7 less than or equal to 3 ? False\n"
          ]
        }
      ]
    },
    {
      "cell_type": "code",
      "source": [
        "# Assignment Operators - Used to assign values to variables.\n",
        "'''\n",
        "Operator | Description | Example\n",
        "= | Assign | a = 5\n",
        "+= | Add and assign | a += 3\n",
        "-= | Subtract and assign | a -= 2\n",
        "*= | Multiply and assign | a *= 2\n",
        "/= | Divide and assign | a /= 4\n",
        "//= | Floor divide and assign | a //= 3\n",
        "%= | Modulus and assign | a %= 2\n",
        "**= | Power and assign | a **= 2\n",
        "'''\n",
        "a = 7 # Assignment\n",
        "print(f\"Assigning 7 to a, {a}\")\n",
        "a += 3 # Addition and assignment\n",
        "print(f\"Adding 3 and assiging to a, {a}\")\n",
        "a -= 3 # Subtraction and assignment\n",
        "print(f\"Subtracting 3 and assiging to a, {a}\")\n",
        "a *= 3 # Multiplication and assignment\n",
        "print(f\"Multiplying 3 and assiging to a, {a}\")\n",
        "a /= 3 # Division and assignment\n",
        "print(f\"Dividing 3 and assiging to a, {a}\")\n",
        "a //= 3 # Floor division and assignment\n",
        "print(f\"Floor dividing 3 and assiging to a, {a}\") # as a is 7.0, result is with decimal\n",
        "a %= 3 # Modulus and assignment\n",
        "print(f\"Modulus 3 and assiging to a, {a}\")\n",
        "a **= 3 # Exponentiation and assignment\n",
        "print(f\"Exponentiating 3 and assiging to a, {a}\")"
      ],
      "metadata": {
        "colab": {
          "base_uri": "https://localhost:8080/"
        },
        "id": "octKRJ8cI4_z",
        "outputId": "395d5142-184a-414e-ba74-823703975b9a"
      },
      "execution_count": 3,
      "outputs": [
        {
          "output_type": "stream",
          "name": "stdout",
          "text": [
            "Assigning 7 to a, 7\n",
            "Adding 3 and assiging to a, 10\n",
            "Subtracting 3 and assiging to a, 7\n",
            "Multiplying 3 and assiging to a, 21\n",
            "Dividing 3 and assiging to a, 7.0\n",
            "Floor dividing 3 and assiging to a, 2.0\n",
            "Modulus 3 and assiging to a, 2.0\n",
            "Exponentiating 3 and assiging to a, 8.0\n"
          ]
        }
      ]
    },
    {
      "cell_type": "code",
      "source": [
        "# Logical Operators - Used to combine conditional statements\n",
        "a = 7\n",
        "b = 3\n",
        "print(f\"Is {a} greater than 2 and {b} less than 5 ? {a>2 and b<5}\") # Logical AND\n",
        "print(f\"Is {a} greater than 2 or {b} less than 5 ? {a>2 or b<5}\") # Logical OR\n",
        "print(f\"Is {a} not greater than 2 ? {not(a>2)}\") # Logical NOT"
      ],
      "metadata": {
        "colab": {
          "base_uri": "https://localhost:8080/"
        },
        "id": "a4yfuSuEI5Cb",
        "outputId": "f87bc484-795c-46f5-e50d-122f4595838c"
      },
      "execution_count": 4,
      "outputs": [
        {
          "output_type": "stream",
          "name": "stdout",
          "text": [
            "Is 7 greater than 2 and 3 less than 5 ? True\n",
            "Is 7 greater than 2 or 3 less than 5 ? True\n",
            "Is 7 not greater than 2 ? False\n"
          ]
        }
      ]
    },
    {
      "cell_type": "code",
      "source": [
        "# AND OR Truth Table\n",
        "'''\n",
        "AND ( & ) Truth Table - AND only returns 1 if both inputs are 1\n",
        "A\t  B\t  A & B\n",
        "0\t  0\t    0\n",
        "0\t  1\t    0\n",
        "1\t  0\t    0\n",
        "1\t  1\t    1\n",
        "\n",
        "OR ( | ) Truth Table -  OR returns 1 if at least one input is 1\n",
        "A\t  B\t  A & B\n",
        "0\t  0\t    0\n",
        "0\t  1\t    1\n",
        "1\t  0\t    1\n",
        "1\t  1\t    1\n",
        "'''\n"
      ],
      "metadata": {
        "id": "4tUStIk_I5FT"
      },
      "execution_count": null,
      "outputs": []
    },
    {
      "cell_type": "code",
      "source": [
        "# Bitwise Operators - Operate on bits\n",
        "a = 7\n",
        "b = 3\n",
        "print(f\"The AND of {a} and {b} is {a&b}\")\n",
        "print(f\"The OR of {a} and {b} is {a|b}\")\n",
        "print(f\"The XOR of {a} and {b} is {a^b}\")\n",
        "print(f\"The NOT of {a} is {~a}\")\n",
        "print(f\"The Left shift of {a} is {a<<2}\")\n",
        "print(f\"The Right shift of {a} is {a>>2}\")"
      ],
      "metadata": {
        "colab": {
          "base_uri": "https://localhost:8080/"
        },
        "id": "-62ftxOYI5IC",
        "outputId": "52748717-8b3a-4a15-f987-b48c3808699c"
      },
      "execution_count": 5,
      "outputs": [
        {
          "output_type": "stream",
          "name": "stdout",
          "text": [
            "The AND of 7 and 3 is 3\n",
            "The OR of 7 and 3 is 7\n",
            "The XOR of 7 and 3 is 4\n",
            "The NOT of 7 is -8\n",
            "The Left shift of 7 is 28\n",
            "The Right shift of 7 is 1\n"
          ]
        }
      ]
    },
    {
      "cell_type": "code",
      "source": [
        "# Explanation - to get the binary value of a number use bin(); example bin(7) gives 00000111\n",
        "'''\n",
        "a = 7    # binary: 00000111\n",
        "b = 3    # binary: 00000011\n",
        "\n",
        "a & b → Bitwise AND -  AND returns 1 only when both bits are 1\n",
        "a = 00000111\n",
        "b = 00000011\n",
        "----------\n",
        "a & b = 00000011  # which is 3\n",
        "\n",
        "a | b → Bitwise OR - OR returns 1 if at least one of the bits is 1\n",
        "a = 00000111\n",
        "b = 00000011\n",
        "----------\n",
        "a | b = 00000111  # which is 7\n",
        "\n",
        "\n",
        "a ^ b → Bitwise XOR - XOR returns 1 only if the bits are different\n",
        "a = 00000111\n",
        "b = 00000011\n",
        "----------\n",
        "a ^ b = 00000100  # which is 4\n",
        "\n",
        "~a → Bitwise NOT (1's complement)\n",
        "This flips all bits of a.\n",
        "a      = 00000111 (7)\n",
        "~a     = 11111000 (in two's complement: -8)\n",
        "In Python, integers are of infinite length and use two's complement representation for negative numbers.\n",
        "\n",
        "\n",
        "a << 2 → Left Shift\n",
        "Shifts bits to the left by 2 positions. Zeros come in from the right.\n",
        "a         = 00000111 (7)\n",
        "a << 2    = 00011100 (28)\n",
        "Multiplies the number by 2^2 = 4\n",
        "\n",
        "a >> 2 → Right Shift\n",
        "Shifts bits to the right by 2 positions. Left bits depend on sign (0 for positive).\n",
        "a         = 00000111 (7)\n",
        "a >> 2    = 00000001 (1)\n",
        "Divides the number by 2^2 = 4\n",
        "\n",
        "'''"
      ],
      "metadata": {
        "id": "c2WhIPpvI5K6"
      },
      "execution_count": null,
      "outputs": []
    },
    {
      "cell_type": "code",
      "source": [
        "# Memership Operators - Used to test membership in sequences\n",
        "'''\n",
        "Operator | Description | Example\n",
        "in | True if found in | 'a' in 'apple'\n",
        "not in | True if not found in | 'b' not in 'apple'\n",
        "'''\n",
        "a = 'apple'\n",
        "print(f\"Is 'a' in {a} ? {'a' in a}\")\n",
        "print(f\"Is 'b' not in {a} ? {'b' not in a}\")"
      ],
      "metadata": {
        "colab": {
          "base_uri": "https://localhost:8080/"
        },
        "id": "kRFXZakXI5Ni",
        "outputId": "8d0ca841-25fb-42da-e591-bec09e0bf45e"
      },
      "execution_count": 6,
      "outputs": [
        {
          "output_type": "stream",
          "name": "stdout",
          "text": [
            "Is 'a' in apple ? True\n",
            "Is 'b' not in apple ? True\n"
          ]
        }
      ]
    },
    {
      "cell_type": "code",
      "source": [
        "# Identity Operators - Compare object memory locations\n",
        "a = 'apple'\n",
        "b = 'apple'\n",
        "print(f\"Is {a} same object as {b} ? {a is b}\")\n",
        "print(f\"Is {a} not same object as {b} ? {a is not b}\")\n",
        "\n",
        "# We'll discuss Strings soon!!"
      ],
      "metadata": {
        "colab": {
          "base_uri": "https://localhost:8080/"
        },
        "id": "hndlFyCNI5QK",
        "outputId": "6dc7d6ef-5aef-4d52-e723-e5fd29bb86ba"
      },
      "execution_count": 7,
      "outputs": [
        {
          "output_type": "stream",
          "name": "stdout",
          "text": [
            "Is apple same object as apple ? True\n",
            "Is apple not same object as apple ? False\n"
          ]
        }
      ]
    },
    {
      "cell_type": "code",
      "source": [
        "# Chained Comparison Operators\n",
        "x = 7\n",
        "print(5 < x < 10)  #  Equivalent to: (5 < x) and (x < 10)"
      ],
      "metadata": {
        "colab": {
          "base_uri": "https://localhost:8080/"
        },
        "id": "Sk8dyuTUI5TL",
        "outputId": "758d2758-e345-4de9-d19c-1026534c01cf"
      },
      "execution_count": 8,
      "outputs": [
        {
          "output_type": "stream",
          "name": "stdout",
          "text": [
            "True\n"
          ]
        }
      ]
    },
    {
      "cell_type": "code",
      "source": [
        "# Ternary Operator (Conditional Expression) - Short-hand for if-else\n",
        "result = \"Even\" if x % 2 == 0 else \"Odd\"\n",
        "# This is Python’s version of the ternary operator\n",
        "print(result)"
      ],
      "metadata": {
        "colab": {
          "base_uri": "https://localhost:8080/"
        },
        "id": "FvjOFwPHI5Vq",
        "outputId": "414a4c69-b086-438d-9ffc-6e0c19bce3e1"
      },
      "execution_count": 9,
      "outputs": [
        {
          "output_type": "stream",
          "name": "stdout",
          "text": [
            "Odd\n"
          ]
        }
      ]
    },
    {
      "cell_type": "code",
      "source": [
        "# Identity vs Equality\n",
        "'''== checks value equality\n",
        "is checks object identity'''\n",
        "a = [1, 2, 3]\n",
        "b = [1, 2, 3] # We'll discuss Lists soon! Like ARRAYS!\n",
        "\n",
        "print(a == b)   # True  → Same content\n",
        "print(a is b)   # False → Different objects"
      ],
      "metadata": {
        "colab": {
          "base_uri": "https://localhost:8080/"
        },
        "id": "nGEW9Jh6I5Ya",
        "outputId": "cedcbe6a-9317-43f1-b276-1494895cb816"
      },
      "execution_count": 10,
      "outputs": [
        {
          "output_type": "stream",
          "name": "stdout",
          "text": [
            "True\n",
            "False\n"
          ]
        }
      ]
    },
    {
      "cell_type": "code",
      "source": [
        "# Operator Precedence\n",
        "'''\n",
        "Precedence    |   Operator(s)     |    Description\n",
        "1 (highest)   | ()                | Parentheses (expression grouping)\n",
        "2             | **                | Exponentiation\n",
        "3             | +x, -x, ~x        | Unary plus, minus, bitwise NOT\n",
        "4             | *, /, //, %       | Multiplication, division, modulo\n",
        "5             | +, -              | Addition, subtraction\n",
        "6             | <<, >>            | Bitwise shift operators\n",
        "7             | &                 | Bitwise AND\n",
        "8             | ^                 | Bitwise XOR\n",
        "9             | `                 | `\n",
        "10            | ==, !=, >, <, >=,\n",
        "                <=, is, is not,\n",
        "                in, not in        | Comparisons\n",
        "11            | not               | Logical NOT\n",
        "12            | and               | Logical AND\n",
        "13            | or                | Logical OR\n",
        "14            | if...else         | Ternary conditional\n",
        "15            | =, +=, -=, *=,\n",
        "                 /=, etc.         | Assignment operators\n",
        "16 (lowest)   | lambda | Lambda expressions\n",
        "\n",
        "\n",
        "Parentheses () can always override precedence.\n",
        "Exponentiation ** is right-associative (2 ** 3 ** 2 → 2 ** (3 ** 2)).\n",
        "Assignment = is right-to-left.\n",
        "Most others are left-to-right.\n",
        "'''"
      ],
      "metadata": {
        "id": "zRhyCv8sI5bB"
      },
      "execution_count": null,
      "outputs": []
    },
    {
      "cell_type": "code",
      "source": [
        "# A Simple Arithmetic Calculator using operators and if else (we'll see soon!)\n",
        "# Simple Calculator in Python\n",
        "\n",
        "num1 = float(input(\"Enter first number: \"))\n",
        "num2 = float(input(\"Enter second number: \"))\n",
        "\n",
        "print(\"Choose an operation: +, -, *, /, //, %, **\")\n",
        "operator = input(\"Enter operator: \")\n",
        "\n",
        "if operator == '+':\n",
        "    result = num1 + num2\n",
        "elif operator == '-':\n",
        "    result = num1 - num2\n",
        "elif operator == '*':\n",
        "    result = num1 * num2\n",
        "elif operator == '/':\n",
        "    result = num1 / num2 if num2 != 0 else \"Division by zero error\"\n",
        "elif operator == '//':\n",
        "    result = num1 // num2 if num2 != 0 else \"Division by zero error\"\n",
        "elif operator == '%':\n",
        "    result = num1 % num2 if num2 != 0 else \"Division by zero error\"\n",
        "elif operator == '**':\n",
        "    result = num1 ** num2\n",
        "else:\n",
        "    result = \"Invalid operator\"\n",
        "\n",
        "print(f\"Result: {result}\")\n",
        "\n",
        "# Try this and practice the operators!!"
      ],
      "metadata": {
        "colab": {
          "base_uri": "https://localhost:8080/"
        },
        "id": "yG1tUgoeRU6b",
        "outputId": "81fff55d-04f8-4c76-8f71-b7a33645927f"
      },
      "execution_count": 11,
      "outputs": [
        {
          "output_type": "stream",
          "name": "stdout",
          "text": [
            "Enter first number: 7\n",
            "Enter second number: 3\n",
            "Choose an operation: +, -, *, /, //, %, **\n",
            "Enter operator: **\n",
            "Result: 343.0\n"
          ]
        }
      ]
    },
    {
      "cell_type": "code",
      "source": [
        "# Simple Tasks\n",
        "# 1. Area of a Circle\n",
        "radius = float(input(\"Enter radius: \"))\n",
        "area = 3.14159 * radius ** 2\n",
        "print(f\"Area = {area:.2f}\")"
      ],
      "metadata": {
        "colab": {
          "base_uri": "https://localhost:8080/"
        },
        "id": "B18El4bhRVCU",
        "outputId": "cffe4a02-ed5c-416a-81f7-23e50047f914"
      },
      "execution_count": 13,
      "outputs": [
        {
          "output_type": "stream",
          "name": "stdout",
          "text": [
            "Enter radius: 7\n",
            "Area = 153.94\n"
          ]
        }
      ]
    },
    {
      "cell_type": "code",
      "source": [
        "# 2. Simple Interest Calculator\n",
        "P = float(input(\"Principal: ₹ \"))\n",
        "R = float(input(\"Rate: \"))\n",
        "T = float(input(\"Time: \"))\n",
        "SI = (P * R * T) / 100\n",
        "print(f\"Simple Interest = ₹{SI:.2f}\")"
      ],
      "metadata": {
        "colab": {
          "base_uri": "https://localhost:8080/"
        },
        "id": "nFjWkZXmR3lE",
        "outputId": "5339a5c2-36e1-4a90-fdda-078416e70f96"
      },
      "execution_count": 15,
      "outputs": [
        {
          "output_type": "stream",
          "name": "stdout",
          "text": [
            "Principal: ₹ 10000\n",
            "Rate: 2\n",
            "Time: 10\n",
            "Simple Interest = ₹2000.00\n"
          ]
        }
      ]
    },
    {
      "cell_type": "code",
      "source": [
        "# 3. Convert Celsius to Fahrenheit\n",
        "c = float(input(\"Enter Celsius: \"))\n",
        "f = (c * 9/5) + 32\n",
        "print(f\"Fahrenheit: {f:.2f}\")"
      ],
      "metadata": {
        "colab": {
          "base_uri": "https://localhost:8080/"
        },
        "id": "FoPseXuTR3n0",
        "outputId": "46aadb63-49c3-4512-98f6-bb36a6ec6c07"
      },
      "execution_count": 16,
      "outputs": [
        {
          "output_type": "stream",
          "name": "stdout",
          "text": [
            "Enter Celsius: 40\n",
            "Fahrenheit: 104.00\n"
          ]
        }
      ]
    },
    {
      "cell_type": "code",
      "source": [
        "# 4. Find the largest of 3 numbers\n",
        "a, b, c = map(int, input(\"Enter three numbers separated with a space...\").split())\n",
        "max_num = a if a > b and a > c else b if b > c else c\n",
        "print(f\"Largest: {max_num}\")"
      ],
      "metadata": {
        "colab": {
          "base_uri": "https://localhost:8080/"
        },
        "id": "j6FUNKvwR3qU",
        "outputId": "c300c93a-2391-4eec-e2fd-985a2ac8b579"
      },
      "execution_count": 17,
      "outputs": [
        {
          "output_type": "stream",
          "name": "stdout",
          "text": [
            "Enter three numbers separated with a space...7 18 9\n",
            "Largest: 18\n"
          ]
        }
      ]
    },
    {
      "cell_type": "code",
      "source": [
        "# 5. Swap two numbers using arithmetic operators\n",
        "a, b = 2025, 100\n",
        "print(f\"Before swapping: a = {a}, b = {b}\")\n",
        "a = a + b\n",
        "b = a - b\n",
        "a = a - b\n",
        "print(f\"After swapping: a = {a}, b = {b}\")"
      ],
      "metadata": {
        "colab": {
          "base_uri": "https://localhost:8080/"
        },
        "id": "e8q48mTaR3s7",
        "outputId": "2baddf29-fa05-48df-aa5b-fe091b30ffcc"
      },
      "execution_count": 18,
      "outputs": [
        {
          "output_type": "stream",
          "name": "stdout",
          "text": [
            "Before swapping: a = 2025, b = 100\n",
            "After swapping: a = 100, b = 2025\n"
          ]
        }
      ]
    }
  ]
}
