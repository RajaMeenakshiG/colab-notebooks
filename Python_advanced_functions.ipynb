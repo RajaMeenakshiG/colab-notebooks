{
  "nbformat": 4,
  "nbformat_minor": 0,
  "metadata": {
    "colab": {
      "provenance": []
    },
    "kernelspec": {
      "name": "python3",
      "display_name": "Python 3"
    },
    "language_info": {
      "name": "python"
    }
  },
  "cells": [
    {
      "cell_type": "code",
      "source": [
        "# GENERATORS\n",
        "'''\n",
        "Special functions that yield values one at a time instead of returning all at once.\n",
        "They save memory and allow lazy evaluation.\n",
        "'''"
      ],
      "metadata": {
        "id": "JY_rlF3sjqzV"
      },
      "execution_count": null,
      "outputs": []
    },
    {
      "cell_type": "code",
      "source": [
        "# Fibonacci Series Generator\n",
        "def fibonacci(n):\n",
        "    a, b = 0, 1\n",
        "    for _ in range(n):\n",
        "        yield a\n",
        "        a, b = b, a + b\n",
        "\n",
        "for num in fibonacci(10):\n",
        "    print(num, end=' ')\n"
      ],
      "metadata": {
        "colab": {
          "base_uri": "https://localhost:8080/"
        },
        "id": "bSHPCxGljq2F",
        "outputId": "a6df7fb4-dd77-44e9-ed55-57686c911e31"
      },
      "execution_count": 1,
      "outputs": [
        {
          "output_type": "stream",
          "name": "stdout",
          "text": [
            "0 1 1 2 3 5 8 13 21 34 "
          ]
        }
      ]
    },
    {
      "cell_type": "code",
      "source": [
        "# Even numbers Generator\n",
        "def even_numbers(limit):\n",
        "    for i in range(2, limit + 1, 2):\n",
        "        yield i\n",
        "\n",
        "for num in even_numbers(50):\n",
        "    print(num, end=' ')"
      ],
      "metadata": {
        "colab": {
          "base_uri": "https://localhost:8080/"
        },
        "id": "_5M0xZB7tVVM",
        "outputId": "672a8fe6-2a3e-4eaa-bae4-9711f8ff0ca7"
      },
      "execution_count": 2,
      "outputs": [
        {
          "output_type": "stream",
          "name": "stdout",
          "text": [
            "2 4 6 8 10 12 14 16 18 20 22 24 26 28 30 32 34 36 38 40 42 44 46 48 50 "
          ]
        }
      ]
    },
    {
      "cell_type": "code",
      "source": [
        "# Odd numbers using next()\n",
        "def odd_numbers():\n",
        "    n = 1\n",
        "    while True:\n",
        "        yield n\n",
        "        n += 2\n",
        "\n",
        "gen = odd_numbers()\n",
        "print(next(gen))  # 1\n",
        "print(next(gen))  # 3\n",
        "print(next(gen))  # 5\n",
        "\n",
        "# As the loop is infinite, it won't give StopIterationError"
      ],
      "metadata": {
        "colab": {
          "base_uri": "https://localhost:8080/"
        },
        "id": "cOd4Mg2VAXjH",
        "outputId": "7a1aaeae-ff16-4f18-e9f8-11d263af2a86"
      },
      "execution_count": 3,
      "outputs": [
        {
          "output_type": "stream",
          "name": "stdout",
          "text": [
            "1\n",
            "3\n",
            "5\n"
          ]
        }
      ]
    },
    {
      "cell_type": "code",
      "source": [
        "# DECORATORS\n",
        "'''A decorator is a function that modifies the behavior of another function.\n",
        "Used for logging, authentication, timing functions, etc.'''"
      ],
      "metadata": {
        "id": "DHsqwkdFjq4k"
      },
      "execution_count": null,
      "outputs": []
    },
    {
      "cell_type": "code",
      "source": [
        "def greet_decorator(func):\n",
        "    def wrapper():\n",
        "        print(\"Hello!\")\n",
        "        func()\n",
        "    return wrapper\n",
        "\n",
        "@greet_decorator\n",
        "def say_name():\n",
        "    print(\"I'm Ziva.\")\n",
        "\n",
        "say_name()"
      ],
      "metadata": {
        "colab": {
          "base_uri": "https://localhost:8080/"
        },
        "id": "e-mUe8g0An-X",
        "outputId": "da96b409-aa22-4cae-cecc-0401666d4261"
      },
      "execution_count": 4,
      "outputs": [
        {
          "output_type": "stream",
          "name": "stdout",
          "text": [
            "Hello!\n",
            "I'm Ziva.\n"
          ]
        }
      ]
    },
    {
      "cell_type": "code",
      "source": [
        "# Decorator with arguments\n",
        "def decorator(func):\n",
        "    def wrapper(name):\n",
        "        print(\"Welcome\", name)\n",
        "        func(name)\n",
        "    return wrapper\n",
        "\n",
        "@decorator\n",
        "def say_hello(name):\n",
        "    print(f\"Hello {name}!\")\n",
        "\n",
        "say_hello(\"Mahi\")"
      ],
      "metadata": {
        "colab": {
          "base_uri": "https://localhost:8080/"
        },
        "id": "jO-rvPV_ArC1",
        "outputId": "ea040be3-add6-46cd-e813-4dd3132c8bd5"
      },
      "execution_count": 5,
      "outputs": [
        {
          "output_type": "stream",
          "name": "stdout",
          "text": [
            "Welcome Mahi\n",
            "Hello Mahi!\n"
          ]
        }
      ]
    },
    {
      "cell_type": "code",
      "source": [
        "# Logging Decorator\n",
        "\n",
        "def logger(func):\n",
        "    def wrapper(*args, **kwargs):\n",
        "        print(f\"Function {func.__name__} is called with {args} and {kwargs}\") # no kwargs; so empty!\n",
        "        return func(*args, **kwargs)\n",
        "    return wrapper\n",
        "\n",
        "@logger\n",
        "def greet(name):\n",
        "    print(f\"Hello, {name}!\")\n",
        "\n",
        "greet(\"Dhoni\")"
      ],
      "metadata": {
        "colab": {
          "base_uri": "https://localhost:8080/"
        },
        "id": "YRk5OO86jq7M",
        "outputId": "b011523c-52b2-412f-969f-e33fc5004d86"
      },
      "execution_count": 6,
      "outputs": [
        {
          "output_type": "stream",
          "name": "stdout",
          "text": [
            "Function greet is called with ('Dhoni',) and {}\n",
            "Hello, Dhoni!\n"
          ]
        }
      ]
    },
    {
      "cell_type": "code",
      "source": [
        "# Access Control – Only Admin Can Call\n",
        "def admin_required(func):\n",
        "    def wrapper(user_role):\n",
        "        if user_role != \"admin\":\n",
        "            print(\"Access Denied!\")\n",
        "        else:\n",
        "            return func(user_role)\n",
        "    return wrapper\n",
        "\n",
        "@admin_required\n",
        "def delete_database(role):\n",
        "    print(\"Database Deleted\")\n",
        "\n",
        "delete_database(\"user\")\n",
        "delete_database(\"admin\")"
      ],
      "metadata": {
        "colab": {
          "base_uri": "https://localhost:8080/"
        },
        "id": "0ucd2HErjq9k",
        "outputId": "ae72135e-a277-4bde-f458-ec26a9d9ee0c"
      },
      "execution_count": 7,
      "outputs": [
        {
          "output_type": "stream",
          "name": "stdout",
          "text": [
            "Access Denied!\n",
            "Database Deleted\n"
          ]
        }
      ]
    },
    {
      "cell_type": "code",
      "source": [
        "# Timing a function\n",
        "import time\n",
        "\n",
        "def timer(func):\n",
        "    def wrapper():\n",
        "        start = time.time()\n",
        "        func()\n",
        "        end = time.time()\n",
        "        print(f\"Time taken: {end-start} seconds\")\n",
        "    return wrapper\n",
        "\n",
        "@timer\n",
        "def slow_function():\n",
        "    time.sleep(2)\n",
        "    print(\"Finished!\")\n",
        "\n",
        "slow_function()"
      ],
      "metadata": {
        "id": "K5meTqB6jrCV",
        "colab": {
          "base_uri": "https://localhost:8080/"
        },
        "outputId": "3b1aa85b-33a7-428e-a809-52704ff81463"
      },
      "execution_count": 8,
      "outputs": [
        {
          "output_type": "stream",
          "name": "stdout",
          "text": [
            "Finished!\n",
            "Time taken: 2.0002968311309814 seconds\n"
          ]
        }
      ]
    },
    {
      "cell_type": "code",
      "source": [
        "'''\n",
        "You are building a real-time notification system for a blogging platform.\n",
        "\n",
        "Writers post blogs, and readers get notified when new blogs are available.\n",
        "You want to generate notifications lazily (one by one, as needed) instead of creating all at once (to save memory).\n",
        "Before sending out a notification, you want to decorate the notification with additional information like a timestamp and a \"New Blog Alert!\" tag.\n",
        "\n",
        "✅ Use a generator function to generate notifications lazily.\n",
        "✅ Use a decorator to modify the notification before it is sent.\n",
        "'''"
      ],
      "metadata": {
        "id": "4D5lS69budBV"
      },
      "execution_count": null,
      "outputs": []
    },
    {
      "cell_type": "code",
      "source": [
        "import time\n",
        "from datetime import datetime\n",
        "import pytz\n",
        "\n",
        "# Step 1: Create a decorator to add timestamp and tag\n",
        "def add_notification_decorator(func):\n",
        "    def wrapper(*args, **kwargs):\n",
        "        notification = func(*args, **kwargs)\n",
        "        timestamp = datetime.now(pytz.timezone(\"Asia/Kolkata\")).strftime(\"%Y-%m-%d %H:%M:%S\") # We'll discuss datetime module soon.\n",
        "        decorated_notification = f\"[{timestamp}] 🚨 New Blog Alert! 🚨 {notification}\"\n",
        "        return decorated_notification\n",
        "    return wrapper\n",
        "\n",
        "# Step 2: Create a generator function to lazily generate notifications\n",
        "def blog_notification_generator(blogs):\n",
        "    for i in blogs:\n",
        "        yield f\"New blog titled '{i}' is now live!\"\n",
        "\n",
        "# Step 3: Decorate the generator output\n",
        "@add_notification_decorator\n",
        "def get_notification(message):\n",
        "    return message\n",
        "\n",
        "# Step 4: Application logic to simulate notification sending\n",
        "blog_posts = [\n",
        "    \"Understanding Python Decorators\",\n",
        "    \"Mastering Generators in Python\",\n",
        "    \"Advanced OOP Concepts\",\n",
        "    \"Data Science - Case Study\"\n",
        "]\n",
        "\n",
        "notifications = blog_notification_generator(blog_posts)\n",
        "\n",
        "print(\"Sending Notifications:\\n\")\n",
        "for i in notifications:\n",
        "    # Decorate and send each notification one by one\n",
        "    final_notification = get_notification(i)\n",
        "    print(final_notification)\n",
        "    time.sleep(10)  # simulate time delay between notifications\n"
      ],
      "metadata": {
        "colab": {
          "base_uri": "https://localhost:8080/"
        },
        "id": "7c-ksdbWLY_1",
        "outputId": "8635b57d-ee40-401a-b42f-5934da8cf0a4"
      },
      "execution_count": 9,
      "outputs": [
        {
          "output_type": "stream",
          "name": "stdout",
          "text": [
            "Sending Notifications:\n",
            "\n",
            "[2025-04-26 13:58:09] 🚨 New Blog Alert! 🚨 New blog titled 'Understanding Python Decorators' is now live!\n",
            "[2025-04-26 13:58:19] 🚨 New Blog Alert! 🚨 New blog titled 'Mastering Generators in Python' is now live!\n",
            "[2025-04-26 13:58:29] 🚨 New Blog Alert! 🚨 New blog titled 'Advanced OOP Concepts' is now live!\n",
            "[2025-04-26 13:58:39] 🚨 New Blog Alert! 🚨 New blog titled 'Data Science - Case Study' is now live!\n"
          ]
        }
      ]
    },
    {
      "cell_type": "code",
      "source": [
        "'''\n",
        "You are building a smart recipe assistant for a cooking application.\n",
        "The assistant walks users through recipes step-by-step. For a smoother experience,\n",
        "you want to generate the cooking instructions lazily (one at a time) instead of loading\n",
        "all steps at once (to optimize memory and enhance interaction).\n",
        "\n",
        "Before showing each step to the user, you also want to decorate the instruction with a timestamp,\n",
        "the step number, and a motivating random appreciation message (like \"Keep it up!\", \"Chef vibes!\" etc.)\n",
        "to encourage the user.\n",
        "\n",
        "✅ Use a generator function to yield the recipe steps lazily.\n",
        "✅ Use a decorator to modify and enhance each step before it is shown.\n",
        "\n",
        "Implement this using the recipe for Paneer Butter Masala.\n",
        "'''"
      ],
      "metadata": {
        "id": "cuWOJgU9MLXI"
      },
      "execution_count": null,
      "outputs": []
    },
    {
      "cell_type": "code",
      "source": [
        "from datetime import datetime\n",
        "import random\n",
        "import time\n",
        "import pytz\n",
        "\n",
        "# Random appreciation messages\n",
        "appreciations = [\n",
        "    \"Awesome!\", \"Chef vibes!\", \"Keep it up!\",\n",
        "    \"Rocking it!\", \"You're on fire!\", \"Masterchef in the making!\",\n",
        "    \"Brilliant job!\", \"Cooking star!\"\n",
        "]\n",
        "\n",
        "# Decorator to add time, step number, and random appreciation\n",
        "def cooking_step_decorator(func):\n",
        "    def wrapper(step_number, step_text):\n",
        "        step = func(step_number, step_text)\n",
        "        current_time = datetime.now(pytz.timezone(\"Asia/Kolkata\")).strftime(\"%H:%M:%S\")\n",
        "        appreciation = random.choice(appreciations)\n",
        "        return f\"[{current_time}] 🍽 Step {step_number}: {step} 🌟 {appreciation}\"\n",
        "    return wrapper\n",
        "\n",
        "# Generator to yield steps with step numbers\n",
        "def paneer_butter_masala_recipe():\n",
        "    steps = [\n",
        "        \"Heat butter in a pan and add bay leaf, cinnamon stick, and cloves.\",\n",
        "        \"Add finely chopped onions and sauté till golden brown.\",\n",
        "        \"Add ginger-garlic paste and cook till the raw smell disappears.\",\n",
        "        \"Add pureed tomatoes and cook until oil starts separating.\",\n",
        "        \"Add red chili powder, turmeric, and garam masala. Mix well.\",\n",
        "        \"Add fresh cream and mix to form a rich gravy.\",\n",
        "        \"Add paneer cubes and simmer for 5 minutes.\",\n",
        "        \"Garnish with coriander leaves and a dollop of butter.\",\n",
        "        \"Serve hot with naan or jeera rice!\"\n",
        "    ]\n",
        "    for idx, step in enumerate(steps, start=1):\n",
        "        yield idx, step  # yield both step number and text\n",
        "\n",
        "# Decorated function to handle steps\n",
        "@cooking_step_decorator\n",
        "def get_next_cooking_step(step_number, step_text):\n",
        "    return step_text\n",
        "\n",
        "# Main program\n",
        "recipe = paneer_butter_masala_recipe()\n",
        "\n",
        "print(\"👩‍🍳 Starting Paneer Butter Masala Recipe:\\n\")\n",
        "for step_number, step_text in recipe:\n",
        "    print(get_next_cooking_step(step_number, step_text))\n",
        "    time.sleep(2)  # simulate time between steps\n"
      ],
      "metadata": {
        "colab": {
          "base_uri": "https://localhost:8080/"
        },
        "id": "0oPBqGAtMLZ2",
        "outputId": "fcd8c119-3bcb-411e-c9f5-6099f4c37daf"
      },
      "execution_count": 10,
      "outputs": [
        {
          "output_type": "stream",
          "name": "stdout",
          "text": [
            "👩‍🍳 Starting Paneer Butter Masala Recipe:\n",
            "\n",
            "[13:58:53] 🍽 Step 1: Heat butter in a pan and add bay leaf, cinnamon stick, and cloves. 🌟 Brilliant job!\n",
            "[13:58:55] 🍽 Step 2: Add finely chopped onions and sauté till golden brown. 🌟 Rocking it!\n",
            "[13:58:57] 🍽 Step 3: Add ginger-garlic paste and cook till the raw smell disappears. 🌟 Chef vibes!\n",
            "[13:58:59] 🍽 Step 4: Add pureed tomatoes and cook until oil starts separating. 🌟 Rocking it!\n",
            "[13:59:01] 🍽 Step 5: Add red chili powder, turmeric, and garam masala. Mix well. 🌟 Rocking it!\n",
            "[13:59:03] 🍽 Step 6: Add fresh cream and mix to form a rich gravy. 🌟 Awesome!\n",
            "[13:59:05] 🍽 Step 7: Add paneer cubes and simmer for 5 minutes. 🌟 Brilliant job!\n",
            "[13:59:07] 🍽 Step 8: Garnish with coriander leaves and a dollop of butter. 🌟 Rocking it!\n",
            "[13:59:09] 🍽 Step 9: Serve hot with naan or jeera rice! 🌟 Cooking star!\n"
          ]
        }
      ]
    }
  ]
}
