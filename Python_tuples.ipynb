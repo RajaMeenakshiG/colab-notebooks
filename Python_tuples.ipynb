{
  "nbformat": 4,
  "nbformat_minor": 0,
  "metadata": {
    "colab": {
      "provenance": []
    },
    "kernelspec": {
      "name": "python3",
      "display_name": "Python 3"
    },
    "language_info": {
      "name": "python"
    }
  },
  "cells": [
    {
      "cell_type": "code",
      "source": [
        "'''\n",
        "A tuple is an immutable (unchangeable) and ordered collection of elements in Python. Tuples are similar to lists, but with a few key differences.\n",
        "\n",
        "Why Use Tuples?\n",
        "Safer than lists (data cannot be accidentally changed)\n",
        "Faster than lists in performance\n",
        "Can be used as dictionary keys\n",
        "Ideal for fixed data like (latitude, longitude, RGB)\n",
        "'''"
      ],
      "metadata": {
        "collapsed": true,
        "id": "DDcSpL_-G9fE"
      },
      "execution_count": null,
      "outputs": []
    },
    {
      "cell_type": "code",
      "source": [
        "# Tuple Creation\n",
        "\n",
        "# Empty tuple\n",
        "empty = ()\n",
        "\n",
        "# Single element tuple – needs a comma!\n",
        "one_item = (5,)\n",
        "\n",
        "# Mixed data types\n",
        "mixed = (1, \"apple\", 3.14)\n",
        "\n",
        "# Nested tuple\n",
        "nested = (1, (2, 3), [4, 5])"
      ],
      "metadata": {
        "id": "e78SGZQuG9iz"
      },
      "execution_count": 1,
      "outputs": []
    },
    {
      "cell_type": "code",
      "source": [
        "# Tricky Part\n",
        "\n",
        "a = (1)\n",
        "print(a, type(a))\n",
        "b = 1,2\n",
        "print(b, type(b))\n",
        "c = \"abc\"\n",
        "print(c, type(c))"
      ],
      "metadata": {
        "colab": {
          "base_uri": "https://localhost:8080/"
        },
        "id": "-4H39yCBG9me",
        "outputId": "1ac0dfd8-29a5-4fe6-dd2b-244db38e4ac9"
      },
      "execution_count": 2,
      "outputs": [
        {
          "output_type": "stream",
          "name": "stdout",
          "text": [
            "1 <class 'int'>\n",
            "(1, 2) <class 'tuple'>\n",
            "abc <class 'str'>\n"
          ]
        }
      ]
    },
    {
      "cell_type": "code",
      "source": [
        "# Accessing Elements\n",
        "my_tuple = (10, 20, 30, 40)\n",
        "\n",
        "print(my_tuple[0])\n",
        "print(my_tuple[-1])\n",
        "print(my_tuple[1:3])"
      ],
      "metadata": {
        "colab": {
          "base_uri": "https://localhost:8080/"
        },
        "id": "y9EF2OorG9oe",
        "outputId": "b9c5236e-9bcf-49d4-bd52-20aa5fd14544"
      },
      "execution_count": 3,
      "outputs": [
        {
          "output_type": "stream",
          "name": "stdout",
          "text": [
            "10\n",
            "40\n",
            "(20, 30)\n"
          ]
        }
      ]
    },
    {
      "cell_type": "code",
      "source": [
        "# Tuple Operations\n",
        "t1 = (1, 2)\n",
        "t2 = (3, 4)\n",
        "\n",
        "print(t1 + t2)\n",
        "print(t1 * 2)"
      ],
      "metadata": {
        "colab": {
          "base_uri": "https://localhost:8080/"
        },
        "id": "nW7SYi71G9rE",
        "outputId": "831941d5-77dd-426e-8a4e-b3685101c677"
      },
      "execution_count": 4,
      "outputs": [
        {
          "output_type": "stream",
          "name": "stdout",
          "text": [
            "(1, 2, 3, 4)\n",
            "(1, 2, 1, 2)\n"
          ]
        }
      ]
    },
    {
      "cell_type": "code",
      "source": [
        "#  Built-in Functions\n",
        "t = (5, 1, 7, 3)\n",
        "\n",
        "print(len(t))\n",
        "print(max(t))\n",
        "print(min(t))\n",
        "print(sum(t))\n",
        "print(t.count(5))\n",
        "print(t.index(7))"
      ],
      "metadata": {
        "colab": {
          "base_uri": "https://localhost:8080/"
        },
        "id": "KKmlRPSHG9te",
        "outputId": "62db7fde-21c1-4f35-b2ec-b7cc297714af"
      },
      "execution_count": 5,
      "outputs": [
        {
          "output_type": "stream",
          "name": "stdout",
          "text": [
            "4\n",
            "7\n",
            "1\n",
            "16\n",
            "1\n",
            "2\n"
          ]
        }
      ]
    },
    {
      "cell_type": "code",
      "source": [
        "# Tuple Packing and Unpacking\n",
        "# Packing\n",
        "person = (\"Dhoni\", 43, \"Cricketer\")\n",
        "\n",
        "# Unpacking\n",
        "name, age, job = person\n",
        "print(name)\n",
        "print(age)"
      ],
      "metadata": {
        "colab": {
          "base_uri": "https://localhost:8080/"
        },
        "id": "LnTyO5IOG9wL",
        "outputId": "6491e0ef-a061-4061-9785-e38e064606e4"
      },
      "execution_count": 6,
      "outputs": [
        {
          "output_type": "stream",
          "name": "stdout",
          "text": [
            "Dhoni\n",
            "43\n"
          ]
        }
      ]
    },
    {
      "cell_type": "code",
      "source": [
        "# Looping Through a Tuple\n",
        "my_tuple = (10, 20, 30, 40)\n",
        "\n",
        "for item in my_tuple:\n",
        "    print(item)"
      ],
      "metadata": {
        "colab": {
          "base_uri": "https://localhost:8080/"
        },
        "id": "AxRjCzuDG9yb",
        "outputId": "542d5fe1-f2fd-4bee-e8c1-b1d830614e49"
      },
      "execution_count": 7,
      "outputs": [
        {
          "output_type": "stream",
          "name": "stdout",
          "text": [
            "10\n",
            "20\n",
            "30\n",
            "40\n"
          ]
        }
      ]
    },
    {
      "cell_type": "code",
      "source": [
        "fruits = (\"apple\", \"banana\", \"cherry\")\n",
        "\n",
        "for i in range(len(fruits)):\n",
        "    print(f\"Fruit {i+1} is {fruits[i]}\")"
      ],
      "metadata": {
        "colab": {
          "base_uri": "https://localhost:8080/"
        },
        "id": "YQ6KKPUNG900",
        "outputId": "b6d36609-f037-4f8f-9bb1-e4896de3cc43"
      },
      "execution_count": 8,
      "outputs": [
        {
          "output_type": "stream",
          "name": "stdout",
          "text": [
            "Fruit 1 is apple\n",
            "Fruit 2 is banana\n",
            "Fruit 3 is cherry\n"
          ]
        }
      ]
    },
    {
      "cell_type": "code",
      "source": [
        "colors = (\"red\", \"green\", \"blue\")\n",
        "\n",
        "for index, color in enumerate(colors):\n",
        "    print(f\"Color at index {index} is {color}\")"
      ],
      "metadata": {
        "colab": {
          "base_uri": "https://localhost:8080/"
        },
        "id": "Vyz0ByoVG93L",
        "outputId": "59801db6-795d-4bf0-c6c1-8af7eb6d5f93"
      },
      "execution_count": 9,
      "outputs": [
        {
          "output_type": "stream",
          "name": "stdout",
          "text": [
            "Color at index 0 is red\n",
            "Color at index 1 is green\n",
            "Color at index 2 is blue\n"
          ]
        }
      ]
    },
    {
      "cell_type": "code",
      "source": [
        "names = (\"Dhoni\", \"Kohli\", \"Rohit\")\n",
        "scores = (97, 85, 77)\n",
        "\n",
        "for name, score in zip(names, scores):\n",
        "    print(f\"{name} scored {score} runs.\")"
      ],
      "metadata": {
        "colab": {
          "base_uri": "https://localhost:8080/"
        },
        "id": "TEX_sbnlG95z",
        "outputId": "669ef812-94a1-48e7-fbf4-0060aa647f6f"
      },
      "execution_count": 10,
      "outputs": [
        {
          "output_type": "stream",
          "name": "stdout",
          "text": [
            "Dhoni scored 97 runs.\n",
            "Kohli scored 85 runs.\n",
            "Rohit scored 77 runs.\n"
          ]
        }
      ]
    },
    {
      "cell_type": "code",
      "source": [
        "players = ((\"Dhoni\", 7), (\"Kohli\", 18), (\"Rohit\", 45))\n",
        "\n",
        "for name, number in players:\n",
        "    print(f\"Player: {name}, Jersey: {number}\")"
      ],
      "metadata": {
        "colab": {
          "base_uri": "https://localhost:8080/"
        },
        "id": "ZH-6TVeoG98m",
        "outputId": "be433787-53e5-44cd-b015-7a9cd891deae"
      },
      "execution_count": 11,
      "outputs": [
        {
          "output_type": "stream",
          "name": "stdout",
          "text": [
            "Player: Dhoni, Jersey: 7\n",
            "Player: Kohli, Jersey: 18\n",
            "Player: Rohit, Jersey: 45\n"
          ]
        }
      ]
    },
    {
      "cell_type": "code",
      "source": [
        "# Immutability (Can’t Change, but Can Contain Mutables)\n",
        "t = (1, 2, [3, 4])\n",
        "t[2][0] = 100\n",
        "print(t)"
      ],
      "metadata": {
        "colab": {
          "base_uri": "https://localhost:8080/"
        },
        "id": "MG-NMvgLG9-7",
        "outputId": "54883b6e-14b0-4f66-ed72-72d0b5e2db3c"
      },
      "execution_count": 12,
      "outputs": [
        {
          "output_type": "stream",
          "name": "stdout",
          "text": [
            "(1, 2, [100, 4])\n"
          ]
        }
      ]
    },
    {
      "cell_type": "code",
      "source": [
        "# Tuple as Dictionary Keys\n",
        "# Tuples (if all elements are immutable) can be used as keys in dictionaries, while lists cannot\n",
        "locations = {\n",
        "    (11.0168, 76.9558): \"Coimbatore\",\n",
        "    (23.3441, 85.3096): \"Ranchi\"\n",
        "}\n",
        "\n",
        "print(locations[(11.0168, 76.9558)])"
      ],
      "metadata": {
        "colab": {
          "base_uri": "https://localhost:8080/"
        },
        "id": "MiUFyeCFG-BU",
        "outputId": "ed0a05ed-b5d9-468f-acd4-5edd4bd4afbc"
      },
      "execution_count": 13,
      "outputs": [
        {
          "output_type": "stream",
          "name": "stdout",
          "text": [
            "Coimbatore\n"
          ]
        }
      ]
    },
    {
      "cell_type": "code",
      "source": [
        "# Tuple Comparisons\n",
        "print((1, 2, 3) < (1, 2, 4))\n",
        "print((1, 2, 3) == (1, 2, 3))"
      ],
      "metadata": {
        "colab": {
          "base_uri": "https://localhost:8080/"
        },
        "id": "JDyD8AUeG-D5",
        "outputId": "2f9ed4af-0f99-436e-f66d-e1c95a8b4f5e"
      },
      "execution_count": 14,
      "outputs": [
        {
          "output_type": "stream",
          "name": "stdout",
          "text": [
            "True\n",
            "True\n"
          ]
        }
      ]
    },
    {
      "cell_type": "code",
      "source": [
        "# Tuple Slicing\n",
        "t = (10, 20, 30, 40, 50)\n",
        "print(t[1:4])"
      ],
      "metadata": {
        "colab": {
          "base_uri": "https://localhost:8080/"
        },
        "id": "B5rD1I54G-GU",
        "outputId": "894fb283-2d63-42f0-cd6b-f964a54ede9b"
      },
      "execution_count": 15,
      "outputs": [
        {
          "output_type": "stream",
          "name": "stdout",
          "text": [
            "(20, 30, 40)\n"
          ]
        }
      ]
    },
    {
      "cell_type": "code",
      "source": [
        "# Using * for Tuple Unpacking (Extended Unpacking)\n",
        "t = (1, 2, 3, 4, 5)\n",
        "\n",
        "a, b, *rest = t\n",
        "print(a)\n",
        "print(rest)"
      ],
      "metadata": {
        "colab": {
          "base_uri": "https://localhost:8080/"
        },
        "id": "vRuoxkU7G-It",
        "outputId": "32592c21-d5d5-4d3c-8a36-c07bcb8a01b4"
      },
      "execution_count": 16,
      "outputs": [
        {
          "output_type": "stream",
          "name": "stdout",
          "text": [
            "1\n",
            "[3, 4, 5]\n"
          ]
        }
      ]
    },
    {
      "cell_type": "code",
      "source": [
        "# namedtuple – Tuples with Names (from collections module)\n",
        "from collections import namedtuple\n",
        "\n",
        "Player = namedtuple(\"Player\", [\"name\", \"jersey\"])\n",
        "p = Player(\"Dhoni\", 7)\n",
        "print(p.name)     # Dhoni\n",
        "print(p.jersey)   # 7"
      ],
      "metadata": {
        "colab": {
          "base_uri": "https://localhost:8080/"
        },
        "id": "nJmU5D-WNHrg",
        "outputId": "a629258a-5e71-4722-a250-fc9f69117b33"
      },
      "execution_count": 17,
      "outputs": [
        {
          "output_type": "stream",
          "name": "stdout",
          "text": [
            "Dhoni\n",
            "7\n"
          ]
        }
      ]
    },
    {
      "cell_type": "code",
      "source": [
        "# Application - Social Media Post Dashboard using Tuple of Tuples\n",
        "\n",
        "#Each post is a tuple in this format:\n",
        "# (username, post_id, likes, comments, (hashtags))\n",
        "# All posts are stored in a tuple of tuples (read-only style, good for viewing dashboards or logs).\n",
        "\n",
        "posts = (\n",
        "    (\"@dhoni\", 101, 1500, 300, (\"#cricket\", \"#legend\")),\n",
        "    (\"@virat\", 102, 2200, 500, (\"#runmachine\", \"#king\")),\n",
        "    (\"@rohit\", 103, 1800, 350, (\"#hitman\", \"#sixmachine\")),\n",
        "    (\"@jadeja\", 104, 950, 120, (\"#fielding\", \"#rockstar\")),\n",
        "    (\"@gill\", 105, 700, 80, (\"#nextgen\", \"#stylish\"))\n",
        ")"
      ],
      "metadata": {
        "id": "XNVRmF_nNHwg"
      },
      "execution_count": 18,
      "outputs": []
    },
    {
      "cell_type": "code",
      "source": [
        "# Print All Posts by a Specific User\n",
        "search_user = \"@dhoni\"\n",
        "\n",
        "print(f\"Posts by {search_user}:\")\n",
        "for post in posts:\n",
        "    username, post_id, likes, comments, tags = post\n",
        "    if username == search_user:\n",
        "        print(f\"Post ID: {post_id}, Likes: {likes}, Comments: {comments}, Tags: {tags}\")"
      ],
      "metadata": {
        "colab": {
          "base_uri": "https://localhost:8080/"
        },
        "id": "e-ak70D3NHy6",
        "outputId": "95662b02-ae91-44a8-cf81-841e5bb40637"
      },
      "execution_count": 19,
      "outputs": [
        {
          "output_type": "stream",
          "name": "stdout",
          "text": [
            "Posts by @dhoni:\n",
            "Post ID: 101, Likes: 1500, Comments: 300, Tags: ('#cricket', '#legend')\n"
          ]
        }
      ]
    },
    {
      "cell_type": "code",
      "source": [
        "# Display Trending Posts (likes > 1000)\n",
        "print(\"🔥 Trending Posts (likes > 1000):\")\n",
        "for post in posts:\n",
        "    username, post_id, likes, comments, tags = post\n",
        "    if likes > 1000:\n",
        "        print(f\"{username} - Post #{post_id} | Likes: {likes}, Tags: {' '.join(tags)}\")"
      ],
      "metadata": {
        "colab": {
          "base_uri": "https://localhost:8080/"
        },
        "id": "e9BVeCRJNH1Y",
        "outputId": "353aba80-df1a-42e8-b51d-fd98b677b45c"
      },
      "execution_count": 20,
      "outputs": [
        {
          "output_type": "stream",
          "name": "stdout",
          "text": [
            "🔥 Trending Posts (likes > 1000):\n",
            "@dhoni - Post #101 | Likes: 1500, Tags: #cricket #legend\n",
            "@virat - Post #102 | Likes: 2200, Tags: #runmachine #king\n",
            "@rohit - Post #103 | Likes: 1800, Tags: #hitman #sixmachine\n"
          ]
        }
      ]
    },
    {
      "cell_type": "code",
      "source": [
        "# Extract All Unique Hashtags Used\n",
        "\n",
        "all_tags = set()  # Use set to avoid duplicates\n",
        "\n",
        "for post in posts:\n",
        "    _, _, _, _, tags = post\n",
        "    for tag in tags:\n",
        "        all_tags.add(tag)\n",
        "\n",
        "print(\"📌 All Unique Hashtags Used:\")\n",
        "for tag in sorted(all_tags):\n",
        "    print(tag)"
      ],
      "metadata": {
        "colab": {
          "base_uri": "https://localhost:8080/"
        },
        "id": "rGasp9ubNH6I",
        "outputId": "721f785e-b54a-4a06-9e72-da80f5bf0dae"
      },
      "execution_count": 21,
      "outputs": [
        {
          "output_type": "stream",
          "name": "stdout",
          "text": [
            "📌 All Unique Hashtags Used:\n",
            "#cricket\n",
            "#fielding\n",
            "#hitman\n",
            "#king\n",
            "#legend\n",
            "#nextgen\n",
            "#rockstar\n",
            "#runmachine\n",
            "#sixmachine\n",
            "#stylish\n"
          ]
        }
      ]
    },
    {
      "cell_type": "code",
      "source": [
        "# Common Errors\n",
        "\n",
        "# Trying to Update a Tuple Element\n",
        "t = (1, 2, 3)\n",
        "t[0] = 10"
      ],
      "metadata": {
        "colab": {
          "base_uri": "https://localhost:8080/",
          "height": 176
        },
        "id": "sL0BJzHtOcU5",
        "outputId": "c6863c2d-ddf3-4a68-860d-60ca40bac1fa"
      },
      "execution_count": 22,
      "outputs": [
        {
          "output_type": "error",
          "ename": "TypeError",
          "evalue": "'tuple' object does not support item assignment",
          "traceback": [
            "\u001b[0;31m---------------------------------------------------------------------------\u001b[0m",
            "\u001b[0;31mTypeError\u001b[0m                                 Traceback (most recent call last)",
            "\u001b[0;32m<ipython-input-22-2fe4176969cb>\u001b[0m in \u001b[0;36m<cell line: 0>\u001b[0;34m()\u001b[0m\n\u001b[1;32m      3\u001b[0m \u001b[0;31m# Trying to Update a Tuple Element\u001b[0m\u001b[0;34m\u001b[0m\u001b[0;34m\u001b[0m\u001b[0m\n\u001b[1;32m      4\u001b[0m \u001b[0mt\u001b[0m \u001b[0;34m=\u001b[0m \u001b[0;34m(\u001b[0m\u001b[0;36m1\u001b[0m\u001b[0;34m,\u001b[0m \u001b[0;36m2\u001b[0m\u001b[0;34m,\u001b[0m \u001b[0;36m3\u001b[0m\u001b[0;34m)\u001b[0m\u001b[0;34m\u001b[0m\u001b[0;34m\u001b[0m\u001b[0m\n\u001b[0;32m----> 5\u001b[0;31m \u001b[0mt\u001b[0m\u001b[0;34m[\u001b[0m\u001b[0;36m0\u001b[0m\u001b[0;34m]\u001b[0m \u001b[0;34m=\u001b[0m \u001b[0;36m10\u001b[0m\u001b[0;34m\u001b[0m\u001b[0;34m\u001b[0m\u001b[0m\n\u001b[0m",
            "\u001b[0;31mTypeError\u001b[0m: 'tuple' object does not support item assignment"
          ]
        }
      ]
    },
    {
      "cell_type": "code",
      "source": [
        "# Trying to Append to a Tuple\n",
        "t = (1, 2, 3)\n",
        "t.append(4)"
      ],
      "metadata": {
        "colab": {
          "base_uri": "https://localhost:8080/",
          "height": 176
        },
        "id": "iu0BaG_GOcaU",
        "outputId": "f2f9695a-94c5-4f74-fe29-21636b0c8529"
      },
      "execution_count": 23,
      "outputs": [
        {
          "output_type": "error",
          "ename": "AttributeError",
          "evalue": "'tuple' object has no attribute 'append'",
          "traceback": [
            "\u001b[0;31m---------------------------------------------------------------------------\u001b[0m",
            "\u001b[0;31mAttributeError\u001b[0m                            Traceback (most recent call last)",
            "\u001b[0;32m<ipython-input-23-45abf0b43112>\u001b[0m in \u001b[0;36m<cell line: 0>\u001b[0;34m()\u001b[0m\n\u001b[1;32m      1\u001b[0m \u001b[0;31m# Trying to Append to a Tuple\u001b[0m\u001b[0;34m\u001b[0m\u001b[0;34m\u001b[0m\u001b[0m\n\u001b[1;32m      2\u001b[0m \u001b[0mt\u001b[0m \u001b[0;34m=\u001b[0m \u001b[0;34m(\u001b[0m\u001b[0;36m1\u001b[0m\u001b[0;34m,\u001b[0m \u001b[0;36m2\u001b[0m\u001b[0;34m,\u001b[0m \u001b[0;36m3\u001b[0m\u001b[0;34m)\u001b[0m\u001b[0;34m\u001b[0m\u001b[0;34m\u001b[0m\u001b[0m\n\u001b[0;32m----> 3\u001b[0;31m \u001b[0mt\u001b[0m\u001b[0;34m.\u001b[0m\u001b[0mappend\u001b[0m\u001b[0;34m(\u001b[0m\u001b[0;36m4\u001b[0m\u001b[0;34m)\u001b[0m\u001b[0;34m\u001b[0m\u001b[0;34m\u001b[0m\u001b[0m\n\u001b[0m",
            "\u001b[0;31mAttributeError\u001b[0m: 'tuple' object has no attribute 'append'"
          ]
        }
      ]
    },
    {
      "cell_type": "code",
      "source": [
        "# Trying to Remove Elements from a Tuple\n",
        "t = (1, 2, 3)\n",
        "t.remove(2)"
      ],
      "metadata": {
        "colab": {
          "base_uri": "https://localhost:8080/",
          "height": 176
        },
        "id": "lTOAEvxEOcfQ",
        "outputId": "4499db00-1f8b-4827-de99-51358006ab14"
      },
      "execution_count": 24,
      "outputs": [
        {
          "output_type": "error",
          "ename": "AttributeError",
          "evalue": "'tuple' object has no attribute 'remove'",
          "traceback": [
            "\u001b[0;31m---------------------------------------------------------------------------\u001b[0m",
            "\u001b[0;31mAttributeError\u001b[0m                            Traceback (most recent call last)",
            "\u001b[0;32m<ipython-input-24-1777c2abd954>\u001b[0m in \u001b[0;36m<cell line: 0>\u001b[0;34m()\u001b[0m\n\u001b[1;32m      1\u001b[0m \u001b[0;31m# Trying to Remove Elements from a Tuple\u001b[0m\u001b[0;34m\u001b[0m\u001b[0;34m\u001b[0m\u001b[0m\n\u001b[1;32m      2\u001b[0m \u001b[0mt\u001b[0m \u001b[0;34m=\u001b[0m \u001b[0;34m(\u001b[0m\u001b[0;36m1\u001b[0m\u001b[0;34m,\u001b[0m \u001b[0;36m2\u001b[0m\u001b[0;34m,\u001b[0m \u001b[0;36m3\u001b[0m\u001b[0;34m)\u001b[0m\u001b[0;34m\u001b[0m\u001b[0;34m\u001b[0m\u001b[0m\n\u001b[0;32m----> 3\u001b[0;31m \u001b[0mt\u001b[0m\u001b[0;34m.\u001b[0m\u001b[0mremove\u001b[0m\u001b[0;34m(\u001b[0m\u001b[0;36m2\u001b[0m\u001b[0;34m)\u001b[0m\u001b[0;34m\u001b[0m\u001b[0;34m\u001b[0m\u001b[0m\n\u001b[0m",
            "\u001b[0;31mAttributeError\u001b[0m: 'tuple' object has no attribute 'remove'"
          ]
        }
      ]
    },
    {
      "cell_type": "code",
      "source": [
        "# Forgetting Comma in Single-Element Tuple\n",
        "t = (5)\n",
        "print(type(t))  # This is NOT a tuple!\n",
        "\n",
        "# Logical Error"
      ],
      "metadata": {
        "colab": {
          "base_uri": "https://localhost:8080/"
        },
        "id": "zdZAUhgDOsTg",
        "outputId": "e081f45a-b069-484f-bb51-646dec6b89bc"
      },
      "execution_count": 25,
      "outputs": [
        {
          "output_type": "stream",
          "name": "stdout",
          "text": [
            "<class 'int'>\n"
          ]
        }
      ]
    },
    {
      "cell_type": "code",
      "source": [
        "# Trying to Delete an Element with del\n",
        "t = (1, 2, 3)\n",
        "del t[0]"
      ],
      "metadata": {
        "colab": {
          "base_uri": "https://localhost:8080/",
          "height": 176
        },
        "id": "XOfniXvEOsXA",
        "outputId": "c9e1ee9f-148e-46f3-bef9-6a0286626c8b"
      },
      "execution_count": 26,
      "outputs": [
        {
          "output_type": "error",
          "ename": "TypeError",
          "evalue": "'tuple' object doesn't support item deletion",
          "traceback": [
            "\u001b[0;31m---------------------------------------------------------------------------\u001b[0m",
            "\u001b[0;31mTypeError\u001b[0m                                 Traceback (most recent call last)",
            "\u001b[0;32m<ipython-input-26-96f42606a570>\u001b[0m in \u001b[0;36m<cell line: 0>\u001b[0;34m()\u001b[0m\n\u001b[1;32m      1\u001b[0m \u001b[0;31m# Trying to Delete an Element with del\u001b[0m\u001b[0;34m\u001b[0m\u001b[0;34m\u001b[0m\u001b[0m\n\u001b[1;32m      2\u001b[0m \u001b[0mt\u001b[0m \u001b[0;34m=\u001b[0m \u001b[0;34m(\u001b[0m\u001b[0;36m1\u001b[0m\u001b[0;34m,\u001b[0m \u001b[0;36m2\u001b[0m\u001b[0;34m,\u001b[0m \u001b[0;36m3\u001b[0m\u001b[0;34m)\u001b[0m\u001b[0;34m\u001b[0m\u001b[0;34m\u001b[0m\u001b[0m\n\u001b[0;32m----> 3\u001b[0;31m \u001b[0;32mdel\u001b[0m \u001b[0mt\u001b[0m\u001b[0;34m[\u001b[0m\u001b[0;36m0\u001b[0m\u001b[0;34m]\u001b[0m\u001b[0;34m\u001b[0m\u001b[0;34m\u001b[0m\u001b[0m\n\u001b[0m",
            "\u001b[0;31mTypeError\u001b[0m: 'tuple' object doesn't support item deletion"
          ]
        }
      ]
    },
    {
      "cell_type": "code",
      "source": [
        "# But deleting the whole tuple works\n",
        "del t  # Deletes the entire tuple object"
      ],
      "metadata": {
        "id": "iVlW1XGCOsZy"
      },
      "execution_count": 27,
      "outputs": []
    },
    {
      "cell_type": "code",
      "source": [
        "print(t)"
      ],
      "metadata": {
        "colab": {
          "base_uri": "https://localhost:8080/",
          "height": 141
        },
        "id": "3tPh7fgVO6QP",
        "outputId": "1b102418-6524-489b-eb85-3bd654531f53"
      },
      "execution_count": 28,
      "outputs": [
        {
          "output_type": "error",
          "ename": "NameError",
          "evalue": "name 't' is not defined",
          "traceback": [
            "\u001b[0;31m---------------------------------------------------------------------------\u001b[0m",
            "\u001b[0;31mNameError\u001b[0m                                 Traceback (most recent call last)",
            "\u001b[0;32m<ipython-input-28-febd3e668534>\u001b[0m in \u001b[0;36m<cell line: 0>\u001b[0;34m()\u001b[0m\n\u001b[0;32m----> 1\u001b[0;31m \u001b[0mprint\u001b[0m\u001b[0;34m(\u001b[0m\u001b[0mt\u001b[0m\u001b[0;34m)\u001b[0m\u001b[0;34m\u001b[0m\u001b[0;34m\u001b[0m\u001b[0m\n\u001b[0m",
            "\u001b[0;31mNameError\u001b[0m: name 't' is not defined"
          ]
        }
      ]
    },
    {
      "cell_type": "code",
      "source": [
        "# How Do You “Change” a Tuple?\n",
        "\n",
        "# You recreate it as a new tuple.\n",
        "t = (1, 2, 3)\n",
        "t = t + (4,)  # Adding an item\n",
        "print(t)      # (1, 2, 3, 4)"
      ],
      "metadata": {
        "colab": {
          "base_uri": "https://localhost:8080/"
        },
        "id": "R8GZJYNGO7WH",
        "outputId": "8ec624d9-2ea9-438f-8be8-cb2133534a24"
      },
      "execution_count": 29,
      "outputs": [
        {
          "output_type": "stream",
          "name": "stdout",
          "text": [
            "(1, 2, 3, 4)\n"
          ]
        }
      ]
    },
    {
      "cell_type": "code",
      "source": [
        "# Using in and not in with Tuples - check if a value exists inside a tuple using in or not in.\n",
        "colors = ('red', 'green', 'blue')\n",
        "\n",
        "print('red' in colors)\n",
        "print('yellow' not in colors)\n",
        "\n",
        "teams = (('dhoni', 'CSK'), ('virat', 'RCB'))\n",
        "print(('raina', 'CSK') in teams)"
      ],
      "metadata": {
        "colab": {
          "base_uri": "https://localhost:8080/"
        },
        "id": "Aarj4ceCyzYI",
        "outputId": "6165d0f0-7e3f-45c9-e072-154261de1778"
      },
      "execution_count": 30,
      "outputs": [
        {
          "output_type": "stream",
          "name": "stdout",
          "text": [
            "True\n",
            "True\n",
            "False\n"
          ]
        }
      ]
    }
  ]
}